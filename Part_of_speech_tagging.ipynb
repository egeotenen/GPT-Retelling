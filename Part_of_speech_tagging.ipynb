{
 "cells": [
  {
   "cell_type": "markdown",
   "id": "edb7c72f",
   "metadata": {},
   "source": [
    "### 0. Initizalize Packages"
   ]
  },
  {
   "cell_type": "code",
   "execution_count": 5,
   "id": "30df98ae",
   "metadata": {},
   "outputs": [],
   "source": [
    "#!pip install scipy,seaborn\n",
    "import seaborn as sns\n",
    "from scipy.stats import kstest\n",
    "\n",
    "import pandas as pd\n",
    "import numpy as np\n",
    "\n",
    "#!pip install -U plotly\n",
    "pd.options.plotting.backend = \"plotly\"\n",
    "\n",
    "#!pip3 install nltk\n",
    "import nltk\n",
    "from nltk import pos_tag\n",
    "from nltk import word_tokenize\n",
    "from nltk.corpus import stopwords\n",
    "from collections import Counter\n",
    "from nltk.tokenize import word_tokenize, sent_tokenize\n",
    "from scipy.stats import chi2_contingency\n",
    "\n",
    "import math\n",
    "from scipy.stats import shapiro \n",
    "from scipy.stats import lognorm\n",
    "from scipy.stats import mannwhitneyu\n",
    "import matplotlib.pyplot as plt\n",
    "\n",
    "#!pip3 install openpyxl\n",
    "import openpyxl as px\n",
    "from statsmodels.stats.weightstats import ztest\n",
    "\n"
   ]
  },
  {
   "cell_type": "markdown",
   "id": "5f1bce4f",
   "metadata": {},
   "source": [
    "### 0.1. Read Dataset ( N = 114)"
   ]
  },
  {
   "cell_type": "code",
   "execution_count": 49,
   "id": "8583f668",
   "metadata": {},
   "outputs": [],
   "source": [
    "df = pd.read_excel('all_gpt_human_only_text.xlsx')"
   ]
  },
  {
   "cell_type": "markdown",
   "id": "8fe3fbb9",
   "metadata": {},
   "source": [
    "### 0.1.1 Preprocess"
   ]
  },
  {
   "cell_type": "markdown",
   "id": "200d4329",
   "metadata": {},
   "source": [
    "Get rid of extra white spaces"
   ]
  },
  {
   "cell_type": "code",
   "execution_count": 50,
   "id": "3fff8eb5",
   "metadata": {},
   "outputs": [],
   "source": [
    "def strip(dataframe):\n",
    "    return [s.strip() for s in dataframe]\n",
    "\n",
    "df= df.apply(strip)"
   ]
  },
  {
   "cell_type": "markdown",
   "id": "0d3f9a68",
   "metadata": {},
   "source": [
    "## 1. Pos Tagging with Less Category Separate for Each Sentence"
   ]
  },
  {
   "cell_type": "markdown",
   "id": "391d4ba0",
   "metadata": {},
   "source": [
    "Each story's pos taggings completed separately, and counted for the story itself"
   ]
  },
  {
   "cell_type": "markdown",
   "id": "70287a7c",
   "metadata": {},
   "source": [
    "### 1.1. Preprocess and Tag"
   ]
  },
  {
   "cell_type": "code",
   "execution_count": 51,
   "id": "6d3cbed0",
   "metadata": {},
   "outputs": [],
   "source": [
    "#clean data from stopwords, tokenize it, and tag\n",
    "punc = '''!()-[]{};:'\"\\,<>./?@#$%^&*_~'''\n",
    "stop_words = set(stopwords.words('english'))\n",
    "\n",
    "def create_tokenized(text):\n",
    "    tokenized = word_tokenize(text)\n",
    "    tokenized_no_punc = [w.lower() for w in tokenized if w not in punc]\n",
    "    filtered = [w for w in tokenized_no_punc]# if w not in stop_words]\n",
    "    tagged = nltk.pos_tag(filtered)\n",
    "    return tagged"
   ]
  },
  {
   "cell_type": "code",
   "execution_count": 52,
   "id": "7c49e825",
   "metadata": {},
   "outputs": [],
   "source": [
    "## Filter and get words as tokens\n",
    "for column in df.columns:\n",
    "    df[f'tokenized_{column}'] = df[column].apply(lambda x: create_tokenized(x))"
   ]
  },
  {
   "cell_type": "markdown",
   "id": "130eba50",
   "metadata": {},
   "source": [
    "### 1.2. Count the pos-tags"
   ]
  },
  {
   "cell_type": "code",
   "execution_count": 53,
   "id": "d3343b93",
   "metadata": {},
   "outputs": [
    {
     "data": {
      "text/plain": [
       "Index(['STORY', 'GPT_R1', 'GPT_R2', 'GPT_R3', 'Retell_1', 'Retell_2',\n",
       "       'Retell_3', 'tokenized_STORY', 'tokenized_GPT_R1', 'tokenized_GPT_R2',\n",
       "       'tokenized_GPT_R3', 'tokenized_Retell_1', 'tokenized_Retell_2',\n",
       "       'tokenized_Retell_3'],\n",
       "      dtype='object')"
      ]
     },
     "execution_count": 53,
     "metadata": {},
     "output_type": "execute_result"
    }
   ],
   "source": [
    "df.columns"
   ]
  },
  {
   "cell_type": "code",
   "execution_count": 54,
   "id": "166c6e4b",
   "metadata": {},
   "outputs": [],
   "source": [
    "#count the tags\n",
    "def count_tags(mydata):\n",
    "    counter_list=[]\n",
    "    for i in mydata:\n",
    "        counter_list.append(i[1])\n",
    "\n",
    "    tag_counts = Counter(counter_list) \n",
    "    return tag_counts"
   ]
  },
  {
   "cell_type": "code",
   "execution_count": 55,
   "id": "e6412d2e",
   "metadata": {},
   "outputs": [],
   "source": [
    "for column in [col for col in df.columns if col.startswith('tokenized_')]:\n",
    "    df[f'{column}_tag_counts'] = df[column].apply(lambda x: count_tags(x))"
   ]
  },
  {
   "cell_type": "code",
   "execution_count": 56,
   "id": "55c86c4b",
   "metadata": {},
   "outputs": [
    {
     "data": {
      "text/plain": [
       "Index(['STORY', 'GPT_R1', 'GPT_R2', 'GPT_R3', 'Retell_1', 'Retell_2',\n",
       "       'Retell_3', 'tokenized_STORY', 'tokenized_GPT_R1', 'tokenized_GPT_R2',\n",
       "       'tokenized_GPT_R3', 'tokenized_Retell_1', 'tokenized_Retell_2',\n",
       "       'tokenized_Retell_3', 'tokenized_STORY_tag_counts',\n",
       "       'tokenized_GPT_R1_tag_counts', 'tokenized_GPT_R2_tag_counts',\n",
       "       'tokenized_GPT_R3_tag_counts', 'tokenized_Retell_1_tag_counts',\n",
       "       'tokenized_Retell_2_tag_counts', 'tokenized_Retell_3_tag_counts'],\n",
       "      dtype='object')"
      ]
     },
     "execution_count": 56,
     "metadata": {},
     "output_type": "execute_result"
    }
   ],
   "source": [
    "df.columns"
   ]
  },
  {
   "cell_type": "code",
   "execution_count": 57,
   "id": "c04bfb52",
   "metadata": {},
   "outputs": [
    {
     "data": {
      "text/plain": [
       "0      {'DT': 16, 'NN': 25, 'WP': 3, 'VBD': 11, 'IN':...\n",
       "1      {'NN': 23, 'VBD': 14, 'VBG': 7, 'JJ': 8, 'CD':...\n",
       "2      {'DT': 20, 'NN': 28, 'VBD': 17, 'TO': 7, 'VB':...\n",
       "3      {'DT': 14, 'IN': 15, 'PRP$': 2, 'NN': 22, 'VBD...\n",
       "4      {'VB': 6, 'PRP': 17, 'RB': 9, 'VBD': 17, 'DT':...\n",
       "                             ...                        \n",
       "111    {'NN': 35, 'VBZ': 4, 'PRP$': 6, '``': 11, 'VB'...\n",
       "112    {'RB': 10, 'EX': 1, 'VBD': 20, 'DT': 31, 'NN':...\n",
       "113    {'EX': 1, 'VBD': 18, 'DT': 20, 'NN': 32, 'WP':...\n",
       "114    {'CD': 1, 'NN': 30, 'DT': 18, 'VBD': 13, 'VBG'...\n",
       "115    {'DT': 15, 'NN': 24, 'VBD': 12, 'RB': 11, 'IN'...\n",
       "Name: tokenized_STORY_tag_counts, Length: 116, dtype: object"
      ]
     },
     "execution_count": 57,
     "metadata": {},
     "output_type": "execute_result"
    }
   ],
   "source": [
    "df.tokenized_STORY_tag_counts"
   ]
  },
  {
   "cell_type": "markdown",
   "id": "236b4960",
   "metadata": {},
   "source": [
    "### 1.3. Merge relevant categories together"
   ]
  },
  {
   "cell_type": "markdown",
   "id": "b642c70c",
   "metadata": {},
   "source": [
    "Count tags for all nouns (plural nouns, proper nouns etc.), verbs, adjectives, adverbs, pronouns and prepositions/conjuctions/determiners\n"
   ]
  },
  {
   "cell_type": "code",
   "execution_count": null,
   "id": "69483d5a",
   "metadata": {},
   "outputs": [],
   "source": [
    "for column in [col for col in df.columns if col.endswith('tag_counts')]:\n",
    "    df[f'{column[:-7]}_noun'] = [*(df[column].apply(lambda x: (x['NN'] + x['NNS'] + x['NNP']+ x['NNPS'])))]\n",
    "    df[f'{column[:-7]}_verb'] = [*(df[column].apply(lambda x: (x['VB'] + x['VBN'] + x['VBG']+ x['VBZ'] + x['VBP']+x['VBD'])))]\n",
    "    df[f'{column[:-7]}_adj'] = [*(df[column].apply(lambda x: (x['JJ'] + x['JJS'] + x['JJR'])))]\n",
    "    df[f'{column[:-7]}_adv'] = [*(df[column].apply(lambda x: (x['RB'] + x['RBR'] + x['WBR'])))]\n",
    "    df[f'{column[:-7]}_pron'] = [*(df[column].apply(lambda x: (x['PRP'] + x['PRP$'] + x['WB']+ x['WB$'])))]\n",
    "    df[f'{column[:-7]}_con_det_prep'] = [*(df[column].apply(lambda x: (x['DT'] + x['IN'] + x['UH']+ x['TO']+ x['WDT']+ x['EX'])))]\n",
    "    df[f'{column[:-7]}_prep'] = [*(df[column].apply(lambda x: (x['IN'])))]\n",
    "\n"
   ]
  },
  {
   "cell_type": "code",
   "execution_count": null,
   "id": "d0ca89c1",
   "metadata": {},
   "outputs": [],
   "source": [
    "df['tokenized_GPT_R3'].apply(lambda x: len(x))\n",
    "df.tokenized_GPT_R3_tag_noun"
   ]
  },
  {
   "cell_type": "markdown",
   "id": "ed5e3b2f",
   "metadata": {},
   "source": [
    "## 1.4. Get Ratio of Grammatical Categories to Word Count"
   ]
  },
  {
   "cell_type": "code",
   "execution_count": null,
   "id": "c47524a0",
   "metadata": {
    "scrolled": true
   },
   "outputs": [],
   "source": [
    "#Nouns\n",
    "df['GPT_3_noun_ratio'] = (df.tokenized_GPT_R3_tag_noun / (df['tokenized_GPT_R3'].apply(lambda x: len(x))))\n",
    "df['GPT_2_noun_ratio'] = (df.tokenized_GPT_R2_tag_noun / (df['tokenized_GPT_R2'].apply(lambda x: len(x))))\n",
    "df['GPT_1_noun_ratio'] = (df.tokenized_GPT_R1_tag_noun / (df['tokenized_GPT_R1'].apply(lambda x: len(x))))\n",
    "\n",
    "df['Retell_1_noun_ratio'] = (df.tokenized_Retell_1_tag_noun / (df['tokenized_Retell_1'].apply(lambda x: len(x))))\n",
    "df['Retell_2_noun_ratio'] = (df.tokenized_Retell_2_tag_noun / (df['tokenized_Retell_2'].apply(lambda x: len(x))))\n",
    "df['Retell_3_noun_ratio'] = (df.tokenized_Retell_3_tag_noun / (df['tokenized_Retell_3'].apply(lambda x: len(x))))\n",
    "\n",
    "df['story_noun_ratio'] = (df.tokenized_STORY_tag_noun / (df['tokenized_STORY'].apply(lambda x: len(x))))\n",
    "\n",
    "\n",
    "#Verbs\n",
    "df['GPT_3_verb_ratio'] = (df.tokenized_GPT_R3_tag_verb / (df['tokenized_GPT_R3'].apply(lambda x: len(x))))\n",
    "df['GPT_2_verb_ratio'] = (df.tokenized_GPT_R2_tag_verb / (df['tokenized_GPT_R2'].apply(lambda x: len(x))))\n",
    "df['GPT_1_verb_ratio'] = (df.tokenized_GPT_R1_tag_verb / (df['tokenized_GPT_R1'].apply(lambda x: len(x))))\n",
    "\n",
    "df['Retell_1_verb_ratio'] = (df.tokenized_Retell_1_tag_verb / (df['tokenized_Retell_1'].apply(lambda x: len(x))))\n",
    "df['Retell_2_verb_ratio'] = (df.tokenized_Retell_2_tag_verb / (df['tokenized_Retell_2'].apply(lambda x: len(x))))\n",
    "df['Retell_3_verb_ratio'] = (df.tokenized_Retell_3_tag_verb / (df['tokenized_Retell_3'].apply(lambda x: len(x))))\n",
    "\n",
    "df['story_verb_ratio'] = (df.tokenized_STORY_tag_verb / (df['tokenized_STORY'].apply(lambda x: len(x))))\n",
    "\n",
    "#Adj \n",
    "df['GPT_3_adj_ratio'] = (df.tokenized_GPT_R3_tag_adj / (df['tokenized_GPT_R3'].apply(lambda x: len(x))))\n",
    "df['GPT_2_adj_ratio'] = (df.tokenized_GPT_R2_tag_adj / (df['tokenized_GPT_R2'].apply(lambda x: len(x))))\n",
    "df['GPT_1_adj_ratio'] = (df.tokenized_GPT_R1_tag_adj / (df['tokenized_GPT_R1'].apply(lambda x: len(x))))\n",
    "\n",
    "df['Retell_1_adj_ratio'] = (df.tokenized_Retell_1_tag_adj / (df['tokenized_Retell_1'].apply(lambda x: len(x))))\n",
    "df['Retell_2_adj_ratio'] = (df.tokenized_Retell_2_tag_adj / (df['tokenized_Retell_2'].apply(lambda x: len(x))))\n",
    "df['Retell_3_adj_ratio'] = (df.tokenized_Retell_3_tag_adj / (df['tokenized_Retell_3'].apply(lambda x: len(x))))\n",
    "\n",
    "df['story_adj_ratio'] = (df.tokenized_STORY_tag_adj / (df['tokenized_STORY'].apply(lambda x: len(x))))\n",
    "\n",
    "#Adv\n",
    "df['GPT_3_adv_ratio'] = (df.tokenized_GPT_R3_tag_adv / (df['tokenized_GPT_R3'].apply(lambda x: len(x))))\n",
    "df['GPT_2_adv_ratio'] = (df.tokenized_GPT_R2_tag_adv / (df['tokenized_GPT_R2'].apply(lambda x: len(x))))\n",
    "df['GPT_1_adv_ratio'] = (df.tokenized_GPT_R1_tag_adv / (df['tokenized_GPT_R1'].apply(lambda x: len(x))))\n",
    "\n",
    "df['Retell_1_adv_ratio'] = (df.tokenized_Retell_1_tag_adv / (df['tokenized_Retell_1'].apply(lambda x: len(x))))\n",
    "df['Retell_2_adv_ratio'] = (df.tokenized_Retell_2_tag_adv / (df['tokenized_Retell_2'].apply(lambda x: len(x))))\n",
    "df['Retell_3_adv_ratio'] = (df.tokenized_Retell_3_tag_adv / (df['tokenized_Retell_3'].apply(lambda x: len(x))))\n",
    "\n",
    "df['story_adv_ratio'] = (df.tokenized_STORY_tag_adv / (df['tokenized_STORY'].apply(lambda x: len(x))))\n",
    "\n",
    "\n",
    "#Prep_con_det\n",
    "df['GPT_3_con_det_prep_ratio'] = (df.tokenized_GPT_R3_tag_con_det_prep / (df['tokenized_GPT_R3'].apply(lambda x: len(x))))\n",
    "df['GPT_2_con_det_prep_ratio'] = (df.tokenized_GPT_R2_tag_con_det_prep / (df['tokenized_GPT_R2'].apply(lambda x: len(x))))\n",
    "df['GPT_1_con_det_prep_ratio'] = (df.tokenized_GPT_R1_tag_con_det_prep / (df['tokenized_GPT_R1'].apply(lambda x: len(x))))\n",
    "\n",
    "df['Retell_1_con_det_prep_ratio'] = (df.tokenized_Retell_1_tag_con_det_prep / (df['tokenized_Retell_1'].apply(lambda x: len(x))))\n",
    "df['Retell_2_con_det_prep_ratio'] = (df.tokenized_Retell_2_tag_con_det_prep / (df['tokenized_Retell_2'].apply(lambda x: len(x))))\n",
    "df['Retell_3_con_det_prep_ratio'] = (df.tokenized_Retell_3_tag_con_det_prep / (df['tokenized_Retell_3'].apply(lambda x: len(x))))\n",
    "\n",
    "df['story_con_det_prep_ratio'] = (df.tokenized_STORY_tag_con_det_prep / (df['tokenized_STORY'].apply(lambda x: len(x))))\n",
    "\n",
    "\n",
    "#pron\n",
    "df['GPT_3_pron_ratio'] = (df.tokenized_GPT_R3_tag_pron / (df['tokenized_GPT_R3'].apply(lambda x: len(x))))\n",
    "df['GPT_2_pron_ratio'] = (df.tokenized_GPT_R2_tag_pron / (df['tokenized_GPT_R2'].apply(lambda x: len(x))))\n",
    "df['GPT_1_pron_ratio'] = (df.tokenized_GPT_R1_tag_pron / (df['tokenized_GPT_R1'].apply(lambda x: len(x))))\n",
    "\n",
    "df['Retell_1_pron_ratio'] = (df.tokenized_Retell_1_tag_pron / (df['tokenized_Retell_1'].apply(lambda x: len(x))))\n",
    "df['Retell_2_pron_ratio'] = (df.tokenized_Retell_2_tag_pron / (df['tokenized_Retell_2'].apply(lambda x: len(x))))\n",
    "df['Retell_3_pron_ratio'] = (df.tokenized_Retell_3_tag_pron / (df['tokenized_Retell_3'].apply(lambda x: len(x))))\n",
    "\n",
    "df['story_pron_ratio'] = (df.tokenized_STORY_tag_pron / (df['tokenized_STORY'].apply(lambda x: len(x))))\n",
    "\n",
    "#Prep\n",
    "df['GPT_3_prep_ratio'] = (df.tokenized_GPT_R3_tag_prep / (df['tokenized_GPT_R3'].apply(lambda x: len(x))))\n",
    "df['GPT_2_prep_ratio'] = (df.tokenized_GPT_R2_tag_prep / (df['tokenized_GPT_R2'].apply(lambda x: len(x))))\n",
    "df['GPT_1_prep_ratio'] = (df.tokenized_GPT_R1_tag_prep / (df['tokenized_GPT_R1'].apply(lambda x: len(x))))\n",
    "\n",
    "df['Retell_1_prep_ratio'] = (df.tokenized_Retell_1_tag_prep / (df['tokenized_Retell_1'].apply(lambda x: len(x))))\n",
    "df['Retell_2_prep_ratio'] = (df.tokenized_Retell_2_tag_prep / (df['tokenized_Retell_2'].apply(lambda x: len(x))))\n",
    "df['Retell_3_prep_ratio'] = (df.tokenized_Retell_3_tag_prep / (df['tokenized_Retell_3'].apply(lambda x: len(x))))\n",
    "\n",
    "df['story_prep_ratio'] = (df.tokenized_STORY_tag_prep / (df['tokenized_STORY'].apply(lambda x: len(x))))"
   ]
  },
  {
   "cell_type": "markdown",
   "id": "0ae6e965",
   "metadata": {},
   "source": [
    "### 1.4.1. Carry counts and ratios into different DataFrame"
   ]
  },
  {
   "cell_type": "code",
   "execution_count": null,
   "id": "a664eee1",
   "metadata": {},
   "outputs": [],
   "source": [
    "count_ratio = pd.DataFrame\n",
    "\n",
    "count_ratio= df[['GPT_3_noun_ratio',\n",
    " 'GPT_2_noun_ratio',\n",
    " 'GPT_1_noun_ratio',\n",
    " 'Retell_1_noun_ratio',\n",
    " 'Retell_2_noun_ratio',\n",
    " 'Retell_3_noun_ratio',\n",
    " 'story_noun_ratio',\n",
    " 'GPT_3_verb_ratio',\n",
    " 'GPT_2_verb_ratio',\n",
    " 'GPT_1_verb_ratio',\n",
    " 'Retell_1_verb_ratio',\n",
    " 'Retell_2_verb_ratio',\n",
    " 'Retell_3_verb_ratio',\n",
    " 'story_verb_ratio',\n",
    " 'GPT_3_adj_ratio',\n",
    " 'GPT_2_adj_ratio',\n",
    " 'GPT_1_adj_ratio',\n",
    " 'Retell_1_adj_ratio',\n",
    " 'Retell_2_adj_ratio',\n",
    " 'Retell_3_adj_ratio',\n",
    " 'story_adj_ratio',\n",
    " 'GPT_3_adv_ratio',\n",
    " 'GPT_2_adv_ratio',\n",
    " 'GPT_1_adv_ratio',\n",
    " 'Retell_1_adv_ratio',\n",
    " 'Retell_2_adv_ratio',\n",
    " 'Retell_3_adv_ratio',\n",
    " 'story_adv_ratio',\n",
    " 'GPT_3_con_det_prep_ratio',\n",
    " 'GPT_2_con_det_prep_ratio',\n",
    " 'GPT_1_con_det_prep_ratio',\n",
    " 'Retell_1_con_det_prep_ratio',\n",
    " 'Retell_2_con_det_prep_ratio',\n",
    " 'Retell_3_con_det_prep_ratio',\n",
    " 'story_con_det_prep_ratio',\n",
    " 'GPT_3_pron_ratio',\n",
    " 'GPT_2_pron_ratio',\n",
    " 'GPT_1_pron_ratio',\n",
    " 'Retell_1_pron_ratio',\n",
    " 'Retell_2_pron_ratio',\n",
    " 'Retell_3_pron_ratio',\n",
    " 'story_pron_ratio',\n",
    " 'GPT_3_prep_ratio',\n",
    " 'GPT_2_prep_ratio',\n",
    " 'GPT_1_prep_ratio',\n",
    " 'Retell_1_prep_ratio',\n",
    " 'Retell_2_prep_ratio',\n",
    " 'Retell_3_prep_ratio',\n",
    " 'story_prep_ratio']]"
   ]
  },
  {
   "cell_type": "code",
   "execution_count": 13,
   "id": "b271576d",
   "metadata": {},
   "outputs": [],
   "source": [
    "#store counts into a dataframe \n",
    "counts = pd.DataFrame()\n",
    "\n",
    "df_count = df[['tokenized_STORY_tag_noun',\n",
    " 'tokenized_STORY_tag_verb',\n",
    " 'tokenized_STORY_tag_adj',\n",
    " 'tokenized_STORY_tag_adv',\n",
    " 'tokenized_STORY_tag_pron',\n",
    " 'tokenized_STORY_tag_con_det_prep',\n",
    " 'tokenized_STORY_tag_prep',\n",
    " 'tokenized_GPT_R1_tag_noun',\n",
    " 'tokenized_GPT_R1_tag_verb',\n",
    " 'tokenized_GPT_R1_tag_adj',\n",
    " 'tokenized_GPT_R1_tag_adv',\n",
    " 'tokenized_GPT_R1_tag_pron',\n",
    " 'tokenized_GPT_R1_tag_con_det_prep',\n",
    " 'tokenized_GPT_R1_tag_prep',\n",
    " 'tokenized_GPT_R2_tag_noun',\n",
    " 'tokenized_GPT_R2_tag_verb',\n",
    " 'tokenized_GPT_R2_tag_adj',\n",
    " 'tokenized_GPT_R2_tag_adv',\n",
    " 'tokenized_GPT_R2_tag_pron',\n",
    " 'tokenized_GPT_R2_tag_con_det_prep',\n",
    " 'tokenized_GPT_R2_tag_prep',\n",
    " 'tokenized_GPT_R3_tag_noun',\n",
    " 'tokenized_GPT_R3_tag_verb',\n",
    " 'tokenized_GPT_R3_tag_adj',\n",
    " 'tokenized_GPT_R3_tag_adv',\n",
    " 'tokenized_GPT_R3_tag_pron',\n",
    " 'tokenized_GPT_R3_tag_con_det_prep',\n",
    " 'tokenized_GPT_R3_tag_prep',\n",
    " 'tokenized_Retell_1_tag_noun',\n",
    " 'tokenized_Retell_1_tag_verb',\n",
    " 'tokenized_Retell_1_tag_adj',\n",
    " 'tokenized_Retell_1_tag_adv',\n",
    " 'tokenized_Retell_1_tag_pron',\n",
    " 'tokenized_Retell_1_tag_con_det_prep',\n",
    " 'tokenized_Retell_1_tag_prep',\n",
    " 'tokenized_Retell_2_tag_noun',\n",
    " 'tokenized_Retell_2_tag_verb',\n",
    " 'tokenized_Retell_2_tag_adj',\n",
    " 'tokenized_Retell_2_tag_adv',\n",
    " 'tokenized_Retell_2_tag_pron',\n",
    " 'tokenized_Retell_2_tag_con_det_prep',\n",
    " 'tokenized_Retell_2_tag_prep',\n",
    " 'tokenized_Retell_3_tag_noun',\n",
    " 'tokenized_Retell_3_tag_verb',\n",
    " 'tokenized_Retell_3_tag_adj',\n",
    " 'tokenized_Retell_3_tag_adv',\n",
    " 'tokenized_Retell_3_tag_pron',\n",
    " 'tokenized_Retell_3_tag_con_det_prep',\n",
    " 'tokenized_Retell_3_tag_prep']\n",
    "\n",
    "]"
   ]
  },
  {
   "cell_type": "markdown",
   "id": "ab9638b1",
   "metadata": {},
   "source": [
    "Our dataframes are:\n",
    "\n",
    "1-count = df_count\n",
    "2- ratio = count_ratio"
   ]
  },
  {
   "cell_type": "markdown",
   "id": "7d113a1e",
   "metadata": {},
   "source": [
    "### 1.5. Significance Test Between Retellings (Counts of Words)"
   ]
  },
  {
   "cell_type": "code",
   "execution_count": null,
   "id": "99eaff20",
   "metadata": {},
   "outputs": [],
   "source": [
    "mannwhitneyu(df_count['tokenized_GPT_R3_tag_con_det_prep'], df_count['tokenized_Retell_3_tag_con_det_prep']) #significant"
   ]
  },
  {
   "cell_type": "code",
   "execution_count": null,
   "id": "5e7746e1",
   "metadata": {},
   "outputs": [],
   "source": [
    "shapiro(df_count) #data is not normal, so we will use Mann-u Whitney"
   ]
  },
  {
   "cell_type": "code",
   "execution_count": null,
   "id": "7dcb0a72",
   "metadata": {},
   "outputs": [],
   "source": [
    "\n",
    "shapiro(df_count) #data is not normal, so we will use Mann-u Whitney\n",
    "\n",
    "#Nouns\n",
    "mannwhitneyu(df_count['tokenized_GPT_R1_tag_noun'], df_count['tokenized_Retell_1_tag_noun']) #significant\n",
    "mannwhitneyu(df_count['tokenized_GPT_R2_tag_noun'], df_count['tokenized_Retell_2_tag_noun'])\n",
    "mannwhitneyu(df_count['tokenized_GPT_R3_tag_noun'], df_count['tokenized_Retell_3_tag_noun']) #significant\n",
    "\n",
    "#Verbs\n",
    "mannwhitneyu(df_count['tokenized_GPT_R1_tag_verb'], df_count['tokenized_Retell_1_tag_verb']) #significant\n",
    "mannwhitneyu(df_count['tokenized_GPT_R2_tag_verb'], df_count['tokenized_Retell_2_tag_verb']) #significant\n",
    "mannwhitneyu(df_count['tokenized_GPT_R3_tag_verb'], df_count['tokenized_Retell_3_tag_verb']) #significant\n",
    "\n",
    "#Adjectives\n",
    "mannwhitneyu(df_count['tokenized_GPT_R1_tag_adj'], df_count['tokenized_Retell_1_tag_adj']) #significant\n",
    "mannwhitneyu(df_count['tokenized_GPT_R2_tag_adj'], df_count['tokenized_Retell_2_tag_adj']) \n",
    "mannwhitneyu(df_count['tokenized_GPT_R3_tag_adj'], df_count['tokenized_Retell_3_tag_adj']) #significant\n",
    "\n",
    "#Adverbs\n",
    "mannwhitneyu(df_count['tokenized_GPT_R1_tag_adv'], df_count['tokenized_Retell_1_tag_adv']) #significant\n",
    "mannwhitneyu(df_count['tokenized_GPT_R2_tag_adv'], df_count['tokenized_Retell_2_tag_adv']) #significant\n",
    "mannwhitneyu(df_count['tokenized_GPT_R3_tag_adv'], df_count['tokenized_Retell_3_tag_adv']) #significant\n",
    "\n",
    "#Pronouns\n",
    "mannwhitneyu(df_count['tokenized_GPT_R1_tag_pron'], df_count['tokenized_Retell_1_tag_pron']) #significant\n",
    "mannwhitneyu(df_count['tokenized_GPT_R2_tag_pron'], df_count['tokenized_Retell_2_tag_pron']) #significant\n",
    "mannwhitneyu(df_count['tokenized_GPT_R3_tag_pron'], df_count['tokenized_Retell_3_tag_pron']) #significant\n",
    "\n",
    "#Prepositions/determines/conjuctions\n",
    "mannwhitneyu(df_count['tokenized_GPT_R1_tag_con_det_prep'], df_count['tokenized_Retell_1_tag_con_det_prep']) #significant\n",
    "mannwhitneyu(df_count['tokenized_GPT_R2_tag_con_det_prep'], df_count['tokenized_Retell_2_tag_con_det_prep']) \n",
    "mannwhitneyu(df_count['tokenized_GPT_R3_tag_con_det_prep'], df_count['tokenized_Retell_3_tag_con_det_prep']) #significant\n",
    "\n",
    "#Prepositions only\n",
    "mannwhitneyu(df_count['tokenized_GPT_R1_tag_prep'], df_count['tokenized_Retell_1_tag_prep']) #significant\n",
    "mannwhitneyu(df_count['tokenized_GPT_R2_tag_prep'], df_count['tokenized_Retell_2_tag_prep']) \n",
    "mannwhitneyu(df_count['tokenized_GPT_R3_tag_prep'], df_count['tokenized_Retell_3_tag_prep'])\n",
    "\n"
   ]
  },
  {
   "cell_type": "markdown",
   "id": "48e82ee8",
   "metadata": {},
   "source": [
    "\n",
    "### Results: \n",
    "\n",
    "Means are reported in parantheses.\n",
    "\n",
    "0-nouns are significantly different in first (human = 15.50 , gpt = 13.06) last the retelling of Human (m=9.48) and GPT(m=10.31).\n",
    "\n",
    "\n",
    "1-verbs are significantly different in first (human=16.71, gpt = 10.22), second (human =12.09 ,gpt = 8.57) and third (human = 9.77, gpt = 8.02) retellings between Human and GPT retellings.\n",
    "\n",
    "\n",
    "2-adjectives are significantly different in first (human = 5.11, gpt = 3.58), and third (human = 2.50, gpt = 2.90) retellings between Human and GPT retellings.\n",
    "\n",
    "\n",
    "3-adverbs are significantly different in first (human = 4.80, gpt = 2.01 ), second (human = 3.36, gpt = 1.38) and third (human = 2.63, gpt = 1.26) retellings between Human and GPT retellings.\n",
    "\n",
    "4- pronouns are significantly different in first (human = 8.72, gpt = 4.53), second (human = 6.23,gpt = 3.70), and last retellings (human = 5.0,gpt = 3.43)\n",
    "\n",
    "5-prepositions/conjuctions/determiners are different in first (human = 16.85,gpt = 12.71) and last retelling (human = 10.65, gpt = 10.16).\n",
    "\n",
    "6- Prepositions only are significant in first retellings (human = 6.72, gpt = 5.22).\n",
    "\n"
   ]
  },
  {
   "cell_type": "markdown",
   "id": "e36c941f",
   "metadata": {},
   "source": [
    "### 1.6. Visualize Counts"
   ]
  },
  {
   "cell_type": "markdown",
   "id": "43d400aa",
   "metadata": {},
   "source": [
    "Prepare dataset accordingly"
   ]
  },
  {
   "cell_type": "code",
   "execution_count": null,
   "id": "3f267860",
   "metadata": {},
   "outputs": [],
   "source": [
    "count_means = pd.DataFrame()\n",
    "count_means['mean'] = [*df_count.mean()]\n",
    "count_means['gen']= ['origin','origin','origin','origin','origin','origin','origin','GPT_R1','GPT_R1','GPT_R1','GPT_R1','GPT_R1','GPT_R1','GPT_R1','GPT_R2','GPT_R2','GPT_R2','GPT_R2','GPT_R2','GPT_R2','GPT_R2','GPT_R3','GPT_R3','GPT_R3','GPT_R3','GPT_R3','GPT_R3','GPT_R3','Retell_1','Retell_1','Retell_1','Retell_1','Retell_1','Retell_1','Retell_1','Retell_2','Retell_2','Retell_2','Retell_2','Retell_2','Retell_2','Retell_2','Retell_3','Retell_3','Retell_3','Retell_3','Retell_3','Retell_3','Retell_3']\n",
    "count_means['type']= ['noun','verb','adj','adv','pron','con_det_prep','prep','noun','verb','adj','adv','pron','con_det_prep','prep','noun','verb','adj','adv','pron','con_det_prep','prep','noun','verb','adj','adv','pron','con_det_prep','prep','noun','verb','adj','adv','pron','con_det_prep','prep','noun','verb','adj','adv','pron','con_det_prep','prep','noun','verb','adj','adv','pron','con_det_prep','prep']\n"
   ]
  },
  {
   "cell_type": "markdown",
   "id": "e4eccf54",
   "metadata": {},
   "source": [
    "#### 1.6.1. First Generation "
   ]
  },
  {
   "cell_type": "code",
   "execution_count": null,
   "id": "d21d9a05",
   "metadata": {},
   "outputs": [],
   "source": [
    "first_gen = count_means.loc[count_means['gen'].isin(['GPT_R1', 'Retell_1'])]\n",
    "\n",
    "sns.lineplot(data=first_gen, x=\"type\", y=\"mean\", hue=\"gen\").set(title='significant: all')\n"
   ]
  },
  {
   "cell_type": "markdown",
   "id": "346f2179",
   "metadata": {},
   "source": [
    "#### 1.6.2. Second Generation "
   ]
  },
  {
   "cell_type": "code",
   "execution_count": null,
   "id": "97bdf755",
   "metadata": {},
   "outputs": [],
   "source": [
    "second_gen = count_means.loc[count_means['gen'].isin(['GPT_R2', 'Retell_2'])]\n",
    "\n",
    "sns.lineplot(data=second_gen, x=\"type\", y=\"mean\", hue=\"gen\").set(title='significant: verb, adv, pron')\n"
   ]
  },
  {
   "cell_type": "markdown",
   "id": "cde491b8",
   "metadata": {},
   "source": [
    "#### 1.6.3. Third Generation "
   ]
  },
  {
   "cell_type": "code",
   "execution_count": null,
   "id": "2a33e3b9",
   "metadata": {},
   "outputs": [],
   "source": [
    "third_gen = count_means.loc[count_means['gen'].isin(['GPT_R3', 'Retell_3'])]\n",
    "\n",
    "sns.lineplot(data=third_gen, x=\"type\", y=\"mean\", hue=\"gen\").set(title='significant: all except prepositions')\n"
   ]
  },
  {
   "cell_type": "markdown",
   "id": "18930d14",
   "metadata": {},
   "source": [
    "#### 1.6.4. All Together"
   ]
  },
  {
   "cell_type": "code",
   "execution_count": null,
   "id": "7e0f7ae4",
   "metadata": {},
   "outputs": [],
   "source": [
    "sns.lineplot(data=count_means, x=\"type\", y=\"mean\", hue=\"gen\")\n"
   ]
  },
  {
   "cell_type": "code",
   "execution_count": null,
   "id": "c000b1d9",
   "metadata": {},
   "outputs": [],
   "source": [
    "human = count_means.loc[count_means['gen'].isin(['origin','Retell_1', 'Retell_2','Retell_3'])]\n",
    "\n",
    "sns.lineplot(data=human, x=\"gen\", y=\"mean\", hue=\"type\")"
   ]
  },
  {
   "cell_type": "code",
   "execution_count": 23,
   "id": "c0d67215",
   "metadata": {},
   "outputs": [
    {
     "data": {
      "text/plain": [
       "<Axes: xlabel='gen', ylabel='mean'>"
      ]
     },
     "execution_count": 23,
     "metadata": {},
     "output_type": "execute_result"
    },
    {
     "data": {
      "image/png": "[encoded data removed]",
      "text/plain": [
       "<Figure size 640x480 with 1 Axes>"
      ]
     },
     "metadata": {},
     "output_type": "display_data"
    }
   ],
   "source": [
    "gpt = count_means.loc[count_means['gen'].isin(['origin','GPT_R1', 'GPT_R2','GPT_R3'])]\n",
    "\n",
    "sns.lineplot(data=gpt, x=\"gen\", y=\"mean\", hue=\"type\")"
   ]
  },
  {
   "cell_type": "markdown",
   "id": "b5a90ba5",
   "metadata": {},
   "source": [
    "### 1.7. Statistical Test for Ratios"
   ]
  },
  {
   "cell_type": "code",
   "execution_count": 31,
   "id": "378fbd04",
   "metadata": {},
   "outputs": [
    {
     "data": {
      "text/plain": [
       "(-1.0802490328715624, 0.2800312990100875)"
      ]
     },
     "execution_count": 31,
     "metadata": {},
     "output_type": "execute_result"
    }
   ],
   "source": [
    "#!pip3 install statsmodels\n",
    "#Because the values are proportions, I conducted a z-test analysis \n",
    "\n",
    "#Nouns\n",
    "ztest(x1=count_ratio.Retell_1_noun_ratio, x2=count_ratio.GPT_1_noun_ratio, value=0) #significant\n",
    "ztest(x1=count_ratio.Retell_2_noun_ratio, x2=count_ratio.GPT_2_noun_ratio, value=0) #significant\n",
    "ztest(x1=count_ratio.Retell_3_noun_ratio, x2=count_ratio.GPT_3_noun_ratio, value=0) #significant\n",
    "\n",
    "#Verbs\n",
    "ztest(x1=count_ratio.Retell_1_verb_ratio, x2=count_ratio.GPT_1_verb_ratio, value=0) #significant\n",
    "ztest(x1=count_ratio.Retell_2_verb_ratio, x2=count_ratio.GPT_2_verb_ratio, value=0) #significant\n",
    "ztest(x1=count_ratio.Retell_3_verb_ratio, x2=count_ratio.GPT_3_verb_ratio, value=0) #significant\n",
    "\n",
    "#Adj\n",
    "ztest(x1=count_ratio.Retell_1_adj_ratio, x2=count_ratio.GPT_1_adj_ratio, value=0) \n",
    "ztest(x1=count_ratio.Retell_2_adj_ratio, x2=count_ratio.GPT_2_adj_ratio, value=0) #significant\n",
    "ztest(x1=count_ratio.Retell_3_adj_ratio, x2=count_ratio.GPT_3_adj_ratio, value=0) #significant\n",
    "\n",
    "#adv\n",
    "ztest(x1=count_ratio.Retell_1_adv_ratio, x2=count_ratio.GPT_1_adv_ratio, value=0) #significant\n",
    "ztest(x1=count_ratio.Retell_2_adv_ratio, x2=count_ratio.GPT_2_adv_ratio, value=0) #significant\n",
    "ztest(x1=count_ratio.Retell_3_adv_ratio, x2=count_ratio.GPT_3_adv_ratio, value=0) #significant\n",
    "\n",
    "#pron\n",
    "ztest(x1=count_ratio.Retell_1_pron_ratio, x2=count_ratio.GPT_1_pron_ratio, value=0) #significant\n",
    "ztest(x1=count_ratio.Retell_2_pron_ratio, x2=count_ratio.GPT_2_pron_ratio, value=0) #significant\n",
    "ztest(x1=count_ratio.Retell_3_pron_ratio, x2=count_ratio.GPT_3_pron_ratio, value=0) #significant\n",
    "\n",
    "#det_con_prep\n",
    "ztest(x1=count_ratio.Retell_1_con_det_prep_ratio, x2=count_ratio.GPT_1_con_det_prep_ratio, value=0) #significant\n",
    "ztest(x1=count_ratio.Retell_2_con_det_prep_ratio, x2=count_ratio.GPT_2_con_det_prep_ratio, value=0) #significant\n",
    "ztest(x1=count_ratio.Retell_3_con_det_prep_ratio, x2=count_ratio.GPT_3_con_det_prep_ratio, value=0)\n",
    "\n",
    "#prep\n",
    "ztest(x1=count_ratio.Retell_1_prep_ratio, x2=count_ratio.GPT_1_prep_ratio, value=0) #significant\n",
    "ztest(x1=count_ratio.Retell_2_prep_ratio, x2=count_ratio.GPT_2_prep_ratio, value=0) #significant\n",
    "ztest(x1=count_ratio.Retell_3_prep_ratio, x2=count_ratio.GPT_3_prep_ratio, value=0) \n",
    "\n"
   ]
  },
  {
   "cell_type": "markdown",
   "id": "302a4ee3",
   "metadata": {},
   "source": [
    "1. Retelling \n",
    "\n",
    "Human > GPT : verb, adv, pronoun\n",
    "\n",
    "GPT > Human: noun, con-det-prep, prep\n",
    "\n",
    "2. Retelling\n",
    "\n",
    "Human > GPT : verb, adv, pronoun\n",
    "\n",
    "GPT > Human: noun, adj, con-det-prep, prep\n",
    "\n",
    "3. Retelling\n",
    "\n",
    "Human > GPT : verb, adv, pronoun\n",
    "\n",
    "GPT > Human: noun, adj\n"
   ]
  },
  {
   "cell_type": "markdown",
   "id": "84a6a85a",
   "metadata": {},
   "source": [
    "### 1.7.1. Visualize Ratios"
   ]
  },
  {
   "cell_type": "code",
   "execution_count": null,
   "id": "b11b5405",
   "metadata": {},
   "outputs": [],
   "source": [
    "ratio_means = pd.DataFrame()\n",
    "ratio_means['mean'] = [*count_ratio.mean()]\n",
    "ratio_means['gen']= ['GPT_3', 'GPT_2','GPT_1', 'Retell_1','Retell_2','Retell_3','origin','GPT_3', 'GPT_2','GPT_1', 'Retell_1','Retell_2','Retell_3','origin','GPT_3', 'GPT_2','GPT_1', 'Retell_1','Retell_2','Retell_3','origin','GPT_3', 'GPT_2','GPT_1', 'Retell_1','Retell_2','Retell_3','origin','GPT_3', 'GPT_2','GPT_1', 'Retell_1','Retell_2','Retell_3','origin','GPT_3', 'GPT_2','GPT_1', 'Retell_1','Retell_2','Retell_3','origin','GPT_3', 'GPT_2','GPT_1', 'Retell_1','Retell_2','Retell_3','origin']\n",
    "ratio_means['type']= ['noun','noun','noun','noun','noun','noun','noun','verb','verb','verb','verb','verb','verb','verb','adj','adj','adj','adj','adj','adj','adj','adv','adv','adv','adv','adv','adv','adv','con_det_prep','con_det_prep','con_det_prep','con_det_prep','con_det_prep','con_det_prep','con_det_prep','pron','pron','pron','pron','pron','pron','pron','prep','prep','prep','prep','prep','prep','prep']\n"
   ]
  },
  {
   "cell_type": "markdown",
   "id": "f7aad0ac",
   "metadata": {},
   "source": [
    "#### 1.7.1.1. First Gen"
   ]
  },
  {
   "cell_type": "code",
   "execution_count": null,
   "id": "efe2a43f",
   "metadata": {},
   "outputs": [],
   "source": [
    "first_gen = ratio_means.loc[ratio_means['gen'].isin(['GPT_1', 'Retell_1'])]\n",
    "\n",
    "sns.lineplot(data=first_gen, x=\"type\", y=\"mean\", hue=\"gen\").set(title='significant: all except adjectives')\n"
   ]
  },
  {
   "cell_type": "markdown",
   "id": "e678bdbd",
   "metadata": {},
   "source": [
    "#### 1.7.1.2. Second Generation\n"
   ]
  },
  {
   "cell_type": "code",
   "execution_count": null,
   "id": "405e2c3a",
   "metadata": {},
   "outputs": [],
   "source": [
    "second_gen = ratio_means.loc[ratio_means['gen'].isin(['GPT_2', 'Retell_2'])]\n",
    "\n",
    "sns.lineplot(data=second_gen, x=\"type\", y=\"mean\", hue=\"gen\").set(title='significant: all')\n"
   ]
  },
  {
   "cell_type": "markdown",
   "id": "30021a8b",
   "metadata": {},
   "source": [
    "#### 1.7.1.3. Second Generation\n"
   ]
  },
  {
   "cell_type": "code",
   "execution_count": null,
   "id": "1ea7f153",
   "metadata": {
    "scrolled": false
   },
   "outputs": [],
   "source": [
    "third_gen = ratio_means.loc[ratio_means['gen'].isin(['GPT_3', 'Retell_3'])]\n",
    "\n",
    "sns.lineplot(data=third_gen, x=\"type\", y=\"mean\", hue=\"gen\").set(title='significant: all except preposition, and con-det-pre')\n"
   ]
  },
  {
   "cell_type": "markdown",
   "id": "913d7c71",
   "metadata": {},
   "source": [
    "#### 1.7.1.4. All Together"
   ]
  },
  {
   "cell_type": "code",
   "execution_count": null,
   "id": "94abb1e7",
   "metadata": {},
   "outputs": [],
   "source": [
    "sns.lineplot(data=ratio_means, x=\"type\", y=\"mean\", hue=\"gen\")\n"
   ]
  },
  {
   "cell_type": "code",
   "execution_count": null,
   "id": "a0f33a2c",
   "metadata": {},
   "outputs": [],
   "source": [
    "human = ratio_means.loc[ratio_means['gen'].isin(['origin','Retell_1', 'Retell_2','Retell_3'])]\n",
    "sns.lineplot(data=human, x=\"gen\", y=\"mean\", hue=\"type\")"
   ]
  },
  {
   "cell_type": "code",
   "execution_count": null,
   "id": "02efffb9",
   "metadata": {},
   "outputs": [],
   "source": [
    "gpt = ratio_means.loc[ratio_means['gen'].isin(['origin','GPT_1', 'GPT_2','GPT_3',])]\n",
    "\n",
    "sns.lineplot(data=gpt, x=\"gen\", y=\"mean\", hue=\"type\")"
   ]
  },
  {
   "cell_type": "markdown",
   "id": "7147d1ed",
   "metadata": {},
   "source": [
    "### 1.8. Calculate Verb-Adv and Noun-Adj Ratios"
   ]
  },
  {
   "cell_type": "code",
   "execution_count": null,
   "id": "c45890b6",
   "metadata": {},
   "outputs": [],
   "source": [
    "#Adverb-verb ratio\n",
    "df['story_adv_to_verb_ratio']= df.tokenized_STORY_tag_adv/df.tokenized_STORY_tag_verb\n",
    "df['Retell_1_adv_to_verb_ratio']= df.tokenized_Retell_1_tag_adv/df.tokenized_Retell_1_tag_verb\n",
    "df['Retell_2_adv_to_verb_ratio']= df.tokenized_Retell_2_tag_adv/df.tokenized_Retell_2_tag_verb\n",
    "df['Retell_3_adv_to_verb_ratio']= df.tokenized_Retell_3_tag_adv/df.tokenized_Retell_3_tag_verb\n",
    "df['GPT_1_adv_to_verb_ratio']= df.tokenized_GPT_R1_tag_adv/df.tokenized_GPT_R1_tag_verb\n",
    "df['GPT_2_adv_to_verb_ratio']= df.tokenized_GPT_R2_tag_adv/df.tokenized_GPT_R2_tag_verb\n",
    "df['GPT_3_adv_to_verb_ratio']= df.tokenized_GPT_R3_tag_adv/df.tokenized_GPT_R3_tag_verb\n",
    "\n",
    "#Adjective-noun ratio\n",
    "df['story_adj_to_noun_ratio']= df.tokenized_STORY_tag_adj/df.tokenized_STORY_tag_noun\n",
    "df['Retell_1_adj_to_noun_ratio']= df.tokenized_Retell_1_tag_adj/df.tokenized_Retell_1_tag_noun\n",
    "df['Retell_2_adj_to_noun_ratio']= df.tokenized_Retell_2_tag_adj/df.tokenized_Retell_2_tag_noun\n",
    "df['Retell_3_adj_to_noun_ratio']= df.tokenized_Retell_3_tag_adj/df.tokenized_Retell_3_tag_noun\n",
    "df['GPT_1_adj_to_noun_ratio']= df.tokenized_GPT_R1_tag_adj/df.tokenized_GPT_R1_tag_noun\n",
    "df['GPT_2_adj_to_noun_ratio']= df.tokenized_GPT_R2_tag_adj/df.tokenized_GPT_R2_tag_noun\n",
    "df['GPT_3_adj_to_noun_ratio']= df.tokenized_GPT_R3_tag_adj/df.tokenized_GPT_R3_tag_noun"
   ]
  },
  {
   "cell_type": "markdown",
   "id": "870e019c",
   "metadata": {},
   "source": [
    "### 1.8.2. Visualize Adb/Verb Adj/Noun Ratios\n"
   ]
  },
  {
   "cell_type": "markdown",
   "id": "d32ffccb",
   "metadata": {},
   "source": [
    "#### 1.8.2.1. Prepare dataset to visualize"
   ]
  },
  {
   "cell_type": "code",
   "execution_count": null,
   "id": "48f415cb",
   "metadata": {},
   "outputs": [],
   "source": [
    "verbnoun_ratio = df[['story_adv_to_verb_ratio',\n",
    " 'Retell_1_adv_to_verb_ratio',\n",
    " 'Retell_2_adv_to_verb_ratio',\n",
    " 'Retell_3_adv_to_verb_ratio',\n",
    " 'GPT_1_adv_to_verb_ratio',\n",
    " 'GPT_2_adv_to_verb_ratio',\n",
    " 'GPT_3_adv_to_verb_ratio',\n",
    " 'story_adj_to_noun_ratio',\n",
    " 'Retell_1_adj_to_noun_ratio',\n",
    " 'Retell_2_adj_to_noun_ratio',\n",
    " 'Retell_3_adj_to_noun_ratio',\n",
    " 'GPT_1_adj_to_noun_ratio',\n",
    " 'GPT_2_adj_to_noun_ratio',\n",
    " 'GPT_3_adj_to_noun_ratio']]"
   ]
  },
  {
   "cell_type": "code",
   "execution_count": null,
   "id": "d194880d",
   "metadata": {},
   "outputs": [],
   "source": [
    "verbnoun_means = pd.DataFrame()\n",
    "verbnoun_means['mean'] = [*verbnoun_ratio.mean()]"
   ]
  },
  {
   "cell_type": "code",
   "execution_count": null,
   "id": "7f836468",
   "metadata": {},
   "outputs": [],
   "source": [
    "verbnoun_means['gen'] = ['story','first','second','third','first','second','third','story','first','second','third','first','second','third']\n",
    "verbnoun_means['type'] = ['origin','human','human','human','gpt','gpt','gpt','origin','human','human','human','gpt','gpt','gpt']\n",
    "verbnoun_means['ratio'] = ['adv_verb','adv_verb','adv_verb','adv_verb','adv_verb','adv_verb','adv_verb','adj_noun','adj_noun','adj_noun','adj_noun','adj_noun','adj_noun','adj_noun']\n"
   ]
  },
  {
   "cell_type": "code",
   "execution_count": null,
   "id": "f49cc117",
   "metadata": {},
   "outputs": [],
   "source": [
    "# Adverb to Verb\n",
    "verbnoun = verbnoun_means.loc[verbnoun_means['type'].isin(['human','gpt']) & verbnoun_means['ratio'].isin(['adv_verb']) ]\n",
    "\n",
    "sns.lineplot(data=verbnoun, x=\"gen\", y=\"mean\", hue=\"type\").set(title='Adverb to Verb Ratio (Significant All)')\n"
   ]
  },
  {
   "cell_type": "code",
   "execution_count": null,
   "id": "6b629c73",
   "metadata": {},
   "outputs": [],
   "source": [
    "# Adjective to Noun \n",
    "verbnoun = verbnoun_means.loc[verbnoun_means['type'].isin(['human','gpt']) & verbnoun_means['ratio'].isin(['adj_noun']) ]\n",
    "\n",
    "sns.lineplot(data=verbnoun, x=\"gen\", y=\"mean\", hue=\"type\").set(title='Adjective to Noun Ratio (Significant at First)')\n"
   ]
  },
  {
   "cell_type": "markdown",
   "id": "2e1fbd72",
   "metadata": {},
   "source": [
    "### 1.8.1. Statistical Test for Adv/verb Adj/noun ratios"
   ]
  },
  {
   "cell_type": "code",
   "execution_count": null,
   "id": "072f087d",
   "metadata": {},
   "outputs": [],
   "source": [
    "#Adverb to verb\n",
    "ztest(x1=df.Retell_1_adv_to_verb_ratio, x2=df.GPT_1_adv_to_verb_ratio, value=0) #significant\n",
    "ztest(x1=df.Retell_2_adv_to_verb_ratio, x2=df.GPT_2_adv_to_verb_ratio, value=0) #significant\n",
    "ztest(x1=df.Retell_3_adv_to_verb_ratio, x2=df.GPT_3_adv_to_verb_ratio, value=0) #significant\n",
    "\n",
    "#Adjective to noun\n",
    "ztest(x1=df.Retell_1_adj_to_noun_ratio, x2=df.GPT_1_adj_to_noun_ratio, value=0) #significant\n",
    "ztest(x1=df.Retell_2_adj_to_noun_ratio, x2=df.GPT_2_adj_to_noun_ratio, value=0) \n",
    "ztest(x1=df.Retell_3_adj_to_noun_ratio, x2=df.GPT_3_adj_to_noun_ratio, value=0) "
   ]
  },
  {
   "cell_type": "markdown",
   "id": "b24d8364",
   "metadata": {},
   "source": [
    "Adv/verb:\n",
    "\n",
    "\n",
    "Retell 1 human mean =  0.29, gpt = 0.20 #significant\n",
    "\n",
    "Retell 2 human mean =  0.28, gpt = 0.16 #significant\n",
    "\n",
    "Retell 3 human mean =  0.27, gpt = 0.15 #significant\n",
    "\n",
    "Adj/noun\n",
    "\n",
    "\n",
    "\n",
    "Retell 1 human mean =  0.36, gpt = 0.28 #significant\n",
    "\n",
    "Retell 2 human mean =  0.30, gpt = 0.31\n",
    "\n",
    "Retell 3 human mean =  0.28, gpt = 0.30\n"
   ]
  },
  {
   "cell_type": "markdown",
   "id": "916279dc",
   "metadata": {},
   "source": [
    "## 2. Pos-Tagging for Overall"
   ]
  },
  {
   "cell_type": "markdown",
   "id": "91661033",
   "metadata": {},
   "source": [
    "This time all taggings are summed together regardless of their story"
   ]
  },
  {
   "cell_type": "markdown",
   "id": "fe173e2d",
   "metadata": {},
   "source": [
    "### 2.1. Preprocess, Tag, Flatten"
   ]
  },
  {
   "cell_type": "code",
   "execution_count": null,
   "id": "0d08b1c3",
   "metadata": {},
   "outputs": [],
   "source": [
    "def small_post_tagger(dataframe):\n",
    "    from nltk.tokenize import word_tokenize, sent_tokenize\n",
    "   # stop_words = set(stopwords.words('english'))\n",
    "\n",
    "    story_part_tags = []\n",
    "    punc = '''!()-[]{};:'\"\\,<>./?@#$%^&*_~'''\n",
    "\n",
    "    for text in dataframe:\n",
    "        for ele in text:\n",
    "            if ele in punc:\n",
    "                text = text.replace(ele, \"\")\n",
    "\n",
    "        tokenized = word_tokenize(text)\n",
    "        for i in tokenized:\n",
    "\n",
    "            # Word tokenizers is used to find the words\n",
    "            # and punctuation in a string\n",
    "            wordsList = nltk.word_tokenize(i)\n",
    "\n",
    "            # removing stop words from wordList\n",
    "            wordsList = [w for w in wordsList] #if not w in stop_words]\n",
    "\n",
    "            #  Using a Tagger. Which is part-of-speech\n",
    "            # tagger or POS-tagger.\n",
    "            tagged = nltk.pos_tag(wordsList)\n",
    "\n",
    "            story_part_tags.append(tagged)\n",
    "    return story_part_tags"
   ]
  },
  {
   "cell_type": "code",
   "execution_count": null,
   "id": "5d4cb528",
   "metadata": {},
   "outputs": [],
   "source": [
    "# Tag small \n",
    "story_part_tags_short = small_post_tagger(df['STORY'])\n",
    "Retell_1_tags_short = small_post_tagger(df['Retell_1'])\n",
    "Retell_2_tags_short = small_post_tagger(df['Retell_2'])\n",
    "Retell_3_tags_short = small_post_tagger(df['Retell_3'])\n",
    "GPT_R1_tags_short = small_post_tagger(df['GPT_R1'])\n",
    "GPT_R2_tags_short = small_post_tagger(df['GPT_R2'])\n",
    "GPT_R3_tags_short = small_post_tagger(df['GPT_R3'])\n"
   ]
  },
  {
   "cell_type": "code",
   "execution_count": null,
   "id": "279f8721",
   "metadata": {},
   "outputs": [],
   "source": [
    "#Flatten \n",
    "story_part_tags_short = [item for sublist in story_part_tags_short for item in sublist]\n",
    "Retell_1_tags_short = [item for sublist in Retell_1_tags_short for item in sublist]\n",
    "Retell_2_tags_short = [item for sublist in Retell_2_tags_short for item in sublist]\n",
    "Retell_3_tags_short = [item for sublist in Retell_3_tags_short for item in sublist]\n",
    "GPT_R1_tags_short = [item for sublist in GPT_R1_tags_short for item in sublist]\n",
    "GPT_R2_tags_short = [item for sublist in GPT_R2_tags_short for item in sublist]\n",
    "GPT_R3_tags_short = [item for sublist in GPT_R3_tags_short for item in sublist]"
   ]
  },
  {
   "cell_type": "markdown",
   "id": "4b1576ed",
   "metadata": {},
   "source": [
    "### 2.2. Count Tags"
   ]
  },
  {
   "cell_type": "code",
   "execution_count": null,
   "id": "0eb8c72b",
   "metadata": {},
   "outputs": [],
   "source": [
    "def count_tags(mydata):\n",
    "    counter_list=[]\n",
    "    for i in mydata:\n",
    "        counter_list.append(i[1])\n",
    "\n",
    "    tag_counts = Counter(counter_list) \n",
    "    return tag_counts"
   ]
  },
  {
   "cell_type": "code",
   "execution_count": null,
   "id": "fd0516e9",
   "metadata": {},
   "outputs": [],
   "source": [
    "# Short tags\n",
    "\n",
    "story_part_tags_short = count_tags(story_part_tags_short)\n",
    "GPT_R1_tag_counts_short = count_tags(GPT_R1_tags_short)\n",
    "GPT_R2_tag_counts_short = count_tags(GPT_R2_tags_short)\n",
    "GPT_R3_tag_counts_short = count_tags(GPT_R3_tags_short)\n",
    "\n",
    "Retell_1_tag_counts_short = count_tags(Retell_1_tags_short)\n",
    "Retell_2_tag_counts_short = count_tags(Retell_2_tags_short)\n",
    "Retell_3_tag_counts_short = count_tags(Retell_3_tags_short)"
   ]
  },
  {
   "cell_type": "markdown",
   "id": "5260a15f",
   "metadata": {},
   "source": [
    "### Tags:"
   ]
  },
  {
   "cell_type": "markdown",
   "id": "87c41a6e",
   "metadata": {},
   "source": [
    "CC: It is the conjunction of coordinating\n",
    "\n",
    "CD: It is a digit of cardinal\n",
    "\n",
    "DT: It is the determiner\n",
    "\n",
    "EX: Existential\n",
    "\n",
    "FW: It is a foreign word\n",
    "\n",
    "IN: Preposition and conjunction\n",
    "\n",
    "JJ: Adjective\n",
    "\n",
    "JJR and JJS: Adjective and superlative\n",
    "\n",
    "LS: List marker\n",
    "\n",
    "MD: Modal\n",
    "\n",
    "NN: Singular noun\n",
    "\n",
    "NNS, NNP, NNPS: Proper and plural noun\n",
    "\n",
    "PDT: Predeterminer\n",
    "\n",
    "WRB: Adverb of wh\n",
    "\n",
    "WP$: Possessive wh\n",
    "\n",
    "WP: Pronoun of wh\n",
    "\n",
    "WDT: Determiner of wp\n",
    "VBZ: Verb\n",
    "\n",
    "VBP, VBN, VBG, VBD, VB: Forms of verbs\n",
    "\n",
    "UH: Interjection\n",
    "\n",
    "\n",
    "TO: To go\n",
    "\n",
    "RP: Particle\n",
    "\n",
    "RBS, RB, RBR: Adverb\n",
    "\n",
    "PRP, PRP$: Pronoun personal and professional"
   ]
  },
  {
   "cell_type": "markdown",
   "id": "59518daa",
   "metadata": {},
   "source": [
    "### 2.3. Visualize"
   ]
  },
  {
   "cell_type": "markdown",
   "id": "81001810",
   "metadata": {},
   "source": [
    "#### 2.3.1. First Retelling"
   ]
  },
  {
   "cell_type": "code",
   "execution_count": 2,
   "id": "e3476ec7",
   "metadata": {},
   "outputs": [
    {
     "ename": "NameError",
     "evalue": "name 'Retell_1_tag_counts_short' is not defined",
     "output_type": "error",
     "traceback": [
      "\u001b[0;31m---------------------------------------------------------------------------\u001b[0m",
      "\u001b[0;31mNameError\u001b[0m                                 Traceback (most recent call last)",
      "Cell \u001b[0;32mIn[2], line 2\u001b[0m\n\u001b[1;32m      1\u001b[0m \u001b[38;5;66;03m#Human retellings\u001b[39;00m\n\u001b[0;32m----> 2\u001b[0m keys \u001b[38;5;241m=\u001b[39m \u001b[43mRetell_1_tag_counts_short\u001b[49m\u001b[38;5;241m.\u001b[39mkeys()\n\u001b[1;32m      3\u001b[0m plt\u001b[38;5;241m.\u001b[39mbar(keys, Retell_1_tag_counts_short\u001b[38;5;241m.\u001b[39mvalues(), color\u001b[38;5;241m=\u001b[39m\u001b[38;5;124m'\u001b[39m\u001b[38;5;124morange\u001b[39m\u001b[38;5;124m'\u001b[39m, label\u001b[38;5;241m=\u001b[39m\u001b[38;5;124m'\u001b[39m\u001b[38;5;124mHuman\u001b[39m\u001b[38;5;124m'\u001b[39m)\n\u001b[1;32m      5\u001b[0m \u001b[38;5;66;03m#GPT retellings \u001b[39;00m\n",
      "\u001b[0;31mNameError\u001b[0m: name 'Retell_1_tag_counts_short' is not defined"
     ]
    }
   ],
   "source": [
    "#Human retellings\n",
    "keys = Retell_1_tag_counts_short.keys()\n",
    "plt.bar(keys, Retell_1_tag_counts_short.values(), color='orange', label='Human')\n",
    "\n",
    "#GPT retellings \n",
    "keysgpt=GPT_R1_tag_counts_short.keys()\n",
    "plt.bar(keysgpt, GPT_R1_tag_counts_short.values(),color='blue', label ='chatGPT',alpha = .5)\n",
    "plt.xticks(rotation=45)  #rotate x labels prevent the overlap\n",
    "plt.legend(loc='upper right')\n",
    "plt.title('Comparison of First Retelling')\n",
    "plt.show()\n"
   ]
  },
  {
   "cell_type": "markdown",
   "id": "6462c074",
   "metadata": {},
   "source": [
    "#### 2.3.2. Second Retelling"
   ]
  },
  {
   "cell_type": "code",
   "execution_count": 99,
   "id": "a99c1ebe",
   "metadata": {},
   "outputs": [
    {
     "data": {
      "image/png": "[encoded data removed]",
      "text/plain": [
       "<Figure size 640x480 with 1 Axes>"
      ]
     },
     "metadata": {},
     "output_type": "display_data"
    }
   ],
   "source": [
    "#Human retellings\n",
    "keys = Retell_2_tag_counts_short.keys()\n",
    "plt.bar(keys, Retell_2_tag_counts_short.values(), color='orange', label='Human')\n",
    "\n",
    "#GPT retellings \n",
    "keysgpt=GPT_R2_tag_counts_short.keys()\n",
    "plt.bar(keysgpt, GPT_R2_tag_counts_short.values(),color='blue', label ='chatGPT',alpha = .5)\n",
    "plt.xticks(rotation=45)  #rotate x labels prevent the overlap\n",
    "plt.legend(loc='upper right')\n",
    "plt.title('Comparison of Second Retelling')\n",
    "plt.show()"
   ]
  },
  {
   "cell_type": "markdown",
   "id": "9ea156e9",
   "metadata": {},
   "source": [
    "#### 2.3.3. Third Retelling"
   ]
  },
  {
   "cell_type": "code",
   "execution_count": 100,
   "id": "ea651b2b",
   "metadata": {},
   "outputs": [
    {
     "data": {
      "image/png": "[encoded data removed]",
      "text/plain": [
       "<Figure size 640x480 with 1 Axes>"
      ]
     },
     "metadata": {},
     "output_type": "display_data"
    }
   ],
   "source": [
    "#Human retellings\n",
    "keys = Retell_3_tag_counts_short.keys()\n",
    "plt.bar(keys, Retell_3_tag_counts_short.values(), color='orange', label='Human')\n",
    "\n",
    "#GPT retellings \n",
    "keysgpt=GPT_R3_tag_counts_short.keys()\n",
    "plt.bar(keysgpt, GPT_R3_tag_counts_short.values(),color='blue', label ='chatGPT',alpha = .5)\n",
    "plt.xticks(rotation=45)  #rotate x labels prevent the overlap\n",
    "plt.legend(loc='upper right')\n",
    "plt.title('Comparison of Third Retelling')\n",
    "plt.show()"
   ]
  },
  {
   "cell_type": "markdown",
   "id": "2bf291b6",
   "metadata": {},
   "source": [
    "## 3. Pos-tagging for Less Category\n",
    "\n",
    "Only noun,verb,adj,adv,pronoun, and conj/deter/prepositions"
   ]
  },
  {
   "cell_type": "markdown",
   "id": "2e27c942",
   "metadata": {},
   "source": [
    "### 3.1. Change data format"
   ]
  },
  {
   "cell_type": "code",
   "execution_count": 101,
   "id": "cd336607",
   "metadata": {},
   "outputs": [],
   "source": [
    "#Change data format\n",
    "origin = pd.DataFrame.from_dict(story_part_tags_short,orient='index').reset_index()\n",
    "origin.columns = ['pos', 'origin']\n",
    "\n",
    "rt1 = pd.DataFrame.from_dict(Retell_1_tag_counts_short,orient='index').reset_index()\n",
    "rt1.columns = ['pos', 'rt1']\n",
    "\n",
    "rt2 = pd.DataFrame.from_dict(Retell_2_tag_counts_short,orient='index').reset_index()\n",
    "rt2.columns = ['pos', 'rt2']\n",
    "\n",
    "rt3 = pd.DataFrame.from_dict(Retell_3_tag_counts_short,orient='index').reset_index()\n",
    "rt3.columns = ['pos', 'rt3']\n",
    "\n",
    "gpt1 = pd.DataFrame.from_dict(GPT_R1_tag_counts_short,orient='index').reset_index()\n",
    "gpt1.columns = ['pos', 'gpt1']\n",
    "\n",
    "gpt2 = pd.DataFrame.from_dict(GPT_R2_tag_counts_short,orient='index').reset_index()\n",
    "gpt2.columns = ['pos', 'gpt2']\n",
    "\n",
    "gpt3 = pd.DataFrame.from_dict(GPT_R3_tag_counts_short,orient='index').reset_index()\n",
    "gpt3.columns = ['pos', 'gpt3']\n"
   ]
  },
  {
   "cell_type": "code",
   "execution_count": 102,
   "id": "077f2e30",
   "metadata": {},
   "outputs": [],
   "source": [
    "import functools as ft\n",
    "\n",
    "#merge dfs\n",
    "dfs = [origin,rt1,rt2,rt3,gpt1,gpt2,gpt3]\n",
    "df_final = ft.reduce(lambda left, right: pd.merge(left, right, on='pos',how='outer'), dfs)\n",
    "\n",
    "#if a category is missing replace with zero\n",
    "df_final.fillna(0, inplace=True)\n",
    "\n",
    "#change floats to integer\n",
    "df_final = df_final.astype({'rt1': int, 'rt2':int, 'rt3':int, 'origin':int, 'gpt1':int, 'gpt2':int, 'gpt3':int})\n"
   ]
  },
  {
   "cell_type": "markdown",
   "id": "8dfa0bca",
   "metadata": {},
   "source": [
    "### 3.2. Merge relevant groups "
   ]
  },
  {
   "cell_type": "code",
   "execution_count": 104,
   "id": "05d5fbfd",
   "metadata": {},
   "outputs": [
    {
     "data": {
      "text/plain": [
       "Index(['CC', 'CD', 'DT', 'EX', 'IN', 'JJ', 'JJR', 'JJS', 'MD', 'NN', 'NNP',\n",
       "       'NNS', 'PRP', 'PRP$', 'RB', 'RBR', 'TO', 'UH', 'VB', 'VBD', 'VBG',\n",
       "       'VBN', 'VBP', 'VBZ', 'WDT', 'WP', 'WP$', 'WRB'],\n",
       "      dtype='object', name='pos')"
      ]
     },
     "execution_count": 104,
     "metadata": {},
     "output_type": "execute_result"
    }
   ],
   "source": [
    "pivot = pd.pivot_table(df_final,index='pos', aggfunc=np.sum).transpose()\n",
    "pivot.columns"
   ]
  },
  {
   "cell_type": "code",
   "execution_count": 140,
   "id": "881be87b",
   "metadata": {},
   "outputs": [],
   "source": [
    "pivot['NUMBERS'] = pivot['CD']"
   ]
  },
  {
   "cell_type": "code",
   "execution_count": 141,
   "id": "bd28c48a",
   "metadata": {},
   "outputs": [
    {
     "data": {
      "text/html": [
       "<div>\n",
       "<style scoped>\n",
       "    .dataframe tbody tr th:only-of-type {\n",
       "        vertical-align: middle;\n",
       "    }\n",
       "\n",
       "    .dataframe tbody tr th {\n",
       "        vertical-align: top;\n",
       "    }\n",
       "\n",
       "    .dataframe thead th {\n",
       "        text-align: right;\n",
       "    }\n",
       "</style>\n",
       "<table border=\"1\" class=\"dataframe\">\n",
       "  <thead>\n",
       "    <tr style=\"text-align: right;\">\n",
       "      <th>pos</th>\n",
       "      <th>CC</th>\n",
       "      <th>CD</th>\n",
       "      <th>DT</th>\n",
       "      <th>EX</th>\n",
       "      <th>IN</th>\n",
       "      <th>JJ</th>\n",
       "      <th>JJR</th>\n",
       "      <th>JJS</th>\n",
       "      <th>MD</th>\n",
       "      <th>NN</th>\n",
       "      <th>...</th>\n",
       "      <th>WP$</th>\n",
       "      <th>WRB</th>\n",
       "      <th>VERBS</th>\n",
       "      <th>NOUNS</th>\n",
       "      <th>ADJECTIVES</th>\n",
       "      <th>ADVERBS</th>\n",
       "      <th>PRONOUN</th>\n",
       "      <th>CONJUNCTIONS_DETERMINERS_PREPOSITIONS</th>\n",
       "      <th>PREPOSITION</th>\n",
       "      <th>NUMBERS</th>\n",
       "    </tr>\n",
       "  </thead>\n",
       "  <tbody>\n",
       "    <tr>\n",
       "      <th>gpt1</th>\n",
       "      <td>343</td>\n",
       "      <td>50</td>\n",
       "      <td>661</td>\n",
       "      <td>0</td>\n",
       "      <td>631</td>\n",
       "      <td>238</td>\n",
       "      <td>5</td>\n",
       "      <td>8</td>\n",
       "      <td>26</td>\n",
       "      <td>1570</td>\n",
       "      <td>...</td>\n",
       "      <td>0</td>\n",
       "      <td>17</td>\n",
       "      <td>860</td>\n",
       "      <td>1980</td>\n",
       "      <td>251</td>\n",
       "      <td>277</td>\n",
       "      <td>555</td>\n",
       "      <td>1492</td>\n",
       "      <td>631</td>\n",
       "      <td>50</td>\n",
       "    </tr>\n",
       "    <tr>\n",
       "      <th>gpt2</th>\n",
       "      <td>276</td>\n",
       "      <td>35</td>\n",
       "      <td>572</td>\n",
       "      <td>1</td>\n",
       "      <td>569</td>\n",
       "      <td>231</td>\n",
       "      <td>6</td>\n",
       "      <td>4</td>\n",
       "      <td>16</td>\n",
       "      <td>1346</td>\n",
       "      <td>...</td>\n",
       "      <td>0</td>\n",
       "      <td>19</td>\n",
       "      <td>724</td>\n",
       "      <td>1717</td>\n",
       "      <td>241</td>\n",
       "      <td>217</td>\n",
       "      <td>466</td>\n",
       "      <td>1321</td>\n",
       "      <td>569</td>\n",
       "      <td>35</td>\n",
       "    </tr>\n",
       "    <tr>\n",
       "      <th>gpt3</th>\n",
       "      <td>235</td>\n",
       "      <td>33</td>\n",
       "      <td>518</td>\n",
       "      <td>0</td>\n",
       "      <td>513</td>\n",
       "      <td>202</td>\n",
       "      <td>4</td>\n",
       "      <td>2</td>\n",
       "      <td>16</td>\n",
       "      <td>1232</td>\n",
       "      <td>...</td>\n",
       "      <td>0</td>\n",
       "      <td>16</td>\n",
       "      <td>662</td>\n",
       "      <td>1580</td>\n",
       "      <td>208</td>\n",
       "      <td>186</td>\n",
       "      <td>435</td>\n",
       "      <td>1197</td>\n",
       "      <td>513</td>\n",
       "      <td>33</td>\n",
       "    </tr>\n",
       "    <tr>\n",
       "      <th>origin</th>\n",
       "      <td>807</td>\n",
       "      <td>155</td>\n",
       "      <td>1694</td>\n",
       "      <td>19</td>\n",
       "      <td>1888</td>\n",
       "      <td>682</td>\n",
       "      <td>18</td>\n",
       "      <td>43</td>\n",
       "      <td>201</td>\n",
       "      <td>4037</td>\n",
       "      <td>...</td>\n",
       "      <td>1</td>\n",
       "      <td>114</td>\n",
       "      <td>2689</td>\n",
       "      <td>4960</td>\n",
       "      <td>743</td>\n",
       "      <td>1324</td>\n",
       "      <td>2265</td>\n",
       "      <td>4229</td>\n",
       "      <td>1888</td>\n",
       "      <td>155</td>\n",
       "    </tr>\n",
       "    <tr>\n",
       "      <th>rt1</th>\n",
       "      <td>404</td>\n",
       "      <td>91</td>\n",
       "      <td>817</td>\n",
       "      <td>13</td>\n",
       "      <td>828</td>\n",
       "      <td>333</td>\n",
       "      <td>9</td>\n",
       "      <td>14</td>\n",
       "      <td>79</td>\n",
       "      <td>2079</td>\n",
       "      <td>...</td>\n",
       "      <td>0</td>\n",
       "      <td>53</td>\n",
       "      <td>1410</td>\n",
       "      <td>2492</td>\n",
       "      <td>356</td>\n",
       "      <td>605</td>\n",
       "      <td>1139</td>\n",
       "      <td>1979</td>\n",
       "      <td>828</td>\n",
       "      <td>91</td>\n",
       "    </tr>\n",
       "    <tr>\n",
       "      <th>rt2</th>\n",
       "      <td>278</td>\n",
       "      <td>61</td>\n",
       "      <td>612</td>\n",
       "      <td>9</td>\n",
       "      <td>611</td>\n",
       "      <td>228</td>\n",
       "      <td>6</td>\n",
       "      <td>10</td>\n",
       "      <td>46</td>\n",
       "      <td>1582</td>\n",
       "      <td>...</td>\n",
       "      <td>0</td>\n",
       "      <td>39</td>\n",
       "      <td>1018</td>\n",
       "      <td>1874</td>\n",
       "      <td>244</td>\n",
       "      <td>432</td>\n",
       "      <td>818</td>\n",
       "      <td>1484</td>\n",
       "      <td>611</td>\n",
       "      <td>61</td>\n",
       "    </tr>\n",
       "    <tr>\n",
       "      <th>rt3</th>\n",
       "      <td>215</td>\n",
       "      <td>57</td>\n",
       "      <td>533</td>\n",
       "      <td>8</td>\n",
       "      <td>516</td>\n",
       "      <td>178</td>\n",
       "      <td>4</td>\n",
       "      <td>7</td>\n",
       "      <td>31</td>\n",
       "      <td>1216</td>\n",
       "      <td>...</td>\n",
       "      <td>0</td>\n",
       "      <td>36</td>\n",
       "      <td>829</td>\n",
       "      <td>1445</td>\n",
       "      <td>189</td>\n",
       "      <td>356</td>\n",
       "      <td>660</td>\n",
       "      <td>1250</td>\n",
       "      <td>516</td>\n",
       "      <td>57</td>\n",
       "    </tr>\n",
       "  </tbody>\n",
       "</table>\n",
       "<p>7 rows × 36 columns</p>\n",
       "</div>"
      ],
      "text/plain": [
       "pos      CC   CD    DT  EX    IN   JJ  JJR  JJS   MD    NN  ...  WP$  WRB  \\\n",
       "gpt1    343   50   661   0   631  238    5    8   26  1570  ...    0   17   \n",
       "gpt2    276   35   572   1   569  231    6    4   16  1346  ...    0   19   \n",
       "gpt3    235   33   518   0   513  202    4    2   16  1232  ...    0   16   \n",
       "origin  807  155  1694  19  1888  682   18   43  201  4037  ...    1  114   \n",
       "rt1     404   91   817  13   828  333    9   14   79  2079  ...    0   53   \n",
       "rt2     278   61   612   9   611  228    6   10   46  1582  ...    0   39   \n",
       "rt3     215   57   533   8   516  178    4    7   31  1216  ...    0   36   \n",
       "\n",
       "pos     VERBS  NOUNS  ADJECTIVES  ADVERBS  PRONOUN  \\\n",
       "gpt1      860   1980         251      277      555   \n",
       "gpt2      724   1717         241      217      466   \n",
       "gpt3      662   1580         208      186      435   \n",
       "origin   2689   4960         743     1324     2265   \n",
       "rt1      1410   2492         356      605     1139   \n",
       "rt2      1018   1874         244      432      818   \n",
       "rt3       829   1445         189      356      660   \n",
       "\n",
       "pos     CONJUNCTIONS_DETERMINERS_PREPOSITIONS  PREPOSITION  NUMBERS  \n",
       "gpt1                                     1492          631       50  \n",
       "gpt2                                     1321          569       35  \n",
       "gpt3                                     1197          513       33  \n",
       "origin                                   4229         1888      155  \n",
       "rt1                                      1979          828       91  \n",
       "rt2                                      1484          611       61  \n",
       "rt3                                      1250          516       57  \n",
       "\n",
       "[7 rows x 36 columns]"
      ]
     },
     "execution_count": 141,
     "metadata": {},
     "output_type": "execute_result"
    }
   ],
   "source": [
    "pivot "
   ]
  },
  {
   "cell_type": "code",
   "execution_count": 123,
   "id": "a80ebf1c",
   "metadata": {},
   "outputs": [],
   "source": [
    "pivot['VERBS'] = pivot['VB'] + pivot['VBN'] + pivot['VBG']+pivot['VBZ'] + pivot['VBP'] +pivot['VBD']\n",
    "pivot['NOUNS'] = pivot['NN'] + pivot['NNS'] + pivot['NNP']#+ pivot['NNPS']\n",
    "pivot['ADJECTIVES'] = pivot['JJ'] + pivot['JJS'] + pivot['JJR']\n",
    "pivot['ADVERBS'] = pivot['RB'] + pivot['RBR'] + pivot['WRB']\n",
    "pivot['PRONOUN'] = pivot['PRP'] + pivot['PRP$'] + pivot['WP']+pivot['WP$']\n",
    "pivot['PREPOSITION'] = pivot['IN'] \n",
    "pivot['CONJUNCTIONS_DETERMINERS_PREPOSITIONS'] =pivot['DT'] + pivot['IN'] + pivot['UH']+pivot['TO']+pivot['WDT']+pivot['EX']"
   ]
  },
  {
   "cell_type": "code",
   "execution_count": 149,
   "id": "e7071407",
   "metadata": {},
   "outputs": [],
   "source": [
    "pivot_short = pivot[['VERBS','NOUNS','ADJECTIVES','ADVERBS','PRONOUN','PREPOSITION','CONJUNCTIONS_DETERMINERS_PREPOSITIONS','NUMBERS']].reset_index()"
   ]
  },
  {
   "cell_type": "code",
   "execution_count": 150,
   "id": "507ba886",
   "metadata": {},
   "outputs": [
    {
     "data": {
      "text/html": [
       "<div>\n",
       "<style scoped>\n",
       "    .dataframe tbody tr th:only-of-type {\n",
       "        vertical-align: middle;\n",
       "    }\n",
       "\n",
       "    .dataframe tbody tr th {\n",
       "        vertical-align: top;\n",
       "    }\n",
       "\n",
       "    .dataframe thead th {\n",
       "        text-align: right;\n",
       "    }\n",
       "</style>\n",
       "<table border=\"1\" class=\"dataframe\">\n",
       "  <thead>\n",
       "    <tr style=\"text-align: right;\">\n",
       "      <th>pos</th>\n",
       "      <th>index</th>\n",
       "      <th>VERBS</th>\n",
       "      <th>NOUNS</th>\n",
       "      <th>ADJECTIVES</th>\n",
       "      <th>ADVERBS</th>\n",
       "      <th>PRONOUN</th>\n",
       "      <th>PREPOSITION</th>\n",
       "      <th>CONJUNCTIONS_DETERMINERS_PREPOSITIONS</th>\n",
       "      <th>NUMBERS</th>\n",
       "    </tr>\n",
       "  </thead>\n",
       "  <tbody>\n",
       "    <tr>\n",
       "      <th>0</th>\n",
       "      <td>gpt1</td>\n",
       "      <td>860</td>\n",
       "      <td>1980</td>\n",
       "      <td>251</td>\n",
       "      <td>277</td>\n",
       "      <td>555</td>\n",
       "      <td>631</td>\n",
       "      <td>1492</td>\n",
       "      <td>50</td>\n",
       "    </tr>\n",
       "    <tr>\n",
       "      <th>1</th>\n",
       "      <td>gpt2</td>\n",
       "      <td>724</td>\n",
       "      <td>1717</td>\n",
       "      <td>241</td>\n",
       "      <td>217</td>\n",
       "      <td>466</td>\n",
       "      <td>569</td>\n",
       "      <td>1321</td>\n",
       "      <td>35</td>\n",
       "    </tr>\n",
       "    <tr>\n",
       "      <th>2</th>\n",
       "      <td>gpt3</td>\n",
       "      <td>662</td>\n",
       "      <td>1580</td>\n",
       "      <td>208</td>\n",
       "      <td>186</td>\n",
       "      <td>435</td>\n",
       "      <td>513</td>\n",
       "      <td>1197</td>\n",
       "      <td>33</td>\n",
       "    </tr>\n",
       "    <tr>\n",
       "      <th>3</th>\n",
       "      <td>origin</td>\n",
       "      <td>2689</td>\n",
       "      <td>4960</td>\n",
       "      <td>743</td>\n",
       "      <td>1324</td>\n",
       "      <td>2265</td>\n",
       "      <td>1888</td>\n",
       "      <td>4229</td>\n",
       "      <td>155</td>\n",
       "    </tr>\n",
       "    <tr>\n",
       "      <th>4</th>\n",
       "      <td>rt1</td>\n",
       "      <td>1410</td>\n",
       "      <td>2492</td>\n",
       "      <td>356</td>\n",
       "      <td>605</td>\n",
       "      <td>1139</td>\n",
       "      <td>828</td>\n",
       "      <td>1979</td>\n",
       "      <td>91</td>\n",
       "    </tr>\n",
       "    <tr>\n",
       "      <th>5</th>\n",
       "      <td>rt2</td>\n",
       "      <td>1018</td>\n",
       "      <td>1874</td>\n",
       "      <td>244</td>\n",
       "      <td>432</td>\n",
       "      <td>818</td>\n",
       "      <td>611</td>\n",
       "      <td>1484</td>\n",
       "      <td>61</td>\n",
       "    </tr>\n",
       "    <tr>\n",
       "      <th>6</th>\n",
       "      <td>rt3</td>\n",
       "      <td>829</td>\n",
       "      <td>1445</td>\n",
       "      <td>189</td>\n",
       "      <td>356</td>\n",
       "      <td>660</td>\n",
       "      <td>516</td>\n",
       "      <td>1250</td>\n",
       "      <td>57</td>\n",
       "    </tr>\n",
       "  </tbody>\n",
       "</table>\n",
       "</div>"
      ],
      "text/plain": [
       "pos   index  VERBS  NOUNS  ADJECTIVES  ADVERBS  PRONOUN  PREPOSITION  \\\n",
       "0      gpt1    860   1980         251      277      555          631   \n",
       "1      gpt2    724   1717         241      217      466          569   \n",
       "2      gpt3    662   1580         208      186      435          513   \n",
       "3    origin   2689   4960         743     1324     2265         1888   \n",
       "4       rt1   1410   2492         356      605     1139          828   \n",
       "5       rt2   1018   1874         244      432      818          611   \n",
       "6       rt3    829   1445         189      356      660          516   \n",
       "\n",
       "pos  CONJUNCTIONS_DETERMINERS_PREPOSITIONS  NUMBERS  \n",
       "0                                     1492       50  \n",
       "1                                     1321       35  \n",
       "2                                     1197       33  \n",
       "3                                     4229      155  \n",
       "4                                     1979       91  \n",
       "5                                     1484       61  \n",
       "6                                     1250       57  "
      ]
     },
     "execution_count": 150,
     "metadata": {},
     "output_type": "execute_result"
    }
   ],
   "source": [
    "pivot_short"
   ]
  },
  {
   "cell_type": "code",
   "execution_count": 151,
   "id": "2fbdd4c7",
   "metadata": {},
   "outputs": [],
   "source": [
    "Human = pivot_short[(pivot_short['index']=='origin') | (pivot_short['index']=='rt1') |( pivot_short['index']=='rt2')| (pivot_short['index']=='rt3')]\n",
    "GPT = pivot_short[(pivot_short['index']=='origin') | (pivot_short['index']=='gpt1') |( pivot_short['index']=='gpt2')| (pivot_short['index']=='gpt3')]\n",
    "   "
   ]
  },
  {
   "cell_type": "code",
   "execution_count": 152,
   "id": "87b46d5b",
   "metadata": {},
   "outputs": [
    {
     "data": {
      "text/html": [
       "<div>\n",
       "<style scoped>\n",
       "    .dataframe tbody tr th:only-of-type {\n",
       "        vertical-align: middle;\n",
       "    }\n",
       "\n",
       "    .dataframe tbody tr th {\n",
       "        vertical-align: top;\n",
       "    }\n",
       "\n",
       "    .dataframe thead th {\n",
       "        text-align: right;\n",
       "    }\n",
       "</style>\n",
       "<table border=\"1\" class=\"dataframe\">\n",
       "  <thead>\n",
       "    <tr style=\"text-align: right;\">\n",
       "      <th>pos</th>\n",
       "      <th>index</th>\n",
       "      <th>VERBS</th>\n",
       "      <th>NOUNS</th>\n",
       "      <th>ADJECTIVES</th>\n",
       "      <th>ADVERBS</th>\n",
       "      <th>PRONOUN</th>\n",
       "      <th>PREPOSITION</th>\n",
       "      <th>CONJUNCTIONS_DETERMINERS_PREPOSITIONS</th>\n",
       "      <th>NUMBERS</th>\n",
       "    </tr>\n",
       "  </thead>\n",
       "  <tbody>\n",
       "    <tr>\n",
       "      <th>3</th>\n",
       "      <td>origin</td>\n",
       "      <td>2689</td>\n",
       "      <td>4960</td>\n",
       "      <td>743</td>\n",
       "      <td>1324</td>\n",
       "      <td>2265</td>\n",
       "      <td>1888</td>\n",
       "      <td>4229</td>\n",
       "      <td>155</td>\n",
       "    </tr>\n",
       "    <tr>\n",
       "      <th>4</th>\n",
       "      <td>rt1</td>\n",
       "      <td>1410</td>\n",
       "      <td>2492</td>\n",
       "      <td>356</td>\n",
       "      <td>605</td>\n",
       "      <td>1139</td>\n",
       "      <td>828</td>\n",
       "      <td>1979</td>\n",
       "      <td>91</td>\n",
       "    </tr>\n",
       "    <tr>\n",
       "      <th>5</th>\n",
       "      <td>rt2</td>\n",
       "      <td>1018</td>\n",
       "      <td>1874</td>\n",
       "      <td>244</td>\n",
       "      <td>432</td>\n",
       "      <td>818</td>\n",
       "      <td>611</td>\n",
       "      <td>1484</td>\n",
       "      <td>61</td>\n",
       "    </tr>\n",
       "    <tr>\n",
       "      <th>6</th>\n",
       "      <td>rt3</td>\n",
       "      <td>829</td>\n",
       "      <td>1445</td>\n",
       "      <td>189</td>\n",
       "      <td>356</td>\n",
       "      <td>660</td>\n",
       "      <td>516</td>\n",
       "      <td>1250</td>\n",
       "      <td>57</td>\n",
       "    </tr>\n",
       "  </tbody>\n",
       "</table>\n",
       "</div>"
      ],
      "text/plain": [
       "pos   index  VERBS  NOUNS  ADJECTIVES  ADVERBS  PRONOUN  PREPOSITION  \\\n",
       "3    origin   2689   4960         743     1324     2265         1888   \n",
       "4       rt1   1410   2492         356      605     1139          828   \n",
       "5       rt2   1018   1874         244      432      818          611   \n",
       "6       rt3    829   1445         189      356      660          516   \n",
       "\n",
       "pos  CONJUNCTIONS_DETERMINERS_PREPOSITIONS  NUMBERS  \n",
       "3                                     4229      155  \n",
       "4                                     1979       91  \n",
       "5                                     1484       61  \n",
       "6                                     1250       57  "
      ]
     },
     "execution_count": 152,
     "metadata": {},
     "output_type": "execute_result"
    }
   ],
   "source": [
    "Human"
   ]
  },
  {
   "cell_type": "code",
   "execution_count": 153,
   "id": "7bdfb3f6",
   "metadata": {},
   "outputs": [
    {
     "data": {
      "text/html": [
       "<div>\n",
       "<style scoped>\n",
       "    .dataframe tbody tr th:only-of-type {\n",
       "        vertical-align: middle;\n",
       "    }\n",
       "\n",
       "    .dataframe tbody tr th {\n",
       "        vertical-align: top;\n",
       "    }\n",
       "\n",
       "    .dataframe thead th {\n",
       "        text-align: right;\n",
       "    }\n",
       "</style>\n",
       "<table border=\"1\" class=\"dataframe\">\n",
       "  <thead>\n",
       "    <tr style=\"text-align: right;\">\n",
       "      <th>pos</th>\n",
       "      <th>index</th>\n",
       "      <th>VERBS</th>\n",
       "      <th>NOUNS</th>\n",
       "      <th>ADJECTIVES</th>\n",
       "      <th>ADVERBS</th>\n",
       "      <th>PRONOUN</th>\n",
       "      <th>PREPOSITION</th>\n",
       "      <th>CONJUNCTIONS_DETERMINERS_PREPOSITIONS</th>\n",
       "      <th>NUMBERS</th>\n",
       "    </tr>\n",
       "  </thead>\n",
       "  <tbody>\n",
       "    <tr>\n",
       "      <th>0</th>\n",
       "      <td>gpt1</td>\n",
       "      <td>860</td>\n",
       "      <td>1980</td>\n",
       "      <td>251</td>\n",
       "      <td>277</td>\n",
       "      <td>555</td>\n",
       "      <td>631</td>\n",
       "      <td>1492</td>\n",
       "      <td>50</td>\n",
       "    </tr>\n",
       "    <tr>\n",
       "      <th>1</th>\n",
       "      <td>gpt2</td>\n",
       "      <td>724</td>\n",
       "      <td>1717</td>\n",
       "      <td>241</td>\n",
       "      <td>217</td>\n",
       "      <td>466</td>\n",
       "      <td>569</td>\n",
       "      <td>1321</td>\n",
       "      <td>35</td>\n",
       "    </tr>\n",
       "    <tr>\n",
       "      <th>2</th>\n",
       "      <td>gpt3</td>\n",
       "      <td>662</td>\n",
       "      <td>1580</td>\n",
       "      <td>208</td>\n",
       "      <td>186</td>\n",
       "      <td>435</td>\n",
       "      <td>513</td>\n",
       "      <td>1197</td>\n",
       "      <td>33</td>\n",
       "    </tr>\n",
       "    <tr>\n",
       "      <th>3</th>\n",
       "      <td>origin</td>\n",
       "      <td>2689</td>\n",
       "      <td>4960</td>\n",
       "      <td>743</td>\n",
       "      <td>1324</td>\n",
       "      <td>2265</td>\n",
       "      <td>1888</td>\n",
       "      <td>4229</td>\n",
       "      <td>155</td>\n",
       "    </tr>\n",
       "  </tbody>\n",
       "</table>\n",
       "</div>"
      ],
      "text/plain": [
       "pos   index  VERBS  NOUNS  ADJECTIVES  ADVERBS  PRONOUN  PREPOSITION  \\\n",
       "0      gpt1    860   1980         251      277      555          631   \n",
       "1      gpt2    724   1717         241      217      466          569   \n",
       "2      gpt3    662   1580         208      186      435          513   \n",
       "3    origin   2689   4960         743     1324     2265         1888   \n",
       "\n",
       "pos  CONJUNCTIONS_DETERMINERS_PREPOSITIONS  NUMBERS  \n",
       "0                                     1492       50  \n",
       "1                                     1321       35  \n",
       "2                                     1197       33  \n",
       "3                                     4229      155  "
      ]
     },
     "execution_count": 153,
     "metadata": {},
     "output_type": "execute_result"
    }
   ],
   "source": [
    "GPT"
   ]
  },
  {
   "cell_type": "code",
   "execution_count": 154,
   "id": "462251aa",
   "metadata": {},
   "outputs": [],
   "source": [
    "GPT = GPT.set_index(['index']).reindex([\"origin\",\"gpt1\",\"gpt2\",\"gpt3\"]).reset_index()"
   ]
  },
  {
   "cell_type": "code",
   "execution_count": 155,
   "id": "8c2b416d",
   "metadata": {},
   "outputs": [],
   "source": [
    "Human.columns =['GENERATION', 'VERBS', 'NOUNS', 'ADJECTIVES', 'ADVERBS', 'PRONOUN','PREPOSITION',\n",
    "       'CONJUNCTIONS_DETERMINERS_PREPOSITIONS','NUMBERS']\n",
    "GPT.columns =['GENERATION', 'VERBS', 'NOUNS', 'ADJECTIVES', 'ADVERBS', 'PRONOUN','PREPOSITION',\n",
    "       'CONJUNCTIONS_DETERMINERS_PREPOSITIONS','NUMBERS']"
   ]
  },
  {
   "cell_type": "markdown",
   "id": "91716c76",
   "metadata": {},
   "source": [
    "### 3.3. Visualize"
   ]
  },
  {
   "cell_type": "code",
   "execution_count": 139,
   "id": "65125d6e",
   "metadata": {},
   "outputs": [
    {
     "data": {
      "text/plain": [
       "<function matplotlib.pyplot.show(close=None, block=None)>"
      ]
     },
     "execution_count": 139,
     "metadata": {},
     "output_type": "execute_result"
    },
    {
     "data": {
      "image/png": "[encoded data removed]",
      "text/plain": [
       "<Figure size 1600x1200 with 6 Axes>"
      ]
     },
     "metadata": {},
     "output_type": "display_data"
    }
   ],
   "source": [
    "# Create some data\n",
    "x = ['original', 'first','second','third']\n",
    "y1 = Human['NOUNS']\n",
    "y2 = GPT['NOUNS']\n",
    "\n",
    "# Set the width of each bar\n",
    "bar_width = 0.40\n",
    "\n",
    "# Create the bar plot\n",
    "fig, axs = plt.subplots(2, 3)\n",
    "rects1 = axs[0,0].bar(x, y1, bar_width, label='Human')\n",
    "rects2 = axs[0,0].bar([i + bar_width for i in range(len(x))], y2, bar_width, label='GPT')\n",
    "\n",
    "# Add labels and a legend\n",
    "axs[0,0].set_xlabel('Generation')\n",
    "axs[0,0].set_ylabel('Count')\n",
    "axs[0,0].set_title('NOUNS')\n",
    "axs[0,0].set_xticks([i + bar_width/2 for i in range(len(x))])\n",
    "axs[0,0].set_xticklabels(x)\n",
    "axs[0,0].legend()\n",
    "\n",
    "# Add text on top of each bar\n",
    "def autolabel(rects):\n",
    "    for rect in rects:\n",
    "        height = rect.get_height()\n",
    "        axs[0,0].annotate('{}'.format(height),\n",
    "                    xy=(rect.get_x() + rect.get_width() / 2, height),\n",
    "                    xytext=(0, 3),  # 3 points vertical offset\n",
    "                    textcoords=\"offset points\",\n",
    "                    ha='center', va='bottom')\n",
    "\n",
    "autolabel(rects1)\n",
    "autolabel(rects2)\n",
    "\n",
    "# Create some data\n",
    "x = ['original', 'first','second','third']\n",
    "y1 = Human['VERBS']\n",
    "y2 = GPT['VERBS']\n",
    "\n",
    "# Set the width of each bar\n",
    "bar_width = 0.40\n",
    "\n",
    "# Create the bar plot\n",
    "rects1 = axs[0,1].bar(x, y1, bar_width, label='Human')\n",
    "rects2 = axs[0,1].bar([i + bar_width for i in range(len(x))], y2, bar_width, label='GPT')\n",
    "\n",
    "# Add labels and a legend\n",
    "axs[0,1].set_xlabel('Generation')\n",
    "axs[0,1].set_ylabel('Count')\n",
    "axs[0,1].set_title('VERBS')\n",
    "axs[0,1].set_xticks([i + bar_width/2 for i in range(len(x))])\n",
    "axs[0,1].set_xticklabels(x)\n",
    "axs[0,1].legend()\n",
    "\n",
    "# Add text on top of each bar\n",
    "def autolabel(rects):\n",
    "    for rect in rects:\n",
    "        height = rect.get_height()\n",
    "        axs[0,1].annotate('{}'.format(height),\n",
    "                    xy=(rect.get_x() + rect.get_width() / 2, height),\n",
    "                    xytext=(0, 3),  # 3 points vertical offset\n",
    "                    textcoords=\"offset points\",\n",
    "                    ha='center', va='bottom')\n",
    "\n",
    "autolabel(rects1)\n",
    "autolabel(rects2)\n",
    "\n",
    "\n",
    "\n",
    "# Create some data\n",
    "x = ['original', 'first','second','third']\n",
    "y1 = Human['ADJECTIVES']\n",
    "y2 = GPT['ADJECTIVES']\n",
    "\n",
    "# Set the width of each bar\n",
    "bar_width = 0.40\n",
    "\n",
    "# Create the bar plot\n",
    "rects1 = axs[1,1].bar(x, y1, bar_width, label='Human')\n",
    "rects2 = axs[1,1].bar([i + bar_width for i in range(len(x))], y2, bar_width, label='GPT')\n",
    "\n",
    "# Add labels and a legend\n",
    "axs[1,1].set_xlabel('Generation')\n",
    "axs[1,1].set_ylabel('Count')\n",
    "axs[1,1].set_title('ADJECTIVES')\n",
    "axs[1,1].set_xticks([i + bar_width/2 for i in range(len(x))])\n",
    "axs[1,1].set_xticklabels(x)\n",
    "axs[1,1].legend()\n",
    "\n",
    "# Add text on top of each bar\n",
    "def autolabel(rects):\n",
    "    for rect in rects:\n",
    "        height = rect.get_height()\n",
    "        axs[1,1].annotate('{}'.format(height),\n",
    "                    xy=(rect.get_x() + rect.get_width() / 2, height),\n",
    "                    xytext=(0, 3),  # 3 points vertical offset\n",
    "                    textcoords=\"offset points\",\n",
    "                    ha='center', va='bottom')\n",
    "\n",
    "autolabel(rects1)\n",
    "autolabel(rects2)\n",
    "\n",
    "# Create some data\n",
    "x = ['original', 'first','second','third']\n",
    "y1 = Human['ADVERBS']\n",
    "y2 = GPT['ADVERBS']\n",
    "\n",
    "# Set the width of each bar\n",
    "bar_width = 0.40\n",
    "\n",
    "# Create the bar plot\n",
    "rects1 = axs[1,0].bar(x, y1, bar_width, label='Human')\n",
    "rects2 = axs[1,0].bar([i + bar_width for i in range(len(x))], y2, bar_width, label='GPT')\n",
    "\n",
    "# Add labels and a legend\n",
    "axs[1,0].set_xlabel('Generation')\n",
    "axs[1,0].set_ylabel('Count')\n",
    "axs[1,0].set_title('ADVERBS')\n",
    "axs[1,0].set_xticks([i + bar_width/2 for i in range(len(x))])\n",
    "axs[1,0].set_xticklabels(x)\n",
    "axs[1,0].legend()\n",
    "\n",
    "# Add text on top of each bar\n",
    "def autolabel(rects):\n",
    "    for rect in rects:\n",
    "        height = rect.get_height()\n",
    "        axs[1,0].annotate('{}'.format(height),\n",
    "                    xy=(rect.get_x() + rect.get_width() / 2, height),\n",
    "                    xytext=(0, 3),  # 3 points vertical offset\n",
    "                    textcoords=\"offset points\",\n",
    "                    ha='center', va='bottom')\n",
    "\n",
    "autolabel(rects1)\n",
    "autolabel(rects2)\n",
    "\n",
    "fig.set_size_inches(16, 12)\n",
    "\n",
    "plt.subplots_adjust(wspace=0.3, hspace=0.3)\n",
    "fig.suptitle('Comparison of Word Usage Through Generations')\n",
    "\n",
    "# prepositions\n",
    "x = ['original', 'first','second','third']\n",
    "y1 = Human['PREPOSITION']\n",
    "y2 = GPT['PREPOSITION']\n",
    "\n",
    "# Set the width of each bar\n",
    "bar_width = 0.40\n",
    "\n",
    "# Create the bar plot\n",
    "rects1 = axs[0,2].bar(x, y1, bar_width, label='Human')\n",
    "rects2 = axs[0,2].bar([i + bar_width for i in range(len(x))], y2, bar_width, label='GPT')\n",
    "\n",
    "# Add labels and a legend\n",
    "axs[0,2].set_xlabel('Generation')\n",
    "axs[0,2].set_ylabel('Count')\n",
    "axs[0,2].set_title('PREPOSITIONS')\n",
    "axs[0,2].set_xticks([i + bar_width/2 for i in range(len(x))])\n",
    "axs[0,2].set_xticklabels(x)\n",
    "axs[0,2].legend()\n",
    "\n",
    "# Add text on top of each bar\n",
    "def autolabel(rects):\n",
    "    for rect in rects:\n",
    "        height = rect.get_height()\n",
    "        axs[0,2].annotate('{}'.format(height),\n",
    "                    xy=(rect.get_x() + rect.get_width() / 2, height),\n",
    "                    xytext=(0, 3),  # 3 points vertical offset\n",
    "                    textcoords=\"offset points\",\n",
    "                    ha='center', va='bottom')\n",
    "\n",
    "autolabel(rects1)\n",
    "autolabel(rects2)\n",
    "\n",
    "\n",
    "# pronouns\n",
    "x = ['original', 'first','second','third']\n",
    "y1 = Human['PRONOUN']\n",
    "y2 = GPT['PRONOUN']\n",
    "\n",
    "# Set the width of each bar\n",
    "bar_width = 0.40\n",
    "\n",
    "# Create the bar plot\n",
    "rects1 = axs[1,2].bar(x, y1, bar_width, label='Human')\n",
    "rects2 = axs[1,2].bar([i + bar_width for i in range(len(x))], y2, bar_width, label='GPT')\n",
    "\n",
    "# Add labels and a legend\n",
    "axs[1,2].set_xlabel('Generation')\n",
    "axs[1,2].set_ylabel('Count')\n",
    "axs[1,2].set_title('PRONOUNS')\n",
    "axs[1,2].set_xticks([i + bar_width/2 for i in range(len(x))])\n",
    "axs[1,2].set_xticklabels(x)\n",
    "axs[1,2].legend()\n",
    "\n",
    "# Add text on top of each bar\n",
    "def autolabel(rects):\n",
    "    for rect in rects:\n",
    "        height = rect.get_height()\n",
    "        axs[1,2].annotate('{}'.format(height),\n",
    "                    xy=(rect.get_x() + rect.get_width() / 2, height),\n",
    "                    xytext=(0, 3),  # 3 points vertical offset\n",
    "                    textcoords=\"offset points\",\n",
    "                    ha='center', va='bottom')\n",
    "\n",
    "autolabel(rects1)\n",
    "autolabel(rects2)\n",
    "\n",
    "# Show the plot\n",
    "plt.show\n"
   ]
  },
  {
   "cell_type": "markdown",
   "id": "1f9e5b5d",
   "metadata": {},
   "source": [
    "## 3.4. Visualize Numbers"
   ]
  },
  {
   "cell_type": "code",
   "execution_count": 188,
   "id": "9a278648",
   "metadata": {},
   "outputs": [
    {
     "data": {
      "image/png": "[encoded data removed]",
      "text/plain": [
       "<Figure size 640x480 with 1 Axes>"
      ]
     },
     "metadata": {},
     "output_type": "display_data"
    }
   ],
   "source": [
    "x = ['original', 'first','second','third']\n",
    "y1 = Human['NUMBERS']\n",
    "y2 = GPT['NUMBERS']\n",
    "\n",
    "fig, ax = plt.subplots()\n",
    "\n",
    "\n",
    "\n",
    "# Create the bar plot\n",
    "rects1 = ax.bar(x, y1, bar_width, label='Human')\n",
    "rects2 = ax.bar([i + bar_width for i in range(len(x))], y2, bar_width, label='GPT')\n",
    "\n",
    "# Add labels and a legend\n",
    "ax.set_xlabel('Generation')\n",
    "ax.set_ylabel('Count')\n",
    "ax.set_title('NUMBERS')\n",
    "ax.set_xticks([i + bar_width/2 for i in range(len(x))])\n",
    "ax.set_xticklabels(x)\n",
    "ax.legend()\n",
    "\n",
    "# Add text on top of each bar\n",
    "def autolabel(rects):\n",
    "    for rect in rects:\n",
    "        height = rect.get_height()\n",
    "        ax.annotate('{}'.format(height),\n",
    "                    xy=(rect.get_x() + rect.get_width() / 2, height),\n",
    "                    xytext=(0, 3),  # 3 points vertical offset\n",
    "                    textcoords=\"offset points\",\n",
    "                    ha='center', va='bottom')\n",
    "\n",
    "autolabel(rects1)\n",
    "autolabel(rects2)\n",
    "\n"
   ]
  }
 ],
 "metadata": {
  "kernelspec": {
   "display_name": "Python 3 (ipykernel)",
   "language": "python",
   "name": "python3"
  },
  "language_info": {
   "codemirror_mode": {
    "name": "ipython",
    "version": 3
   },
   "file_extension": ".py",
   "mimetype": "text/x-python",
   "name": "python",
   "nbconvert_exporter": "python",
   "pygments_lexer": "ipython3",
   "version": "3.10.10"
  }
 },
 "nbformat": 4,
 "nbformat_minor": 5
}
