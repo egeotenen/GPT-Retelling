{
 "cells": [
  {
   "cell_type": "markdown",
   "id": "2f35726f",
   "metadata": {},
   "source": [
    "## 0. Initialize Packages"
   ]
  },
  {
   "cell_type": "code",
   "execution_count": 91,
   "id": "39a4394a",
   "metadata": {
    "scrolled": true
   },
   "outputs": [],
   "source": [
    "#!pip3 install  sentence-transformers\n",
    "from sentence_transformers import SentenceTransformer\n",
    "model = SentenceTransformer('all-MiniLM-L6-v2')\n"
   ]
  },
  {
   "cell_type": "code",
   "execution_count": 86,
   "id": "d8f821fb",
   "metadata": {},
   "outputs": [
    {
     "name": "stdout",
     "output_type": "stream",
     "text": [
      "huggingface/tokenizers: The current process just got forked, after parallelism has already been used. Disabling parallelism to avoid deadlocks...\n",
      "To disable this warning, you can either:\n",
      "\t- Avoid using `tokenizers` before the fork if possible\n",
      "\t- Explicitly set the environment variable TOKENIZERS_PARALLELISM=(true | false)\n",
      "Requirement already satisfied: umap in /Users/eotenen/mambaforge/lib/python3.10/site-packages (0.1.1)\n"
     ]
    }
   ],
   "source": [
    "import seaborn as sns\n",
    "from scipy.stats import kstest\n",
    "\n",
    "import pandas as pd\n",
    "import numpy as np\n",
    "import torch\n",
    "from transformers import BertTokenizer, BertModel\n",
    "import logging\n",
    "import matplotlib.pyplot as plt\n",
    "\n",
    "\n",
    "from numpy import dot\n",
    "from numpy.linalg import norm\n",
    "!pip3 install umap\n",
    "import umap\n",
    "from sklearn.decomposition import PCA\n",
    "from sklearn.cluster import KMeans\n",
    "from sklearn.metrics import silhouette_score\n",
    "from sklearn.metrics.pairwise import cosine_similarity\n",
    "import sys\n",
    "import os\n",
    "\n",
    "import plotly.express as px\n",
    "import plotly.offline as pyo\n",
    "\n",
    "import numpy as np\n",
    "import pandas as pd\n",
    "pd.options.plotting.backend = \"plotly\"\n",
    "\n",
    "import os.path\n",
    "import json\n",
    "import random\n",
    "from sklearn.manifold import TSNE"
   ]
  },
  {
   "cell_type": "markdown",
   "id": "a2b7d9c7",
   "metadata": {},
   "source": [
    "## 1. Get Data"
   ]
  },
  {
   "cell_type": "code",
   "execution_count": 87,
   "id": "90a96220",
   "metadata": {},
   "outputs": [],
   "source": [
    "df = pd.read_excel('/Users/eotenen/Library/Containers/com.microsoft.Excel/Data/Desktop/scales_items.xlsx', header=None)\n",
    "df.columns = ['orientation','source','text']"
   ]
  },
  {
   "cell_type": "markdown",
   "id": "259a89a5",
   "metadata": {},
   "source": [
    "## 1.1. Clean Space in text"
   ]
  },
  {
   "cell_type": "code",
   "execution_count": 88,
   "id": "e473d7b3",
   "metadata": {},
   "outputs": [
    {
     "data": {
      "text/plain": [
       "array(['left', 'right', nan], dtype=object)"
      ]
     },
     "execution_count": 88,
     "metadata": {},
     "output_type": "execute_result"
    }
   ],
   "source": [
    "df.text = [s.strip() for s in df.text]\n"
   ]
  },
  {
   "cell_type": "code",
   "execution_count": 89,
   "id": "e8430047",
   "metadata": {},
   "outputs": [],
   "source": [
    "df= df[~df['orientation'].isna()]\n"
   ]
  },
  {
   "cell_type": "markdown",
   "id": "8d1aa99a",
   "metadata": {},
   "source": [
    "## 2. Get Embeddings"
   ]
  },
  {
   "cell_type": "code",
   "execution_count": 92,
   "id": "5b328628",
   "metadata": {},
   "outputs": [],
   "source": [
    "#Story\n",
    "text_emb = []\n",
    "for text in df.text:\n",
    "    embeddings = model.encode(text)\n",
    "    text_emb.append(embeddings)\n",
    "df['text_emb'] = text_emb\n",
    "\n"
   ]
  },
  {
   "cell_type": "markdown",
   "id": "18a318d4",
   "metadata": {},
   "source": [
    "## 2.1.2. Dimensionality Reduction"
   ]
  },
  {
   "cell_type": "code",
   "execution_count": 94,
   "id": "bc5d242d",
   "metadata": {},
   "outputs": [],
   "source": [
    "def get_transform(data, method, n_dim=2):\n",
    "    \"\"\" Implements transformation of high-dimensional data using UMAP and PCA, either seperately or in tandem. \n",
    "\n",
    "    Args:\n",
    "        data (Series): Set of vectors to be transformed. \n",
    "        method (String - 'umap', 'pca', or 'both'): Defines which transformation methods to use. If both, function will first run PCA, then run UMAP on the results of the PCA transform.\n",
    "        n_neighbors (int, optional): Parameter for UMAP. Defaults to 15.\n",
    "        min_dist (float, optional): Parameter for UMAP. Defaults to 0.1.\n",
    "        n_pca (int, optional): Dimensionality of vectors to be returned from PCA transform. Defaults to 50.\n",
    "        n_umap (int, optional): Dimensionality of vectors to be returned from UMAP transform. Defaults to 2.\n",
    "        metric (str, optional): Distance metric for UMAP. Defaults to 'euclidean'.\n",
    "\n",
    "    Returns:\n",
    "        tfm: array of transformed vectors \n",
    "    \"\"\"\n",
    "    if method.lower() == 'umap':\n",
    "        fit = umap.umap.UMAP(\n",
    "            #n_neighbors=n_neighbors,\n",
    "            #min_dist=min_dist,\n",
    "            n_components=n_dim,\n",
    "            #metric=metric\n",
    "        )\n",
    "        tfm = fit.fit_transform(data)\n",
    "\n",
    "    elif method.lower() == 'pca':\n",
    "        fit = PCA(\n",
    "            n_components=n_dim\n",
    "        )\n",
    "        tfm = fit.fit_transform(data)\n",
    "\n",
    "    elif method.lower() == 'tsne':\n",
    "        fit = TSNE(\n",
    "            n_components=n_dim\n",
    "        )\n",
    "        tfm = fit.fit_transform(data)\n",
    "\n",
    "    else:\n",
    "        print(f'{method} is nanayed')\n",
    "\n",
    "    print('done!')\n",
    "\n",
    "    return fit, tfm"
   ]
  },
  {
   "cell_type": "code",
   "execution_count": 115,
   "id": "80ca8541",
   "metadata": {},
   "outputs": [
    {
     "name": "stdout",
     "output_type": "stream",
     "text": [
      "done!\n",
      "done!\n"
     ]
    }
   ],
   "source": [
    "model, transformed_embeddings_pca = get_transform([*df.text_emb], method='pca', n_dim=2)\n",
    "model, transformed_embeddings_tsne = get_transform(np.array(text_emb), method='tsne', n_dim=2)"
   ]
  },
  {
   "cell_type": "code",
   "execution_count": 116,
   "id": "379046a5",
   "metadata": {},
   "outputs": [],
   "source": [
    "transformed_embeddings_pca[:,0]\n",
    "transformed_embeddings_pca[:,1] \n",
    "\n",
    "transformed_embeddings_pca_dict = dict(transformed_embeddings_pca)"
   ]
  },
  {
   "cell_type": "markdown",
   "id": "49b922fb",
   "metadata": {},
   "source": [
    "### PCA "
   ]
  },
  {
   "cell_type": "code",
   "execution_count": 117,
   "id": "865cfc05",
   "metadata": {},
   "outputs": [
    {
     "data": {
      "text/html": [
       "<div>\n",
       "<style scoped>\n",
       "    .dataframe tbody tr th:only-of-type {\n",
       "        vertical-align: middle;\n",
       "    }\n",
       "\n",
       "    .dataframe tbody tr th {\n",
       "        vertical-align: top;\n",
       "    }\n",
       "\n",
       "    .dataframe thead th {\n",
       "        text-align: right;\n",
       "    }\n",
       "</style>\n",
       "<table border=\"1\" class=\"dataframe\">\n",
       "  <thead>\n",
       "    <tr style=\"text-align: right;\">\n",
       "      <th></th>\n",
       "      <th>pca-one</th>\n",
       "      <th>pca-two</th>\n",
       "    </tr>\n",
       "  </thead>\n",
       "  <tbody>\n",
       "    <tr>\n",
       "      <th>0</th>\n",
       "      <td>-0.214649</td>\n",
       "      <td>0.135744</td>\n",
       "    </tr>\n",
       "    <tr>\n",
       "      <th>1</th>\n",
       "      <td>-0.026645</td>\n",
       "      <td>0.364832</td>\n",
       "    </tr>\n",
       "    <tr>\n",
       "      <th>2</th>\n",
       "      <td>-0.413511</td>\n",
       "      <td>-0.132094</td>\n",
       "    </tr>\n",
       "    <tr>\n",
       "      <th>3</th>\n",
       "      <td>-0.422177</td>\n",
       "      <td>-0.192237</td>\n",
       "    </tr>\n",
       "    <tr>\n",
       "      <th>4</th>\n",
       "      <td>-0.220868</td>\n",
       "      <td>0.370606</td>\n",
       "    </tr>\n",
       "    <tr>\n",
       "      <th>...</th>\n",
       "      <td>...</td>\n",
       "      <td>...</td>\n",
       "    </tr>\n",
       "    <tr>\n",
       "      <th>60</th>\n",
       "      <td>-0.099003</td>\n",
       "      <td>0.365069</td>\n",
       "    </tr>\n",
       "    <tr>\n",
       "      <th>61</th>\n",
       "      <td>-0.208006</td>\n",
       "      <td>-0.135247</td>\n",
       "    </tr>\n",
       "    <tr>\n",
       "      <th>62</th>\n",
       "      <td>-0.139887</td>\n",
       "      <td>0.179806</td>\n",
       "    </tr>\n",
       "    <tr>\n",
       "      <th>63</th>\n",
       "      <td>-0.087973</td>\n",
       "      <td>0.516362</td>\n",
       "    </tr>\n",
       "    <tr>\n",
       "      <th>64</th>\n",
       "      <td>-0.180061</td>\n",
       "      <td>-0.160878</td>\n",
       "    </tr>\n",
       "  </tbody>\n",
       "</table>\n",
       "<p>65 rows × 2 columns</p>\n",
       "</div>"
      ],
      "text/plain": [
       "     pca-one   pca-two\n",
       "0  -0.214649  0.135744\n",
       "1  -0.026645  0.364832\n",
       "2  -0.413511 -0.132094\n",
       "3  -0.422177 -0.192237\n",
       "4  -0.220868  0.370606\n",
       "..       ...       ...\n",
       "60 -0.099003  0.365069\n",
       "61 -0.208006 -0.135247\n",
       "62 -0.139887  0.179806\n",
       "63 -0.087973  0.516362\n",
       "64 -0.180061 -0.160878\n",
       "\n",
       "[65 rows x 2 columns]"
      ]
     },
     "execution_count": 117,
     "metadata": {},
     "output_type": "execute_result"
    }
   ],
   "source": [
    "data = []\n",
    "\n",
    "df_subset = pd.DataFrame(data)\n",
    "\n",
    "\n",
    "df_subset['pca-one'] = transformed_embeddings_pca[:,0]\n",
    "df_subset['pca-two'] = transformed_embeddings_pca[:,1]\n",
    "\n",
    "df_subset\n"
   ]
  },
  {
   "cell_type": "code",
   "execution_count": 118,
   "id": "00ddceaf",
   "metadata": {},
   "outputs": [
    {
     "data": {
      "text/plain": [
       "<Axes: xlabel='pca-one', ylabel='pca-two'>"
      ]
     },
     "execution_count": 118,
     "metadata": {},
     "output_type": "execute_result"
    },
    {
     "data": {
      "image/png": "[encoded data removed]",
      "text/plain": [
       "<Figure size 640x480 with 1 Axes>"
      ]
     },
     "metadata": {},
     "output_type": "display_data"
    }
   ],
   "source": [
    "sns.scatterplot(\n",
    "    x='pca-one', y='pca-two',\n",
    "    hue=df.orientation,\n",
    "    #style=df_all.no,\n",
    "    #palette=sns.color_palette(\"hls\", 464),\n",
    "    data=df_subset,\n",
    "    legend=\"full\",\n",
    "    \n",
    ")"
   ]
  },
  {
   "cell_type": "markdown",
   "id": "7f9b5d77",
   "metadata": {},
   "source": [
    "### TSNE"
   ]
  },
  {
   "cell_type": "code",
   "execution_count": 119,
   "id": "7fc4d673",
   "metadata": {},
   "outputs": [
    {
     "data": {
      "text/html": [
       "<div>\n",
       "<style scoped>\n",
       "    .dataframe tbody tr th:only-of-type {\n",
       "        vertical-align: middle;\n",
       "    }\n",
       "\n",
       "    .dataframe tbody tr th {\n",
       "        vertical-align: top;\n",
       "    }\n",
       "\n",
       "    .dataframe thead th {\n",
       "        text-align: right;\n",
       "    }\n",
       "</style>\n",
       "<table border=\"1\" class=\"dataframe\">\n",
       "  <thead>\n",
       "    <tr style=\"text-align: right;\">\n",
       "      <th></th>\n",
       "      <th>tsne-2d-one</th>\n",
       "      <th>tsne-2d-two</th>\n",
       "    </tr>\n",
       "  </thead>\n",
       "  <tbody>\n",
       "    <tr>\n",
       "      <th>0</th>\n",
       "      <td>-1.340048</td>\n",
       "      <td>-3.442913</td>\n",
       "    </tr>\n",
       "    <tr>\n",
       "      <th>1</th>\n",
       "      <td>-0.188384</td>\n",
       "      <td>-1.862803</td>\n",
       "    </tr>\n",
       "    <tr>\n",
       "      <th>2</th>\n",
       "      <td>-3.958693</td>\n",
       "      <td>1.399205</td>\n",
       "    </tr>\n",
       "    <tr>\n",
       "      <th>3</th>\n",
       "      <td>-3.920310</td>\n",
       "      <td>0.118410</td>\n",
       "    </tr>\n",
       "    <tr>\n",
       "      <th>4</th>\n",
       "      <td>-1.011279</td>\n",
       "      <td>0.493853</td>\n",
       "    </tr>\n",
       "    <tr>\n",
       "      <th>...</th>\n",
       "      <td>...</td>\n",
       "      <td>...</td>\n",
       "    </tr>\n",
       "    <tr>\n",
       "      <th>60</th>\n",
       "      <td>-0.775970</td>\n",
       "      <td>0.727764</td>\n",
       "    </tr>\n",
       "    <tr>\n",
       "      <th>61</th>\n",
       "      <td>-3.134345</td>\n",
       "      <td>-0.793220</td>\n",
       "    </tr>\n",
       "    <tr>\n",
       "      <th>62</th>\n",
       "      <td>-1.722667</td>\n",
       "      <td>1.465814</td>\n",
       "    </tr>\n",
       "    <tr>\n",
       "      <th>63</th>\n",
       "      <td>-0.275166</td>\n",
       "      <td>-0.149233</td>\n",
       "    </tr>\n",
       "    <tr>\n",
       "      <th>64</th>\n",
       "      <td>-4.263461</td>\n",
       "      <td>1.862898</td>\n",
       "    </tr>\n",
       "  </tbody>\n",
       "</table>\n",
       "<p>65 rows × 2 columns</p>\n",
       "</div>"
      ],
      "text/plain": [
       "    tsne-2d-one  tsne-2d-two\n",
       "0     -1.340048    -3.442913\n",
       "1     -0.188384    -1.862803\n",
       "2     -3.958693     1.399205\n",
       "3     -3.920310     0.118410\n",
       "4     -1.011279     0.493853\n",
       "..          ...          ...\n",
       "60    -0.775970     0.727764\n",
       "61    -3.134345    -0.793220\n",
       "62    -1.722667     1.465814\n",
       "63    -0.275166    -0.149233\n",
       "64    -4.263461     1.862898\n",
       "\n",
       "[65 rows x 2 columns]"
      ]
     },
     "execution_count": 119,
     "metadata": {},
     "output_type": "execute_result"
    }
   ],
   "source": [
    "data = []\n",
    "\n",
    "df_subset = pd.DataFrame(data)\n",
    "\n",
    "\n",
    "df_subset['tsne-2d-one'] = transformed_embeddings_tsne[:,0]\n",
    "df_subset['tsne-2d-two'] = transformed_embeddings_tsne[:,1]\n",
    "\n",
    "df_subset"
   ]
  },
  {
   "cell_type": "code",
   "execution_count": 120,
   "id": "bec29085",
   "metadata": {},
   "outputs": [
    {
     "name": "stderr",
     "output_type": "stream",
     "text": [
      "/var/folders/l4/1xnf5c593754ph42_t0k68480000gq/T/ipykernel_12244/165992869.py:2: UserWarning:\n",
      "\n",
      "The palette list has more values (4) than needed (2), which may not be intended.\n",
      "\n"
     ]
    },
    {
     "data": {
      "text/plain": [
       "<Axes: xlabel='tsne-2d-one', ylabel='tsne-2d-two'>"
      ]
     },
     "execution_count": 120,
     "metadata": {},
     "output_type": "execute_result"
    },
    {
     "data": {
      "image/png": "[encoded data removed]",
      "text/plain": [
       "<Figure size 1000x1000 with 1 Axes>"
      ]
     },
     "metadata": {},
     "output_type": "display_data"
    }
   ],
   "source": [
    "plt.figure(figsize=(10,10))\n",
    "sns.scatterplot(\n",
    "    x=\"tsne-2d-one\", y=\"tsne-2d-two\",\n",
    "    hue=df.orientation,\n",
    "    #style=df_all.gen,\n",
    "    palette=sns.color_palette(\"hls\", 4),\n",
    "    color = df_subset,\n",
    "    data=df_subset,\n",
    "    legend=\"full\",\n",
    "    alpha=1\n",
    ")"
   ]
  },
  {
   "cell_type": "code",
   "execution_count": 121,
   "id": "081bf5db",
   "metadata": {},
   "outputs": [
    {
     "data": {
      "text/plain": [
       "<Axes: xlabel='tsne-2d-one', ylabel='tsne-2d-two'>"
      ]
     },
     "execution_count": 121,
     "metadata": {},
     "output_type": "execute_result"
    },
    {
     "data": {
      "image/png": "[encoded data removed]",
      "text/plain": [
       "<Figure size 1000x1000 with 1 Axes>"
      ]
     },
     "metadata": {},
     "output_type": "display_data"
    }
   ],
   "source": [
    "plt.figure(figsize=(10,10))\n",
    "sns.scatterplot(\n",
    "    x=\"tsne-2d-one\", y=\"tsne-2d-two\",\n",
    "    hue=df.orientation,\n",
    "    #palette=sns.color_palette(\"hls\", 464),\n",
    "    data=df_subset,\n",
    "    legend=\"full\",\n",
    "    alpha=1\n",
    ")"
   ]
  }
 ],
 "metadata": {
  "kernelspec": {
   "display_name": "Python 3 (ipykernel)",
   "language": "python",
   "name": "python3"
  },
  "language_info": {
   "codemirror_mode": {
    "name": "ipython",
    "version": 3
   },
   "file_extension": ".py",
   "mimetype": "text/x-python",
   "name": "python",
   "nbconvert_exporter": "python",
   "pygments_lexer": "ipython3",
   "version": "3.10.10"
  }
 },
 "nbformat": 4,
 "nbformat_minor": 5
}
