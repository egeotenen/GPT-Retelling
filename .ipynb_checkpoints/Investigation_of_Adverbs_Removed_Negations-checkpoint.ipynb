{
 "cells": [
  {
   "cell_type": "markdown",
   "id": "edb7c72f",
   "metadata": {},
   "source": [
    "### 0. Initizalize Packages"
   ]
  },
  {
   "cell_type": "code",
   "execution_count": 1,
   "id": "30df98ae",
   "metadata": {},
   "outputs": [],
   "source": [
    "#!pip install scipy,seaborn\n",
    "import seaborn as sns\n",
    "import scipy.stats as stats\n",
    "\n",
    "import pandas as pd\n",
    "import numpy as np\n",
    "\n",
    "#!pip install -U plotly\n",
    "pd.options.plotting.backend = \"plotly\"\n",
    "\n",
    "#!pip3 install nltk\n",
    "import nltk\n",
    "from nltk import pos_tag\n",
    "from nltk import word_tokenize\n",
    "from nltk.corpus import stopwords\n",
    "from collections import Counter\n",
    "from nltk.tokenize import word_tokenize, sent_tokenize\n",
    "from scipy.stats import chi2_contingency\n",
    "\n",
    "import math\n",
    "from scipy.stats import shapiro \n",
    "from scipy.stats import lognorm\n",
    "from scipy.stats import mannwhitneyu\n",
    "import matplotlib.pyplot as plt\n",
    "\n",
    "#!pip3 install openpyxl\n",
    "import openpyxl as px\n",
    "from statsmodels.stats.weightstats import ztest\n",
    "\n"
   ]
  },
  {
   "cell_type": "markdown",
   "id": "5f1bce4f",
   "metadata": {},
   "source": [
    "### 0.1. Read Dataset (N = 116)"
   ]
  },
  {
   "cell_type": "code",
   "execution_count": 2,
   "id": "8583f668",
   "metadata": {},
   "outputs": [],
   "source": [
    "df = pd.read_excel('all_gpt_human_only_text.xlsx')"
   ]
  },
  {
   "cell_type": "markdown",
   "id": "8fe3fbb9",
   "metadata": {},
   "source": [
    "### 0.1.1 Preprocess"
   ]
  },
  {
   "cell_type": "markdown",
   "id": "200d4329",
   "metadata": {},
   "source": [
    "Get rid of extra white spaces"
   ]
  },
  {
   "cell_type": "code",
   "execution_count": 3,
   "id": "3fff8eb5",
   "metadata": {},
   "outputs": [],
   "source": [
    "def strip(dataframe):\n",
    "    return [s.strip() for s in dataframe]\n",
    "\n",
    "df= df.apply(strip)"
   ]
  },
  {
   "cell_type": "markdown",
   "id": "0d3f9a68",
   "metadata": {},
   "source": [
    "## 1. Pos Tagging with Less Category Separate for Each Sentence"
   ]
  },
  {
   "cell_type": "markdown",
   "id": "391d4ba0",
   "metadata": {},
   "source": [
    "Each story's pos taggings completed separately, and counted for the story itself"
   ]
  },
  {
   "cell_type": "markdown",
   "id": "70287a7c",
   "metadata": {},
   "source": [
    "### 1.1. Preprocess and Tag by Removing Negations"
   ]
  },
  {
   "cell_type": "code",
   "execution_count": 4,
   "id": "6d3cbed0",
   "metadata": {},
   "outputs": [],
   "source": [
    "#clean data from stopwords, tokenize it, and tag\n",
    "punc = '''!()-[]{};:'\"\\,<>./?@#$%^&*_~'''\n",
    "stop_words = set(stopwords.words('english'))\n",
    "negation_list = ['not', \"n't\"]\n",
    "\n",
    "def create_tokenized_without_negation(text):\n",
    "    tokenized = word_tokenize(text)\n",
    "    #get rid of negations\"\n",
    "    tokenized = [word for word in tokenized if word not in negation_list]\n",
    "    tagged = nltk.pos_tag(tokenized)\n",
    "    return tagged"
   ]
  },
  {
   "cell_type": "code",
   "execution_count": 5,
   "id": "7c49e825",
   "metadata": {},
   "outputs": [],
   "source": [
    "## Filter and get words as tokens for each tokenized column\n",
    "for column in df.columns:\n",
    "    df[f'tokenized_{column}'] = df[column].apply(lambda x: create_tokenized_without_negation(x))"
   ]
  },
  {
   "cell_type": "markdown",
   "id": "130eba50",
   "metadata": {},
   "source": [
    "### 1.2. Count the pos-tags"
   ]
  },
  {
   "cell_type": "code",
   "execution_count": 6,
   "id": "166c6e4b",
   "metadata": {},
   "outputs": [],
   "source": [
    "#count the tags\n",
    "def count_tags(mydata):\n",
    "    counter_list=[]\n",
    "    for i in mydata:\n",
    "        counter_list.append(i[1])\n",
    "\n",
    "    tag_counts = Counter(counter_list) \n",
    "    return tag_counts"
   ]
  },
  {
   "cell_type": "code",
   "execution_count": 7,
   "id": "e6412d2e",
   "metadata": {},
   "outputs": [],
   "source": [
    "# Count the tags for each column\n",
    "for column in [col for col in df.columns if col.startswith('tokenized_')]:\n",
    "    df[f'{column}_tag_counts'] = df[column].apply(lambda x: count_tags(x))"
   ]
  },
  {
   "cell_type": "code",
   "execution_count": 8,
   "id": "c04bfb52",
   "metadata": {},
   "outputs": [
    {
     "data": {
      "text/plain": [
       "0      {'DT': 16, 'NN': 23, 'WP': 3, 'VBD': 11, 'IN':...\n",
       "1      {'NNP': 4, 'VBD': 14, 'VBG': 7, 'JJ': 9, 'CD':...\n",
       "2      {'DT': 20, 'NNP': 3, 'VBD': 17, 'TO': 7, 'VB':...\n",
       "3      {'DT': 14, 'IN': 14, 'PRP$': 2, 'NN': 22, ',':...\n",
       "4      {'VBP': 7, 'PRP': 26, 'RB': 9, 'VBD': 18, 'DT'...\n",
       "                             ...                        \n",
       "111    {'NNP': 6, 'VBZ': 4, 'PRP$': 6, 'NN': 29, '``'...\n",
       "112    {'RB': 10, 'EX': 1, 'VBD': 19, 'DT': 31, 'NN':...\n",
       "113    {'EX': 1, 'VBD': 18, 'DT': 20, 'NN': 32, 'WP':...\n",
       "114    {'CD': 1, 'NN': 30, 'DT': 18, 'VBD': 12, 'VBG'...\n",
       "115    {'DT': 15, 'NN': 24, 'VBD': 12, 'RB': 9, 'IN':...\n",
       "Name: tokenized_STORY_tag_counts, Length: 116, dtype: object"
      ]
     },
     "execution_count": 8,
     "metadata": {},
     "output_type": "execute_result"
    }
   ],
   "source": [
    "df.tokenized_STORY_tag_counts"
   ]
  },
  {
   "cell_type": "markdown",
   "id": "236b4960",
   "metadata": {},
   "source": [
    "### 1.3. Merge relevant categories together"
   ]
  },
  {
   "cell_type": "markdown",
   "id": "b642c70c",
   "metadata": {},
   "source": [
    "Count tags for all nouns (plural nouns, proper nouns etc.), verbs, adjectives, adverbs, pronouns and prepositions/conjuctions/determiners\n"
   ]
  },
  {
   "cell_type": "code",
   "execution_count": 9,
   "id": "69483d5a",
   "metadata": {},
   "outputs": [],
   "source": [
    "for column in [col for col in df.columns if col.endswith('tag_counts')]:\n",
    "    df[f'{column[:-7]}_noun'] = [*(df[column].apply(lambda x: (x['NN'] + x['NNS'] + x['NNP']+ x['NNPS'])))]\n",
    "    df[f'{column[:-7]}_verb'] = [*(df[column].apply(lambda x: (x['VB'] + x['VBN'] + x['VBG']+ x['VBZ'] + x['VBP']+x['VBD'])))]\n",
    "    df[f'{column[:-7]}_adj'] = [*(df[column].apply(lambda x: (x['JJ'] + x['JJS'] + x['JJR'])))]\n",
    "    df[f'{column[:-7]}_adv'] = [*(df[column].apply(lambda x: (x['RB'] + x['RBR'] + x['WRB']+ x['RBS'])))]\n",
    "    df[f'{column[:-7]}_pron'] = [*(df[column].apply(lambda x: (x['PRP'] + x['PRP$'] + x['WB']+ x['WB$'])))]\n",
    "    df[f'{column[:-7]}_con_det_prep'] = [*(df[column].apply(lambda x: (x['DT'] + x['IN'] + x['UH']+ x['TO']+ x['WDT']+ x['EX'])))]\n",
    "    df[f'{column[:-7]}_prep'] = [*(df[column].apply(lambda x: (x['IN'])))]"
   ]
  },
  {
   "cell_type": "markdown",
   "id": "ed5e3b2f",
   "metadata": {},
   "source": [
    "## 1.4. Get Ratio of Grammatical Categories to Word Count"
   ]
  },
  {
   "cell_type": "code",
   "execution_count": 10,
   "id": "d091e845",
   "metadata": {},
   "outputs": [
    {
     "name": "stderr",
     "output_type": "stream",
     "text": [
      "/var/folders/l4/1xnf5c593754ph42_t0k68480000gq/T/ipykernel_5831/4017749826.py:24: PerformanceWarning: DataFrame is highly fragmented.  This is usually the result of calling `frame.insert` many times, which has poor performance.  Consider joining all columns at once using pd.concat(axis=1) instead. To get a de-fragmented frame, use `newframe = frame.copy()`\n",
      "  df[ratio_col] = df[tag_col] / df[col].apply(len)\n",
      "/var/folders/l4/1xnf5c593754ph42_t0k68480000gq/T/ipykernel_5831/4017749826.py:24: PerformanceWarning: DataFrame is highly fragmented.  This is usually the result of calling `frame.insert` many times, which has poor performance.  Consider joining all columns at once using pd.concat(axis=1) instead. To get a de-fragmented frame, use `newframe = frame.copy()`\n",
      "  df[ratio_col] = df[tag_col] / df[col].apply(len)\n",
      "/var/folders/l4/1xnf5c593754ph42_t0k68480000gq/T/ipykernel_5831/4017749826.py:24: PerformanceWarning: DataFrame is highly fragmented.  This is usually the result of calling `frame.insert` many times, which has poor performance.  Consider joining all columns at once using pd.concat(axis=1) instead. To get a de-fragmented frame, use `newframe = frame.copy()`\n",
      "  df[ratio_col] = df[tag_col] / df[col].apply(len)\n",
      "/var/folders/l4/1xnf5c593754ph42_t0k68480000gq/T/ipykernel_5831/4017749826.py:24: PerformanceWarning: DataFrame is highly fragmented.  This is usually the result of calling `frame.insert` many times, which has poor performance.  Consider joining all columns at once using pd.concat(axis=1) instead. To get a de-fragmented frame, use `newframe = frame.copy()`\n",
      "  df[ratio_col] = df[tag_col] / df[col].apply(len)\n",
      "/var/folders/l4/1xnf5c593754ph42_t0k68480000gq/T/ipykernel_5831/4017749826.py:24: PerformanceWarning: DataFrame is highly fragmented.  This is usually the result of calling `frame.insert` many times, which has poor performance.  Consider joining all columns at once using pd.concat(axis=1) instead. To get a de-fragmented frame, use `newframe = frame.copy()`\n",
      "  df[ratio_col] = df[tag_col] / df[col].apply(len)\n",
      "/var/folders/l4/1xnf5c593754ph42_t0k68480000gq/T/ipykernel_5831/4017749826.py:24: PerformanceWarning: DataFrame is highly fragmented.  This is usually the result of calling `frame.insert` many times, which has poor performance.  Consider joining all columns at once using pd.concat(axis=1) instead. To get a de-fragmented frame, use `newframe = frame.copy()`\n",
      "  df[ratio_col] = df[tag_col] / df[col].apply(len)\n",
      "/var/folders/l4/1xnf5c593754ph42_t0k68480000gq/T/ipykernel_5831/4017749826.py:24: PerformanceWarning: DataFrame is highly fragmented.  This is usually the result of calling `frame.insert` many times, which has poor performance.  Consider joining all columns at once using pd.concat(axis=1) instead. To get a de-fragmented frame, use `newframe = frame.copy()`\n",
      "  df[ratio_col] = df[tag_col] / df[col].apply(len)\n",
      "/var/folders/l4/1xnf5c593754ph42_t0k68480000gq/T/ipykernel_5831/4017749826.py:24: PerformanceWarning: DataFrame is highly fragmented.  This is usually the result of calling `frame.insert` many times, which has poor performance.  Consider joining all columns at once using pd.concat(axis=1) instead. To get a de-fragmented frame, use `newframe = frame.copy()`\n",
      "  df[ratio_col] = df[tag_col] / df[col].apply(len)\n",
      "/var/folders/l4/1xnf5c593754ph42_t0k68480000gq/T/ipykernel_5831/4017749826.py:24: PerformanceWarning: DataFrame is highly fragmented.  This is usually the result of calling `frame.insert` many times, which has poor performance.  Consider joining all columns at once using pd.concat(axis=1) instead. To get a de-fragmented frame, use `newframe = frame.copy()`\n",
      "  df[ratio_col] = df[tag_col] / df[col].apply(len)\n",
      "/var/folders/l4/1xnf5c593754ph42_t0k68480000gq/T/ipykernel_5831/4017749826.py:24: PerformanceWarning: DataFrame is highly fragmented.  This is usually the result of calling `frame.insert` many times, which has poor performance.  Consider joining all columns at once using pd.concat(axis=1) instead. To get a de-fragmented frame, use `newframe = frame.copy()`\n",
      "  df[ratio_col] = df[tag_col] / df[col].apply(len)\n",
      "/var/folders/l4/1xnf5c593754ph42_t0k68480000gq/T/ipykernel_5831/4017749826.py:24: PerformanceWarning: DataFrame is highly fragmented.  This is usually the result of calling `frame.insert` many times, which has poor performance.  Consider joining all columns at once using pd.concat(axis=1) instead. To get a de-fragmented frame, use `newframe = frame.copy()`\n",
      "  df[ratio_col] = df[tag_col] / df[col].apply(len)\n",
      "/var/folders/l4/1xnf5c593754ph42_t0k68480000gq/T/ipykernel_5831/4017749826.py:24: PerformanceWarning: DataFrame is highly fragmented.  This is usually the result of calling `frame.insert` many times, which has poor performance.  Consider joining all columns at once using pd.concat(axis=1) instead. To get a de-fragmented frame, use `newframe = frame.copy()`\n",
      "  df[ratio_col] = df[tag_col] / df[col].apply(len)\n",
      "/var/folders/l4/1xnf5c593754ph42_t0k68480000gq/T/ipykernel_5831/4017749826.py:24: PerformanceWarning: DataFrame is highly fragmented.  This is usually the result of calling `frame.insert` many times, which has poor performance.  Consider joining all columns at once using pd.concat(axis=1) instead. To get a de-fragmented frame, use `newframe = frame.copy()`\n",
      "  df[ratio_col] = df[tag_col] / df[col].apply(len)\n"
     ]
    }
   ],
   "source": [
    "cols = [('tokenized_GPT_R3', 'GPT_3'), \n",
    "        ('tokenized_GPT_R2', 'GPT_2'), \n",
    "        ('tokenized_GPT_R1', 'GPT_1'), \n",
    "        ('tokenized_Retell_1', 'Retell_1'), \n",
    "        ('tokenized_Retell_2', 'Retell_2'), \n",
    "        ('tokenized_Retell_3', 'Retell_3'), \n",
    "        ('tokenized_STORY', 'story')]\n",
    "\n",
    "# Define a list of tuples with the tag types and their corresponding suffixes\n",
    "tag_types = [('tag_noun', 'noun'), \n",
    "             ('tag_verb', 'verb'), \n",
    "             ('tag_adj', 'adj'), \n",
    "             ('tag_adv', 'adv'), \n",
    "             ('tag_con_det_prep', 'con_det_prep'), \n",
    "             ('tag_pron', 'pron'), \n",
    "             ('tag_prep', 'prep')]\n",
    "\n",
    "# Loop over each tag type\n",
    "for tag_type, suffix in tag_types:\n",
    "    # Loop over each column and calculate the corresponding tag ratio\n",
    "    for col, col_suffix in cols:\n",
    "        tag_col = col + '_' + tag_type\n",
    "        ratio_col = col_suffix + '_' + suffix + '_ratio'\n",
    "        df[ratio_col] = df[tag_col] / df[col].apply(len)"
   ]
  },
  {
   "cell_type": "markdown",
   "id": "0ae6e965",
   "metadata": {},
   "source": [
    "### 1.4.1. Carry counts and ratios into different DataFrame"
   ]
  },
  {
   "cell_type": "code",
   "execution_count": 11,
   "id": "a664eee1",
   "metadata": {},
   "outputs": [],
   "source": [
    "count_ratio = pd.DataFrame\n",
    "\n",
    "count_ratio= df[['GPT_3_noun_ratio',\n",
    " 'GPT_2_noun_ratio',\n",
    " 'GPT_1_noun_ratio',\n",
    " 'Retell_1_noun_ratio',\n",
    " 'Retell_2_noun_ratio',\n",
    " 'Retell_3_noun_ratio',\n",
    " 'story_noun_ratio',\n",
    " 'GPT_3_verb_ratio',\n",
    " 'GPT_2_verb_ratio',\n",
    " 'GPT_1_verb_ratio',\n",
    " 'Retell_1_verb_ratio',\n",
    " 'Retell_2_verb_ratio',\n",
    " 'Retell_3_verb_ratio',\n",
    " 'story_verb_ratio',\n",
    " 'GPT_3_adj_ratio',\n",
    " 'GPT_2_adj_ratio',\n",
    " 'GPT_1_adj_ratio',\n",
    " 'Retell_1_adj_ratio',\n",
    " 'Retell_2_adj_ratio',\n",
    " 'Retell_3_adj_ratio',\n",
    " 'story_adj_ratio',\n",
    " 'GPT_3_adv_ratio',\n",
    " 'GPT_2_adv_ratio',\n",
    " 'GPT_1_adv_ratio',\n",
    " 'Retell_1_adv_ratio',\n",
    " 'Retell_2_adv_ratio',\n",
    " 'Retell_3_adv_ratio',\n",
    " 'story_adv_ratio',\n",
    " 'GPT_3_con_det_prep_ratio',\n",
    " 'GPT_2_con_det_prep_ratio',\n",
    " 'GPT_1_con_det_prep_ratio',\n",
    " 'Retell_1_con_det_prep_ratio',\n",
    " 'Retell_2_con_det_prep_ratio',\n",
    " 'Retell_3_con_det_prep_ratio',\n",
    " 'story_con_det_prep_ratio',\n",
    " 'GPT_3_pron_ratio',\n",
    " 'GPT_2_pron_ratio',\n",
    " 'GPT_1_pron_ratio',\n",
    " 'Retell_1_pron_ratio',\n",
    " 'Retell_2_pron_ratio',\n",
    " 'Retell_3_pron_ratio',\n",
    " 'story_pron_ratio',\n",
    " 'GPT_3_prep_ratio',\n",
    " 'GPT_2_prep_ratio',\n",
    " 'GPT_1_prep_ratio',\n",
    " 'Retell_1_prep_ratio',\n",
    " 'Retell_2_prep_ratio',\n",
    " 'Retell_3_prep_ratio',\n",
    " 'story_prep_ratio']]"
   ]
  },
  {
   "cell_type": "code",
   "execution_count": 12,
   "id": "b271576d",
   "metadata": {},
   "outputs": [],
   "source": [
    "#store counts into a dataframe \n",
    "counts = pd.DataFrame()\n",
    "\n",
    "df_count = df[['tokenized_STORY_tag_noun',\n",
    " 'tokenized_STORY_tag_verb',\n",
    " 'tokenized_STORY_tag_adj',\n",
    " 'tokenized_STORY_tag_adv',\n",
    " 'tokenized_STORY_tag_pron',\n",
    " 'tokenized_STORY_tag_con_det_prep',\n",
    " 'tokenized_STORY_tag_prep',\n",
    " 'tokenized_GPT_R1_tag_noun',\n",
    " 'tokenized_GPT_R1_tag_verb',\n",
    " 'tokenized_GPT_R1_tag_adj',\n",
    " 'tokenized_GPT_R1_tag_adv',\n",
    " 'tokenized_GPT_R1_tag_pron',\n",
    " 'tokenized_GPT_R1_tag_con_det_prep',\n",
    " 'tokenized_GPT_R1_tag_prep',\n",
    " 'tokenized_GPT_R2_tag_noun',\n",
    " 'tokenized_GPT_R2_tag_verb',\n",
    " 'tokenized_GPT_R2_tag_adj',\n",
    " 'tokenized_GPT_R2_tag_adv',\n",
    " 'tokenized_GPT_R2_tag_pron',\n",
    " 'tokenized_GPT_R2_tag_con_det_prep',\n",
    " 'tokenized_GPT_R2_tag_prep',\n",
    " 'tokenized_GPT_R3_tag_noun',\n",
    " 'tokenized_GPT_R3_tag_verb',\n",
    " 'tokenized_GPT_R3_tag_adj',\n",
    " 'tokenized_GPT_R3_tag_adv',\n",
    " 'tokenized_GPT_R3_tag_pron',\n",
    " 'tokenized_GPT_R3_tag_con_det_prep',\n",
    " 'tokenized_GPT_R3_tag_prep',\n",
    " 'tokenized_Retell_1_tag_noun',\n",
    " 'tokenized_Retell_1_tag_verb',\n",
    " 'tokenized_Retell_1_tag_adj',\n",
    " 'tokenized_Retell_1_tag_adv',\n",
    " 'tokenized_Retell_1_tag_pron',\n",
    " 'tokenized_Retell_1_tag_con_det_prep',\n",
    " 'tokenized_Retell_1_tag_prep',\n",
    " 'tokenized_Retell_2_tag_noun',\n",
    " 'tokenized_Retell_2_tag_verb',\n",
    " 'tokenized_Retell_2_tag_adj',\n",
    " 'tokenized_Retell_2_tag_adv',\n",
    " 'tokenized_Retell_2_tag_pron',\n",
    " 'tokenized_Retell_2_tag_con_det_prep',\n",
    " 'tokenized_Retell_2_tag_prep',\n",
    " 'tokenized_Retell_3_tag_noun',\n",
    " 'tokenized_Retell_3_tag_verb',\n",
    " 'tokenized_Retell_3_tag_adj',\n",
    " 'tokenized_Retell_3_tag_adv',\n",
    " 'tokenized_Retell_3_tag_pron',\n",
    " 'tokenized_Retell_3_tag_con_det_prep',\n",
    " 'tokenized_Retell_3_tag_prep']\n",
    "\n",
    "]"
   ]
  },
  {
   "cell_type": "code",
   "execution_count": 13,
   "id": "e7da8d0b",
   "metadata": {},
   "outputs": [
    {
     "data": {
      "text/html": [
       "<div>\n",
       "<style scoped>\n",
       "    .dataframe tbody tr th:only-of-type {\n",
       "        vertical-align: middle;\n",
       "    }\n",
       "\n",
       "    .dataframe tbody tr th {\n",
       "        vertical-align: top;\n",
       "    }\n",
       "\n",
       "    .dataframe thead th {\n",
       "        text-align: right;\n",
       "    }\n",
       "</style>\n",
       "<table border=\"1\" class=\"dataframe\">\n",
       "  <thead>\n",
       "    <tr style=\"text-align: right;\">\n",
       "      <th></th>\n",
       "      <th>STORY</th>\n",
       "      <th>GPT_R1</th>\n",
       "      <th>GPT_R2</th>\n",
       "      <th>GPT_R3</th>\n",
       "      <th>Retell_1</th>\n",
       "      <th>Retell_2</th>\n",
       "      <th>Retell_3</th>\n",
       "      <th>tokenized_STORY</th>\n",
       "      <th>tokenized_GPT_R1</th>\n",
       "      <th>tokenized_GPT_R2</th>\n",
       "      <th>...</th>\n",
       "      <th>Retell_2_pron_ratio</th>\n",
       "      <th>Retell_3_pron_ratio</th>\n",
       "      <th>story_pron_ratio</th>\n",
       "      <th>GPT_3_prep_ratio</th>\n",
       "      <th>GPT_2_prep_ratio</th>\n",
       "      <th>GPT_1_prep_ratio</th>\n",
       "      <th>Retell_1_prep_ratio</th>\n",
       "      <th>Retell_2_prep_ratio</th>\n",
       "      <th>Retell_3_prep_ratio</th>\n",
       "      <th>story_prep_ratio</th>\n",
       "    </tr>\n",
       "  </thead>\n",
       "  <tbody>\n",
       "    <tr>\n",
       "      <th>0</th>\n",
       "      <td>A school teacher who taught for high school Ki...</td>\n",
       "      <td>A high school teacher was browsing Facebook an...</td>\n",
       "      <td>A high school teacher received a friend reques...</td>\n",
       "      <td>A high school teacher received a friend reques...</td>\n",
       "      <td>A high school teacher was looking through Face...</td>\n",
       "      <td>A high school teacher was browsing Facebook on...</td>\n",
       "      <td>A high school teacher was looking at Facebook ...</td>\n",
       "      <td>[(A, DT), (school, NN), (teacher, NN), (who, W...</td>\n",
       "      <td>[(A, DT), (high, JJ), (school, NN), (teacher, ...</td>\n",
       "      <td>[(A, DT), (high, JJ), (school, NN), (teacher, ...</td>\n",
       "      <td>...</td>\n",
       "      <td>0.105263</td>\n",
       "      <td>0.119403</td>\n",
       "      <td>0.106509</td>\n",
       "      <td>0.083333</td>\n",
       "      <td>0.072464</td>\n",
       "      <td>0.057971</td>\n",
       "      <td>0.089888</td>\n",
       "      <td>0.092105</td>\n",
       "      <td>0.089552</td>\n",
       "      <td>0.088757</td>\n",
       "    </tr>\n",
       "    <tr>\n",
       "      <th>1</th>\n",
       "      <td>Abigail was feeling sad one day so she started...</td>\n",
       "      <td>Abigail, feeling sad, decided to bake a chocol...</td>\n",
       "      <td>Abigail baked a chocolate cake to lift her own...</td>\n",
       "      <td>Abigail baked a chocolate cake to improve her ...</td>\n",
       "      <td>A woman named Abigail was feeling down one day...</td>\n",
       "      <td>Abigal was sad. So she thought of things that ...</td>\n",
       "      <td>There was a sad girl named Abigal. She did not...</td>\n",
       "      <td>[(Abigail, NNP), (was, VBD), (feeling, VBG), (...</td>\n",
       "      <td>[(Abigail, NNP), (,, ,), (feeling, VBG), (sad,...</td>\n",
       "      <td>[(Abigail, NNP), (baked, VBD), (a, DT), (choco...</td>\n",
       "      <td>...</td>\n",
       "      <td>0.136364</td>\n",
       "      <td>0.132075</td>\n",
       "      <td>0.148387</td>\n",
       "      <td>0.021277</td>\n",
       "      <td>0.040816</td>\n",
       "      <td>0.038462</td>\n",
       "      <td>0.061224</td>\n",
       "      <td>0.068182</td>\n",
       "      <td>0.056604</td>\n",
       "      <td>0.083871</td>\n",
       "    </tr>\n",
       "    <tr>\n",
       "      <th>2</th>\n",
       "      <td>All Jennifer wanted was to go to the punk rock...</td>\n",
       "      <td>Jennifer missed her chance to buy tickets to h...</td>\n",
       "      <td>Jennifer was upset about missing the chance to...</td>\n",
       "      <td>Jennifer missed out on seeing her favorite pun...</td>\n",
       "      <td>Jennifer wanted to go to a punk rock show beca...</td>\n",
       "      <td>Jennifer wanted to go to a punk rock show beca...</td>\n",
       "      <td>Jennifer wanted to go to a punk rock show but ...</td>\n",
       "      <td>[(All, DT), (Jennifer, NNP), (wanted, VBD), (w...</td>\n",
       "      <td>[(Jennifer, NN), (missed, VBD), (her, PRP$), (...</td>\n",
       "      <td>[(Jennifer, NN), (was, VBD), (upset, VBN), (ab...</td>\n",
       "      <td>...</td>\n",
       "      <td>0.128571</td>\n",
       "      <td>0.098039</td>\n",
       "      <td>0.094972</td>\n",
       "      <td>0.042553</td>\n",
       "      <td>0.054545</td>\n",
       "      <td>0.060000</td>\n",
       "      <td>0.086022</td>\n",
       "      <td>0.071429</td>\n",
       "      <td>0.058824</td>\n",
       "      <td>0.117318</td>\n",
       "    </tr>\n",
       "    <tr>\n",
       "      <th>3</th>\n",
       "      <td>All of his life, Jeff was something of an unde...</td>\n",
       "      <td>Jeff, an underdog in sports, decided to work h...</td>\n",
       "      <td>Jeff, tired of being bullied for his lack of s...</td>\n",
       "      <td>Jeff was tired of being bullied for not being ...</td>\n",
       "      <td>Jeff had a history of being bullied in his sch...</td>\n",
       "      <td>The bullies at school were getting to Jeff. It...</td>\n",
       "      <td>After being bullied, Jeff decided that he want...</td>\n",
       "      <td>[(All, DT), (of, IN), (his, PRP$), (life, NN),...</td>\n",
       "      <td>[(Jeff, NNP), (,, ,), (an, DT), (underdog, NN)...</td>\n",
       "      <td>[(Jeff, NNP), (,, ,), (tired, VBD), (of, IN), ...</td>\n",
       "      <td>...</td>\n",
       "      <td>0.093750</td>\n",
       "      <td>0.166667</td>\n",
       "      <td>0.125786</td>\n",
       "      <td>0.160000</td>\n",
       "      <td>0.173913</td>\n",
       "      <td>0.173077</td>\n",
       "      <td>0.164179</td>\n",
       "      <td>0.109375</td>\n",
       "      <td>0.111111</td>\n",
       "      <td>0.088050</td>\n",
       "    </tr>\n",
       "    <tr>\n",
       "      <th>4</th>\n",
       "      <td>Have you ever had a child?  Do you plan to?  I...</td>\n",
       "      <td>A couple tried to have a baby for many years b...</td>\n",
       "      <td>A couple struggled to have a child for years, ...</td>\n",
       "      <td>A couple struggled to conceive a child and alm...</td>\n",
       "      <td>A couple were trying to conceive a child for s...</td>\n",
       "      <td>A couple tried to get pregnant for six years, ...</td>\n",
       "      <td>A couple were trying to get pregnant for six y...</td>\n",
       "      <td>[(Have, VBP), (you, PRP), (ever, RB), (had, VB...</td>\n",
       "      <td>[(A, DT), (couple, NN), (tried, VBN), (to, TO)...</td>\n",
       "      <td>[(A, DT), (couple, NN), (struggled, VBN), (to,...</td>\n",
       "      <td>...</td>\n",
       "      <td>0.082192</td>\n",
       "      <td>0.050847</td>\n",
       "      <td>0.162304</td>\n",
       "      <td>0.116279</td>\n",
       "      <td>0.108696</td>\n",
       "      <td>0.081633</td>\n",
       "      <td>0.045455</td>\n",
       "      <td>0.041096</td>\n",
       "      <td>0.084746</td>\n",
       "      <td>0.089005</td>\n",
       "    </tr>\n",
       "    <tr>\n",
       "      <th>...</th>\n",
       "      <td>...</td>\n",
       "      <td>...</td>\n",
       "      <td>...</td>\n",
       "      <td>...</td>\n",
       "      <td>...</td>\n",
       "      <td>...</td>\n",
       "      <td>...</td>\n",
       "      <td>...</td>\n",
       "      <td>...</td>\n",
       "      <td>...</td>\n",
       "      <td>...</td>\n",
       "      <td>...</td>\n",
       "      <td>...</td>\n",
       "      <td>...</td>\n",
       "      <td>...</td>\n",
       "      <td>...</td>\n",
       "      <td>...</td>\n",
       "      <td>...</td>\n",
       "      <td>...</td>\n",
       "      <td>...</td>\n",
       "      <td>...</td>\n",
       "    </tr>\n",
       "    <tr>\n",
       "      <th>111</th>\n",
       "      <td>Michael asks his dad \"Dad, how much money do y...</td>\n",
       "      <td>Michael asks his dad how much money he earns p...</td>\n",
       "      <td>A son named Michael asked his dad how much mon...</td>\n",
       "      <td>A boy named Michael asks his dad how much he e...</td>\n",
       "      <td>the boy asked his dad for 15 after learning th...</td>\n",
       "      <td>After discovering that his father made $30/hou...</td>\n",
       "      <td>A son found out his dad made 30 dollars an hou...</td>\n",
       "      <td>[(Michael, NNP), (asks, VBZ), (his, PRP$), (da...</td>\n",
       "      <td>[(Michael, NNP), (asks, VBZ), (his, PRP$), (da...</td>\n",
       "      <td>[(A, DT), (son, NN), (named, VBN), (Michael, N...</td>\n",
       "      <td>...</td>\n",
       "      <td>0.110000</td>\n",
       "      <td>0.121622</td>\n",
       "      <td>0.122340</td>\n",
       "      <td>0.105263</td>\n",
       "      <td>0.053571</td>\n",
       "      <td>0.051724</td>\n",
       "      <td>0.098765</td>\n",
       "      <td>0.110000</td>\n",
       "      <td>0.094595</td>\n",
       "      <td>0.042553</td>\n",
       "    </tr>\n",
       "    <tr>\n",
       "      <th>112</th>\n",
       "      <td>Once there was a man who worked for the fire d...</td>\n",
       "      <td>A fireman in a small town responded to a house...</td>\n",
       "      <td>A fireman put out a fire in a house belonging ...</td>\n",
       "      <td>A fireman extinguished a fire in a house owned...</td>\n",
       "      <td>A small rural town fire department employee li...</td>\n",
       "      <td>John is a firefighter and had to respond to a ...</td>\n",
       "      <td>John, a firefighter, responded to a call for a...</td>\n",
       "      <td>[(Once, RB), (there, EX), (was, VBD), (a, DT),...</td>\n",
       "      <td>[(A, DT), (fireman, NN), (in, IN), (a, DT), (s...</td>\n",
       "      <td>[(A, DT), (fireman, NN), (put, VBD), (out, RP)...</td>\n",
       "      <td>...</td>\n",
       "      <td>0.140351</td>\n",
       "      <td>0.079365</td>\n",
       "      <td>0.050847</td>\n",
       "      <td>0.111111</td>\n",
       "      <td>0.083333</td>\n",
       "      <td>0.089552</td>\n",
       "      <td>0.067961</td>\n",
       "      <td>0.052632</td>\n",
       "      <td>0.079365</td>\n",
       "      <td>0.096045</td>\n",
       "    </tr>\n",
       "    <tr>\n",
       "      <th>113</th>\n",
       "      <td>There was a boy who always wanted a pet goldfi...</td>\n",
       "      <td>A boy always wanted a pet goldfish but his par...</td>\n",
       "      <td>A boy longed for a pet goldfish but his parent...</td>\n",
       "      <td>A boy wanted a pet goldfish but his parents re...</td>\n",
       "      <td>The boy always wanted a pet goldfish.  One day...</td>\n",
       "      <td>A little boy has always wanted a fish. One day...</td>\n",
       "      <td>A boy wanted a fish and wished for one. He got...</td>\n",
       "      <td>[(There, EX), (was, VBD), (a, DT), (boy, NN), ...</td>\n",
       "      <td>[(A, DT), (boy, NN), (always, RB), (wanted, VB...</td>\n",
       "      <td>[(A, DT), (boy, NN), (longed, VBN), (for, IN),...</td>\n",
       "      <td>...</td>\n",
       "      <td>0.055556</td>\n",
       "      <td>0.138889</td>\n",
       "      <td>0.080460</td>\n",
       "      <td>0.061224</td>\n",
       "      <td>0.067568</td>\n",
       "      <td>0.046512</td>\n",
       "      <td>0.024096</td>\n",
       "      <td>0.018519</td>\n",
       "      <td>0.111111</td>\n",
       "      <td>0.074713</td>\n",
       "    </tr>\n",
       "    <tr>\n",
       "      <th>114</th>\n",
       "      <td>One day a girl was walking her dog when a squi...</td>\n",
       "      <td>A girl was walking her dog when a squirrel app...</td>\n",
       "      <td>A girl was walking her dog when it chased afte...</td>\n",
       "      <td>While walking her dog, a girl lost her grip on...</td>\n",
       "      <td>One day a girl was walking her dog. Something ...</td>\n",
       "      <td>A girl was walking her dog when a squirrel jum...</td>\n",
       "      <td>A squirrel jumped in front of a girl walking h...</td>\n",
       "      <td>[(One, CD), (day, NN), (a, DT), (girl, NN), (w...</td>\n",
       "      <td>[(A, DT), (girl, NN), (was, VBD), (walking, VB...</td>\n",
       "      <td>[(A, DT), (girl, NN), (was, VBD), (walking, VB...</td>\n",
       "      <td>...</td>\n",
       "      <td>0.078125</td>\n",
       "      <td>0.050847</td>\n",
       "      <td>0.075758</td>\n",
       "      <td>0.142857</td>\n",
       "      <td>0.093023</td>\n",
       "      <td>0.096774</td>\n",
       "      <td>0.075949</td>\n",
       "      <td>0.078125</td>\n",
       "      <td>0.067797</td>\n",
       "      <td>0.090909</td>\n",
       "    </tr>\n",
       "    <tr>\n",
       "      <th>115</th>\n",
       "      <td>A troll lived alone in a very large cave deep ...</td>\n",
       "      <td>A troll living alone in a cave tries to make f...</td>\n",
       "      <td>The story is about a friendly troll living in ...</td>\n",
       "      <td>The story is about a kind troll living in a ca...</td>\n",
       "      <td>A lonely troll lived alone in a cave with no f...</td>\n",
       "      <td>There was a troll that lived alone in a cave a...</td>\n",
       "      <td>A troll was lonely and usually attacked by dwa...</td>\n",
       "      <td>[(A, DT), (troll, NN), (lived, VBD), (alone, R...</td>\n",
       "      <td>[(A, DT), (troll, NN), (living, VBG), (alone, ...</td>\n",
       "      <td>[(The, DT), (story, NN), (is, VBZ), (about, IN...</td>\n",
       "      <td>...</td>\n",
       "      <td>0.107692</td>\n",
       "      <td>0.088235</td>\n",
       "      <td>0.116667</td>\n",
       "      <td>0.111111</td>\n",
       "      <td>0.111111</td>\n",
       "      <td>0.047619</td>\n",
       "      <td>0.060606</td>\n",
       "      <td>0.123077</td>\n",
       "      <td>0.058824</td>\n",
       "      <td>0.088889</td>\n",
       "    </tr>\n",
       "  </tbody>\n",
       "</table>\n",
       "<p>116 rows × 119 columns</p>\n",
       "</div>"
      ],
      "text/plain": [
       "                                                 STORY  \\\n",
       "0    A school teacher who taught for high school Ki...   \n",
       "1    Abigail was feeling sad one day so she started...   \n",
       "2    All Jennifer wanted was to go to the punk rock...   \n",
       "3    All of his life, Jeff was something of an unde...   \n",
       "4    Have you ever had a child?  Do you plan to?  I...   \n",
       "..                                                 ...   \n",
       "111  Michael asks his dad \"Dad, how much money do y...   \n",
       "112  Once there was a man who worked for the fire d...   \n",
       "113  There was a boy who always wanted a pet goldfi...   \n",
       "114  One day a girl was walking her dog when a squi...   \n",
       "115  A troll lived alone in a very large cave deep ...   \n",
       "\n",
       "                                                GPT_R1  \\\n",
       "0    A high school teacher was browsing Facebook an...   \n",
       "1    Abigail, feeling sad, decided to bake a chocol...   \n",
       "2    Jennifer missed her chance to buy tickets to h...   \n",
       "3    Jeff, an underdog in sports, decided to work h...   \n",
       "4    A couple tried to have a baby for many years b...   \n",
       "..                                                 ...   \n",
       "111  Michael asks his dad how much money he earns p...   \n",
       "112  A fireman in a small town responded to a house...   \n",
       "113  A boy always wanted a pet goldfish but his par...   \n",
       "114  A girl was walking her dog when a squirrel app...   \n",
       "115  A troll living alone in a cave tries to make f...   \n",
       "\n",
       "                                                GPT_R2  \\\n",
       "0    A high school teacher received a friend reques...   \n",
       "1    Abigail baked a chocolate cake to lift her own...   \n",
       "2    Jennifer was upset about missing the chance to...   \n",
       "3    Jeff, tired of being bullied for his lack of s...   \n",
       "4    A couple struggled to have a child for years, ...   \n",
       "..                                                 ...   \n",
       "111  A son named Michael asked his dad how much mon...   \n",
       "112  A fireman put out a fire in a house belonging ...   \n",
       "113  A boy longed for a pet goldfish but his parent...   \n",
       "114  A girl was walking her dog when it chased afte...   \n",
       "115  The story is about a friendly troll living in ...   \n",
       "\n",
       "                                                GPT_R3  \\\n",
       "0    A high school teacher received a friend reques...   \n",
       "1    Abigail baked a chocolate cake to improve her ...   \n",
       "2    Jennifer missed out on seeing her favorite pun...   \n",
       "3    Jeff was tired of being bullied for not being ...   \n",
       "4    A couple struggled to conceive a child and alm...   \n",
       "..                                                 ...   \n",
       "111  A boy named Michael asks his dad how much he e...   \n",
       "112  A fireman extinguished a fire in a house owned...   \n",
       "113  A boy wanted a pet goldfish but his parents re...   \n",
       "114  While walking her dog, a girl lost her grip on...   \n",
       "115  The story is about a kind troll living in a ca...   \n",
       "\n",
       "                                              Retell_1  \\\n",
       "0    A high school teacher was looking through Face...   \n",
       "1    A woman named Abigail was feeling down one day...   \n",
       "2    Jennifer wanted to go to a punk rock show beca...   \n",
       "3    Jeff had a history of being bullied in his sch...   \n",
       "4    A couple were trying to conceive a child for s...   \n",
       "..                                                 ...   \n",
       "111  the boy asked his dad for 15 after learning th...   \n",
       "112  A small rural town fire department employee li...   \n",
       "113  The boy always wanted a pet goldfish.  One day...   \n",
       "114  One day a girl was walking her dog. Something ...   \n",
       "115  A lonely troll lived alone in a cave with no f...   \n",
       "\n",
       "                                              Retell_2  \\\n",
       "0    A high school teacher was browsing Facebook on...   \n",
       "1    Abigal was sad. So she thought of things that ...   \n",
       "2    Jennifer wanted to go to a punk rock show beca...   \n",
       "3    The bullies at school were getting to Jeff. It...   \n",
       "4    A couple tried to get pregnant for six years, ...   \n",
       "..                                                 ...   \n",
       "111  After discovering that his father made $30/hou...   \n",
       "112  John is a firefighter and had to respond to a ...   \n",
       "113  A little boy has always wanted a fish. One day...   \n",
       "114  A girl was walking her dog when a squirrel jum...   \n",
       "115  There was a troll that lived alone in a cave a...   \n",
       "\n",
       "                                              Retell_3  \\\n",
       "0    A high school teacher was looking at Facebook ...   \n",
       "1    There was a sad girl named Abigal. She did not...   \n",
       "2    Jennifer wanted to go to a punk rock show but ...   \n",
       "3    After being bullied, Jeff decided that he want...   \n",
       "4    A couple were trying to get pregnant for six y...   \n",
       "..                                                 ...   \n",
       "111  A son found out his dad made 30 dollars an hou...   \n",
       "112  John, a firefighter, responded to a call for a...   \n",
       "113  A boy wanted a fish and wished for one. He got...   \n",
       "114  A squirrel jumped in front of a girl walking h...   \n",
       "115  A troll was lonely and usually attacked by dwa...   \n",
       "\n",
       "                                       tokenized_STORY  \\\n",
       "0    [(A, DT), (school, NN), (teacher, NN), (who, W...   \n",
       "1    [(Abigail, NNP), (was, VBD), (feeling, VBG), (...   \n",
       "2    [(All, DT), (Jennifer, NNP), (wanted, VBD), (w...   \n",
       "3    [(All, DT), (of, IN), (his, PRP$), (life, NN),...   \n",
       "4    [(Have, VBP), (you, PRP), (ever, RB), (had, VB...   \n",
       "..                                                 ...   \n",
       "111  [(Michael, NNP), (asks, VBZ), (his, PRP$), (da...   \n",
       "112  [(Once, RB), (there, EX), (was, VBD), (a, DT),...   \n",
       "113  [(There, EX), (was, VBD), (a, DT), (boy, NN), ...   \n",
       "114  [(One, CD), (day, NN), (a, DT), (girl, NN), (w...   \n",
       "115  [(A, DT), (troll, NN), (lived, VBD), (alone, R...   \n",
       "\n",
       "                                      tokenized_GPT_R1  \\\n",
       "0    [(A, DT), (high, JJ), (school, NN), (teacher, ...   \n",
       "1    [(Abigail, NNP), (,, ,), (feeling, VBG), (sad,...   \n",
       "2    [(Jennifer, NN), (missed, VBD), (her, PRP$), (...   \n",
       "3    [(Jeff, NNP), (,, ,), (an, DT), (underdog, NN)...   \n",
       "4    [(A, DT), (couple, NN), (tried, VBN), (to, TO)...   \n",
       "..                                                 ...   \n",
       "111  [(Michael, NNP), (asks, VBZ), (his, PRP$), (da...   \n",
       "112  [(A, DT), (fireman, NN), (in, IN), (a, DT), (s...   \n",
       "113  [(A, DT), (boy, NN), (always, RB), (wanted, VB...   \n",
       "114  [(A, DT), (girl, NN), (was, VBD), (walking, VB...   \n",
       "115  [(A, DT), (troll, NN), (living, VBG), (alone, ...   \n",
       "\n",
       "                                      tokenized_GPT_R2  ...  \\\n",
       "0    [(A, DT), (high, JJ), (school, NN), (teacher, ...  ...   \n",
       "1    [(Abigail, NNP), (baked, VBD), (a, DT), (choco...  ...   \n",
       "2    [(Jennifer, NN), (was, VBD), (upset, VBN), (ab...  ...   \n",
       "3    [(Jeff, NNP), (,, ,), (tired, VBD), (of, IN), ...  ...   \n",
       "4    [(A, DT), (couple, NN), (struggled, VBN), (to,...  ...   \n",
       "..                                                 ...  ...   \n",
       "111  [(A, DT), (son, NN), (named, VBN), (Michael, N...  ...   \n",
       "112  [(A, DT), (fireman, NN), (put, VBD), (out, RP)...  ...   \n",
       "113  [(A, DT), (boy, NN), (longed, VBN), (for, IN),...  ...   \n",
       "114  [(A, DT), (girl, NN), (was, VBD), (walking, VB...  ...   \n",
       "115  [(The, DT), (story, NN), (is, VBZ), (about, IN...  ...   \n",
       "\n",
       "    Retell_2_pron_ratio Retell_3_pron_ratio story_pron_ratio GPT_3_prep_ratio  \\\n",
       "0              0.105263            0.119403         0.106509         0.083333   \n",
       "1              0.136364            0.132075         0.148387         0.021277   \n",
       "2              0.128571            0.098039         0.094972         0.042553   \n",
       "3              0.093750            0.166667         0.125786         0.160000   \n",
       "4              0.082192            0.050847         0.162304         0.116279   \n",
       "..                  ...                 ...              ...              ...   \n",
       "111            0.110000            0.121622         0.122340         0.105263   \n",
       "112            0.140351            0.079365         0.050847         0.111111   \n",
       "113            0.055556            0.138889         0.080460         0.061224   \n",
       "114            0.078125            0.050847         0.075758         0.142857   \n",
       "115            0.107692            0.088235         0.116667         0.111111   \n",
       "\n",
       "    GPT_2_prep_ratio GPT_1_prep_ratio Retell_1_prep_ratio Retell_2_prep_ratio  \\\n",
       "0           0.072464         0.057971            0.089888            0.092105   \n",
       "1           0.040816         0.038462            0.061224            0.068182   \n",
       "2           0.054545         0.060000            0.086022            0.071429   \n",
       "3           0.173913         0.173077            0.164179            0.109375   \n",
       "4           0.108696         0.081633            0.045455            0.041096   \n",
       "..               ...              ...                 ...                 ...   \n",
       "111         0.053571         0.051724            0.098765            0.110000   \n",
       "112         0.083333         0.089552            0.067961            0.052632   \n",
       "113         0.067568         0.046512            0.024096            0.018519   \n",
       "114         0.093023         0.096774            0.075949            0.078125   \n",
       "115         0.111111         0.047619            0.060606            0.123077   \n",
       "\n",
       "    Retell_3_prep_ratio story_prep_ratio  \n",
       "0              0.089552         0.088757  \n",
       "1              0.056604         0.083871  \n",
       "2              0.058824         0.117318  \n",
       "3              0.111111         0.088050  \n",
       "4              0.084746         0.089005  \n",
       "..                  ...              ...  \n",
       "111            0.094595         0.042553  \n",
       "112            0.079365         0.096045  \n",
       "113            0.111111         0.074713  \n",
       "114            0.067797         0.090909  \n",
       "115            0.058824         0.088889  \n",
       "\n",
       "[116 rows x 119 columns]"
      ]
     },
     "execution_count": 13,
     "metadata": {},
     "output_type": "execute_result"
    }
   ],
   "source": [
    "df"
   ]
  },
  {
   "cell_type": "markdown",
   "id": "ab9638b1",
   "metadata": {},
   "source": [
    "Our dataframes are:\n",
    "\n",
    "1-count = df_count\n",
    "2- ratio = count_ratio"
   ]
  },
  {
   "cell_type": "markdown",
   "id": "7d113a1e",
   "metadata": {},
   "source": [
    "### 1.5. Significance Test Between Adverbs in Retellings (Counts of Words)"
   ]
  },
  {
   "cell_type": "code",
   "execution_count": 14,
   "id": "99eaff20",
   "metadata": {},
   "outputs": [
    {
     "name": "stderr",
     "output_type": "stream",
     "text": [
      "/Users/eotenen/mambaforge/lib/python3.10/site-packages/scipy/stats/_morestats.py:1816: UserWarning: p-value may not be accurate for N > 5000.\n",
      "  warnings.warn(\"p-value may not be accurate for N > 5000.\")\n"
     ]
    },
    {
     "data": {
      "text/plain": [
       "ShapiroResult(statistic=0.828406572341919, pvalue=0.0)"
      ]
     },
     "execution_count": 14,
     "metadata": {},
     "output_type": "execute_result"
    }
   ],
   "source": [
    "shapiro(df_count) #data is not normal, so we will use Mann-u Whitney"
   ]
  },
  {
   "cell_type": "code",
   "execution_count": 15,
   "id": "fcf6ffbe",
   "metadata": {},
   "outputs": [
    {
     "name": "stdout",
     "output_type": "stream",
     "text": [
      "Mann-Whitney U test for GPT_R1 vs. Retell_1 is significant with p-value 2.36225190687095e-13\n",
      "Mann-Whitney U test for GPT_R2 vs. Retell_2 is significant with p-value 1.3111019333241226e-09\n",
      "Mann-Whitney U test for GPT_R3 vs. Retell_3 is significant with p-value 3.7372568014157726e-06\n"
     ]
    }
   ],
   "source": [
    "for i in range(1, 4):\n",
    "    group1 = df_count[f'tokenized_GPT_R{i}_tag_adv']\n",
    "    group2 = df_count[f'tokenized_Retell_{i}_tag_adv']\n",
    "    statistic, pvalue = stats.mannwhitneyu(group1, group2)\n",
    "    if pvalue < 0.05:\n",
    "        print(f\"Mann-Whitney U test for GPT_R{i} vs. Retell_{i} is significant with p-value {pvalue}\")\n",
    "    else:\n",
    "        print(f\"Mann-Whitney U test for GPT_R{i} vs. Retell_{i} is not significant with p-value {pvalue}\")\n"
   ]
  },
  {
   "cell_type": "markdown",
   "id": "b868af85",
   "metadata": {},
   "source": [
    "#### Still adverb use is higher in human than GPT."
   ]
  },
  {
   "cell_type": "markdown",
   "id": "e36c941f",
   "metadata": {},
   "source": [
    "### 1.6. Visualize Category Counts"
   ]
  },
  {
   "cell_type": "markdown",
   "id": "43d400aa",
   "metadata": {},
   "source": [
    "Prepare dataset accordingly"
   ]
  },
  {
   "cell_type": "code",
   "execution_count": 16,
   "id": "3f267860",
   "metadata": {},
   "outputs": [],
   "source": [
    "count_means = pd.DataFrame()\n",
    "count_means['mean'] = [*df_count.mean()]\n",
    "count_means['gen']= ['origin','origin','origin','origin','origin','origin','origin','GPT_R1','GPT_R1','GPT_R1','GPT_R1','GPT_R1','GPT_R1','GPT_R1','GPT_R2','GPT_R2','GPT_R2','GPT_R2','GPT_R2','GPT_R2','GPT_R2','GPT_R3','GPT_R3','GPT_R3','GPT_R3','GPT_R3','GPT_R3','GPT_R3','Retell_1','Retell_1','Retell_1','Retell_1','Retell_1','Retell_1','Retell_1','Retell_2','Retell_2','Retell_2','Retell_2','Retell_2','Retell_2','Retell_2','Retell_3','Retell_3','Retell_3','Retell_3','Retell_3','Retell_3','Retell_3']\n",
    "count_means['type']= ['noun','verb','adj','adv','pron','con_det_prep','prep','noun','verb','adj','adv','pron','con_det_prep','prep','noun','verb','adj','adv','pron','con_det_prep','prep','noun','verb','adj','adv','pron','con_det_prep','prep','noun','verb','adj','adv','pron','con_det_prep','prep','noun','verb','adj','adv','pron','con_det_prep','prep','noun','verb','adj','adv','pron','con_det_prep','prep']\n"
   ]
  },
  {
   "cell_type": "markdown",
   "id": "e4eccf54",
   "metadata": {},
   "source": [
    "#### 1.6.1. All Generations"
   ]
  },
  {
   "cell_type": "code",
   "execution_count": 17,
   "id": "d1c96b80",
   "metadata": {
    "scrolled": true
   },
   "outputs": [],
   "source": [
    "adv = count_means[count_means.type == 'adv']\n",
    "\n",
    "adv = adv.set_index(['gen']).reindex(['GPT_R1', 'Retell_1','GPT_R2', 'Retell_2','GPT_R3', 'Retell_3']).reset_index()\n",
    "\n",
    "adv['group'] = ['chatGPT','Human','chatGPT','Human','chatGPT','Human']"
   ]
  },
  {
   "cell_type": "code",
   "execution_count": 18,
   "id": "200a6b61",
   "metadata": {},
   "outputs": [
    {
     "data": {
      "text/plain": [
       "Text(0, 0.5, 'Count')"
      ]
     },
     "execution_count": 18,
     "metadata": {},
     "output_type": "execute_result"
    },
    {
     "data": {
      "image/png": "[encoded data removed]",
      "text/plain": [
       "<Figure size 640x480 with 1 Axes>"
      ]
     },
     "metadata": {},
     "output_type": "display_data"
    }
   ],
   "source": [
    "plt.bar(adv['gen'],adv['mean'], color=['steelblue','orange'])\n",
    "plt.title('The Mean Number of Adverbs (No Negation)')\n",
    "plt.xlabel('Generation')\n",
    "plt.ylabel('Count')"
   ]
  },
  {
   "cell_type": "markdown",
   "id": "b5a90ba5",
   "metadata": {},
   "source": [
    "### 1.7. Statistical Test for Ratios"
   ]
  },
  {
   "cell_type": "code",
   "execution_count": 24,
   "id": "378fbd04",
   "metadata": {},
   "outputs": [
    {
     "name": "stdout",
     "output_type": "stream",
     "text": [
      "Z test for GPT_R1 ratio vs. Retell_1 ratio is significant with z = 5.851494019373862, p-value 4.871768048034121e-09\n",
      "Z test for GPT_R2 ratio vs. Retell_2 ratio is significant with z = 6.056887148369963, p-value 1.387808774028879e-09\n",
      "Z test for GPT_R3 ratio vs. Retell_3 ratio is significant with z = 5.331973697986129, p-value 9.71510127267035e-08\n"
     ]
    }
   ],
   "source": [
    "#Because the values are proportions, I conducted a z-test analysis \n",
    "for i in range(1, 4):\n",
    "    group1 = count_ratio[f'Retell_{i}_adv_ratio']\n",
    "    group2 = count_ratio[f'GPT_{i}_adv_ratio']\n",
    "    statistic, pvalue = ztest(x1=group1, x2=group2, value=0)\n",
    "    if pvalue < 0.05:\n",
    "        print(f\"Z test for GPT_R{i} ratio vs. Retell_{i} ratio is significant with z = {statistic}, p-value {pvalue}\")\n",
    "    else:\n",
    "        print(f\"Z test for GPT_R{i} ratio vs. Retell_{i} ratio is not significant with z = {statistic}, p-value {pvalue}\")"
   ]
  },
  {
   "cell_type": "markdown",
   "id": "84a6a85a",
   "metadata": {},
   "source": [
    "### 1.7.1. Visualize Ratios"
   ]
  },
  {
   "cell_type": "code",
   "execution_count": 21,
   "id": "b11b5405",
   "metadata": {},
   "outputs": [],
   "source": [
    "ratio_means = pd.DataFrame()\n",
    "ratio_means['mean'] = [*count_ratio.mean()]\n",
    "ratio_means['gen']= ['GPT_3', 'GPT_2','GPT_1', 'Retell_1','Retell_2','Retell_3','origin','GPT_3', 'GPT_2','GPT_1', 'Retell_1','Retell_2','Retell_3','origin','GPT_3', 'GPT_2','GPT_1', 'Retell_1','Retell_2','Retell_3','origin','GPT_3', 'GPT_2','GPT_1', 'Retell_1','Retell_2','Retell_3','origin','GPT_3', 'GPT_2','GPT_1', 'Retell_1','Retell_2','Retell_3','origin','GPT_3', 'GPT_2','GPT_1', 'Retell_1','Retell_2','Retell_3','origin','GPT_3', 'GPT_2','GPT_1', 'Retell_1','Retell_2','Retell_3','origin']\n",
    "ratio_means['type']= ['noun','noun','noun','noun','noun','noun','noun','verb','verb','verb','verb','verb','verb','verb','adj','adj','adj','adj','adj','adj','adj','adv','adv','adv','adv','adv','adv','adv','con_det_prep','con_det_prep','con_det_prep','con_det_prep','con_det_prep','con_det_prep','con_det_prep','pron','pron','pron','pron','pron','pron','pron','prep','prep','prep','prep','prep','prep','prep']\n",
    "adv_ratio = ratio_means[ratio_means.type == 'adv']\n",
    "adv_ratio = adv_ratio.set_index(['gen']).reindex(['GPT_1', 'Retell_1','GPT_2', 'Retell_2','GPT_3', 'Retell_3']).reset_index()"
   ]
  },
  {
   "cell_type": "code",
   "execution_count": 22,
   "id": "2fcdf666",
   "metadata": {
    "scrolled": false
   },
   "outputs": [
    {
     "data": {
      "text/plain": [
       "Text(0, 0.5, 'Ratio')"
      ]
     },
     "execution_count": 22,
     "metadata": {},
     "output_type": "execute_result"
    },
    {
     "data": {
      "image/png": "[encoded data removed]",
      "text/plain": [
       "<Figure size 640x480 with 1 Axes>"
      ]
     },
     "metadata": {},
     "output_type": "display_data"
    }
   ],
   "source": [
    "adv_ratio\n",
    "plt.bar(adv_ratio['gen'],adv_ratio['mean'], color=['steelblue','orange'])\n",
    "plt.title('The Mean Ratio of Adverbs to Total Words (No Negation)')\n",
    "plt.xlabel('Generation')\n",
    "plt.ylabel('Ratio')"
   ]
  },
  {
   "cell_type": "markdown",
   "id": "7147d1ed",
   "metadata": {},
   "source": [
    "### 1.8. Calculate Verb-Adv Ratio"
   ]
  },
  {
   "cell_type": "code",
   "execution_count": 131,
   "id": "c45890b6",
   "metadata": {},
   "outputs": [],
   "source": [
    "#Adverb-verb ratio\n",
    "\n",
    "#For human\n",
    "for i in range(1,4):\n",
    "    df[f'Retell_{i}_adv_to_verb_ratio'] = df[f'tokenized_Retell_{i}_tag_adv'] / df[f'tokenized_Retell_{i}_tag_verb']\n",
    "\n",
    "#For GPT\n",
    "for i in range(1,4):\n",
    "    df[f'GPT_{i}_adv_to_verb_ratio'] = df[f'tokenized_GPT_R{i}_tag_adv'] / df[f'tokenized_GPT_R{i}_tag_verb']\n",
    "\n",
    "# For original story\n",
    "df['story_adv_to_verb_ratio'] = df['tokenized_STORY_tag_adv'] / df['tokenized_STORY_tag_verb']"
   ]
  },
  {
   "cell_type": "code",
   "execution_count": 150,
   "id": "677ee7c4",
   "metadata": {},
   "outputs": [],
   "source": [
    "# Adverb - Total word count ratio\n",
    "\n",
    "retell_cols = ['Retell_1', 'Retell_2', 'Retell_3']\n",
    "gpt_cols = ['GPT_R1', 'GPT_R2', 'GPT_R3']\n",
    "\n",
    "# For human\n",
    "for col in retell_cols:\n",
    "    df[f'{col}_adv_to_all_words'] = df[f'tokenized_{col}_tag_adv'] / (df[f'tokenized_{col}'].apply(lambda x: len(x)))\n",
    "\n",
    "# For GPT\n",
    "for col in gpt_cols:\n",
    "    df[f'{col}_adv_to_all_words'] = df[f'tokenized_{col}_tag_adv'] / (df[f'tokenized_{col}'].apply(lambda x: len(x)))"
   ]
  },
  {
   "cell_type": "markdown",
   "id": "870e019c",
   "metadata": {},
   "source": [
    "### 1.8.2. Visualize Adb/Verb"
   ]
  },
  {
   "cell_type": "markdown",
   "id": "d32ffccb",
   "metadata": {},
   "source": [
    "#### 1.8.2.1. Prepare dataset to visualize"
   ]
  },
  {
   "cell_type": "code",
   "execution_count": 135,
   "id": "48f415cb",
   "metadata": {},
   "outputs": [],
   "source": [
    "verbnoun_ratio = df[['story_adv_to_verb_ratio',\n",
    " 'Retell_1_adv_to_verb_ratio',\n",
    " 'Retell_2_adv_to_verb_ratio',\n",
    " 'Retell_3_adv_to_verb_ratio',\n",
    " 'GPT_1_adv_to_verb_ratio',\n",
    " 'GPT_2_adv_to_verb_ratio',\n",
    " 'GPT_3_adv_to_verb_ratio']]"
   ]
  },
  {
   "cell_type": "code",
   "execution_count": 136,
   "id": "d194880d",
   "metadata": {},
   "outputs": [],
   "source": [
    "verbnoun_means = pd.DataFrame()\n",
    "verbnoun_means['mean'] = [*verbnoun_ratio.mean()]"
   ]
  },
  {
   "cell_type": "code",
   "execution_count": 161,
   "id": "7f836468",
   "metadata": {},
   "outputs": [],
   "source": [
    "verbnoun_means['gen'] = ['story','Retell_1','Retell_2','Retell_3','GPT_1','GPT_2','GPT_3']\n",
    "verbnoun_means['type'] = ['origin','human','human','human','gpt','gpt','gpt']\n",
    "verbnoun_means = verbnoun_means.set_index(['gen']).reindex(['GPT_1', 'Retell_1','GPT_2', 'Retell_2','GPT_3', 'Retell_3']).reset_index()\n"
   ]
  },
  {
   "cell_type": "code",
   "execution_count": 163,
   "id": "f49cc117",
   "metadata": {},
   "outputs": [
    {
     "data": {
      "text/plain": [
       "Text(0, 0.5, 'Ratio')"
      ]
     },
     "execution_count": 163,
     "metadata": {},
     "output_type": "execute_result"
    },
    {
     "data": {
      "image/png": "[encoded data removed]",
      "text/plain": [
       "<Figure size 640x480 with 1 Axes>"
      ]
     },
     "metadata": {},
     "output_type": "display_data"
    }
   ],
   "source": [
    "adv_ratio\n",
    "plt.bar(verbnoun_means['gen'],verbnoun_means['mean'], color=['steelblue','orange'])\n",
    "plt.title('The Mean Ratio of Adverbs to Total Words (No Negations)')\n",
    "plt.xlabel('Generation')\n",
    "plt.ylabel('Ratio')"
   ]
  },
  {
   "cell_type": "markdown",
   "id": "2e1fbd72",
   "metadata": {},
   "source": [
    "### 1.8.1. Statistical Test for Adv/verb  ratios -Without Negations"
   ]
  },
  {
   "cell_type": "code",
   "execution_count": 148,
   "id": "22d7ab57",
   "metadata": {},
   "outputs": [
    {
     "name": "stdout",
     "output_type": "stream",
     "text": [
      " Z test for differences in adverbs in GPT_R1  vs. Retell_1  is significant with p-value 8.159255743685793e-05\n",
      " Z test for differences in adverbs in GPT_R2  vs. Retell_2  is significant with p-value 3.1124071597232126e-05\n",
      " Z test for differences in adverbs in GPT_R3  vs. Retell_3  is significant with p-value 8.00883856588291e-06\n"
     ]
    }
   ],
   "source": [
    "#Adverb to verb\n",
    "\n",
    "for i in range(1,4):\n",
    "    zscore,pvalue = ztest(x1=df[f'Retell_{i}_adv_to_verb_ratio'], x2=df[f'GPT_{i}_adv_to_verb_ratio'], value=0)\n",
    "    if pvalue < 0.05:\n",
    "        print(f\" Z test for differences in adverb/verb in GPT_R{i}  vs. Retell_{i}  is significant with p-value {pvalue}\")\n",
    "    else:\n",
    "        print(f\" Z test for differences in adverb/verb in GPT_R{i}  vs. Retell_{i}  is not significant with p-value {pvalue}\")\n"
   ]
  },
  {
   "cell_type": "code",
   "execution_count": 166,
   "id": "072f087d",
   "metadata": {},
   "outputs": [
    {
     "name": "stdout",
     "output_type": "stream",
     "text": [
      " Z test for differences in adverb/all in GPT_R1  vs. Retell_1  is significant with p-value 4.871768048034121e-09\n",
      " Z test for differences in adverb/all in GPT_R2  vs. Retell_2  is significant with p-value 1.387808774028879e-09\n",
      " Z test for differences in adverb/all in GPT_R3  vs. Retell_3  is significant with p-value 9.71510127267035e-08\n"
     ]
    }
   ],
   "source": [
    "for i in range(1,4):\n",
    "    zscore,pvalue = ztest(x1=df[f'Retell_{i}_adv_to_all_words'], x2=df[f'GPT_R{i}_adv_to_all_words'], value=0)\n",
    "    if pvalue < 0.05:\n",
    "        print(f\" Z test for differences in adverb/all in GPT_R{i}  vs. Retell_{i}  is significant with p-value {pvalue}\")\n",
    "    else:\n",
    "        print(f\" Z test for differences in adverb/all in GPT_R{i}  vs. Retell_{i}  is not significant with p-value {pvalue}\")"
   ]
  },
  {
   "cell_type": "markdown",
   "id": "a38fd383",
   "metadata": {},
   "source": [
    "### 2. Change in Human Adverb/All Ratio (Without Negation)"
   ]
  },
  {
   "cell_type": "code",
   "execution_count": 167,
   "id": "4e788873",
   "metadata": {},
   "outputs": [
    {
     "name": "stdout",
     "output_type": "stream",
     "text": [
      " Z test for differences in adverb/all in Retell_1  vs. Retell_2  is not significant with p-value 0.5122373434651554\n",
      " Z test for differences in adverb/all in Retell_2  vs. Retell_3  is not significant with p-value 0.8223221099371384\n"
     ]
    }
   ],
   "source": [
    "for i in range(1,3):\n",
    "    zscore,pvalue = ztest(x1=df[f'Retell_{i}_adv_to_all_words'], x2=df[f'Retell_{i+1}_adv_to_all_words'], value=0)\n",
    "    if pvalue < 0.05:\n",
    "        print(f\" Z test for differences in adverb/all in Retell_{i}  vs. Retell_{i+1}  is significant with p-value {pvalue}\")\n",
    "    else:\n",
    "        print(f\" Z test for differences in adverb/all in Retell_{i}  vs. Retell_{i+1}  is not significant with p-value {pvalue}\")"
   ]
  },
  {
   "cell_type": "markdown",
   "id": "38641e18",
   "metadata": {},
   "source": [
    "### 2.1. Change in chatGPT Adverb/All Ratio (Without Negation)"
   ]
  },
  {
   "cell_type": "code",
   "execution_count": 170,
   "id": "c3be5e7f",
   "metadata": {},
   "outputs": [
    {
     "name": "stdout",
     "output_type": "stream",
     "text": [
      " Z test for differences in adverb/all in GPT_R1  vs. GPT_R2  is not significant with p-value 0.14424798356721955\n",
      " Z test for differences in adverb/all in GPT_R2  vs. GPT_R3  is not significant with p-value 0.9336597568161881\n"
     ]
    }
   ],
   "source": [
    "for i in range(1,3):\n",
    "    zscore,pvalue = ztest(x1=df[f'GPT_R{i}_adv_to_all_words'], x2=df[f'GPT_R{i+1}_adv_to_all_words'], value=0)\n",
    "    \n",
    "    if pvalue < 0.05:\n",
    "        print(f\" Z test for differences in adverb/all in GPT_R{i}  vs. GPT_R{i+1}  is significant with p-value {pvalue}\")\n",
    "    else:\n",
    "        print(f\" Z test for differences in adverb/all in GPT_R{i}  vs. GPT_R{i+1}  is not significant with p-value {pvalue}\")"
   ]
  }
 ],
 "metadata": {
  "kernelspec": {
   "display_name": "Python 3 (ipykernel)",
   "language": "python",
   "name": "python3"
  },
  "language_info": {
   "codemirror_mode": {
    "name": "ipython",
    "version": 3
   },
   "file_extension": ".py",
   "mimetype": "text/x-python",
   "name": "python",
   "nbconvert_exporter": "python",
   "pygments_lexer": "ipython3",
   "version": "3.10.10"
  }
 },
 "nbformat": 4,
 "nbformat_minor": 5
}
