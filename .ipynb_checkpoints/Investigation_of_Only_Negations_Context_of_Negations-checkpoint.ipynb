{
 "cells": [
  {
   "cell_type": "markdown",
   "id": "edb7c72f",
   "metadata": {},
   "source": [
    "### 0. Initizalize Packages"
   ]
  },
  {
   "cell_type": "code",
   "execution_count": 270,
   "id": "30df98ae",
   "metadata": {},
   "outputs": [],
   "source": [
    "#!pip install scipy,seaborn\n",
    "import seaborn as sns\n",
    "from scipy.stats import kstest\n",
    "import statsmodels.api as sm\n",
    "\n",
    "\n",
    "import pandas as pd\n",
    "import numpy as np\n",
    "\n",
    "\n",
    "#!pip install -U plotly\n",
    "pd.options.plotting.backend = \"plotly\"\n",
    "\n",
    "#!pip3 install nltk\n",
    "import nltk\n",
    "from nltk import pos_tag\n",
    "from nltk import word_tokenize\n",
    "from nltk.corpus import stopwords\n",
    "from collections import Counter\n",
    "from nltk.tokenize import word_tokenize, sent_tokenize\n",
    "from scipy.stats import chi2_contingency\n",
    "\n",
    "import math\n",
    "from scipy.stats import shapiro \n",
    "from scipy.stats import lognorm\n",
    "from scipy.stats import mannwhitneyu\n",
    "import matplotlib.pyplot as plt\n",
    "import scipy.stats as stats\n",
    "from scipy.stats import ttest_ind\n",
    "from statsmodels.stats.weightstats import ztest as ztest\n",
    "import statsmodels\n",
    "\n",
    "\n",
    "#!pip3 install openpyxl\n",
    "import openpyxl as px\n",
    "from statsmodels.stats.weightstats import ztest"
   ]
  },
  {
   "cell_type": "markdown",
   "id": "5f1bce4f",
   "metadata": {},
   "source": [
    "### 0.1. Read Dataset ( N = 114)"
   ]
  },
  {
   "cell_type": "code",
   "execution_count": 271,
   "id": "8583f668",
   "metadata": {},
   "outputs": [],
   "source": [
    "df = pd.read_excel('all_gpt_human_only_text.xlsx')"
   ]
  },
  {
   "cell_type": "markdown",
   "id": "8fe3fbb9",
   "metadata": {},
   "source": [
    "### 0.1.1 Preprocess"
   ]
  },
  {
   "cell_type": "markdown",
   "id": "200d4329",
   "metadata": {},
   "source": [
    "Get rid of extra white spaces"
   ]
  },
  {
   "cell_type": "code",
   "execution_count": 272,
   "id": "3fff8eb5",
   "metadata": {},
   "outputs": [],
   "source": [
    "def strip(dataframe):\n",
    "    return [s.strip() for s in dataframe]\n",
    "\n",
    "df= df.apply(strip)"
   ]
  },
  {
   "cell_type": "markdown",
   "id": "0d3f9a68",
   "metadata": {},
   "source": [
    "## 1. Pos Tagging with Only Negation Adverbs"
   ]
  },
  {
   "cell_type": "markdown",
   "id": "391d4ba0",
   "metadata": {},
   "source": [
    "Each story's pos taggings completed separately, and counted for the story itself"
   ]
  },
  {
   "cell_type": "code",
   "execution_count": 273,
   "id": "16200dfb",
   "metadata": {},
   "outputs": [],
   "source": [
    "def tokenize_with_negation_only(text):\n",
    "    tokenized_dict = {}\n",
    "    tokenized = word_tokenize(text)\n",
    "    tagged = nltk.pos_tag(tokenized)\n",
    "\n",
    "    to_remove = set()\n",
    "    for i in range(len(tagged)):\n",
    "        if tagged[i][1] in {'RB', 'RBS', 'WRB', 'RBR'} and tagged[i][0].lower() in {'not', \"n't\"}:\n",
    "            pass\n",
    "        elif tagged[i][1] in {'RB', 'RBS', 'WRB','RBR'} and tagged[i][0].lower() not in {'not', \"n't\"}:\n",
    "            to_remove.add(i)\n",
    "\n",
    "        new_tagged = [tagged[i] for i in range(len(tagged)) if i not in to_remove]        \n",
    "\n",
    "    return new_tagged"
   ]
  },
  {
   "cell_type": "code",
   "execution_count": 274,
   "id": "0212587a",
   "metadata": {},
   "outputs": [],
   "source": [
    "## Filter and get words as tokens\n",
    "for column in df.columns:\n",
    "    df[f'tokenized_{column}'] = df[column].apply(lambda x: tokenize_with_negation_only(x))"
   ]
  },
  {
   "cell_type": "markdown",
   "id": "130eba50",
   "metadata": {},
   "source": [
    "### 1.2. Count the pos-tags"
   ]
  },
  {
   "cell_type": "code",
   "execution_count": 275,
   "id": "166c6e4b",
   "metadata": {},
   "outputs": [],
   "source": [
    "#count the tags\n",
    "def count_tags(mydata):\n",
    "    counter_list=[]\n",
    "    for i in mydata:\n",
    "        counter_list.append(i[1])\n",
    "\n",
    "    tag_counts = Counter(counter_list) \n",
    "    return tag_counts"
   ]
  },
  {
   "cell_type": "code",
   "execution_count": 276,
   "id": "e6412d2e",
   "metadata": {},
   "outputs": [],
   "source": [
    "for column in [col for col in df.columns if col.startswith('tokenized_')]:\n",
    "    df[f'{column}_tag_counts'] = df[column].apply(lambda x: count_tags(x))"
   ]
  },
  {
   "cell_type": "code",
   "execution_count": 277,
   "id": "c04bfb52",
   "metadata": {},
   "outputs": [
    {
     "data": {
      "text/plain": [
       "0      {'DT': 16, 'NN': 23, 'WP': 3, 'VBD': 11, 'IN':...\n",
       "1      {'NNP': 4, 'VBD': 14, 'VBG': 7, 'JJ': 9, 'CD':...\n",
       "2      {'DT': 20, 'NNP': 3, 'VBD': 17, 'TO': 7, 'VB':...\n",
       "3      {'DT': 14, 'IN': 14, 'PRP$': 2, 'NN': 22, ',':...\n",
       "4      {'VBP': 7, 'PRP': 26, 'VBD': 18, 'DT': 11, 'NN...\n",
       "                             ...                        \n",
       "111    {'NNP': 6, 'VBZ': 4, 'PRP$': 6, 'NN': 29, '``'...\n",
       "112    {'EX': 1, 'VBD': 19, 'DT': 31, 'NN': 36, 'WP':...\n",
       "113    {'EX': 1, 'VBD': 18, 'DT': 20, 'NN': 32, 'WP':...\n",
       "114    {'CD': 1, 'NN': 30, 'DT': 18, 'VBD': 12, 'VBG'...\n",
       "115    {'DT': 15, 'NN': 24, 'VBD': 12, 'IN': 16, 'JJ'...\n",
       "Name: tokenized_STORY_tag_counts, Length: 116, dtype: object"
      ]
     },
     "execution_count": 277,
     "metadata": {},
     "output_type": "execute_result"
    }
   ],
   "source": [
    "df.tokenized_STORY_tag_counts"
   ]
  },
  {
   "cell_type": "markdown",
   "id": "236b4960",
   "metadata": {},
   "source": [
    "### 1.3. Merge relevant categories together"
   ]
  },
  {
   "cell_type": "markdown",
   "id": "b642c70c",
   "metadata": {},
   "source": [
    "Count tags for all nouns (plural nouns, proper nouns etc.), verbs, adjectives, adverbs, pronouns and prepositions/conjuctions/determiners\n"
   ]
  },
  {
   "cell_type": "code",
   "execution_count": 278,
   "id": "69483d5a",
   "metadata": {},
   "outputs": [],
   "source": [
    "for column in [col for col in df.columns if col.endswith('tag_counts')]:\n",
    "    df[f'{column[:-7]}_noun'] = [*(df[column].apply(lambda x: (x['NN'] + x['NNS'] + x['NNP']+ x['NNPS'])))]\n",
    "    df[f'{column[:-7]}_verb'] = [*(df[column].apply(lambda x: (x['VB'] + x['VBN'] + x['VBG']+ x['VBZ'] + x['VBP']+x['VBD'])))]\n",
    "    df[f'{column[:-7]}_adj'] = [*(df[column].apply(lambda x: (x['JJ'] + x['JJS'] + x['JJR'])))]\n",
    "    df[f'{column[:-7]}_adv'] = [*(df[column].apply(lambda x: (x['RB'] + x['RBR'] + x['WRB'] + + x['RBS'])))]\n",
    "    df[f'{column[:-7]}_pron'] = [*(df[column].apply(lambda x: (x['PRP'] + x['PRP$'] + x['WB']+ x['WB$'])))]\n",
    "    df[f'{column[:-7]}_con_det_prep'] = [*(df[column].apply(lambda x: (x['DT'] + x['IN'] + x['UH']+ x['TO']+ x['WDT']+ x['EX'])))]\n",
    "    df[f'{column[:-7]}_prep'] = [*(df[column].apply(lambda x: (x['IN'])))]\n",
    "\n"
   ]
  },
  {
   "cell_type": "code",
   "execution_count": 279,
   "id": "d0ca89c1",
   "metadata": {},
   "outputs": [
    {
     "data": {
      "text/plain": [
       "201"
      ]
     },
     "execution_count": 279,
     "metadata": {},
     "output_type": "execute_result"
    }
   ],
   "source": [
    "#Double check with other code (Investigate_adverbs) whether the sums are same\n",
    "df['tokenized_Retell_1_tag_adv'].sum() + df['tokenized_Retell_2_tag_adv'].sum()+ df['tokenized_Retell_3_tag_adv'].sum()\n",
    "\n"
   ]
  },
  {
   "cell_type": "markdown",
   "id": "ed5e3b2f",
   "metadata": {},
   "source": [
    "## 1.4. Get Ratio of Grammatical Categories to Word Count"
   ]
  },
  {
   "cell_type": "code",
   "execution_count": 280,
   "id": "c47524a0",
   "metadata": {
    "scrolled": true
   },
   "outputs": [
    {
     "name": "stderr",
     "output_type": "stream",
     "text": [
      "/var/folders/l4/1xnf5c593754ph42_t0k68480000gq/T/ipykernel_12283/4017749826.py:24: PerformanceWarning: DataFrame is highly fragmented.  This is usually the result of calling `frame.insert` many times, which has poor performance.  Consider joining all columns at once using pd.concat(axis=1) instead. To get a de-fragmented frame, use `newframe = frame.copy()`\n",
      "  df[ratio_col] = df[tag_col] / df[col].apply(len)\n",
      "/var/folders/l4/1xnf5c593754ph42_t0k68480000gq/T/ipykernel_12283/4017749826.py:24: PerformanceWarning: DataFrame is highly fragmented.  This is usually the result of calling `frame.insert` many times, which has poor performance.  Consider joining all columns at once using pd.concat(axis=1) instead. To get a de-fragmented frame, use `newframe = frame.copy()`\n",
      "  df[ratio_col] = df[tag_col] / df[col].apply(len)\n",
      "/var/folders/l4/1xnf5c593754ph42_t0k68480000gq/T/ipykernel_12283/4017749826.py:24: PerformanceWarning: DataFrame is highly fragmented.  This is usually the result of calling `frame.insert` many times, which has poor performance.  Consider joining all columns at once using pd.concat(axis=1) instead. To get a de-fragmented frame, use `newframe = frame.copy()`\n",
      "  df[ratio_col] = df[tag_col] / df[col].apply(len)\n",
      "/var/folders/l4/1xnf5c593754ph42_t0k68480000gq/T/ipykernel_12283/4017749826.py:24: PerformanceWarning: DataFrame is highly fragmented.  This is usually the result of calling `frame.insert` many times, which has poor performance.  Consider joining all columns at once using pd.concat(axis=1) instead. To get a de-fragmented frame, use `newframe = frame.copy()`\n",
      "  df[ratio_col] = df[tag_col] / df[col].apply(len)\n",
      "/var/folders/l4/1xnf5c593754ph42_t0k68480000gq/T/ipykernel_12283/4017749826.py:24: PerformanceWarning: DataFrame is highly fragmented.  This is usually the result of calling `frame.insert` many times, which has poor performance.  Consider joining all columns at once using pd.concat(axis=1) instead. To get a de-fragmented frame, use `newframe = frame.copy()`\n",
      "  df[ratio_col] = df[tag_col] / df[col].apply(len)\n",
      "/var/folders/l4/1xnf5c593754ph42_t0k68480000gq/T/ipykernel_12283/4017749826.py:24: PerformanceWarning: DataFrame is highly fragmented.  This is usually the result of calling `frame.insert` many times, which has poor performance.  Consider joining all columns at once using pd.concat(axis=1) instead. To get a de-fragmented frame, use `newframe = frame.copy()`\n",
      "  df[ratio_col] = df[tag_col] / df[col].apply(len)\n",
      "/var/folders/l4/1xnf5c593754ph42_t0k68480000gq/T/ipykernel_12283/4017749826.py:24: PerformanceWarning: DataFrame is highly fragmented.  This is usually the result of calling `frame.insert` many times, which has poor performance.  Consider joining all columns at once using pd.concat(axis=1) instead. To get a de-fragmented frame, use `newframe = frame.copy()`\n",
      "  df[ratio_col] = df[tag_col] / df[col].apply(len)\n",
      "/var/folders/l4/1xnf5c593754ph42_t0k68480000gq/T/ipykernel_12283/4017749826.py:24: PerformanceWarning: DataFrame is highly fragmented.  This is usually the result of calling `frame.insert` many times, which has poor performance.  Consider joining all columns at once using pd.concat(axis=1) instead. To get a de-fragmented frame, use `newframe = frame.copy()`\n",
      "  df[ratio_col] = df[tag_col] / df[col].apply(len)\n",
      "/var/folders/l4/1xnf5c593754ph42_t0k68480000gq/T/ipykernel_12283/4017749826.py:24: PerformanceWarning: DataFrame is highly fragmented.  This is usually the result of calling `frame.insert` many times, which has poor performance.  Consider joining all columns at once using pd.concat(axis=1) instead. To get a de-fragmented frame, use `newframe = frame.copy()`\n",
      "  df[ratio_col] = df[tag_col] / df[col].apply(len)\n",
      "/var/folders/l4/1xnf5c593754ph42_t0k68480000gq/T/ipykernel_12283/4017749826.py:24: PerformanceWarning: DataFrame is highly fragmented.  This is usually the result of calling `frame.insert` many times, which has poor performance.  Consider joining all columns at once using pd.concat(axis=1) instead. To get a de-fragmented frame, use `newframe = frame.copy()`\n",
      "  df[ratio_col] = df[tag_col] / df[col].apply(len)\n",
      "/var/folders/l4/1xnf5c593754ph42_t0k68480000gq/T/ipykernel_12283/4017749826.py:24: PerformanceWarning: DataFrame is highly fragmented.  This is usually the result of calling `frame.insert` many times, which has poor performance.  Consider joining all columns at once using pd.concat(axis=1) instead. To get a de-fragmented frame, use `newframe = frame.copy()`\n",
      "  df[ratio_col] = df[tag_col] / df[col].apply(len)\n",
      "/var/folders/l4/1xnf5c593754ph42_t0k68480000gq/T/ipykernel_12283/4017749826.py:24: PerformanceWarning: DataFrame is highly fragmented.  This is usually the result of calling `frame.insert` many times, which has poor performance.  Consider joining all columns at once using pd.concat(axis=1) instead. To get a de-fragmented frame, use `newframe = frame.copy()`\n",
      "  df[ratio_col] = df[tag_col] / df[col].apply(len)\n",
      "/var/folders/l4/1xnf5c593754ph42_t0k68480000gq/T/ipykernel_12283/4017749826.py:24: PerformanceWarning: DataFrame is highly fragmented.  This is usually the result of calling `frame.insert` many times, which has poor performance.  Consider joining all columns at once using pd.concat(axis=1) instead. To get a de-fragmented frame, use `newframe = frame.copy()`\n",
      "  df[ratio_col] = df[tag_col] / df[col].apply(len)\n"
     ]
    }
   ],
   "source": [
    "cols = [('tokenized_GPT_R3', 'GPT_3'), \n",
    "        ('tokenized_GPT_R2', 'GPT_2'), \n",
    "        ('tokenized_GPT_R1', 'GPT_1'), \n",
    "        ('tokenized_Retell_1', 'Retell_1'), \n",
    "        ('tokenized_Retell_2', 'Retell_2'), \n",
    "        ('tokenized_Retell_3', 'Retell_3'), \n",
    "        ('tokenized_STORY', 'story')]\n",
    "\n",
    "# Define a list of tuples with the tag types and their corresponding suffixes\n",
    "tag_types = [('tag_noun', 'noun'), \n",
    "             ('tag_verb', 'verb'), \n",
    "             ('tag_adj', 'adj'), \n",
    "             ('tag_adv', 'adv'), \n",
    "             ('tag_con_det_prep', 'con_det_prep'), \n",
    "             ('tag_pron', 'pron'), \n",
    "             ('tag_prep', 'prep')]\n",
    "\n",
    "# Loop over each tag type\n",
    "for tag_type, suffix in tag_types:\n",
    "    # Loop over each column and calculate the corresponding tag ratio\n",
    "    for col, col_suffix in cols:\n",
    "        tag_col = col + '_' + tag_type\n",
    "        ratio_col = col_suffix + '_' + suffix + '_ratio'\n",
    "        df[ratio_col] = df[tag_col] / df[col].apply(len)"
   ]
  },
  {
   "cell_type": "markdown",
   "id": "0ae6e965",
   "metadata": {},
   "source": [
    "### 1.4.1. Carry counts and ratios into different DataFrame"
   ]
  },
  {
   "cell_type": "code",
   "execution_count": 281,
   "id": "a664eee1",
   "metadata": {},
   "outputs": [],
   "source": [
    "count_ratio = pd.DataFrame\n",
    "\n",
    "count_ratio= df[['GPT_3_noun_ratio',\n",
    " 'GPT_2_noun_ratio',\n",
    " 'GPT_1_noun_ratio',\n",
    " 'Retell_1_noun_ratio',\n",
    " 'Retell_2_noun_ratio',\n",
    " 'Retell_3_noun_ratio',\n",
    " 'story_noun_ratio',\n",
    " 'GPT_3_verb_ratio',\n",
    " 'GPT_2_verb_ratio',\n",
    " 'GPT_1_verb_ratio',\n",
    " 'Retell_1_verb_ratio',\n",
    " 'Retell_2_verb_ratio',\n",
    " 'Retell_3_verb_ratio',\n",
    " 'story_verb_ratio',\n",
    " 'GPT_3_adj_ratio',\n",
    " 'GPT_2_adj_ratio',\n",
    " 'GPT_1_adj_ratio',\n",
    " 'Retell_1_adj_ratio',\n",
    " 'Retell_2_adj_ratio',\n",
    " 'Retell_3_adj_ratio',\n",
    " 'story_adj_ratio',\n",
    " 'GPT_3_adv_ratio',\n",
    " 'GPT_2_adv_ratio',\n",
    " 'GPT_1_adv_ratio',\n",
    " 'Retell_1_adv_ratio',\n",
    " 'Retell_2_adv_ratio',\n",
    " 'Retell_3_adv_ratio',\n",
    " 'story_adv_ratio',\n",
    " 'GPT_3_con_det_prep_ratio',\n",
    " 'GPT_2_con_det_prep_ratio',\n",
    " 'GPT_1_con_det_prep_ratio',\n",
    " 'Retell_1_con_det_prep_ratio',\n",
    " 'Retell_2_con_det_prep_ratio',\n",
    " 'Retell_3_con_det_prep_ratio',\n",
    " 'story_con_det_prep_ratio',\n",
    " 'GPT_3_pron_ratio',\n",
    " 'GPT_2_pron_ratio',\n",
    " 'GPT_1_pron_ratio',\n",
    " 'Retell_1_pron_ratio',\n",
    " 'Retell_2_pron_ratio',\n",
    " 'Retell_3_pron_ratio',\n",
    " 'story_pron_ratio',\n",
    " 'GPT_3_prep_ratio',\n",
    " 'GPT_2_prep_ratio',\n",
    " 'GPT_1_prep_ratio',\n",
    " 'Retell_1_prep_ratio',\n",
    " 'Retell_2_prep_ratio',\n",
    " 'Retell_3_prep_ratio',\n",
    " 'story_prep_ratio']]"
   ]
  },
  {
   "cell_type": "code",
   "execution_count": 282,
   "id": "b271576d",
   "metadata": {},
   "outputs": [],
   "source": [
    "#store counts into a dataframe \n",
    "counts = pd.DataFrame()\n",
    "\n",
    "df_count = df[['tokenized_STORY_tag_noun',\n",
    " 'tokenized_STORY_tag_verb',\n",
    " 'tokenized_STORY_tag_adj',\n",
    " 'tokenized_STORY_tag_adv',\n",
    " 'tokenized_STORY_tag_pron',\n",
    " 'tokenized_STORY_tag_con_det_prep',\n",
    " 'tokenized_STORY_tag_prep',\n",
    " 'tokenized_GPT_R1_tag_noun',\n",
    " 'tokenized_GPT_R1_tag_verb',\n",
    " 'tokenized_GPT_R1_tag_adj',\n",
    " 'tokenized_GPT_R1_tag_adv',\n",
    " 'tokenized_GPT_R1_tag_pron',\n",
    " 'tokenized_GPT_R1_tag_con_det_prep',\n",
    " 'tokenized_GPT_R1_tag_prep',\n",
    " 'tokenized_GPT_R2_tag_noun',\n",
    " 'tokenized_GPT_R2_tag_verb',\n",
    " 'tokenized_GPT_R2_tag_adj',\n",
    " 'tokenized_GPT_R2_tag_adv',\n",
    " 'tokenized_GPT_R2_tag_pron',\n",
    " 'tokenized_GPT_R2_tag_con_det_prep',\n",
    " 'tokenized_GPT_R2_tag_prep',\n",
    " 'tokenized_GPT_R3_tag_noun',\n",
    " 'tokenized_GPT_R3_tag_verb',\n",
    " 'tokenized_GPT_R3_tag_adj',\n",
    " 'tokenized_GPT_R3_tag_adv',\n",
    " 'tokenized_GPT_R3_tag_pron',\n",
    " 'tokenized_GPT_R3_tag_con_det_prep',\n",
    " 'tokenized_GPT_R3_tag_prep',\n",
    " 'tokenized_Retell_1_tag_noun',\n",
    " 'tokenized_Retell_1_tag_verb',\n",
    " 'tokenized_Retell_1_tag_adj',\n",
    " 'tokenized_Retell_1_tag_adv',\n",
    " 'tokenized_Retell_1_tag_pron',\n",
    " 'tokenized_Retell_1_tag_con_det_prep',\n",
    " 'tokenized_Retell_1_tag_prep',\n",
    " 'tokenized_Retell_2_tag_noun',\n",
    " 'tokenized_Retell_2_tag_verb',\n",
    " 'tokenized_Retell_2_tag_adj',\n",
    " 'tokenized_Retell_2_tag_adv',\n",
    " 'tokenized_Retell_2_tag_pron',\n",
    " 'tokenized_Retell_2_tag_con_det_prep',\n",
    " 'tokenized_Retell_2_tag_prep',\n",
    " 'tokenized_Retell_3_tag_noun',\n",
    " 'tokenized_Retell_3_tag_verb',\n",
    " 'tokenized_Retell_3_tag_adj',\n",
    " 'tokenized_Retell_3_tag_adv',\n",
    " 'tokenized_Retell_3_tag_pron',\n",
    " 'tokenized_Retell_3_tag_con_det_prep',\n",
    " 'tokenized_Retell_3_tag_prep']]\n",
    "\n"
   ]
  },
  {
   "cell_type": "markdown",
   "id": "ab9638b1",
   "metadata": {},
   "source": [
    "Our dataframes are:\n",
    "\n",
    "1-count = df_count\n",
    "2- ratio = count_ratio"
   ]
  },
  {
   "cell_type": "markdown",
   "id": "7d113a1e",
   "metadata": {},
   "source": [
    "### 1.5. Significance Test Between Retellings (Counts of Words)"
   ]
  },
  {
   "cell_type": "code",
   "execution_count": 283,
   "id": "7dcb0a72",
   "metadata": {},
   "outputs": [
    {
     "name": "stderr",
     "output_type": "stream",
     "text": [
      "/Users/eotenen/mambaforge/lib/python3.10/site-packages/scipy/stats/_morestats.py:1816: UserWarning: p-value may not be accurate for N > 5000.\n",
      "  warnings.warn(\"p-value may not be accurate for N > 5000.\")\n"
     ]
    },
    {
     "data": {
      "text/plain": [
       "ShapiroResult(statistic=0.83409184217453, pvalue=0.0)"
      ]
     },
     "execution_count": 283,
     "metadata": {},
     "output_type": "execute_result"
    }
   ],
   "source": [
    "shapiro(df_count) #data is not normal, so we will use Mann-u Whitney"
   ]
  },
  {
   "cell_type": "code",
   "execution_count": 284,
   "id": "c66b00b7",
   "metadata": {},
   "outputs": [
    {
     "data": {
      "text/plain": [
       "0      1\n",
       "1      0\n",
       "2      1\n",
       "3      1\n",
       "4      0\n",
       "      ..\n",
       "111    0\n",
       "112    0\n",
       "113    0\n",
       "114    1\n",
       "115    0\n",
       "Name: tokenized_Retell_1_tag_adv, Length: 116, dtype: int64"
      ]
     },
     "execution_count": 284,
     "metadata": {},
     "output_type": "execute_result"
    }
   ],
   "source": [
    "df_count.tokenized_Retell_1_tag_adv"
   ]
  },
  {
   "cell_type": "code",
   "execution_count": 285,
   "id": "fcf6ffbe",
   "metadata": {},
   "outputs": [
    {
     "name": "stdout",
     "output_type": "stream",
     "text": [
      "Mann-Whitney U test for GPT_R1 vs. Retell_1 is significant with p-value 3.295001170365404e-06, and stat 4692.5\n",
      "Mann-Whitney U test for GPT_R2 vs. Retell_2 is significant with p-value 0.000138704754808258, and stat 5168.0\n",
      "Mann-Whitney U test for GPT_R3 vs. Retell_3 is significant with p-value 4.571222675942299e-05, and stat 5147.0\n"
     ]
    }
   ],
   "source": [
    "for i in range(1, 4):\n",
    "    group1 = df_count[f'tokenized_GPT_R{i}_tag_adv']\n",
    "    group2 = df_count[f'tokenized_Retell_{i}_tag_adv']\n",
    "    statistic, pvalue = stats.mannwhitneyu(group1, group2)\n",
    "    if pvalue < 0.05:\n",
    "        print(f\"Mann-Whitney U test for GPT_R{i} vs. Retell_{i} is significant with p-value {pvalue}, and stat {statistic}\")\n",
    "    else:\n",
    "        print(f\"Mann-Whitney U test for GPT_R{i} vs. Retell_{i} is not significant with p-value {pvalue}, and stat {statistic}\")\n"
   ]
  },
  {
   "cell_type": "code",
   "execution_count": 286,
   "id": "613d4c32",
   "metadata": {},
   "outputs": [
    {
     "name": "stdout",
     "output_type": "stream",
     "text": [
      "human: (0.7241379310344828, 1), gpt: (0.2672413793103448, 1)\n",
      "human: (0.5603448275862069, 2), gpt: (0.20689655172413793, 2)\n",
      "human: (0.4482758620689655, 3), gpt: (0.15517241379310345, 3)\n"
     ]
    }
   ],
   "source": [
    "for i in range(1, 4):\n",
    "    gpt =(df_count[f'tokenized_GPT_R{i}_tag_adv'].mean())\n",
    "    human = (df_count[f'tokenized_Retell_{i}_tag_adv'].mean())\n",
    "    print(f'human: {human,i}, gpt: {gpt,i}')"
   ]
  },
  {
   "cell_type": "code",
   "execution_count": 287,
   "id": "5fc4cee9",
   "metadata": {},
   "outputs": [
    {
     "name": "stdout",
     "output_type": "stream",
     "text": [
      "In total, humans use 201 negations, while ChatGPT uses 73 negations.\n"
     ]
    }
   ],
   "source": [
    "# Total negations of CHATGPT\n",
    "\n",
    "total_neg_gpt = df_count.tokenized_GPT_R1_tag_adv.sum() + df_count.tokenized_GPT_R2_tag_adv.sum() + df_count.tokenized_GPT_R3_tag_adv.sum()\n",
    "\n",
    "\n",
    "total_neg_human = df_count.tokenized_Retell_1_tag_adv.sum()+ df_count.tokenized_Retell_2_tag_adv.sum()+df_count.tokenized_Retell_3_tag_adv.sum()\n",
    "\n",
    "\n",
    "print(f'In total, humans use {total_neg_human} negations, while ChatGPT uses {total_neg_gpt} negations.')\n"
   ]
  },
  {
   "cell_type": "markdown",
   "id": "b868af85",
   "metadata": {},
   "source": [
    "Still adverb use is higher in human than GPT"
   ]
  },
  {
   "cell_type": "markdown",
   "id": "e36c941f",
   "metadata": {},
   "source": [
    "### 1.6. Visualize Counts"
   ]
  },
  {
   "cell_type": "markdown",
   "id": "43d400aa",
   "metadata": {},
   "source": [
    "Prepare dataset accordingly"
   ]
  },
  {
   "cell_type": "code",
   "execution_count": 288,
   "id": "3f267860",
   "metadata": {},
   "outputs": [],
   "source": [
    "count_means = pd.DataFrame()\n",
    "count_means['mean'] = [*df_count.mean()]\n",
    "count_means['gen']= ['origin','origin','origin','origin','origin','origin','origin','GPT_R1','GPT_R1','GPT_R1','GPT_R1','GPT_R1','GPT_R1','GPT_R1','GPT_R2','GPT_R2','GPT_R2','GPT_R2','GPT_R2','GPT_R2','GPT_R2','GPT_R3','GPT_R3','GPT_R3','GPT_R3','GPT_R3','GPT_R3','GPT_R3','Retell_1','Retell_1','Retell_1','Retell_1','Retell_1','Retell_1','Retell_1','Retell_2','Retell_2','Retell_2','Retell_2','Retell_2','Retell_2','Retell_2','Retell_3','Retell_3','Retell_3','Retell_3','Retell_3','Retell_3','Retell_3']\n",
    "count_means['type']= ['noun','verb','adj','adv','pron','con_det_prep','prep','noun','verb','adj','adv','pron','con_det_prep','prep','noun','verb','adj','adv','pron','con_det_prep','prep','noun','verb','adj','adv','pron','con_det_prep','prep','noun','verb','adj','adv','pron','con_det_prep','prep','noun','verb','adj','adv','pron','con_det_prep','prep','noun','verb','adj','adv','pron','con_det_prep','prep']"
   ]
  },
  {
   "cell_type": "markdown",
   "id": "e4eccf54",
   "metadata": {},
   "source": [
    "#### 1.6.1. All Generations"
   ]
  },
  {
   "cell_type": "code",
   "execution_count": 289,
   "id": "d21d9a05",
   "metadata": {},
   "outputs": [],
   "source": [
    "adv = count_means[count_means.type == 'adv']\n",
    "\n",
    "adv = adv.set_index(['gen']).reindex(['GPT_R1', 'Retell_1','GPT_R2', 'Retell_2','GPT_R3', 'Retell_3']).reset_index()\n",
    "\n",
    "adv['group'] = ['chatGPT','Human','chatGPT','Human','chatGPT','Human']"
   ]
  },
  {
   "cell_type": "code",
   "execution_count": 290,
   "id": "b26e3f62",
   "metadata": {},
   "outputs": [
    {
     "data": {
      "text/html": [
       "<div>\n",
       "<style scoped>\n",
       "    .dataframe tbody tr th:only-of-type {\n",
       "        vertical-align: middle;\n",
       "    }\n",
       "\n",
       "    .dataframe tbody tr th {\n",
       "        vertical-align: top;\n",
       "    }\n",
       "\n",
       "    .dataframe thead th {\n",
       "        text-align: right;\n",
       "    }\n",
       "</style>\n",
       "<table border=\"1\" class=\"dataframe\">\n",
       "  <thead>\n",
       "    <tr style=\"text-align: right;\">\n",
       "      <th></th>\n",
       "      <th>gen</th>\n",
       "      <th>mean</th>\n",
       "      <th>type</th>\n",
       "      <th>group</th>\n",
       "    </tr>\n",
       "  </thead>\n",
       "  <tbody>\n",
       "    <tr>\n",
       "      <th>0</th>\n",
       "      <td>GPT_R1</td>\n",
       "      <td>0.267241</td>\n",
       "      <td>adv</td>\n",
       "      <td>chatGPT</td>\n",
       "    </tr>\n",
       "    <tr>\n",
       "      <th>1</th>\n",
       "      <td>Retell_1</td>\n",
       "      <td>0.724138</td>\n",
       "      <td>adv</td>\n",
       "      <td>Human</td>\n",
       "    </tr>\n",
       "    <tr>\n",
       "      <th>2</th>\n",
       "      <td>GPT_R2</td>\n",
       "      <td>0.206897</td>\n",
       "      <td>adv</td>\n",
       "      <td>chatGPT</td>\n",
       "    </tr>\n",
       "    <tr>\n",
       "      <th>3</th>\n",
       "      <td>Retell_2</td>\n",
       "      <td>0.560345</td>\n",
       "      <td>adv</td>\n",
       "      <td>Human</td>\n",
       "    </tr>\n",
       "    <tr>\n",
       "      <th>4</th>\n",
       "      <td>GPT_R3</td>\n",
       "      <td>0.155172</td>\n",
       "      <td>adv</td>\n",
       "      <td>chatGPT</td>\n",
       "    </tr>\n",
       "    <tr>\n",
       "      <th>5</th>\n",
       "      <td>Retell_3</td>\n",
       "      <td>0.448276</td>\n",
       "      <td>adv</td>\n",
       "      <td>Human</td>\n",
       "    </tr>\n",
       "  </tbody>\n",
       "</table>\n",
       "</div>"
      ],
      "text/plain": [
       "        gen      mean type    group\n",
       "0    GPT_R1  0.267241  adv  chatGPT\n",
       "1  Retell_1  0.724138  adv    Human\n",
       "2    GPT_R2  0.206897  adv  chatGPT\n",
       "3  Retell_2  0.560345  adv    Human\n",
       "4    GPT_R3  0.155172  adv  chatGPT\n",
       "5  Retell_3  0.448276  adv    Human"
      ]
     },
     "execution_count": 290,
     "metadata": {},
     "output_type": "execute_result"
    }
   ],
   "source": [
    "adv"
   ]
  },
  {
   "cell_type": "code",
   "execution_count": 291,
   "id": "fb9d985b",
   "metadata": {},
   "outputs": [
    {
     "data": {
      "text/plain": [
       "Text(0, 0.5, 'Count')"
      ]
     },
     "execution_count": 291,
     "metadata": {},
     "output_type": "execute_result"
    },
    {
     "data": {
      "image/png": "[encoded data removed]",
      "text/plain": [
       "<Figure size 640x480 with 1 Axes>"
      ]
     },
     "metadata": {},
     "output_type": "display_data"
    }
   ],
   "source": [
    "plt.bar(adv['gen'],adv['mean'], color=['steelblue','orange'])\n",
    "plt.title('The Mean Number of Negations')\n",
    "plt.xlabel('Generation')\n",
    "plt.ylabel('Count')"
   ]
  },
  {
   "cell_type": "markdown",
   "id": "a918f9b2",
   "metadata": {},
   "source": [
    "## 1.7. Statistical Test for Negations Change Scores\n",
    "\n",
    "Adverbs-Negations (Calculated by subtracting negation counts from original from following Retelling) between Humans & ChatGPT"
   ]
  },
  {
   "cell_type": "markdown",
   "id": "0f0bb195",
   "metadata": {},
   "source": [
    "### 1.7.1. First Retelling "
   ]
  },
  {
   "cell_type": "code",
   "execution_count": 292,
   "id": "5be0eb28",
   "metadata": {},
   "outputs": [],
   "source": [
    "# Include stories with negations only (exclude zeros)\n",
    "df_nozero = df[df.tokenized_STORY_tag_adv!= 0]\n",
    "\n",
    "# Create change score variables by subtracting the number of negations from the number of retell-1's negations \n",
    "df1 =  (df_nozero.tokenized_Retell_1_tag_adv)-(df_nozero.tokenized_STORY_tag_adv) # Human\n",
    "df2 = (df_nozero.tokenized_GPT_R1_tag_adv)-(df_nozero.tokenized_STORY_tag_adv)    # ChatGPT"
   ]
  },
  {
   "cell_type": "code",
   "execution_count": 293,
   "id": "dddc5cfa",
   "metadata": {},
   "outputs": [
    {
     "data": {
      "image/png": "[encoded data removed]",
      "text/plain": [
       "<Figure size 640x480 with 1 Axes>"
      ]
     },
     "metadata": {},
     "output_type": "display_data"
    }
   ],
   "source": [
    "import matplotlib.pyplot as plt\n",
    "import matplotlib.ticker as tkr\n",
    "\n",
    "mybins =np.arange(-5,3,1)-0.5\n",
    "ticks = np.arange(-5,3,1)\n",
    "fig, ax = plt.subplots()\n",
    "\n",
    "# Plot the first histogram\n",
    "ax.hist(df1, bins=mybins, rwidth=0.8, alpha = 0.5, density=True, label='Human')\n",
    "ax.set_xticks(ticks)\n",
    "\n",
    "# Plot the second histogram on the same axes\n",
    "ax.hist(df2, bins=mybins, rwidth=0.8, density=True, alpha = 0.5, label='ChatGPT')\n",
    "\n",
    "# Remove the minor ticks and their labels\n",
    "ax.xaxis.set_minor_locator(tkr.NullLocator())\n",
    "\n",
    "# Add labels, title, and legend\n",
    "ax.set_xlabel('Change Score')\n",
    "ax.set_ylabel('Density')\n",
    "ax.set_title('Distribution of Changes in Number of Negations')\n",
    "ax.legend()\n",
    "\n",
    "\n",
    "U1, p = mannwhitneyu(df1, df2, method=\"exact\")\n",
    "p = round(p,3)\n",
    "plt.text(-5, 0.4, f'U = {U1}, p = {p}')\n",
    "plt.text(-5, 0.42, 'Mann-U Whitney:')\n",
    "\n",
    "plt.show()"
   ]
  },
  {
   "cell_type": "code",
   "execution_count": 294,
   "id": "3c54052e",
   "metadata": {},
   "outputs": [
    {
     "data": {
      "text/plain": [
       "ShapiroResult(statistic=0.9337356090545654, pvalue=0.0005905413418076932)"
      ]
     },
     "execution_count": 294,
     "metadata": {},
     "output_type": "execute_result"
    }
   ],
   "source": [
    "# Test for normality\n",
    "# Shapiro-Wilk Test\n",
    "\n",
    "shapiro(df2)\n",
    "shapiro(df1)"
   ]
  },
  {
   "cell_type": "code",
   "execution_count": 295,
   "id": "ac1543d0",
   "metadata": {},
   "outputs": [
    {
     "name": "stdout",
     "output_type": "stream",
     "text": [
      "stat = 3787.0, p value = 0.0028099408389404335\n",
      "human mean= -0.961038961038961, ChatGPT mean= -1.5194805194805194\n"
     ]
    }
   ],
   "source": [
    "# Test for these non-parametric test\n",
    "\n",
    "from scipy.stats import mannwhitneyu\n",
    "U1, p = mannwhitneyu(df1, df2, method=\"exact\")\n",
    "print(f'stat = {U1}, p value = {p}')\n",
    "df1_m = df1.mean()\n",
    "df2_m = df2.mean()\n",
    "print(f'human mean= {df1_m}, ChatGPT mean= {df2_m}')"
   ]
  },
  {
   "cell_type": "markdown",
   "id": "174d35b0",
   "metadata": {},
   "source": [
    "### 1.7.2. Comparison of Negations in Happy and Sad Memories"
   ]
  },
  {
   "cell_type": "markdown",
   "id": "001d31c7",
   "metadata": {},
   "source": [
    "#### Assign Emotion Variable"
   ]
  },
  {
   "cell_type": "code",
   "execution_count": 296,
   "id": "34089079",
   "metadata": {},
   "outputs": [],
   "source": [
    "# Assign Emotion \n",
    "\n",
    "numbers= list(range(0,116)) # all list\n",
    "\n",
    "# Assign 'happy' to the first 20 rows and 'sad' to the rest\n",
    "df['emotion'] = ['happy' if (num < 47) or (97 <= num < 108) else 'sad' for num in numbers]"
   ]
  },
  {
   "cell_type": "markdown",
   "id": "c3369cd2",
   "metadata": {},
   "source": [
    "### 1.  First Retelling - Original "
   ]
  },
  {
   "cell_type": "code",
   "execution_count": 297,
   "id": "ed716f22",
   "metadata": {},
   "outputs": [
    {
     "name": "stdout",
     "output_type": "stream",
     "text": [
      "In first retelling: \n",
      " Human Happy Mean = -1.0, GPT Happy Mean = -1.4545454545454546, p value = 0.05907145919014812,\n",
      "  Human Sad Mean = -0.9318181818181818, GPT Sad Mean = -1.5681818181818181, p value = 0.02737501171267082\n"
     ]
    },
    {
     "name": "stderr",
     "output_type": "stream",
     "text": [
      "/var/folders/l4/1xnf5c593754ph42_t0k68480000gq/T/ipykernel_12283/3778787132.py:5: SettingWithCopyWarning: \n",
      "A value is trying to be set on a copy of a slice from a DataFrame.\n",
      "Try using .loc[row_indexer,col_indexer] = value instead\n",
      "\n",
      "See the caveats in the documentation: https://pandas.pydata.org/pandas-docs/stable/user_guide/indexing.html#returning-a-view-versus-a-copy\n",
      "  df_nozero['first_human_change'] = (df_nozero.tokenized_Retell_1_tag_adv)-(df_nozero.tokenized_STORY_tag_adv)\n",
      "/var/folders/l4/1xnf5c593754ph42_t0k68480000gq/T/ipykernel_12283/3778787132.py:6: SettingWithCopyWarning: \n",
      "A value is trying to be set on a copy of a slice from a DataFrame.\n",
      "Try using .loc[row_indexer,col_indexer] = value instead\n",
      "\n",
      "See the caveats in the documentation: https://pandas.pydata.org/pandas-docs/stable/user_guide/indexing.html#returning-a-view-versus-a-copy\n",
      "  df_nozero['first_gpt_change'] = (df_nozero.tokenized_GPT_R1_tag_adv)-(df_nozero.tokenized_STORY_tag_adv)    # ChatGPT\n",
      "/var/folders/l4/1xnf5c593754ph42_t0k68480000gq/T/ipykernel_12283/3778787132.py:8: SettingWithCopyWarning: \n",
      "A value is trying to be set on a copy of a slice from a DataFrame.\n",
      "Try using .loc[row_indexer,col_indexer] = value instead\n",
      "\n",
      "See the caveats in the documentation: https://pandas.pydata.org/pandas-docs/stable/user_guide/indexing.html#returning-a-view-versus-a-copy\n",
      "  df_nozero['first_human_change_ratio'] = ((df_nozero.tokenized_Retell_1_tag_adv)-(df_nozero.tokenized_STORY_tag_adv))/ df_nozero.tokenized_STORY_tag_adv\n",
      "/var/folders/l4/1xnf5c593754ph42_t0k68480000gq/T/ipykernel_12283/3778787132.py:9: SettingWithCopyWarning: \n",
      "A value is trying to be set on a copy of a slice from a DataFrame.\n",
      "Try using .loc[row_indexer,col_indexer] = value instead\n",
      "\n",
      "See the caveats in the documentation: https://pandas.pydata.org/pandas-docs/stable/user_guide/indexing.html#returning-a-view-versus-a-copy\n",
      "  df_nozero['first_gpt_change_ratio'] = ((df_nozero.tokenized_GPT_R1_tag_adv)-(df_nozero.tokenized_STORY_tag_adv)) /df_nozero.tokenized_STORY_tag_adv   # ChatGPT\n"
     ]
    }
   ],
   "source": [
    "#Include stories with negations only (exclude zeros)\n",
    "df_nozero = df[df.tokenized_STORY_tag_adv!= 0]\n",
    "\n",
    "\n",
    "df_nozero['first_human_change'] = (df_nozero.tokenized_Retell_1_tag_adv)-(df_nozero.tokenized_STORY_tag_adv) \n",
    "df_nozero['first_gpt_change'] = (df_nozero.tokenized_GPT_R1_tag_adv)-(df_nozero.tokenized_STORY_tag_adv)    # ChatGPT\n",
    "\n",
    "df_nozero['first_human_change_ratio'] = ((df_nozero.tokenized_Retell_1_tag_adv)-(df_nozero.tokenized_STORY_tag_adv))/ df_nozero.tokenized_STORY_tag_adv\n",
    "df_nozero['first_gpt_change_ratio'] = ((df_nozero.tokenized_GPT_R1_tag_adv)-(df_nozero.tokenized_STORY_tag_adv)) /df_nozero.tokenized_STORY_tag_adv   # ChatGPT\n",
    "\n",
    "#Look the counts of change scores\n",
    "\n",
    "#       HAPPY \n",
    "df_nozero[df_nozero['emotion']=='happy']['first_human_change'].value_counts() # One increase (N=1)\n",
    "df_nozero[df_nozero['emotion']=='happy']['first_gpt_change'].value_counts() # No increase\n",
    "\n",
    "#      SAD\n",
    "df_nozero[df_nozero['emotion']=='sad']['first_human_change'].value_counts() # Nine increase (N=9)\n",
    "df_nozero[df_nozero['emotion']=='sad']['first_gpt_change'].value_counts() # No increase\n",
    "\n",
    "\n",
    "\n",
    "#   SIGNIFICANCE TEST \n",
    "\n",
    "# Happy (Human vs. GPT ) ---- different\n",
    "U1, p1 = mannwhitneyu(df_nozero[df_nozero['emotion']=='happy']['first_human_change'],df_nozero[df_nozero['emotion']=='happy']['first_gpt_change'], method=\"exact\")\n",
    "p1\n",
    "\n",
    "\n",
    "\n",
    "# Sad (Human vs. GPT) ----- different\n",
    "\n",
    "U2, p2 = mannwhitneyu(df_nozero[df_nozero['emotion']=='sad']['first_human_change'], df_nozero[df_nozero['emotion']=='sad']['first_gpt_change'], method=\"exact\")\n",
    "p2\n",
    "\n",
    "\n",
    "human_mean_h = (df_nozero[df_nozero['emotion']=='happy']['first_human_change']).mean()\n",
    "gpt_mean_h = (df_nozero[df_nozero['emotion']=='happy']['first_gpt_change']).mean()\n",
    "\n",
    "human_mean_s = (df_nozero[df_nozero['emotion']=='sad']['first_human_change']).mean()\n",
    "gpt_mean_s = (df_nozero[df_nozero['emotion']=='sad']['first_gpt_change']).mean()\n",
    "\n",
    "print(f'In first retelling: \\n Human Happy Mean = {human_mean_h}, GPT Happy Mean = {gpt_mean_h}, p value = {p1},\\n  Human Sad Mean = {human_mean_s}, GPT Sad Mean = {gpt_mean_s}, p value = {p2}')\n"
   ]
  },
  {
   "cell_type": "markdown",
   "id": "63fcb1d8",
   "metadata": {},
   "source": [
    "#### 1. Comparison of Within Groups (First Retelling)"
   ]
  },
  {
   "cell_type": "markdown",
   "id": "aebca03c",
   "metadata": {},
   "source": [
    "### 1. Mann u Whitney"
   ]
  },
  {
   "cell_type": "code",
   "execution_count": 298,
   "id": "88dfe975",
   "metadata": {},
   "outputs": [
    {
     "name": "stdout",
     "output_type": "stream",
     "text": [
      "First retelling: \n",
      " Human Happy Mean = -1.0, Human Sad Mean = -0.9318181818181818, p value = 0.938834437991539,\n",
      " GPT Happy Mean = -1.4545454545454546, GPT Sad Mean = -1.5681818181818181, p value = 0.05907145919014812, U = 397.0\n"
     ]
    }
   ],
   "source": [
    "#   SIGNIFICANCE TEST \n",
    "\n",
    "# Human (happy vs. sad) ---- no difference\n",
    "U1, p1 = mannwhitneyu(df_nozero[df_nozero['emotion']=='happy']['first_human_change'],df_nozero[df_nozero['emotion']=='sad']['first_human_change'], method=\"exact\")\n",
    "p1\n",
    "\n",
    "\n",
    "\n",
    "# GPT (happy vs. sad) ----- no difference\n",
    "\n",
    "U2, p2 = mannwhitneyu(df_nozero[df_nozero['emotion']=='happy']['first_gpt_change'], df_nozero[df_nozero['emotion']=='happy']['first_human_change'], method=\"exact\")\n",
    "U2, p2\n",
    "\n",
    "\n",
    "human_mean_h = (df_nozero[df_nozero['emotion']=='happy']['first_human_change']).mean()\n",
    "gpt_mean_h = (df_nozero[df_nozero['emotion']=='happy']['first_gpt_change']).mean()\n",
    "\n",
    "human_mean_s = (df_nozero[df_nozero['emotion']=='sad']['first_human_change']).mean()\n",
    "gpt_mean_s = (df_nozero[df_nozero['emotion']=='sad']['first_gpt_change']).mean()\n",
    "\n",
    "print(f'First retelling: \\n Human Happy Mean = {human_mean_h}, Human Sad Mean = {human_mean_s}, p value = {p1},\\n GPT Happy Mean = {gpt_mean_h}, GPT Sad Mean = {gpt_mean_s}, p value = {p2}, U = {U2}')\n",
    "\n",
    "\n",
    "# Overall\n",
    "\n",
    "human_mean = (df_nozero['first_human_change']).mean()\n",
    "gpt_mean = (df_nozero['first_gpt_change']).mean()\n",
    "\n",
    "U2, p2 = mannwhitneyu(df_nozero['first_human_change'], df_nozero['first_gpt_change'], method=\"exact\")\n",
    "#U2, p2, human_mean, gpt_mean\n"
   ]
  },
  {
   "cell_type": "markdown",
   "id": "ae486ceb",
   "metadata": {},
   "source": [
    "### 1. Overall t-test  (Ratio-Original)"
   ]
  },
  {
   "cell_type": "code",
   "execution_count": 299,
   "id": "9a59ca4e",
   "metadata": {},
   "outputs": [
    {
     "name": "stdout",
     "output_type": "stream",
     "text": [
      "First Retelling (t-test) :\n",
      "The difference between human (M = -0.398, SD = 1.674) and \n",
      "ChatGPT (M = -0.815, SD = 0.1) is significant (t(152) = -4.896, p = 0.0)\n"
     ]
    }
   ],
   "source": [
    "# Look at variance in gpt and human in third\n",
    "\n",
    "#Means\n",
    "mean_human = round(np.mean(df_nozero['first_human_change_ratio']),3)\n",
    "mean_gpt = round(np.mean(df_nozero['first_gpt_change_ratio']),3)\n",
    "\n",
    "#Variances\n",
    "sd_human = round(np.var(df_nozero['first_human_change']),3)\n",
    "sd_gpt = round(np.var(df_nozero['first_gpt_change_ratio']),3)\n",
    "\n",
    "\n",
    "#Welsch's t test\n",
    "test = (stats.ttest_ind(df_nozero['first_gpt_change_ratio'], df_nozero['first_human_change_ratio'], equal_var = False))\n",
    "\n",
    "# Get degrees of freedom\n",
    "def welch_dof(x,y):\n",
    "        dof = (x.var()/x.size + y.var()/y.size)**2 / ((x.var()/x.size)**2 / (x.size-1) + (y.var()/y.size)**2 / (y.size-1))\n",
    "        return(f\"{dof:.1f}\")\n",
    "\n",
    "def degrees_of_freedom(x,y):\n",
    "    dof = (len(x) - 1) + (len(y) - 1)\n",
    "    return dof\n",
    "\n",
    "        \n",
    "dfs = welch_dof(df_nozero['first_gpt_change_ratio'], df_nozero['first_human_change_ratio'])\n",
    "\n",
    "\n",
    "dfreedom= degrees_of_freedom(df_nozero['first_gpt_change_ratio'], df_nozero['first_human_change_ratio'])\n",
    "\n",
    "print(f'First Retelling (t-test) :\\nThe difference between human (M = {mean_human}, SD = {sd_human}) and \\nChatGPT (M = {mean_gpt}, SD = {sd_gpt}) is significant (t({dfreedom}) = {round(test[0],3)}, p = {round(test[1],4)})')\n"
   ]
  },
  {
   "cell_type": "markdown",
   "id": "3bc368bd",
   "metadata": {},
   "source": [
    "### 1.Overall t-test  (Ratio-Original -Sad)"
   ]
  },
  {
   "cell_type": "code",
   "execution_count": 300,
   "id": "a9727763",
   "metadata": {},
   "outputs": [
    {
     "name": "stdout",
     "output_type": "stream",
     "text": [
      " In first retelling (Sad Stories): \n",
      " The difference between human (M = -0.341, SD = 0.5997)  \n",
      " ChatGPT (M = -0.828, SD = 0.0778) is significant (t(152) = -3.878, p = 0.0)\n"
     ]
    }
   ],
   "source": [
    "# Look at variance in gpt and human \n",
    "\n",
    "#Means\n",
    "mean_human = round(np.mean(df_nozero[df_nozero['emotion']=='sad']['first_human_change_ratio']),3)\n",
    "mean_gpt = round(np.mean(df_nozero[df_nozero['emotion']=='sad']['first_gpt_change_ratio']),3)\n",
    "\n",
    "#Variances\n",
    "sd_human = round(np.var(df_nozero[df_nozero['emotion']=='sad']['first_human_change_ratio']),4)\n",
    "sd_gpt = round(np.var(df_nozero[df_nozero['emotion']=='sad']['first_gpt_change_ratio']),4)\n",
    "\n",
    "\n",
    "#Welsch's t test\n",
    "test = (stats.ttest_ind(df_nozero[df_nozero['emotion']=='sad']['first_gpt_change_ratio'], df_nozero[df_nozero['emotion']=='sad']['first_human_change_ratio'], equal_var = False))\n",
    "\n",
    "# Get degrees of freedom\n",
    "def welch_dof(x,y):\n",
    "        dof = (x.var()/x.size + y.var()/y.size)**2 / ((x.var()/x.size)**2 / (x.size-1) + (y.var()/y.size)**2 / (y.size-1))\n",
    "        return(f\"{dof:.1f}\")\n",
    "        \n",
    "dfs = welch_dof(df_nozero[df_nozero['emotion']=='sad']['first_gpt_change_ratio'], df_nozero[df_nozero['emotion']=='sad']['first_human_change_ratio'])\n",
    "\n",
    "\n",
    "\n",
    "\n",
    "print(f' In first retelling (Sad Stories): \\n The difference between human (M = {mean_human}, SD = {sd_human})  \\n ChatGPT (M = {mean_gpt}, SD = {sd_gpt}) is significant (t({dfreedom}) = {round(test[0],3)}, p = {round(test[1],3)})')\n",
    "      "
   ]
  },
  {
   "cell_type": "markdown",
   "id": "92283e68",
   "metadata": {},
   "source": [
    "### 1.Overall t-test  (Ratio-Original-Happy)"
   ]
  },
  {
   "cell_type": "code",
   "execution_count": 301,
   "id": "8cdd347f",
   "metadata": {},
   "outputs": [
    {
     "name": "stdout",
     "output_type": "stream",
     "text": [
      " In first retelling (Happy Stories): \n",
      " The difference between human (M = -0.475, SD = 0.2409)  \n",
      " ChatGPT (M = -0.798, SD = 0.1292) is significant (t(152) = -3.01, p = 0.0)\n"
     ]
    }
   ],
   "source": [
    "# Look at variance in gpt and human \n",
    "\n",
    "#Means\n",
    "mean_human = round(np.mean(df_nozero[df_nozero['emotion']=='happy']['first_human_change_ratio']),3)\n",
    "mean_gpt = round(np.mean(df_nozero[df_nozero['emotion']=='happy']['first_gpt_change_ratio']),3)\n",
    "\n",
    "#Variances\n",
    "sd_human = round(np.var(df_nozero[df_nozero['emotion']=='happy']['first_human_change_ratio']),4)\n",
    "sd_gpt = round(np.var(df_nozero[df_nozero['emotion']=='happy']['first_gpt_change_ratio']),4)\n",
    "\n",
    "\n",
    "#Welsch's t test\n",
    "test = (stats.ttest_ind(df_nozero[df_nozero['emotion']=='happy']['first_gpt_change_ratio'], df_nozero[df_nozero['emotion']=='happy']['first_human_change_ratio'], equal_var = False))\n",
    "\n",
    "# Get degrees of freedom\n",
    "def welch_dof(x,y):\n",
    "        dof = (x.var()/x.size + y.var()/y.size)**2 / ((x.var()/x.size)**2 / (x.size-1) + (y.var()/y.size)**2 / (y.size-1))\n",
    "        return(f\"{dof:.1f}\")\n",
    "        \n",
    "dfs = welch_dof(df_nozero[df_nozero['emotion']=='happy']['first_gpt_change_ratio'], df_nozero[df_nozero['emotion']=='happy']['first_human_change_ratio'])\n",
    "\n",
    "\n",
    "\n",
    "\n",
    "print(f' In first retelling (Happy Stories): \\n The difference between human (M = {mean_human}, SD = {sd_human})  \\n ChatGPT (M = {mean_gpt}, SD = {sd_gpt}) is significant (t({dfreedom}) = {round(test[0],2)}, p = {round(test[1],2)})')\n",
    "      "
   ]
  },
  {
   "cell_type": "markdown",
   "id": "6b54ff23",
   "metadata": {},
   "source": [
    "### 1.T-Test - First Retelling (Sad Stories) - Raw Scores"
   ]
  },
  {
   "cell_type": "code",
   "execution_count": 302,
   "id": "9069b21e",
   "metadata": {},
   "outputs": [
    {
     "name": "stdout",
     "output_type": "stream",
     "text": [
      " In first retelling (Sad Stories): \n",
      " The difference between human (M = -0.93, SD = 1.93)  \n",
      " ChatGPT (M = -1.57, SD = 0.75) is significant (t(71.9) = -2.55, p = 0.01)\n"
     ]
    }
   ],
   "source": [
    "# Look at variance in gpt and human \n",
    "\n",
    "#Means\n",
    "mean_human = round(np.mean(df_nozero[df_nozero['emotion']=='sad']['first_human_change']),2)\n",
    "mean_gpt = round(np.mean(df_nozero[df_nozero['emotion']=='sad']['first_gpt_change']),2)\n",
    "\n",
    "#Variances\n",
    "sd_human = round(np.var(df_nozero[df_nozero['emotion']=='sad']['first_human_change']),2)\n",
    "sd_gpt = round(np.var(df_nozero[df_nozero['emotion']=='sad']['first_gpt_change']),2)\n",
    "\n",
    "\n",
    "#Welsch's t test\n",
    "test = (stats.ttest_ind(df_nozero[df_nozero['emotion']=='sad']['first_gpt_change'], df_nozero[df_nozero['emotion']=='sad']['first_human_change'], equal_var = False))\n",
    "\n",
    "# Get degrees of freedom\n",
    "def welch_dof(x,y):\n",
    "        dof = (x.var()/x.size + y.var()/y.size)**2 / ((x.var()/x.size)**2 / (x.size-1) + (y.var()/y.size)**2 / (y.size-1))\n",
    "        return(f\"{dof:.1f}\")\n",
    "        \n",
    "dfs = welch_dof(df_nozero[df_nozero['emotion']=='sad']['first_gpt_change'], df_nozero[df_nozero['emotion']=='sad']['first_human_change'])\n",
    "\n",
    "\n",
    "\n",
    "\n",
    "print(f' In first retelling (Sad Stories): \\n The difference between human (M = {mean_human}, SD = {sd_human})  \\n ChatGPT (M = {mean_gpt}, SD = {sd_gpt}) is significant (t({dfs}) = {round(test[0],2)}, p = {round(test[1],2)})')\n",
    "      "
   ]
  },
  {
   "cell_type": "markdown",
   "id": "05f2b45f",
   "metadata": {},
   "source": [
    "### 1.T-Test - First Retelling (Happy Stories) - Raw Scores"
   ]
  },
  {
   "cell_type": "code",
   "execution_count": 303,
   "id": "5304b93a",
   "metadata": {},
   "outputs": [
    {
     "name": "stdout",
     "output_type": "stream",
     "text": [
      " In first retelling (Happy Stories): \n",
      " The difference between human (M = -1.0, SD = 1.33)  \n",
      " ChatGPT (M = -1.45, SD = 1.1) is significant (t(152) = -1.65, p = 0.1)\n"
     ]
    }
   ],
   "source": [
    "# Look at variance in gpt and human \n",
    "\n",
    "#Means\n",
    "mean_human = round(np.mean(df_nozero[df_nozero['emotion']=='happy']['first_human_change']),2)\n",
    "mean_gpt = round(np.mean(df_nozero[df_nozero['emotion']=='happy']['first_gpt_change']),2)\n",
    "\n",
    "#Variances\n",
    "sd_human = round(np.var(df_nozero[df_nozero['emotion']=='happy']['first_human_change']),2)\n",
    "sd_gpt = round(np.var(df_nozero[df_nozero['emotion']=='happy']['first_gpt_change']),2)\n",
    "\n",
    "\n",
    "#Welsch's t test\n",
    "test = (stats.ttest_ind(df_nozero[df_nozero['emotion']=='happy']['first_gpt_change'], df_nozero[df_nozero['emotion']=='happy']['first_human_change'], equal_var = False))\n",
    "\n",
    "# Get degrees of freedom\n",
    "def welch_dof(x,y):\n",
    "        dof = (x.var()/x.size + y.var()/y.size)**2 / ((x.var()/x.size)**2 / (x.size-1) + (y.var()/y.size)**2 / (y.size-1))\n",
    "        return(f\"{dof:.1f}\")\n",
    "        \n",
    "dfs = welch_dof(df_nozero[df_nozero['emotion']=='happy']['first_gpt_change'], df_nozero[df_nozero['emotion']=='happy']['first_human_change'])\n",
    "\n",
    "\n",
    "\n",
    "\n",
    "print(f' In first retelling (Happy Stories): \\n The difference between human (M = {mean_human}, SD = {sd_human})  \\n ChatGPT (M = {mean_gpt}, SD = {sd_gpt}) is significant (t({dfreedom}) = {round(test[0],2)}, p = {round(test[1],2)})')\n",
    "      "
   ]
  },
  {
   "cell_type": "markdown",
   "id": "702592b6",
   "metadata": {},
   "source": [
    "### 2. Second Retelling - First Retelling\n"
   ]
  },
  {
   "cell_type": "code",
   "execution_count": 304,
   "id": "0304ce38",
   "metadata": {
    "scrolled": true
   },
   "outputs": [
    {
     "name": "stderr",
     "output_type": "stream",
     "text": [
      "/var/folders/l4/1xnf5c593754ph42_t0k68480000gq/T/ipykernel_12283/847835382.py:5: SettingWithCopyWarning: \n",
      "A value is trying to be set on a copy of a slice from a DataFrame.\n",
      "Try using .loc[row_indexer,col_indexer] = value instead\n",
      "\n",
      "See the caveats in the documentation: https://pandas.pydata.org/pandas-docs/stable/user_guide/indexing.html#returning-a-view-versus-a-copy\n",
      "  df_nozero_h['second_human_change'] = (df_nozero_h.tokenized_Retell_2_tag_adv)-(df_nozero_h.tokenized_Retell_1_tag_adv)\n",
      "/var/folders/l4/1xnf5c593754ph42_t0k68480000gq/T/ipykernel_12283/847835382.py:6: SettingWithCopyWarning: \n",
      "A value is trying to be set on a copy of a slice from a DataFrame.\n",
      "Try using .loc[row_indexer,col_indexer] = value instead\n",
      "\n",
      "See the caveats in the documentation: https://pandas.pydata.org/pandas-docs/stable/user_guide/indexing.html#returning-a-view-versus-a-copy\n",
      "  df_nozero_g['second_gpt_change'] = (df_nozero_g.tokenized_GPT_R2_tag_adv)-(df_nozero_g.tokenized_GPT_R1_tag_adv)    # ChatGPT\n",
      "/var/folders/l4/1xnf5c593754ph42_t0k68480000gq/T/ipykernel_12283/847835382.py:8: SettingWithCopyWarning: \n",
      "A value is trying to be set on a copy of a slice from a DataFrame.\n",
      "Try using .loc[row_indexer,col_indexer] = value instead\n",
      "\n",
      "See the caveats in the documentation: https://pandas.pydata.org/pandas-docs/stable/user_guide/indexing.html#returning-a-view-versus-a-copy\n",
      "  df_nozero_h['second_human_change_ratio'] = ((df_nozero_h.tokenized_Retell_2_tag_adv)-(df_nozero_h.tokenized_Retell_1_tag_adv))/ (df_nozero_h.tokenized_Retell_1_tag_adv)\n",
      "/var/folders/l4/1xnf5c593754ph42_t0k68480000gq/T/ipykernel_12283/847835382.py:9: SettingWithCopyWarning: \n",
      "A value is trying to be set on a copy of a slice from a DataFrame.\n",
      "Try using .loc[row_indexer,col_indexer] = value instead\n",
      "\n",
      "See the caveats in the documentation: https://pandas.pydata.org/pandas-docs/stable/user_guide/indexing.html#returning-a-view-versus-a-copy\n",
      "  df_nozero_g['second_gpt_change_ratio'] = ((df_nozero_g.tokenized_GPT_R2_tag_adv)-(df_nozero_g.tokenized_GPT_R1_tag_adv))/(df_nozero_g.tokenized_GPT_R1_tag_adv)    # ChatGPT\n"
     ]
    }
   ],
   "source": [
    "#Include stories with negations only (exclude zeros)\n",
    "df_nozero_h = df[(df.tokenized_Retell_1_tag_adv!= 0)]\n",
    "df_nozero_g =  df[(df.tokenized_GPT_R1_tag_adv!= 0)]\n",
    "\n",
    "df_nozero_h['second_human_change'] = (df_nozero_h.tokenized_Retell_2_tag_adv)-(df_nozero_h.tokenized_Retell_1_tag_adv) \n",
    "df_nozero_g['second_gpt_change'] = (df_nozero_g.tokenized_GPT_R2_tag_adv)-(df_nozero_g.tokenized_GPT_R1_tag_adv)    # ChatGPT\n",
    "\n",
    "df_nozero_h['second_human_change_ratio'] = ((df_nozero_h.tokenized_Retell_2_tag_adv)-(df_nozero_h.tokenized_Retell_1_tag_adv))/ (df_nozero_h.tokenized_Retell_1_tag_adv)\n",
    "df_nozero_g['second_gpt_change_ratio'] = ((df_nozero_g.tokenized_GPT_R2_tag_adv)-(df_nozero_g.tokenized_GPT_R1_tag_adv))/(df_nozero_g.tokenized_GPT_R1_tag_adv)    # ChatGPT\n"
   ]
  },
  {
   "cell_type": "markdown",
   "id": "2bf2e82c",
   "metadata": {},
   "source": [
    "### 2. Overall Mann-U Whitney "
   ]
  },
  {
   "cell_type": "code",
   "execution_count": 305,
   "id": "adb93c54",
   "metadata": {},
   "outputs": [
    {
     "data": {
      "text/plain": [
       "(716.5, 0.3983738613677733, -0.6166666666666667, -0.4444444444444444)"
      ]
     },
     "execution_count": 305,
     "metadata": {},
     "output_type": "execute_result"
    }
   ],
   "source": [
    "human_mean = (df_nozero_h['second_human_change']).mean()\n",
    "gpt_mean = (df_nozero_g['second_gpt_change']).mean()\n",
    "\n",
    "U2, p2 = mannwhitneyu(df_nozero_h['second_human_change'], df_nozero_g['second_gpt_change'], method=\"exact\")\n",
    "U2, p2, human_mean, gpt_mean"
   ]
  },
  {
   "cell_type": "markdown",
   "id": "e556c7a8",
   "metadata": {},
   "source": [
    "### 2. Overall t-test  (Ratio-Original)"
   ]
  },
  {
   "cell_type": "code",
   "execution_count": 306,
   "id": "09021fc6",
   "metadata": {},
   "outputs": [
    {
     "name": "stdout",
     "output_type": "stream",
     "text": [
      "Second Retelling (All Stories):\n",
      "The difference between human (M = -0.425, SD = 0.3365) and \n",
      "ChatGPT (M = -0.37, SD = 0.2888) is not significant (t(152) = 0.421, p = 0.675)\n"
     ]
    }
   ],
   "source": [
    "# Look at variance in gpt and human in third\n",
    "\n",
    "#Means\n",
    "mean_human = round(np.mean(df_nozero_h['second_human_change_ratio']),3)\n",
    "mean_gpt = round(np.mean(df_nozero_g['second_gpt_change_ratio']),3)\n",
    "\n",
    "#Variances\n",
    "sd_human = round(np.var(df_nozero_h['second_human_change_ratio']),4)\n",
    "sd_gpt = round(np.var(df_nozero_g['second_gpt_change_ratio']),4)\n",
    "\n",
    "\n",
    "#Welsch's t test\n",
    "test = (stats.ttest_ind(df_nozero_g['second_gpt_change_ratio'], df_nozero_h['second_human_change_ratio'], equal_var = False))\n",
    "\n",
    "\n",
    "dfs = welch_dof(df_nozero_g['second_gpt_change_ratio'], df_nozero_h['second_human_change_ratio'])\n",
    "\n",
    "\n",
    "\n",
    "\n",
    "print(f'Second Retelling (All Stories):\\nThe difference between human (M = {mean_human}, SD = {sd_human}) and \\nChatGPT (M = {mean_gpt}, SD = {sd_gpt}) is not significant (t({dfreedom}) = {round(test[0],3)}, p = {round(test[1],3)})')\n",
    "      "
   ]
  },
  {
   "cell_type": "markdown",
   "id": "29cf47b2",
   "metadata": {},
   "source": [
    "### 2. Overall t-test  (Ratio-Original-Sad)"
   ]
  },
  {
   "cell_type": "code",
   "execution_count": 307,
   "id": "ba875ac7",
   "metadata": {},
   "outputs": [
    {
     "name": "stdout",
     "output_type": "stream",
     "text": [
      "Second Retelling (Sad Stories):\n",
      "The difference between human (M = -0.39, SD = 0.29) and \n",
      "ChatGPT (M = -0.2, SD = 0.26) is not significant (t(28.9) = 1.11, p = 0.28)\n"
     ]
    }
   ],
   "source": [
    "# Look at variance in gpt and human in third\n",
    "\n",
    "#Means\n",
    "mean_human = round(np.mean(df_nozero_h[df_nozero_h['emotion']=='sad']['second_human_change_ratio']),2)\n",
    "mean_gpt = round(np.mean(df_nozero_g[df_nozero_g['emotion']=='sad']['second_gpt_change_ratio']),2)\n",
    "\n",
    "#Variances\n",
    "sd_human = round(np.var(df_nozero_h[df_nozero_h['emotion']=='sad']['second_human_change_ratio']),2)\n",
    "sd_gpt = round(np.var(df_nozero_g[df_nozero_g['emotion']=='sad']['second_gpt_change_ratio']),2)\n",
    "\n",
    "\n",
    "#Welsch's t test\n",
    "test = (stats.ttest_ind(df_nozero_g[df_nozero_g['emotion']=='sad']['second_gpt_change_ratio'], df_nozero_h[df_nozero_h['emotion']=='sad']['second_human_change_ratio'], equal_var = False))\n",
    "\n",
    "# Get degrees of freedom\n",
    "def welch_dof(x,y):\n",
    "        dof = (x.var()/x.size + y.var()/y.size)**2 / ((x.var()/x.size)**2 / (x.size-1) + (y.var()/y.size)**2 / (y.size-1))\n",
    "        return(f\"{dof:.1f}\")\n",
    "        \n",
    "dfs = welch_dof(df_nozero_g[df_nozero_g['emotion']=='sad']['second_gpt_change_ratio'], df_nozero_h[df_nozero_h['emotion']=='sad']['second_human_change_ratio'])\n",
    "\n",
    "\n",
    "\n",
    "\n",
    "print(f'Second Retelling (Sad Stories):\\nThe difference between human (M = {mean_human}, SD = {sd_human}) and \\nChatGPT (M = {mean_gpt}, SD = {sd_gpt}) is not significant (t({dfs}) = {round(test[0],2)}, p = {round(test[1],2)})')\n",
    "      "
   ]
  },
  {
   "cell_type": "markdown",
   "id": "ece6474d",
   "metadata": {},
   "source": [
    "### 2. Overall t-test  (Ratio-Original-Happy)"
   ]
  },
  {
   "cell_type": "code",
   "execution_count": 308,
   "id": "6b5278c6",
   "metadata": {},
   "outputs": [
    {
     "name": "stdout",
     "output_type": "stream",
     "text": [
      "Second Retelling (Happy Stories):\n",
      "The difference between human (M = -0.47, SD = 0.38) and \n",
      "ChatGPT (M = -0.58, SD = 0.24) is not significant (t(24.9) = -0.62, p = 0.54)\n"
     ]
    }
   ],
   "source": [
    "# Look at variance in gpt and human in third\n",
    "\n",
    "#Means\n",
    "mean_human = round(np.mean(df_nozero_h[df_nozero_h['emotion']=='happy']['second_human_change_ratio']),2)\n",
    "mean_gpt = round(np.mean(df_nozero_g[df_nozero_g['emotion']=='happy']['second_gpt_change_ratio']),2)\n",
    "\n",
    "#Variances\n",
    "sd_human = round(np.var(df_nozero_h[df_nozero_h['emotion']=='happy']['second_human_change_ratio']),2)\n",
    "sd_gpt = round(np.var(df_nozero_g[df_nozero_g['emotion']=='happy']['second_gpt_change_ratio']),2)\n",
    "\n",
    "\n",
    "#Welsch's t test\n",
    "test = (stats.ttest_ind(df_nozero_g[df_nozero_g['emotion']=='happy']['second_gpt_change_ratio'], df_nozero_h[df_nozero_h['emotion']=='happy']['second_human_change_ratio'], equal_var = False))\n",
    "\n",
    "# Get degrees of freedom\n",
    "def welch_dof(x,y):\n",
    "        dof = (x.var()/x.size + y.var()/y.size)**2 / ((x.var()/x.size)**2 / (x.size-1) + (y.var()/y.size)**2 / (y.size-1))\n",
    "        return(f\"{dof:.1f}\")\n",
    "        \n",
    "dfs = welch_dof(df_nozero_g[df_nozero_g['emotion']=='happy']['second_gpt_change_ratio'], df_nozero_h[df_nozero_h['emotion']=='happy']['second_human_change_ratio'])\n",
    "print(f'Second Retelling (Happy Stories):\\nThe difference between human (M = {mean_human}, SD = {sd_human}) and \\nChatGPT (M = {mean_gpt}, SD = {sd_gpt}) is not significant (t({dfs}) = {round(test[0],2)}, p = {round(test[1],2)})')\n"
   ]
  },
  {
   "cell_type": "markdown",
   "id": "6fac1720",
   "metadata": {},
   "source": [
    "#### Comparison of Within Groups (Second Retelling)"
   ]
  },
  {
   "cell_type": "code",
   "execution_count": 309,
   "id": "221070b3",
   "metadata": {},
   "outputs": [
    {
     "name": "stdout",
     "output_type": "stream",
     "text": [
      "Human Happy Mean = -0.5862068965517241, Human Sad Mean = -0.6451612903225806, p value = 0.906504105847598,\n",
      " GPT Happy Mean = -0.5833333333333334, GPT Sad Mean = -0.3333333333333333, p value = 0.32285706396623076\n"
     ]
    }
   ],
   "source": [
    "#   SIGNIFICANCE TEST \n",
    "\n",
    "# Human (happy vs. sad) ---- no difference\n",
    "U1, p1 = mannwhitneyu(df_nozero_h[df_nozero_h['emotion']=='happy']['second_human_change'],df_nozero_h[df_nozero_h['emotion']=='sad']['second_human_change'], method=\"exact\")\n",
    "p1\n",
    "\n",
    "\n",
    "\n",
    "# GPT (happy vs. sad) ----- no difference\n",
    "\n",
    "U2, p2 = mannwhitneyu(df_nozero_g[df_nozero_g['emotion']=='happy']['second_gpt_change'], df_nozero_g[df_nozero_g['emotion']=='sad']['second_gpt_change'], method=\"exact\")\n",
    "p2\n",
    "\n",
    "\n",
    "human_mean_h = (df_nozero_h[df_nozero_h['emotion']=='happy']['second_human_change']).mean()\n",
    "gpt_mean_h = (df_nozero_g[df_nozero_g['emotion']=='happy']['second_gpt_change']).mean()\n",
    "\n",
    "human_mean_s = (df_nozero_h[df_nozero_h['emotion']=='sad']['second_human_change']).mean()\n",
    "gpt_mean_s = (df_nozero_g[df_nozero_g['emotion']=='sad']['second_gpt_change']).mean()\n",
    "\n",
    "print(f'Human Happy Mean = {human_mean_h}, Human Sad Mean = {human_mean_s}, p value = {p1},\\n GPT Happy Mean = {gpt_mean_h}, GPT Sad Mean = {gpt_mean_s}, p value = {p2}')\n"
   ]
  },
  {
   "cell_type": "markdown",
   "id": "87bede45",
   "metadata": {},
   "source": [
    "### 2. T-Test - Second Retelling (Sad - Raw Scores)"
   ]
  },
  {
   "cell_type": "code",
   "execution_count": 310,
   "id": "9b78bcf7",
   "metadata": {},
   "outputs": [
    {
     "name": "stdout",
     "output_type": "stream",
     "text": [
      "Second retelling (Sad Stories): \n",
      "The difference between human (M = -0.65, SD = 0.87) and \n",
      "ChatGPT (M = -0.33, SD = 0.49) is significant (t(35.6) = 1.23, p = 0.23)\n"
     ]
    }
   ],
   "source": [
    "# Look at variance in gpt and human \n",
    "\n",
    "#Means\n",
    "mean_human = round(np.mean(df_nozero_h[df_nozero_h['emotion']=='sad']['second_human_change']),2)\n",
    "mean_gpt = round(np.mean(df_nozero_g[df_nozero_g['emotion']=='sad']['second_gpt_change']),2)\n",
    "\n",
    "#Variances\n",
    "sd_human = round(np.var(df_nozero_h[df_nozero_h['emotion']=='sad']['second_human_change']),2)\n",
    "sd_gpt = round(np.var(df_nozero_g[df_nozero_g['emotion']=='sad']['second_gpt_change']),2)\n",
    "\n",
    "\n",
    "#Welsch's t test\n",
    "test = (stats.ttest_ind(df_nozero_g[df_nozero_g['emotion']=='sad']['second_gpt_change'], df_nozero_h[df_nozero_h['emotion']=='sad']['second_human_change'], equal_var = False))\n",
    "\n",
    "# Get degrees of freedom\n",
    "def welch_dof(x,y):\n",
    "        dof = (x.var()/x.size + y.var()/y.size)**2 / ((x.var()/x.size)**2 / (x.size-1) + (y.var()/y.size)**2 / (y.size-1))\n",
    "        return(f\"{dof:.1f}\")\n",
    "        \n",
    "dfs = welch_dof(df_nozero_g[df_nozero_g['emotion']=='sad']['second_gpt_change'], df_nozero_h[df_nozero_h['emotion']=='sad']['second_human_change'])\n",
    "\n",
    "\n",
    "\n",
    "\n",
    "print(f'Second retelling (Sad Stories): \\nThe difference between human (M = {mean_human}, SD = {sd_human}) and \\nChatGPT (M = {mean_gpt}, SD = {sd_gpt}) is significant (t({dfs}) = {round(test[0],2)}, p = {round(test[1],2)})')\n",
    "      "
   ]
  },
  {
   "cell_type": "markdown",
   "id": "e0d92ddb",
   "metadata": {},
   "source": [
    "### 2. T-Test - Second Retelling (Happy - Raw Scores)"
   ]
  },
  {
   "cell_type": "code",
   "execution_count": 311,
   "id": "f151ea36",
   "metadata": {},
   "outputs": [
    {
     "name": "stdout",
     "output_type": "stream",
     "text": [
      "Second retelling (Happy Stories): \n",
      "The difference between human (M = -0.59, SD = 0.59) and \n",
      "ChatGPT (M = -0.58, SD = 0.24) is significant (t(30.9) = 0.01, p = 0.99)\n"
     ]
    }
   ],
   "source": [
    "# Look at variance in gpt and human \n",
    "\n",
    "#Means\n",
    "mean_human = round(np.mean(df_nozero_h[df_nozero_h['emotion']=='happy']['second_human_change']),2)\n",
    "mean_gpt = round(np.mean(df_nozero_g[df_nozero_g['emotion']=='happy']['second_gpt_change']),2)\n",
    "\n",
    "#Variances\n",
    "sd_human = round(np.var(df_nozero_h[df_nozero_h['emotion']=='happy']['second_human_change']),2)\n",
    "sd_gpt = round(np.var(df_nozero_g[df_nozero_g['emotion']=='happy']['second_gpt_change']),2)\n",
    "\n",
    "\n",
    "#Welsch's t test\n",
    "test = (stats.ttest_ind(df_nozero_g[df_nozero_g['emotion']=='happy']['second_gpt_change'], df_nozero_h[df_nozero_h['emotion']=='happy']['second_human_change'], equal_var = False))\n",
    "\n",
    "# Get degrees of freedom\n",
    "def welch_dof(x,y):\n",
    "        dof = (x.var()/x.size + y.var()/y.size)**2 / ((x.var()/x.size)**2 / (x.size-1) + (y.var()/y.size)**2 / (y.size-1))\n",
    "        return(f\"{dof:.1f}\")\n",
    "        \n",
    "dfs = welch_dof(df_nozero_g[df_nozero_g['emotion']=='happy']['second_gpt_change'], df_nozero_h[df_nozero_h['emotion']=='happy']['second_human_change'])\n",
    "\n",
    "\n",
    "\n",
    "\n",
    "print(f'Second retelling (Happy Stories): \\nThe difference between human (M = {mean_human}, SD = {sd_human}) and \\nChatGPT (M = {mean_gpt}, SD = {sd_gpt}) is significant (t({dfs}) = {round(test[0],2)}, p = {round(test[1],2)})')\n",
    "      "
   ]
  },
  {
   "cell_type": "markdown",
   "id": "3150dd07",
   "metadata": {},
   "source": [
    "### 3. Third Retelling - Second Retelling\n"
   ]
  },
  {
   "cell_type": "code",
   "execution_count": 312,
   "id": "5c66dd32",
   "metadata": {},
   "outputs": [
    {
     "name": "stderr",
     "output_type": "stream",
     "text": [
      "/var/folders/l4/1xnf5c593754ph42_t0k68480000gq/T/ipykernel_12283/995283378.py:5: SettingWithCopyWarning: \n",
      "A value is trying to be set on a copy of a slice from a DataFrame.\n",
      "Try using .loc[row_indexer,col_indexer] = value instead\n",
      "\n",
      "See the caveats in the documentation: https://pandas.pydata.org/pandas-docs/stable/user_guide/indexing.html#returning-a-view-versus-a-copy\n",
      "  df_nozero_h['third_human_change'] = (df_nozero_h.tokenized_Retell_3_tag_adv)-(df_nozero_h.tokenized_Retell_2_tag_adv)\n",
      "/var/folders/l4/1xnf5c593754ph42_t0k68480000gq/T/ipykernel_12283/995283378.py:6: SettingWithCopyWarning: \n",
      "A value is trying to be set on a copy of a slice from a DataFrame.\n",
      "Try using .loc[row_indexer,col_indexer] = value instead\n",
      "\n",
      "See the caveats in the documentation: https://pandas.pydata.org/pandas-docs/stable/user_guide/indexing.html#returning-a-view-versus-a-copy\n",
      "  df_nozero_g['third_gpt_change'] = (df_nozero_g.tokenized_GPT_R3_tag_adv)-(df_nozero_g.tokenized_GPT_R2_tag_adv)   # ChatGPT\n",
      "/var/folders/l4/1xnf5c593754ph42_t0k68480000gq/T/ipykernel_12283/995283378.py:8: SettingWithCopyWarning: \n",
      "A value is trying to be set on a copy of a slice from a DataFrame.\n",
      "Try using .loc[row_indexer,col_indexer] = value instead\n",
      "\n",
      "See the caveats in the documentation: https://pandas.pydata.org/pandas-docs/stable/user_guide/indexing.html#returning-a-view-versus-a-copy\n",
      "  df_nozero_h['third_human_change_ratio'] = ((df_nozero_h.tokenized_Retell_3_tag_adv)-(df_nozero_h.tokenized_Retell_2_tag_adv))/df_nozero_h.tokenized_Retell_2_tag_adv\n",
      "/var/folders/l4/1xnf5c593754ph42_t0k68480000gq/T/ipykernel_12283/995283378.py:9: SettingWithCopyWarning: \n",
      "A value is trying to be set on a copy of a slice from a DataFrame.\n",
      "Try using .loc[row_indexer,col_indexer] = value instead\n",
      "\n",
      "See the caveats in the documentation: https://pandas.pydata.org/pandas-docs/stable/user_guide/indexing.html#returning-a-view-versus-a-copy\n",
      "  df_nozero_g['third_gpt_change_ratio'] = ((df_nozero_g.tokenized_GPT_R3_tag_adv)-(df_nozero_g.tokenized_GPT_R2_tag_adv))/ df_nozero_g.tokenized_GPT_R2_tag_adv  # ChatGPT\n"
     ]
    }
   ],
   "source": [
    "#Include stories with negations only (exclude zeros)\n",
    "df_nozero_h = df[(df.tokenized_Retell_2_tag_adv!= 0)]\n",
    "df_nozero_g = df[(df.tokenized_GPT_R2_tag_adv!= 0)]\n",
    "\n",
    "df_nozero_h['third_human_change'] = (df_nozero_h.tokenized_Retell_3_tag_adv)-(df_nozero_h.tokenized_Retell_2_tag_adv)\n",
    "df_nozero_g['third_gpt_change'] = (df_nozero_g.tokenized_GPT_R3_tag_adv)-(df_nozero_g.tokenized_GPT_R2_tag_adv)   # ChatGPT\n",
    "\n",
    "df_nozero_h['third_human_change_ratio'] = ((df_nozero_h.tokenized_Retell_3_tag_adv)-(df_nozero_h.tokenized_Retell_2_tag_adv))/df_nozero_h.tokenized_Retell_2_tag_adv\n",
    "df_nozero_g['third_gpt_change_ratio'] = ((df_nozero_g.tokenized_GPT_R3_tag_adv)-(df_nozero_g.tokenized_GPT_R2_tag_adv))/ df_nozero_g.tokenized_GPT_R2_tag_adv  # ChatGPT\n"
   ]
  },
  {
   "cell_type": "markdown",
   "id": "7eb31d6d",
   "metadata": {},
   "source": [
    "### 3. Overall Mann U Whitney"
   ]
  },
  {
   "cell_type": "code",
   "execution_count": 313,
   "id": "419128af",
   "metadata": {},
   "outputs": [
    {
     "data": {
      "text/plain": [
       "(463.5, 0.5019348777722328, -0.574468085106383, -0.36363636363636365)"
      ]
     },
     "execution_count": 313,
     "metadata": {},
     "output_type": "execute_result"
    }
   ],
   "source": [
    "human_mean = (df_nozero_h['third_human_change']).mean()\n",
    "gpt_mean = (df_nozero_g['third_gpt_change']).mean()\n",
    "\n",
    "U2, p2 = mannwhitneyu(df_nozero_h['third_human_change'], df_nozero_g['third_gpt_change'], method=\"exact\")\n",
    "U2, p2, human_mean, gpt_mean"
   ]
  },
  {
   "cell_type": "markdown",
   "id": "d45ba0ac",
   "metadata": {},
   "source": [
    "#### Comparison of Within Groups (Third Retelling)"
   ]
  },
  {
   "cell_type": "code",
   "execution_count": 314,
   "id": "54476db9",
   "metadata": {},
   "outputs": [
    {
     "name": "stdout",
     "output_type": "stream",
     "text": [
      "Third Retelling: \n",
      "Human Happy Mean = -0.3333333333333333, Human Sad Mean = -0.7692307692307693, p value = 0.1828732709264269,\n",
      "GPT Happy Mean = -0.14285714285714285, GPT Sad Mean = -0.4666666666666667, p value = 0.44747396566282005\n"
     ]
    }
   ],
   "source": [
    "#   SIGNIFICANCE TEST \n",
    "\n",
    "# Human (happy vs. sad) ---- no difference\n",
    "U1, p1 = mannwhitneyu(df_nozero_h[df_nozero_h['emotion']=='happy']['third_human_change'],df_nozero_h[df_nozero_h['emotion']=='sad']['third_human_change'], method=\"exact\")\n",
    "p1\n",
    "\n",
    "\n",
    "\n",
    "# GPT (happy vs. sad) ----- no difference\n",
    "\n",
    "U2, p2 = mannwhitneyu(df_nozero_g[df_nozero_g['emotion']=='happy']['third_gpt_change'], df_nozero_g[df_nozero_g['emotion']=='sad']['third_gpt_change'], method=\"exact\")\n",
    "p2\n",
    "\n",
    "\n",
    "human_mean_h = (df_nozero_h[df_nozero_h['emotion']=='happy']['third_human_change']).mean()\n",
    "gpt_mean_h = (df_nozero_g[df_nozero_g['emotion']=='happy']['third_gpt_change']).mean()\n",
    "\n",
    "human_mean_s = (df_nozero_h[df_nozero_h['emotion']=='sad']['third_human_change']).mean()\n",
    "gpt_mean_s = (df_nozero_g[df_nozero_g['emotion']=='sad']['third_gpt_change']).mean()\n",
    "\n",
    "print(f'Third Retelling: \\nHuman Happy Mean = {human_mean_h}, Human Sad Mean = {human_mean_s}, p value = {p1},\\nGPT Happy Mean = {gpt_mean_h}, GPT Sad Mean = {gpt_mean_s}, p value = {p2}')\n"
   ]
  },
  {
   "cell_type": "markdown",
   "id": "a9bb82bd",
   "metadata": {},
   "source": [
    "### 3. Overal T-test Ratio (Third-All)"
   ]
  },
  {
   "cell_type": "code",
   "execution_count": 315,
   "id": "39d2424c",
   "metadata": {},
   "outputs": [
    {
     "name": "stdout",
     "output_type": "stream",
     "text": [
      "Third Retelling :\n",
      "The difference between human (M = -0.371, SD = 0.8402) and \n",
      "ChatGPT (M = -0.318, SD = 0.3079) is not significant (t(152) = 0.362, p = 0.719)\n"
     ]
    }
   ],
   "source": [
    "# Look at variance in gpt and human in third\n",
    "\n",
    "#Means\n",
    "mean_human = round(np.mean(df_nozero_h['third_human_change_ratio']),3)\n",
    "mean_gpt = round(np.mean(df_nozero_g['third_gpt_change_ratio']),3)\n",
    "\n",
    "#Variances\n",
    "sd_human = round(np.var(df_nozero_h['third_human_change']),4)\n",
    "sd_gpt = round(np.var(df_nozero_g['third_gpt_change_ratio']),4)\n",
    "\n",
    "\n",
    "#Welsch's t test\n",
    "test = (stats.ttest_ind(df_nozero_g['third_gpt_change_ratio'], df_nozero_h['third_human_change_ratio'], equal_var = False))\n",
    "\n",
    "\n",
    "        \n",
    "dfs = welch_dof(df_nozero_g['third_gpt_change_ratio'], df_nozero_h['third_human_change_ratio'])\n",
    "\n",
    "\n",
    "\n",
    "\n",
    "print(f'Third Retelling :\\nThe difference between human (M = {mean_human}, SD = {sd_human}) and \\nChatGPT (M = {mean_gpt}, SD = {sd_gpt}) is not significant (t({dfreedom}) = {round(test[0],3)}, p = {round(test[1],3)})')\n"
   ]
  },
  {
   "cell_type": "markdown",
   "id": "f5730ad2",
   "metadata": {},
   "source": [
    "### 3. T-Test (Third Retelling - Sad - Raw Score)"
   ]
  },
  {
   "cell_type": "code",
   "execution_count": 316,
   "id": "85d396a0",
   "metadata": {},
   "outputs": [
    {
     "name": "stdout",
     "output_type": "stream",
     "text": [
      "Third Retelling (Sad Stories):\n",
      "The difference between human (M = -0.77, SD = 1.1) and \n",
      "ChatGPT (M = -0.47, SD = 0.38) is not significant (t(38.9) = 1.13, p = 0.26)\n"
     ]
    }
   ],
   "source": [
    "# Look at variance in gpt and human in third\n",
    "\n",
    "#Means\n",
    "mean_human = round(np.mean(df_nozero_h[df_nozero_h['emotion']=='sad']['third_human_change']),2)\n",
    "mean_gpt = round(np.mean(df_nozero_g[df_nozero_g['emotion']=='sad']['third_gpt_change']),2)\n",
    "\n",
    "#Variances\n",
    "sd_human = round(np.var(df_nozero_h[df_nozero_h['emotion']=='sad']['third_human_change']),2)\n",
    "sd_gpt = round(np.var(df_nozero_g[df_nozero_g['emotion']=='sad']['third_gpt_change']),2)\n",
    "\n",
    "\n",
    "#Welsch's t test\n",
    "test = (stats.ttest_ind(df_nozero_g[df_nozero_g['emotion']=='sad']['third_gpt_change'], df_nozero_h[df_nozero_h['emotion']=='sad']['third_human_change'], equal_var = False))\n",
    "\n",
    "# Get degrees of freedom\n",
    "def welch_dof(x,y):\n",
    "        dof = (x.var()/x.size + y.var()/y.size)**2 / ((x.var()/x.size)**2 / (x.size-1) + (y.var()/y.size)**2 / (y.size-1))\n",
    "        return(f\"{dof:.1f}\")\n",
    "        \n",
    "dfs = welch_dof(df_nozero_g[df_nozero_g['emotion']=='sad']['third_gpt_change'], df_nozero_h[df_nozero_h['emotion']=='sad']['third_human_change'])\n",
    "\n",
    "\n",
    "\n",
    "\n",
    "print(f'Third Retelling (Sad Stories):\\nThe difference between human (M = {mean_human}, SD = {sd_human}) and \\nChatGPT (M = {mean_gpt}, SD = {sd_gpt}) is not significant (t({dfs}) = {round(test[0],2)}, p = {round(test[1],2)})')\n",
    "      "
   ]
  },
  {
   "cell_type": "markdown",
   "id": "b9f0eb90",
   "metadata": {},
   "source": [
    "### 3. T-Test (Third Retelling - Happy - Raw Scores)"
   ]
  },
  {
   "cell_type": "code",
   "execution_count": 317,
   "id": "add9fd48",
   "metadata": {},
   "outputs": [
    {
     "name": "stdout",
     "output_type": "stream",
     "text": [
      "Third Retelling (Happy Stories):\n",
      "The difference between human (M = -0.33, SD = 0.41) and \n",
      "ChatGPT (M = -0.14, SD = 0.41) is not significant (t(9.9) = 0.64, p = 0.54)\n"
     ]
    }
   ],
   "source": [
    "# Look at variance in gpt and human in third\n",
    "\n",
    "#Means\n",
    "mean_human = round(np.mean(df_nozero_h[df_nozero_h['emotion']=='happy']['third_human_change']),2)\n",
    "mean_gpt = round(np.mean(df_nozero_g[df_nozero_g['emotion']=='happy']['third_gpt_change']),2)\n",
    "\n",
    "#Variances\n",
    "sd_human = round(np.var(df_nozero_h[df_nozero_h['emotion']=='happy']['third_human_change']),2)\n",
    "sd_gpt = round(np.var(df_nozero_g[df_nozero_g['emotion']=='happy']['third_gpt_change']),2)\n",
    "\n",
    "\n",
    "#Welsch's t test\n",
    "test = (stats.ttest_ind(df_nozero_g[df_nozero_g['emotion']=='happy']['third_gpt_change'], df_nozero_h[df_nozero_h['emotion']=='happy']['third_human_change'], equal_var = False))\n",
    "\n",
    "\n",
    "        \n",
    "dfs = welch_dof(df_nozero_g[df_nozero_g['emotion']=='happy']['third_gpt_change'], df_nozero_h[df_nozero_h['emotion']=='happy']['third_human_change'])\n",
    "\n",
    "\n",
    "\n",
    "\n",
    "print(f'Third Retelling (Happy Stories):\\nThe difference between human (M = {mean_human}, SD = {sd_human}) and \\nChatGPT (M = {mean_gpt}, SD = {sd_gpt}) is not significant (t({dfs}) = {round(test[0],2)}, p = {round(test[1],2)})')\n",
    "      "
   ]
  },
  {
   "cell_type": "markdown",
   "id": "02f8ecc7",
   "metadata": {},
   "source": [
    "### 3. Ratio T-test (Third-Happy)\n"
   ]
  },
  {
   "cell_type": "code",
   "execution_count": 318,
   "id": "45dc7718",
   "metadata": {},
   "outputs": [
    {
     "name": "stdout",
     "output_type": "stream",
     "text": [
      "Third Retelling Ratio (Happy Stories):\n",
      "The difference between human (M = -0.31, SD = 0.25) and \n",
      "ChatGPT (M = -0.14, SD = 0.41) is not significant (t(8.3) = 0.59, p = 0.573)\n"
     ]
    }
   ],
   "source": [
    "# Look at variance in gpt and human in third\n",
    "\n",
    "#Means\n",
    "mean_human = round(np.mean(df_nozero_h[df_nozero_h['emotion']=='happy']['third_human_change_ratio']),2)\n",
    "mean_gpt = round(np.mean(df_nozero_g[df_nozero_g['emotion']=='happy']['third_gpt_change_ratio']),2)\n",
    "\n",
    "#Variances\n",
    "sd_human = round(np.var(df_nozero_h[df_nozero_h['emotion']=='happy']['third_human_change_ratio']),2)\n",
    "sd_gpt = round(np.var(df_nozero_g[df_nozero_g['emotion']=='happy']['third_gpt_change_ratio']),2)\n",
    "\n",
    "\n",
    "#Welsch's t test\n",
    "test = (stats.ttest_ind(df_nozero_g[df_nozero_g['emotion']=='happy']['third_gpt_change_ratio'], df_nozero_h[df_nozero_h['emotion']=='happy']['third_human_change_ratio'], equal_var = False))\n",
    "\n",
    "\n",
    "dfs = welch_dof(df_nozero_g[df_nozero_g['emotion']=='happy']['third_gpt_change_ratio'], df_nozero_h[df_nozero_h['emotion']=='happy']['third_human_change_ratio'])\n",
    "\n",
    "\n",
    "\n",
    "print(f'Third Retelling Ratio (Happy Stories):\\nThe difference between human (M = {mean_human}, SD = {sd_human}) and \\nChatGPT (M = {mean_gpt}, SD = {sd_gpt}) is not significant (t({dfs}) = {round(test[0],2)}, p = {round(test[1],3)})')\n"
   ]
  },
  {
   "cell_type": "markdown",
   "id": "1b0d9579",
   "metadata": {},
   "source": [
    "###  3. Ratio T-test (Third-Sad)\n"
   ]
  },
  {
   "cell_type": "code",
   "execution_count": 319,
   "id": "c1110586",
   "metadata": {},
   "outputs": [
    {
     "name": "stdout",
     "output_type": "stream",
     "text": [
      "Third Retelling Ratio (Happy Stories):\n",
      "The difference between human (M = -0.42, SD = 0.31) and \n",
      "ChatGPT (M = -0.4, SD = 0.24) is not significant (t(32.3) = 0.12, p = 0.909)\n"
     ]
    }
   ],
   "source": [
    "# Look at variance in gpt and human in third\n",
    "\n",
    "#Means\n",
    "mean_human = round(np.mean(df_nozero_h[df_nozero_h['emotion']=='sad']['third_human_change_ratio']),2)\n",
    "mean_gpt = round(np.mean(df_nozero_g[df_nozero_g['emotion']=='sad']['third_gpt_change_ratio']),2)\n",
    "\n",
    "#Variances\n",
    "sd_human = round(np.var(df_nozero_h[df_nozero_h['emotion']=='sad']['third_human_change_ratio']),2)\n",
    "sd_gpt = round(np.var(df_nozero_g[df_nozero_g['emotion']=='sad']['third_gpt_change_ratio']),2)\n",
    "\n",
    "\n",
    "#Welsch's t test\n",
    "test = (stats.ttest_ind(df_nozero_g[df_nozero_g['emotion']=='sad']['third_gpt_change_ratio'], df_nozero_h[df_nozero_h['emotion']=='sad']['third_human_change_ratio'], equal_var = False))\n",
    "\n",
    "\n",
    "dfs = welch_dof(df_nozero_g[df_nozero_g['emotion']=='sad']['third_gpt_change_ratio'], df_nozero_h[df_nozero_h['emotion']=='sad']['third_human_change_ratio'])\n",
    "\n",
    "\n",
    "\n",
    "\n",
    "print(f'Third Retelling Ratio (Happy Stories):\\nThe difference between human (M = {mean_human}, SD = {sd_human}) and \\nChatGPT (M = {mean_gpt}, SD = {sd_gpt}) is not significant (t({dfs}) = {round(test[0],2)}, p = {round(test[1],3)})')\n"
   ]
  },
  {
   "cell_type": "markdown",
   "id": "6ca43664",
   "metadata": {},
   "source": [
    "###  1.7.3. Visualize the Change of Negations in Happy and Sad Stories\n"
   ]
  },
  {
   "cell_type": "markdown",
   "id": "2376341b",
   "metadata": {},
   "source": [
    "### First Change"
   ]
  },
  {
   "cell_type": "code",
   "execution_count": 320,
   "id": "f675b9c2",
   "metadata": {},
   "outputs": [
    {
     "data": {
      "image/png": "[encoded data removed]",
      "text/plain": [
       "<Figure size 640x480 with 1 Axes>"
      ]
     },
     "metadata": {},
     "output_type": "display_data"
    }
   ],
   "source": [
    "# Visualize: Happy\n",
    "\n",
    "import matplotlib.pyplot as plt\n",
    "import matplotlib.ticker as tkr\n",
    "\n",
    "mybins =np.arange(-5,3,1)-0.5\n",
    "ticks = np.arange(-5,3,1)\n",
    "fig, ax = plt.subplots()\n",
    "\n",
    "# Plot the first histogram for human -first change\n",
    "ax.hist([*df_nozero[df_nozero['emotion']=='happy']['first_human_change']], bins=mybins, rwidth=0.8, alpha = 0.5, density=True, label='Human')\n",
    "ax.set_xticks(ticks)\n",
    "\n",
    "# Plot the second histogram for ChatGPT - first change\n",
    "ax.hist([*df_nozero[df_nozero['emotion']=='happy']['first_gpt_change']], bins=mybins, rwidth=0.8, density=True, alpha = 0.5, label='ChatGPT')\n",
    "\n",
    "# Remove the minor ticks and their labels\n",
    "ax.xaxis.set_minor_locator(tkr.NullLocator())\n",
    "\n",
    "# Add labels, title, and legend\n",
    "ax.set_xlabel('Change Score')\n",
    "ax.set_ylabel('Density')\n",
    "ax.set_title('Distribution of Changes in Number of Negations After First Retelling - Happy Stories')\n",
    "ax.legend()\n",
    "\n",
    "\n",
    "U1, p = mannwhitneyu(df1, df2, method=\"exact\")\n",
    "p = round(p,3)\n",
    "#plt.text(-5, 0.4, f'U = {U1}, p = {p}')\n",
    "#plt.text(-5, 0.42, 'Mann-U Whitney:')\n",
    "\n",
    "plt.show()\n"
   ]
  },
  {
   "cell_type": "code",
   "execution_count": 321,
   "id": "78b63ae2",
   "metadata": {},
   "outputs": [
    {
     "data": {
      "image/png": "[encoded data removed]",
      "text/plain": [
       "<Figure size 640x480 with 1 Axes>"
      ]
     },
     "metadata": {},
     "output_type": "display_data"
    }
   ],
   "source": [
    "# Visualize: Sad\n",
    "\n",
    "import matplotlib.pyplot as plt\n",
    "import matplotlib.ticker as tkr\n",
    "\n",
    "mybins =np.arange(-5,3,1)-0.5\n",
    "ticks = np.arange(-5,3,1)\n",
    "fig, ax = plt.subplots()\n",
    "\n",
    "# Plot the first histogram for human -first change\n",
    "ax.hist([*df_nozero[df_nozero['emotion']=='sad']['first_human_change']], bins=mybins, rwidth=0.8, alpha = 0.5, density=True, label='Human')\n",
    "ax.set_xticks(ticks)\n",
    "\n",
    "# Plot the second histogram for ChatGPT - first change\n",
    "ax.hist([*df_nozero[df_nozero['emotion']=='sad']['first_gpt_change']], bins=mybins, rwidth=0.8, density=True, alpha = 0.5, label='ChatGPT')\n",
    "\n",
    "# Remove the minor ticks and their labels\n",
    "ax.xaxis.set_minor_locator(tkr.NullLocator())\n",
    "\n",
    "# Add labels, title, and legend\n",
    "ax.set_xlabel('Change Score')\n",
    "ax.set_ylabel('Density')\n",
    "ax.set_title('Distribution of Changes in Number of Negations After First Retelling - Sad Stories')\n",
    "ax.legend()\n",
    "\n",
    "\n",
    "U1, p = mannwhitneyu(df1, df2, method=\"exact\")\n",
    "p = round(p,3)\n",
    "#plt.text(-5, 0.4, f'U = {U1}, p = {p}')\n",
    "#plt.text(-5, 0.42, 'Mann-U Whitney:')\n",
    "\n",
    "plt.show()\n"
   ]
  },
  {
   "cell_type": "code",
   "execution_count": 322,
   "id": "cbe76905",
   "metadata": {},
   "outputs": [
    {
     "ename": "KeyError",
     "evalue": "'third_human_change'",
     "output_type": "error",
     "traceback": [
      "\u001b[0;31m---------------------------------------------------------------------------\u001b[0m",
      "\u001b[0;31mKeyError\u001b[0m                                  Traceback (most recent call last)",
      "File \u001b[0;32m~/mambaforge/lib/python3.10/site-packages/pandas/core/indexes/base.py:3802\u001b[0m, in \u001b[0;36mIndex.get_loc\u001b[0;34m(self, key, method, tolerance)\u001b[0m\n\u001b[1;32m   3801\u001b[0m \u001b[38;5;28;01mtry\u001b[39;00m:\n\u001b[0;32m-> 3802\u001b[0m     \u001b[38;5;28;01mreturn\u001b[39;00m \u001b[38;5;28;43mself\u001b[39;49m\u001b[38;5;241;43m.\u001b[39;49m\u001b[43m_engine\u001b[49m\u001b[38;5;241;43m.\u001b[39;49m\u001b[43mget_loc\u001b[49m\u001b[43m(\u001b[49m\u001b[43mcasted_key\u001b[49m\u001b[43m)\u001b[49m\n\u001b[1;32m   3803\u001b[0m \u001b[38;5;28;01mexcept\u001b[39;00m \u001b[38;5;167;01mKeyError\u001b[39;00m \u001b[38;5;28;01mas\u001b[39;00m err:\n",
      "File \u001b[0;32m~/mambaforge/lib/python3.10/site-packages/pandas/_libs/index.pyx:138\u001b[0m, in \u001b[0;36mpandas._libs.index.IndexEngine.get_loc\u001b[0;34m()\u001b[0m\n",
      "File \u001b[0;32m~/mambaforge/lib/python3.10/site-packages/pandas/_libs/index.pyx:165\u001b[0m, in \u001b[0;36mpandas._libs.index.IndexEngine.get_loc\u001b[0;34m()\u001b[0m\n",
      "File \u001b[0;32mpandas/_libs/hashtable_class_helper.pxi:5745\u001b[0m, in \u001b[0;36mpandas._libs.hashtable.PyObjectHashTable.get_item\u001b[0;34m()\u001b[0m\n",
      "File \u001b[0;32mpandas/_libs/hashtable_class_helper.pxi:5753\u001b[0m, in \u001b[0;36mpandas._libs.hashtable.PyObjectHashTable.get_item\u001b[0;34m()\u001b[0m\n",
      "\u001b[0;31mKeyError\u001b[0m: 'third_human_change'",
      "\nThe above exception was the direct cause of the following exception:\n",
      "\u001b[0;31mKeyError\u001b[0m                                  Traceback (most recent call last)",
      "Cell \u001b[0;32mIn[322], line 2\u001b[0m\n\u001b[1;32m      1\u001b[0m \u001b[38;5;28;01mfrom\u001b[39;00m \u001b[38;5;21;01mscipy\u001b[39;00m \u001b[38;5;28;01mimport\u001b[39;00m stats\n\u001b[0;32m----> 2\u001b[0m stats\u001b[38;5;241m.\u001b[39mttest_ind(\u001b[43mdf_nozero\u001b[49m\u001b[43m[\u001b[49m\u001b[43mdf_nozero\u001b[49m\u001b[43m[\u001b[49m\u001b[38;5;124;43m'\u001b[39;49m\u001b[38;5;124;43memotion\u001b[39;49m\u001b[38;5;124;43m'\u001b[39;49m\u001b[43m]\u001b[49m\u001b[38;5;241;43m==\u001b[39;49m\u001b[38;5;124;43m'\u001b[39;49m\u001b[38;5;124;43msad\u001b[39;49m\u001b[38;5;124;43m'\u001b[39;49m\u001b[43m]\u001b[49m\u001b[43m[\u001b[49m\u001b[38;5;124;43m'\u001b[39;49m\u001b[38;5;124;43mthird_human_change\u001b[39;49m\u001b[38;5;124;43m'\u001b[39;49m\u001b[43m]\u001b[49m,df_nozero[df_nozero[\u001b[38;5;124m'\u001b[39m\u001b[38;5;124memotion\u001b[39m\u001b[38;5;124m'\u001b[39m]\u001b[38;5;241m==\u001b[39m\u001b[38;5;124m'\u001b[39m\u001b[38;5;124msad\u001b[39m\u001b[38;5;124m'\u001b[39m][\u001b[38;5;124m'\u001b[39m\u001b[38;5;124mthird_gpt_change\u001b[39m\u001b[38;5;124m'\u001b[39m])\n",
      "File \u001b[0;32m~/mambaforge/lib/python3.10/site-packages/pandas/core/frame.py:3807\u001b[0m, in \u001b[0;36mDataFrame.__getitem__\u001b[0;34m(self, key)\u001b[0m\n\u001b[1;32m   3805\u001b[0m \u001b[38;5;28;01mif\u001b[39;00m \u001b[38;5;28mself\u001b[39m\u001b[38;5;241m.\u001b[39mcolumns\u001b[38;5;241m.\u001b[39mnlevels \u001b[38;5;241m>\u001b[39m \u001b[38;5;241m1\u001b[39m:\n\u001b[1;32m   3806\u001b[0m     \u001b[38;5;28;01mreturn\u001b[39;00m \u001b[38;5;28mself\u001b[39m\u001b[38;5;241m.\u001b[39m_getitem_multilevel(key)\n\u001b[0;32m-> 3807\u001b[0m indexer \u001b[38;5;241m=\u001b[39m \u001b[38;5;28;43mself\u001b[39;49m\u001b[38;5;241;43m.\u001b[39;49m\u001b[43mcolumns\u001b[49m\u001b[38;5;241;43m.\u001b[39;49m\u001b[43mget_loc\u001b[49m\u001b[43m(\u001b[49m\u001b[43mkey\u001b[49m\u001b[43m)\u001b[49m\n\u001b[1;32m   3808\u001b[0m \u001b[38;5;28;01mif\u001b[39;00m is_integer(indexer):\n\u001b[1;32m   3809\u001b[0m     indexer \u001b[38;5;241m=\u001b[39m [indexer]\n",
      "File \u001b[0;32m~/mambaforge/lib/python3.10/site-packages/pandas/core/indexes/base.py:3804\u001b[0m, in \u001b[0;36mIndex.get_loc\u001b[0;34m(self, key, method, tolerance)\u001b[0m\n\u001b[1;32m   3802\u001b[0m     \u001b[38;5;28;01mreturn\u001b[39;00m \u001b[38;5;28mself\u001b[39m\u001b[38;5;241m.\u001b[39m_engine\u001b[38;5;241m.\u001b[39mget_loc(casted_key)\n\u001b[1;32m   3803\u001b[0m \u001b[38;5;28;01mexcept\u001b[39;00m \u001b[38;5;167;01mKeyError\u001b[39;00m \u001b[38;5;28;01mas\u001b[39;00m err:\n\u001b[0;32m-> 3804\u001b[0m     \u001b[38;5;28;01mraise\u001b[39;00m \u001b[38;5;167;01mKeyError\u001b[39;00m(key) \u001b[38;5;28;01mfrom\u001b[39;00m \u001b[38;5;21;01merr\u001b[39;00m\n\u001b[1;32m   3805\u001b[0m \u001b[38;5;28;01mexcept\u001b[39;00m \u001b[38;5;167;01mTypeError\u001b[39;00m:\n\u001b[1;32m   3806\u001b[0m     \u001b[38;5;66;03m# If we have a listlike key, _check_indexing_error will raise\u001b[39;00m\n\u001b[1;32m   3807\u001b[0m     \u001b[38;5;66;03m#  InvalidIndexError. Otherwise we fall through and re-raise\u001b[39;00m\n\u001b[1;32m   3808\u001b[0m     \u001b[38;5;66;03m#  the TypeError.\u001b[39;00m\n\u001b[1;32m   3809\u001b[0m     \u001b[38;5;28mself\u001b[39m\u001b[38;5;241m.\u001b[39m_check_indexing_error(key)\n",
      "\u001b[0;31mKeyError\u001b[0m: 'third_human_change'"
     ]
    }
   ],
   "source": [
    "from scipy import stats\n",
    "stats.ttest_ind(df_nozero[df_nozero['emotion']=='sad']['third_human_change'],df_nozero[df_nozero['emotion']=='sad']['third_gpt_change'])\n",
    "\n"
   ]
  },
  {
   "cell_type": "code",
   "execution_count": null,
   "id": "869a36b0",
   "metadata": {},
   "outputs": [],
   "source": [
    "df_nozero[df_nozero['emotion']=='happy']['third_human_change']"
   ]
  },
  {
   "cell_type": "markdown",
   "id": "b5a90ba5",
   "metadata": {},
   "source": [
    "## 1.8. Statistical Test for Ratios"
   ]
  },
  {
   "cell_type": "code",
   "execution_count": 323,
   "id": "378fbd04",
   "metadata": {},
   "outputs": [
    {
     "name": "stdout",
     "output_type": "stream",
     "text": [
      "Z test for GPT_R1 ratio vs. Retell_1 ratio is significant with p-value 0.0020834907450830754\n",
      "Z test for GPT_R2 ratio vs. Retell_2 ratio is significant with p-value 0.0006181933490244548\n",
      "Z test for GPT_R3 ratio vs. Retell_3 ratio is significant with p-value 0.0013395350587059724\n"
     ]
    }
   ],
   "source": [
    "#!pip3 install statsmodels\n",
    "#Because the values are proportions, I conducted a z-test analysis \n",
    "#Because the values are proportions, I conducted a z-test analysis \n",
    "for i in range(1, 4):\n",
    "    group1 = count_ratio[f'Retell_{i}_adv_ratio']\n",
    "    group2 = count_ratio[f'GPT_{i}_adv_ratio']\n",
    "    statistic, pvalue = ztest(x1=group1, x2=group2, value=0)\n",
    "    if pvalue < 0.05:\n",
    "        print(f\"Z test for GPT_R{i} ratio vs. Retell_{i} ratio is significant with p-value {pvalue}\")\n",
    "    else:\n",
    "        print(f\"Z test for GPT_R{i} ratio vs. Retell_{i} ratio is not significant with p-value {pvalue}\")\n",
    "        "
   ]
  },
  {
   "cell_type": "code",
   "execution_count": 324,
   "id": "5005a34d",
   "metadata": {
    "scrolled": true
   },
   "outputs": [
    {
     "name": "stdout",
     "output_type": "stream",
     "text": [
      "Z test for Retell_1 ratio vs. Retell_2 ratio is not significant with p-value 0.6114841683472254\n",
      "Z test for Retell_2 ratio vs. Retell_3 ratio is not significant with p-value 0.7531194162727526\n"
     ]
    },
    {
     "data": {
      "text/plain": [
       "(-0.1459568815885566, 0.8839554273235474)"
      ]
     },
     "execution_count": 324,
     "metadata": {},
     "output_type": "execute_result"
    }
   ],
   "source": [
    "# Only human\n",
    "\n",
    "for i in range(1, 3):\n",
    "    group1 = count_ratio[f'Retell_{i}_adv_ratio']\n",
    "    group2 = count_ratio[f'Retell_{i+1}_adv_ratio']\n",
    "    statistic, pvalue = ztest(x1=group1, x2=group2, value=0)\n",
    "    if pvalue < 0.05:\n",
    "        print(f\"Z test for Retell_{i} ratio vs. Retell_{i+1} ratio is significant with p-value {pvalue}\")\n",
    "    else:\n",
    "        print(f\"Z test for Retell_{i} ratio vs. Retell_{i+1} ratio is not significant with p-value {pvalue}\")\n",
    "\n",
    "        \n",
    "ztest(count_ratio.Retell_1_adv_ratio, count_ratio.Retell_3_adv_ratio, value=0)"
   ]
  },
  {
   "cell_type": "code",
   "execution_count": 325,
   "id": "37d84985",
   "metadata": {},
   "outputs": [
    {
     "name": "stdout",
     "output_type": "stream",
     "text": [
      "Z test for GPT_1 ratio vs. GPT_2 ratio is not significant with p-value 0.6468943808774712\n",
      "Z test for GPT_2 ratio vs. GPT_3 ratio is not significant with p-value 0.6732808157525589\n"
     ]
    },
    {
     "data": {
      "text/plain": [
       "(0.8630642885929638, 0.38810212118200726)"
      ]
     },
     "execution_count": 325,
     "metadata": {},
     "output_type": "execute_result"
    }
   ],
   "source": [
    "# Only GPT\n",
    "\n",
    "for i in range(1, 3):\n",
    "    group1 = count_ratio[f'GPT_{i}_adv_ratio']\n",
    "    group2 = count_ratio[f'GPT_{i+1}_adv_ratio']\n",
    "    statistic, pvalue = ztest(x1=group1, x2=group2, value=0)\n",
    "    if pvalue < 0.05:\n",
    "        print(f\"Z test for GPT_{i} ratio vs. GPT_{i+1} ratio is significant with p-value {pvalue}\")\n",
    "    else:\n",
    "        print(f\"Z test for GPT_{i} ratio vs. GPT_{i+1} ratio is not significant with p-value {pvalue}\")\n",
    "\n",
    "        \n",
    "ztest(count_ratio.GPT_1_adv_ratio, count_ratio.GPT_3_adv_ratio, value=0)"
   ]
  },
  {
   "cell_type": "markdown",
   "id": "84a6a85a",
   "metadata": {},
   "source": [
    "### 1.8.1. Visualize Ratios"
   ]
  },
  {
   "cell_type": "code",
   "execution_count": 326,
   "id": "b11b5405",
   "metadata": {},
   "outputs": [
    {
     "name": "stdout",
     "output_type": "stream",
     "text": [
      "Z test for GPT_R1 ratio vs. Retell_1 ratio is significant with z = 3.078065557893003, p-value 0.0020834907450830754\n",
      "Z test for GPT_R2 ratio vs. Retell_2 ratio is significant with z = 3.42350403111364, p-value 0.0006181933490244548\n",
      "Z test for GPT_R3 ratio vs. Retell_3 ratio is significant with z = 3.207372323255804, p-value 0.0013395350587059724\n"
     ]
    }
   ],
   "source": [
    "#Because the values are proportions, I conducted a z-test analysis \n",
    "\n",
    "for i in range(1, 4):\n",
    "    group1 = count_ratio[f'Retell_{i}_adv_ratio']\n",
    "    group2 = count_ratio[f'GPT_{i}_adv_ratio']\n",
    "    statistic, pvalue = ztest(x1=group1, x2=group2, value=0)\n",
    "    if pvalue < 0.05:\n",
    "        print(f\"Z test for GPT_R{i} ratio vs. Retell_{i} ratio is significant with z = {statistic}, p-value {pvalue}\")\n",
    "    else:\n",
    "        print(f\"Z test for GPT_R{i} ratio vs. Retell_{i} ratio is not significant with z = {statistic}, p-value {pvalue}\")\n",
    "        \n",
    "ratio_means = pd.DataFrame()\n",
    "ratio_means['mean'] = [*count_ratio.mean()]\n",
    "ratio_means['gen']= ['GPT_3', 'GPT_2','GPT_1', 'Retell_1','Retell_2','Retell_3','origin','GPT_3', 'GPT_2','GPT_1', 'Retell_1','Retell_2','Retell_3','origin','GPT_3', 'GPT_2','GPT_1', 'Retell_1','Retell_2','Retell_3','origin','GPT_3', 'GPT_2','GPT_1', 'Retell_1','Retell_2','Retell_3','origin','GPT_3', 'GPT_2','GPT_1', 'Retell_1','Retell_2','Retell_3','origin','GPT_3', 'GPT_2','GPT_1', 'Retell_1','Retell_2','Retell_3','origin','GPT_3', 'GPT_2','GPT_1', 'Retell_1','Retell_2','Retell_3','origin']\n",
    "ratio_means['type']= ['noun','noun','noun','noun','noun','noun','noun','verb','verb','verb','verb','verb','verb','verb','adj','adj','adj','adj','adj','adj','adj','adv','adv','adv','adv','adv','adv','adv','con_det_prep','con_det_prep','con_det_prep','con_det_prep','con_det_prep','con_det_prep','con_det_prep','pron','pron','pron','pron','pron','pron','pron','prep','prep','prep','prep','prep','prep','prep']\n",
    "adv_ratio = ratio_means[ratio_means.type == 'adv']\n",
    "adv_ratio = adv_ratio.set_index(['gen']).reindex(['GPT_1', 'Retell_1','GPT_2', 'Retell_2','GPT_3', 'Retell_3']).reset_index()\n"
   ]
  },
  {
   "cell_type": "code",
   "execution_count": 327,
   "id": "0faf45e1",
   "metadata": {},
   "outputs": [],
   "source": [
    "adv_ratio['iteration'] = [1,1,2,2,3,3]\n",
    "adv_ratio['type']=['ChatGPT','Human','ChatGPT','Human','ChatGPT','Human']\n",
    "adv_ratio\n",
    "\n",
    "grouped_data = adv_ratio.groupby(['iteration', 'type'])['mean'].mean()\n"
   ]
  },
  {
   "cell_type": "code",
   "execution_count": 328,
   "id": "78f59147",
   "metadata": {},
   "outputs": [
    {
     "data": {
      "image/png": "[encoded data removed]",
      "text/plain": [
       "<Figure size 640x480 with 1 Axes>"
      ]
     },
     "metadata": {},
     "output_type": "display_data"
    }
   ],
   "source": [
    "import pandas as pd\n",
    "import numpy as np\n",
    "import matplotlib.pyplot as plt\n",
    "\n",
    "# Create a DataFrame from the provided data\n",
    "data = {\n",
    "    'gen': ['GPT_1', 'Retell_1', 'GPT_2', 'Retell_2', 'GPT_3', 'Retell_3'],\n",
    "    'mean': [0.004763, 0.009077, 0.004212, 0.010011, 0.003682, 0.009350],\n",
    "    'type': ['ChatGPT', 'Human', 'ChatGPT', 'Human', 'ChatGPT', 'Human'],\n",
    "    'iteration': [1, 1, 2, 2, 3, 3]\n",
    "}\n",
    "dm = pd.DataFrame(data)\n",
    "\n",
    "# Group the data by iteration and type\n",
    "grouped_data = dm.groupby(['iteration', 'type'])['mean'].mean().unstack()\n",
    "\n",
    "# Get the labels for the x-axis ticks\n",
    "x_labels = grouped_data.index\n",
    "\n",
    "# Get the values for each type\n",
    "chatgpt_means = grouped_data['ChatGPT']\n",
    "human_means = grouped_data['Human']\n",
    "\n",
    "# Set the width of each bar\n",
    "bar_width = 0.35\n",
    "\n",
    "# Set the positions of the bars\n",
    "x = np.arange(len(x_labels))\n",
    "\n",
    "# Create the bar graph\n",
    "plt.bar(x - bar_width/2, chatgpt_means, width=bar_width, label='ChatGPT')\n",
    "plt.bar(x + bar_width/2, human_means, width=bar_width, label='Human')\n",
    "\n",
    "xlabels= ['first','second','third']\n",
    "# Set the x-axis tick labels\n",
    "plt.xticks(x, xlabels)\n",
    "\n",
    "# Set the title and axis labels\n",
    "plt.title('Mean Negations for Each Iteration',fontsize=18)\n",
    "plt.xlabel('Iteration',fontsize=16)\n",
    "plt.ylabel('Mean',fontsize=16)\n",
    "\n",
    "plt.tick_params(axis='both', which='major', labelsize=14)\n",
    "\n",
    "# Set the legend\n",
    "plt.legend(loc='lower right')\n",
    "plt.grid(True,color='grey', alpha=0.3)\n",
    "# Save it \n",
    "plt.savefig('Negations.pdf',dpi=300)\n",
    "# Display the plot\n",
    "plt.show()\n"
   ]
  },
  {
   "cell_type": "code",
   "execution_count": null,
   "id": "2efd98a6",
   "metadata": {},
   "outputs": [],
   "source": []
  },
  {
   "cell_type": "code",
   "execution_count": 329,
   "id": "fb82e827",
   "metadata": {},
   "outputs": [
    {
     "data": {
      "image/png": "[encoded data removed]",
      "text/plain": [
       "<Figure size 640x480 with 1 Axes>"
      ]
     },
     "metadata": {},
     "output_type": "display_data"
    }
   ],
   "source": [
    "adv_ratio\n",
    "plt.bar(adv_ratio['iteration'],adv_ratio['mean'], color=['steelblue','orange'],label=adv_ratio['type'])\n",
    "plt.title('The Mean Ratio of Negations to Total Words', fontsize=20)\n",
    "plt.xlabel('Iteration', fontsize=18)\n",
    "plt.ylabel('Ratio',fontsize=18)\n",
    "plt.tick_params(axis='both', which='major', labelsize=14)\n",
    "plt.legend()\n",
    "plt.show()"
   ]
  },
  {
   "cell_type": "markdown",
   "id": "7147d1ed",
   "metadata": {},
   "source": [
    "## 1.9. Calculate Verb-Negation Ratio"
   ]
  },
  {
   "cell_type": "code",
   "execution_count": 330,
   "id": "c45890b6",
   "metadata": {},
   "outputs": [],
   "source": [
    "#Adverb-verb ratio\n",
    "\n",
    "#For human\n",
    "for i in range(1,4):\n",
    "    df[f'Retell_{i}_adv_to_verb_ratio'] = df[f'tokenized_Retell_{i}_tag_adv'] / df[f'tokenized_Retell_{i}_tag_verb']\n",
    "\n",
    "#For GPT\n",
    "for i in range(1,4):\n",
    "    df[f'GPT_{i}_adv_to_verb_ratio'] = df[f'tokenized_GPT_R{i}_tag_adv'] / df[f'tokenized_GPT_R{i}_tag_verb']\n",
    "\n",
    "# For original story\n",
    "df['story_adv_to_verb_ratio'] = df['tokenized_STORY_tag_adv'] / df['tokenized_STORY_tag_verb']"
   ]
  },
  {
   "cell_type": "code",
   "execution_count": 331,
   "id": "677ee7c4",
   "metadata": {},
   "outputs": [],
   "source": [
    "# Adverb - Total word count ratio\n",
    "\n",
    "retell_cols = ['Retell_1', 'Retell_2', 'Retell_3']\n",
    "gpt_cols = ['GPT_R1', 'GPT_R2', 'GPT_R3']\n",
    "\n",
    "# For human\n",
    "for col in retell_cols:\n",
    "    df[f'{col}_adv_to_all_words'] = df[f'tokenized_{col}_tag_adv'] / (df[f'tokenized_{col}'].apply(lambda x: len(x)))\n",
    "\n",
    "# For GPT\n",
    "for col in gpt_cols:\n",
    "    df[f'{col}_adv_to_all_words'] = df[f'tokenized_{col}_tag_adv'] / (df[f'tokenized_{col}'].apply(lambda x: len(x)))"
   ]
  },
  {
   "cell_type": "markdown",
   "id": "870e019c",
   "metadata": {},
   "source": [
    "### 1.9.2. Visualize Negation/Verb"
   ]
  },
  {
   "cell_type": "markdown",
   "id": "d32ffccb",
   "metadata": {},
   "source": [
    "#### 1.9.2.1. Prepare dataset to visualize"
   ]
  },
  {
   "cell_type": "code",
   "execution_count": 332,
   "id": "48f415cb",
   "metadata": {},
   "outputs": [],
   "source": [
    "verbnoun_ratio = df[['story_adv_to_verb_ratio',\n",
    " 'Retell_1_adv_to_verb_ratio',\n",
    " 'Retell_2_adv_to_verb_ratio',\n",
    " 'Retell_3_adv_to_verb_ratio',\n",
    " 'GPT_1_adv_to_verb_ratio',\n",
    " 'GPT_2_adv_to_verb_ratio',\n",
    " 'GPT_3_adv_to_verb_ratio']]\n",
    "\n",
    "verbnoun_means = pd.DataFrame()\n",
    "verbnoun_means['mean'] = [*verbnoun_ratio.mean()]\n",
    "\n",
    "verbnoun_means['gen'] = ['story','Retell_1','Retell_2','Retell_3','GPT_1','GPT_2','GPT_3']\n",
    "verbnoun_means['type'] = ['origin','human','human','human','gpt','gpt','gpt']\n",
    "\n",
    "\n",
    "verbnoun_means = verbnoun_means.set_index(['gen']).reindex(['GPT_1', 'Retell_1','GPT_2', 'Retell_2','GPT_3', 'Retell_3']).reset_index()\n"
   ]
  },
  {
   "cell_type": "code",
   "execution_count": 333,
   "id": "d194880d",
   "metadata": {},
   "outputs": [
    {
     "data": {
      "text/plain": [
       "Text(0, 0.5, 'Ratio')"
      ]
     },
     "execution_count": 333,
     "metadata": {},
     "output_type": "execute_result"
    },
    {
     "data": {
      "image/png": "[encoded data removed]",
      "text/plain": [
       "<Figure size 640x480 with 1 Axes>"
      ]
     },
     "metadata": {},
     "output_type": "display_data"
    }
   ],
   "source": [
    "adv_ratio\n",
    "plt.bar(verbnoun_means['gen'],verbnoun_means['mean'], color=['steelblue','orange'])\n",
    "plt.title('The Mean Ratio of Negations to Verbs')\n",
    "plt.xlabel('Generation')\n",
    "plt.ylabel('Ratio')"
   ]
  },
  {
   "cell_type": "markdown",
   "id": "2e1fbd72",
   "metadata": {},
   "source": [
    "## 1.9.1. Statistical Test for Adv/verb  ratios"
   ]
  },
  {
   "cell_type": "code",
   "execution_count": 334,
   "id": "6751cbb0",
   "metadata": {},
   "outputs": [
    {
     "name": "stdout",
     "output_type": "stream",
     "text": [
      " Z test for differences in adverb/verb in GPT_R1  vs. Retell_1  is significant with p-value 0.012301729886706478\n",
      " Z test for differences in adverb/verb in GPT_R2  vs. Retell_2  is significant with p-value 0.0008071153738456968\n",
      " Z test for differences in adverb/verb in GPT_R3  vs. Retell_3  is significant with p-value 0.004666850011276303\n"
     ]
    }
   ],
   "source": [
    "#Adverb to verb\n",
    "\n",
    "for i in range(1,4):\n",
    "    zscore,pvalue = ztest(x1=df[f'Retell_{i}_adv_to_verb_ratio'], x2=df[f'GPT_{i}_adv_to_verb_ratio'], value=0)\n",
    "    if pvalue < 0.05:\n",
    "        print(f\" Z test for differences in adverb/verb in GPT_R{i}  vs. Retell_{i}  is significant with p-value {pvalue}\")\n",
    "    else:\n",
    "        print(f\" Z test for differences in adverb/verb in GPT_R{i}  vs. Retell_{i}  is not significant with p-value {pvalue}\")\n"
   ]
  },
  {
   "cell_type": "code",
   "execution_count": 335,
   "id": "072f087d",
   "metadata": {},
   "outputs": [
    {
     "name": "stdout",
     "output_type": "stream",
     "text": [
      " Z test for differences in adverb/all in GPT_R1  vs. Retell_1  is significant with p-value 0.0020834907450830754\n",
      " Z test for differences in adverb/all in GPT_R2  vs. Retell_2  is significant with p-value 0.0006181933490244548\n",
      " Z test for differences in adverb/all in GPT_R3  vs. Retell_3  is significant with p-value 0.0013395350587059724\n"
     ]
    }
   ],
   "source": [
    "# Adverb to total word count\n",
    "for i in range(1,4):\n",
    "    zscore,pvalue = ztest(x1=df[f'Retell_{i}_adv_to_all_words'], x2=df[f'GPT_R{i}_adv_to_all_words'], value=0)\n",
    "    if pvalue < 0.05:\n",
    "        print(f\" Z test for differences in adverb/all in GPT_R{i}  vs. Retell_{i}  is significant with p-value {pvalue}\")\n",
    "    else:\n",
    "        print(f\" Z test for differences in adverb/all in GPT_R{i}  vs. Retell_{i}  is not significant with p-value {pvalue}\")"
   ]
  },
  {
   "cell_type": "markdown",
   "id": "97a8261f",
   "metadata": {},
   "source": [
    "### 2. Change in Human Adverb/Verb Ratio ( Negation)"
   ]
  },
  {
   "cell_type": "code",
   "execution_count": 336,
   "id": "71457531",
   "metadata": {},
   "outputs": [
    {
     "name": "stdout",
     "output_type": "stream",
     "text": [
      " Z test for differences in adverb/all in Retell_1  vs. Retell_2  is not significant with p-value 0.6114841683472254\n",
      " Z test for differences in adverb/all in Retell_2  vs. Retell_3  is not significant with p-value 0.7531194162727526\n"
     ]
    }
   ],
   "source": [
    "for i in range(1,3):\n",
    "    zscore,pvalue = ztest(x1=df[f'Retell_{i}_adv_to_all_words'], x2=df[f'Retell_{i+1}_adv_to_all_words'], value=0)\n",
    "    if pvalue < 0.05:\n",
    "        print(f\" Z test for differences in adverb/all in Retell_{i}  vs. Retell_{i+1}  is significant with p-value {pvalue}\")\n",
    "    else:\n",
    "        print(f\" Z test for differences in adverb/all in Retell_{i}  vs. Retell_{i+1}  is not significant with p-value {pvalue}\")"
   ]
  },
  {
   "cell_type": "markdown",
   "id": "ebba5013",
   "metadata": {},
   "source": [
    "### 2.1. Change in chatGPT Adverb/Verb Ratio ( Negation)"
   ]
  },
  {
   "cell_type": "code",
   "execution_count": 337,
   "id": "a9ea4a5b",
   "metadata": {},
   "outputs": [
    {
     "name": "stdout",
     "output_type": "stream",
     "text": [
      " Z test for differences in adverb/all in GPT_R1  vs. GPT_R2  is not significant with p-value 0.6468943808774712\n",
      " Z test for differences in adverb/all in GPT_R2  vs. GPT_R3  is not significant with p-value 0.6732808157525589\n"
     ]
    }
   ],
   "source": [
    "for i in range(1,3):\n",
    "    zscore,pvalue = ztest(x1=df[f'GPT_R{i}_adv_to_all_words'], x2=df[f'GPT_R{i+1}_adv_to_all_words'], value=0)\n",
    "    \n",
    "    if pvalue < 0.05:\n",
    "        print(f\" Z test for differences in adverb/all in GPT_R{i}  vs. GPT_R{i+1}  is significant with p-value {pvalue}\")\n",
    "    else:\n",
    "        print(f\" Z test for differences in adverb/all in GPT_R{i}  vs. GPT_R{i+1}  is not significant with p-value {pvalue}\")"
   ]
  },
  {
   "cell_type": "markdown",
   "id": "b532703d",
   "metadata": {},
   "source": [
    "# 3. Examine Context of Negations"
   ]
  },
  {
   "cell_type": "markdown",
   "id": "7b96fff6",
   "metadata": {},
   "source": [
    "### 3.1. Example from Highly Negated Sentences "
   ]
  },
  {
   "cell_type": "code",
   "execution_count": 338,
   "id": "9116b019",
   "metadata": {},
   "outputs": [
    {
     "data": {
      "text/plain": [
       "Index(['STORY', 'GPT_R1', 'GPT_R2', 'GPT_R3', 'Retell_1', 'Retell_2',\n",
       "       'Retell_3', 'tokenized_STORY', 'tokenized_GPT_R1', 'tokenized_GPT_R2',\n",
       "       ...\n",
       "       'GPT_1_adv_to_verb_ratio', 'GPT_2_adv_to_verb_ratio',\n",
       "       'GPT_3_adv_to_verb_ratio', 'story_adv_to_verb_ratio',\n",
       "       'Retell_1_adv_to_all_words', 'Retell_2_adv_to_all_words',\n",
       "       'Retell_3_adv_to_all_words', 'GPT_R1_adv_to_all_words',\n",
       "       'GPT_R2_adv_to_all_words', 'GPT_R3_adv_to_all_words'],\n",
       "      dtype='object', length=133)"
      ]
     },
     "execution_count": 338,
     "metadata": {},
     "output_type": "execute_result"
    }
   ],
   "source": [
    "df.columns"
   ]
  },
  {
   "cell_type": "markdown",
   "id": "cc1aaf12",
   "metadata": {},
   "source": [
    "### Original\n"
   ]
  },
  {
   "cell_type": "markdown",
   "id": "dd35d5be",
   "metadata": {},
   "source": [
    "### Get Sentences with High Negations"
   ]
  },
  {
   "cell_type": "code",
   "execution_count": 339,
   "id": "40d5f6b7",
   "metadata": {},
   "outputs": [],
   "source": [
    "stories = pd.DataFrame()\n",
    "\n",
    "stories['stories']=[*df.sort_values(by='story_adv_to_verb_ratio', ascending=False).STORY]\n",
    "stories['no'] = stories.index\n",
    "\n",
    "target_df = pd.DataFrame()\n",
    "target_df['text'] = stories['stories']"
   ]
  },
  {
   "cell_type": "code",
   "execution_count": 340,
   "id": "30710012",
   "metadata": {},
   "outputs": [
    {
     "name": "stdout",
     "output_type": "stream",
     "text": [
      "                                                  text   no\n",
      "0    The summertime is a season to all -- but not t...   11\n",
      "1    Christopher settled down in his usual chair at...   24\n",
      "2    At the age of 43 he made the decision to jump ...  109\n",
      "3    A person interviewed for a job that they were ...   68\n",
      "4    A while back I was in a dead end relationship ...   70\n",
      "..                                                 ...  ...\n",
      "111  My dog and I took a walk on a path through the...   36\n",
      "112  It‚'s raining, I just left church and was runn...   35\n",
      "113  It was a great day. Sally, Mary, Fran and I we...   34\n",
      "114  It was a beautiful spring day and Jan and Petr...   33\n",
      "115  A school teacher who taught for high school Ki...    0\n",
      "\n",
      "[116 rows x 2 columns]\n"
     ]
    }
   ],
   "source": [
    "stories = pd.DataFrame()\n",
    "\n",
    "stories['stories']=[*df.sort_values(by='story_adv_to_verb_ratio', ascending=False).STORY]\n",
    "stories['no'] = stories.index\n",
    "\n",
    "\n",
    "target_df = pd.DataFrame()\n",
    "target_df['text'] = stories['stories']\n",
    "# Create a new column to store the numbers of matching texts\n",
    "target_df['no'] = \"\"\n",
    "\n",
    "# Iterate over the rows of the target DataFrame\n",
    "for index, row in target_df.iterrows():\n",
    "    text = row['text']\n",
    "    \n",
    "    # Find the index of the text in the original DataFrame\n",
    "    original_index = stories.index[df['STORY'] == text]\n",
    "    \n",
    "    # Check if the text exists in the original DataFrame\n",
    "    if len(original_index) > 0:\n",
    "        target_df.at[index, 'no'] = stories.at[original_index[0], 'no']\n",
    "\n",
    "# Print the updated target DataFrame\n",
    "print(target_df)\n",
    "\n",
    "target_df.to_excel('/Users/eotenen/Documents/GitHub/GPT-Retelling-main/GPT/high_negation_original_stories.xlsx')"
   ]
  },
  {
   "cell_type": "markdown",
   "id": "d0bf6309",
   "metadata": {},
   "source": [
    "### Retell 1 "
   ]
  },
  {
   "cell_type": "code",
   "execution_count": 341,
   "id": "be1c47ab",
   "metadata": {},
   "outputs": [
    {
     "data": {
      "text/plain": [
       "[\"This poor kid didn't know math well, and his teachers and tutors weren't good at teaching.  The kid is trying but he needs more effective educational tools.\",\n",
       " \"Someone applied for a job that wasn't their dream job. Even though it wasn't their dream job they tried really hard and thought the interview went well, even bought a new shirt and pants and practiced some questions that they thought may be asked. However did not get hired in the end. Oh well, at least it wasn't their dream job.\",\n",
       " 'He was getting ready to sky-dive and he stepped towards the door. He was trying not to feel sick. \"Just jump, don\\'t think, just jump\" he thought. Living like this is much worse than it would be if the parachute didn\\'t open. So he jumped and felt complete peace. No fear, just peace. After he hit the ground he began sobbing. He would never be a real man.',\n",
       " 'Jacob was born with drug addicted mother and an alcoholic father.Jacob was given birth at his home and was not provided best care after his birth.He was taken care from his parents.,After CPS investigation , he was taken care by first foster family but he had not got any care from their parents also.Most of the time he was starved .Next he was taken care by second foster family and taken care but at the age of 16 he committed suicide after not being able to forgive his birth parents.',\n",
       " \"It was Saturday, Thankfully. I have a migraine like you wouldn't believe so I'm glad I didn't have to work today. I could just imagine how much of a Jerk my supervisor would act towards me. I needed to call my sister to let her know that I would not be coming over to her house. The tv was left on the news. They were discussing Trump's twitter activities once again. Just as I decided to go lay down the phone rang. It was my sister Ruth.\",\n",
       " \"A boy had a dog named Sparky who had to stay outside 100% of the time as the parents were very uptight about dog hair and stuff. Sparky didn't mind being outside and actually liked the local cat. Great dog. One winter it got too cold and his parents still would not let Sparky in so he had to give him up for adoption. The boy was of course pretty bummed but now days he understands and does not hod a grudge against his parents. Hope Sparky is doing (and did) ok.\",\n",
       " \"There was a boy named Jerry who lived with his parents. Both his parents were not rich and they had to struggle day to day. Many days, Jerry would be hungry because he didn't know what to eat. One day, Jerry's dad went to go buy groceries but bought some cigarettes. He left and never came back.\",\n",
       " \"Daniel had invited two of his friends over to hang out and watch a movie on a Friday night. Jeff showed up around 7 pm but Mitch didn't call until around 7:30 pm and said he had to work late and couldn't come over. Daniel was disappointed but understood. He was glad that Jeff showed up and they had a good time.\",\n",
       " 'On a warm July morning Mama told Jimmy To throw his old toys in the trunk. The trunk is where the garbage went. Jimmy threw a few baby toys and some other useless toys away in to the trunk. However, his old buddy bear Babo was hoping he would not throw him away. He was sure he would not. Then suddenly Jimmy threw Babo into the trunk wuth a thud! Bummer for Babo as he was now garbage and history.',\n",
       " \"Bob wasn't having a very good day. It started when he discovered someone had deflated his tires overnight -- again. As he reinflated them, he wondered which neighbor had done it. Heck, it could have been any of them. It wasn't like Bob had a lot of friends -- or any friends -- in town. When he finally got to work, he dealt with rude customers and had to disguise his lunch to keep it from being ruined by his coworkers. On his way home, other drivers seemed to do everything they could to annoy him, and when he got home, he found that religious zealots had vandalized his home. Bob couldn't really afford to move, but he knew he had to find a way out of this town.\",\n",
       " 'Just bought a house and the yard has hostas. Peple may not know it by name but have seen it in the wild before. I was doing the yard work on a hot day and it was also raining. That made them more colorful and grow.',\n",
       " \"A man from Pittsburgh that doesn't know how to spell (there's), is returning from a trip to Jacksonville. He sees some homeless people at a mall close to the airport and feels sorry for their situation. He feels bad that homelessness should occur in our country.\",\n",
       " \"My wife gave birth to our child and has been out of work.  Our yearly trip to Florida is approaching but it doesn't look like we can afford it this year.  I've been using mturk to make additional money to pay bills, but that has dried up recently.\",\n",
       " \"I take my kids to the zoo, usually about once a week.  We love going there and the animals seem happy moving around a lot.  My kids love the giraffes and orangutangs.   My youngest son feeds the giraffes lettuce.  They also made the monkeys and otters cages bigger.  We want to continue going a lot but with my kids in school now we might not be able to go much more this year.  We have a membership which means we don't have to see the whole zoo every time we visit, we can see little bits of it at a time on each visit.\",\n",
       " \"Victoria's day was consisting of three things: a work event, lunch, and a dentist appointment. She was not looking forward to going to the dentist appointment. However, she arrived on time and had no problems while she was there. She was then able to go on with her day.\",\n",
       " 'Manny was a vegan Mongoose. He used to eat meat, but was swept onto a vegan island.  His now diet contained no meat, so he did not get enough protein and nutrients. Over time, Manny got weaker. He liked eating plants, but it was not enough to sustain him well. Then one day, a cobra came ashore on the island in which he lived. The other residents had never hunted before. In the past Manny might have hunted and killed the cobra, but now he was too weak. Instead, the cobra bit Manny and all the islanders, killing and eating them.',\n",
       " 'My niece and nephew recently lost a relative who is also a friend of the family. They have lost a lot of people including their own parents. They have known people with cancer. It is sad and my family is not sure sometimes how to support them. It is very sad. I feel bad.',\n",
       " \"I went to a restaurant yesterday and had a pizza. It wasn't the best pizza ever, but it tasted good and filled me up enough. After the pizza I took a walk through my neighborhood to relaxed. I came home and did some relaxing activities afterward. It was a good evening.\",\n",
       " 'I was in my office and I saw a decent sized spider. I grabbed a box and a notebook and got down and gently eased the spider inside. I went outside and encouraged him to leave the box, I did not see him, then he repelled and left the box to the great outdoors.',\n",
       " \"When I was merely eighteen years old, I met a young man who I fell desperately in love with. The first year of our relationship was thrilling -- love letters, flowers, dates. We married and decided to make another life. I got pregnant without a hitch. One night, while my love was drinking with his brothers, I said something he didn't agree with. He struck my face with the back of his hand. I was dumbfounded and didn't know what to do. Thoughts of abortion and divorce ran through my head, but I spent the next nine years being abused by him.\",\n",
       " \"It was raining and the person was leaving church to get on the bus to their house. A older lady helped her by using an umbrella to cover her from the rain. They didn't even say thanks to the person which is quite sad! They also felt like they should of been more grateful because of that gesture\",\n",
       " \"I just finished my therapy session when I felt like hugging my therapist after she stood up, but I don't. Then she walks me to the door and tells me she will see my Tuesday. I am then in the waiting room and see a couple that are sharing a magazine sitting there. I head toward the door, and feel the urge to cry and I can't help  it. As i make my way out, I start to cry and get to my car. I sit in my care and rub my eyes and inhale sharply. After a few moments, it passes and i start my car and head for home.\",\n",
       " \"Brittany was the best cat I've ever had an I had many cats. She was a Burmese and I raised her from when she was a kitten. I brought my daughter home from an Eastern European orphanage in the early '90s and Brittany and her became fast lifelong friends. Fortunately, my daughter wasn't around when Brittany passed away.\",\n",
       " \"Jan and Petra walked to a park, and Petra was trying to cheer up Jan on the way. Jan had lost a parent recently, and didn't know how to deal with it. When they got to the park, Jan saw a butterfly. This brightened her mood significantly and she had a good time with Petra.\",\n",
       " 'On Monday, Linda decided to go for a walk outside around the neighborhood with her dog, Jake. The pair walked along the streets, getting in some light exercise and enjoying the quietness of the world around them. Jake was so excited to be outside, Linda could not help smiling It was the perfect night.',\n",
       " 'As I was walking  long a trail I saw a woman eating lunch. She beckoned me over and, even though we did not speak the same language, she reached into her bad and handed me a container of food. It looked and smelled so good that I ate it all. Afterwards she took the container and walked away.',\n",
       " \"Chris was at a cafe having some coffee when a girl a stranger approached him and said to him that he looks familiar he must have gone to the same school as the girl's sister lauraine. Chris didn't seem to remember the girl's sister but he suggested if he could meet her to which the girl agreed upon .\",\n",
       " \"Sally was poor her whole life but always knew she was smart. Teachers and counselors always advised her to go to college and get a good paying job because that would be the key to success. But Sally couldn't never hold down a job for more than a few months. She hated being bossed around and working hard to make other people successful. After walking out a job for the hundredth time she vowed to never work for anyone else ever again. For a year she didn't have much income and lived off of rice, eggs, and beans. But during that year she studied entrepreneurship and developed a line of jewelry and accessories. She is now more content than she has ever been.\",\n",
       " 'So Murphy has had an otherwise really bad day at work.  He is driving home and looking forward to spending the evening with his best friend \"Willow\"  Willow is a rescue dog that Murphy has had for 6 years.  Murphy gets home and Willow isn\\'t there to greet him.    He eventually finds Willow on the bed in his room.  Willow has passed away.',\n",
       " \"There was a boy that had an amazing imagination. He always would imagine all different kinds of things like slaying dragons and flying into outer space. He was very lonely because he didn't have any friends because nobody shared the same interests as him. One day he ran into a girl who changed his life because now he was no longer lonely when he was with her.\",\n",
       " \"there was a guy who doesn't like the summer because it was always hot. then, autumn came and he was very excited to wear his favorite type of cloths, which is hoodies. he likes how dry leaves crunch under his feet and watch people drink coffee to keep warm. this is his favorite time of the year and he will enjoy it\",\n",
       " \"Jeff had a history of being bullied in his school. One day, he decided to get back at all these bullies by beating them in sports competitions, so he trained day in and day out for a year. At some points he wanted to give up but he knew he couldn't. In the end, he came out in first place.\",\n",
       " 'A teacher is looking forward to his first day teaching match class. He feels optimistic on the morning o the day, but tempers his optimism by reminding himself that this is a high school after all and so he should not have too many expectations. He remembers that his own time in high school was challenging. One of his main goals is to influence students in a positive manner through learning. He introduces himself to the students and they start asking him a lot of general questions. But one student kept giving him a hard time. He kept interrupting the teacher frequently, often out of turn and kept asking to go to the bathroom. He was the type of student who was not interested in school. The teacher hoped he would change his ways.',\n",
       " 'after a heated argument with my boyfriend, i went to the nearby store to get something for myself. not really having anything in mind... i eventually settled for some tea to help calm me. while paying the cashier, i noticed \"scratch and win\", i got it and paid for it... i went out to scratch it and discovered i won a hundred dollars!',\n",
       " \"One day I woke up feeling mildly anxious in anticipation of a doctor's appointment, I am more of an introvert, so really  any type of interaction with people I don't know can make me feel stressed out, I think traits can be passed down through families generation after generation, My grandma and I were alike in that way, She was married and had two children and lived to be 94\",\n",
       " \"John was troubled after he woke up, he had this knot in his stomach that he couldn't swallow and this made him feel restlessness. He hated this feeling because he felt it was a sign of bad things to come, a work of some higher being of sorts. True to his suspicion when he went to the bathroom, his found his fish  Fishy McFish Face floating dead on the tub.\",\n",
       " \"A little girl was excitedly waiting for her dad to get home. Every day he picked her up and swung her in the air and she loved it.  / His boss asked him to stay late and fix a project his coworker btched, so she would have to be let down. Her mother couldn't even console her with her favorite grilled cheese. She hugged her favorite teddy and went to bed.\",\n",
       " \"Jane met the love of her life when she was nineteen years old.  His name was Derrick. She began working with him and they became good friends.  They texted every day and talked on the phone every night.  Although Derrick was just her friend, Jane was falling in love with him.  She had known Derrick for 3 months and he revealed that he had a girlfriend all along.  Well, he did not reveal it so much as Jane found out and he confirmed it.  Jane was heartbroken but she still cherished her friendship with Derrick.  They continued to be friends and Derrick would sometimes hint that he felt that he was in love with two people at once but he never directly revealed his feelings towards Jane.  After about a year, Jane stopped working at the place she worked with Derrick.  She thought they would remain friends but she didn't hear from him again.\",\n",
       " 'I found an injured pigeon when I was walking my dog last week.  The pigeon could not fly so I thought it would be best to take it home so it would at least be comfortable.  I put it in a box and gave it water and an old leftover doughnut.  The pigeon pecked at the doughnut and it was alive the next morning.  I fed it bird food after that to try to bring it back to health.',\n",
       " 'One day a girl was walking her dog. Something lunged in front of them. It was a squirrel. The dog went after the squirrel and the sudden movement caught the girl off guard. The leash went up in the air. The dog continued to chase the squirrel until they disappeared. The girl walked home crying. She contacted animal control and prepared to make posters. She was not holding her breath though.',\n",
       " \"It was Friday the 13th and the monster was going to attack the village. He'd been planning the attack for years and years. He gathered his minions to help him attack. He made it perfectly clear they were not to attack until he gave the signal. Fortunately all the power had gone out due to strong winds. So they never saw the signal. The villagers got to live to see another day because of this.\",\n",
       " \"A small town Netherlands girl felt very happy because her single father was loving and attentive to her needs. He cooked, gifted, and tucked her in for sleep but not before securing it against bad monsters. He was large and protected her wholesomely. She trusted he was the best possible father. One day she began shaking, and realized she was being woken up. Upon waking, she remembered she's an orphan.\",\n",
       " 'It was my birthday, and no one had said anything about it all day to me. I went to my car to leave work, and I found a note that said \"You Da Best!\". The person writing this had to have known about how much I like DJ Khaled, and I couldn\\'t help but smile thinking about the note. I went home and spent the rest of the night alone, thinking about that note and drinking.',\n",
       " \"A high school teacher was looking through Facebook on his iPhone and noticed a friend request from 2 women.  He couldn't recall who they were at first, they were in their 30's and appeared to have families.  He accepted their request then received a call shortly afterwards.  He then realized that the women were old students of his, sisters, who called to invite him to Thanksgiving dinner.  He was very moved and went to buy them gifts before the dinner.\",\n",
       " 'Ignorak had a fishing trip that he was looking forward to. he had practiced his flyfishing skills and wanted some trout for the new season. He had worked a lot this year and did not have much time for fishing so he greatly looked forward to this. He went off to the stream and the hike there seemed more difficult than before, he thought he was getting old and took a break. he then realized he had gone to far and passed the stream, it had dried up. /  /',\n",
       " 'Jennifer wanted to go to a punk rock show because her favorite bands would be there.  However, the day tickets went on sale, she slept through her alarm and missed the opportunity to buy tickets.  Devastated, she went to the venue and stood outside hoping she might at least get to see some of the band members.  A stranger approached her and asked if she would like to go since a friend did not show up, and Jennifer went.  She became friends with the stranger.',\n",
       " \"There was a very happy cow.  The cow liked to eat a lot of grass in the meadow and she always ate it.  She always had enough grass to eat until one day there was no grass.  The next day she woke up and the grass was back, but she was sick.  She thought about what was wrong with her and that she needed some water.  A farmer asked the cow what was wrong and told her you shouldn't eat so much grass.  She was fine after that, she just needed some water.\",\n",
       " \"There were two rival chicken farmers who were also neighbors that shared a fence. One farmer had red chickens and the other had white. The men would argue and bicker and shout at each other but the chickens didn't know any better. One day the farmers both realized their eggs were gold-colored rather than the normal white. The farmers sold their golden eggs for a higher price than they ever did before and it turns out, their chickens found a hole in the fence and were breeding with each other all along as the men fought.\",\n",
       " \"a very smart man. He met a beautiful woman, and they married. Over the years they shared together three children and a happy life,  His wife took him to a doctor who told her the man was ill and would get worse over time. Eventually, the man would no longer be able to take care of himself.  he would forget not only her and their children, but also all the little things a person's body does automatically. She was devastated, but did her best to take care of him as he lost himself and she lost him.\",\n",
       " 'A while back I was in a relationship that started well and quickly turned south.  I thought she was the one for me but it became obvious she was still in love with her ex. She also was just interested in me anymore and cut contact with me for about a week or two.  When I started to move on from her, a text came out of nowhere. It made me realize I was just a plan B to her.  We hung out 1 more time then broke up.  The relationship was not worth saving. I am glad it was over because something better came along for me.',\n",
       " 'This is a story about a boy who loves his dog. He has always had the dog, ever since he can remember. When he was very young he used to go to the beach with the dog and run around on the sand with him. They even played in the waves together, feeling the power of the surf as the waves crashed over them. Later, the boy spent his time in school studying and did not have the time to be with his dog. He misses his dog and daydreams in school about spending time with him; this is how he makes it through his day at school.',\n",
       " 'Jack was concerned about his two children, seven-year-old Matthew and five-year-old Jonathan. They both seemed to have trouble making friends. Jack enrolled in his sons in various sports activities such as basketball, baseball, soccer, and many more. Although the boys enjoyed the different sports practices and were good at them, they were still not able to meet other kids and form friendships. Jack eventually realized that both of his sons were extremely shy, so he tried signing them up for acting and speech classes. It worked like a charm! The boys were able to overcome their shyness and became more outgoing, which helped them make friends much more easily than before.',\n",
       " \"It was frustrating to see my daughter lose her mother to stage four breast cancer at such an early age. My daughter's mother had been diagnosed with breast cancer when my daughter was born but didn't pass away until my daughter was thirteen years old. I am grateful my daughter had those years with her mother. She was able to learn so much about her mother; however, my daughter was forced to grow up quickly. Taking care of her mother was never something she grew used to. My lovely daughter is now sixteen and has grown into a beautiful, independent, smart young lady. I am happy my daughter found her silver lining.\",\n",
       " \"Boe the dog knew he wasn't supposed to jump the fence or cross the stream, but that's exactly what he did. He hopped the fence then began to cross the stream. The stream was a little colder than he thought it would be, but he remembered how badly he wanted to cross it over many years and pressed on. Once he crossed he spent hours wandering around and eventually realized he was lost. Each passing hour became more dire. Some strangers seemed to want to help, but Boe was too scared. Eventually it grew dark so Boe listened for the sound of water and found the stream. He crossed it and saw home and ran towards it.\",\n",
       " \"There once was a little girl who felt all alone. She had few friends, but none were true. As she entered the 6th grade, she had to switch schools. She was anxious that if she couldn't even make real friends at her old school, how would she do it at this school. She started school and attended her band class. There she felt a sense of calm and belonging. These could be her people. All year long she grew closer and closer to them. Then, they went to a band competition and WON. As they were all celebrating, the young girl knew that she had found her place and was no longer alone.\",\n",
       " \"When my niece turned 11, I was saddened at the thought that her carefree youth was coming to an end. My husband and I decided to have one last childhood adventure with her. We gave her a bouquet of gummy flowers and in the center was a ticket to a whimsical play. She smiled and thanked us, but we could see the disappointment in her eyes. We had failed at gift giving. However, she was polite and tried to act excited. The night of the play came. To our surprise and delight, she laughed the whole time. She loved it! We were so happy to see that she hadn't completely grown up yet.\",\n",
       " \"A young boy was playing tag in the park with some friends. When he went to tag another boy, he accidentally touched the other boy's groin. This made the other kids laugh and mock him and they said he was gay. The boy was upset, even though he did not know what they meant when they called him gay. He did know that he was being laughed at and made fun of and he went home crying. He asked his dad what being gay meant, but Dad told him to ask his mother. Mom explained to him that being gay simply meant that he liked boys instead of girls and that that was okay, because God loved no matter what.\",\n",
       " \"Sam was a boy who was turning 13. He always wanted a pet but his parents would never entertain the idea. They were afraid he wouldn't be able to take proper care of it. Since he was entering his teenage years, his mom decided to gift him a Golden Retriever puppy. Sam was so overjoyed and thankful. He decided to name his puppy Scooter. He spent hours every day playing with Scooter. As Sam grew older and had more responsibilities, such as getting a job to pay for his cell phone and insurance, he had less time for Scooter. The days of tug of war and belly rubs were over. Soon Sam would have to leave for college.\",\n",
       " \"Once upon a time, there was a boy named Peter, who had a dog - he got the dog on his 4th birthday, which was two years ago. He named the dog Peanut Butter, after his favorite kind of food. /  / One day, Peter and Peanut Butter were walking along the beach, and everything was perfect - the sun was shining, there was a breeze in the air, and everything seemed quite alright. Suddenly, they came across a flock of seagulls, and Peanut Butter, being the dog he is, chased after one particular seagull. The seagull flapped it's wings  and skirted over the ocean surf; Peanut Butter could not resist, and splashed into the water to follow. Peter was mortified, as Peanut Butter swam farther and farther away, seemingly chasing the seagull into the horizon forever.\",\n",
       " \"It was always such a struggle for the woman to get anywhere on time! First she had to get her son safely to school, and then she had to drive across town to drop off her daughter at the dance studio. The poor woman didn't even have time to get herself something to eat -- but she looked forward to having a good meal with her family once her daughter finished with her dance lesson.  /  / It was too much of a fuss to drive home when she'd have to pick up her daughter in an hour, so the woman sat in her car and read a book while she waited. Suddenly, her phone buzzed with a text telling her to come into the studio. The woman was concerned, but it turned out that her daughter had learned a new dance step, and the instructors wanted her mother to see. Watching her daughter dance with joy and skill, the woman reflected that all the day's fuss was worth it.\",\n",
       " 'Some choir boys were unable to perform on a determined concert due to an accident a few days before. They were in route to a Disney World trip when their bus caught on fire. Everyone was fine, but the smoke inhalation made them unable to perform at the concert.',\n",
       " 'HE IS A OLDER MAN BUT HE HAS A CARING WIFE BUT SHE IS CARING GRANDSON IN ANOTHER TOWN . HE IS VERY SICK IN HEALTH ISSUES BUT HE IS ALONE IN HOME SO SHE IS NEEDED SPEND TIME WITH HER HUSBAND SHE IS WORKING OR INTERESTED IN POLITICAL VIEWS BUT HE IS DONT LIKE TO POLITICAL VIEWS HE IS VERY LONELY.',\n",
       " 'sister got married at 28 and then shortly after she got pregnant. She then got very sick had to go to check out. She spend months there, had treatments and spend 20 grand on it all. It didnt turn out well, she died. /  /  /  \\\\',\n",
       " \"There was a little girl and her dog. Eveerywhere the little girl went, the dog followed her. It was clear that they loved each other very much. The little girl was sent to her grandmother's to be taken care of for a whilee. The dog was lost. The parents went looking for it. he girl found out and was sad by the news. Eventually the girl woke up to her best friend.\",\n",
       " 'A little girl always wanted a pet.  For years she asked her parents if she could have any kind of pet but they always said no, because it would be too dirty or expensive, etc.  So she decided to volunteer at an animal shelter.  She worked at the animal shelter for a while and fell in love with and always was attentive to a white poodle.  She finally asked her parents if she could adopt the poodle thinking they would say no.  But to her surprise they said yes.  She now had a pet.',\n",
       " 'Steph has a grandma who is getting older and has a lower attention span.  The grandpa has died and grandma is lonely.  With the help of Steph, grandma can operate a computer.  She listens to podcasts but has to turn the speed to 1.5x because there are a lot of podcasts to hear and her time is limited.',\n",
       " 'Sarah long dreamed of, abandoned social life for, and worked hard in school for, college. Upon graduation, her dream college accepted her. She was accepting that it was far from where she lived. Prior to acceptance, she began dating a likeable guy. She opted to go to a local college with him. They broke up shortly thereafter and she became disappointed that she traded her dream college for this.',\n",
       " 'Before three weeks we were informed and forecasted about the hurricane about to happen in our area .It were slow moving and about 2 or 3 days before it hit and I took both cars and filled  them up and went to an area of =sand and we got the maximum of 10 sand bags.At the last minute it took turn to the North and we got only little rain.We were relieved from the fear about the hurricane.',\n",
       " 'A man went to the aquarium with his 6 year old grand-daughter. They stayed overnight in a hotel and had breakfast the next morning before going to the aquarium. The girl was very excited.',\n",
       " \"It was Mark's birthday and it was a dreary day outside.  He actually preferred cloudy days, though, so that suit him just fine.  He no longer lived with his parents and his life had been tumultuous since.  He lived in a small apartment and had anime and other colorful posters on the walls.  He spent the day on his computer, probably playing computer games, which is how he wished to spend the day.\",\n",
       " \"The witch arranged to make her last blend that would need to incorporate one of the detainees she currently had available to her. They were shown in a pen that was held by a long snare overhead. The individuals inside were a man and a lady who could be no more seasoned than 22. They knew now there could be no request that would spare them. They were making harmony with the end they were to confront when exactly right then and there, a legend got through the window. He jumped inside and tumbled to the floor. He was wearing a bosom plate and a knight's protective cap and he had a long sword. The witch was found napping and before she could do magic on the warrior, he killed her. The warrior liberated the two individuals in the confine and helped them back to their town.\",\n",
       " 'A MAN WAS ANGRY FOR LOOKING HIS CAN OPENER HE SEARCH ALL PLACES BUT CAN NOT FIND ANYWHERE  HE WANT BEANS AND TRIED TO OPEN HE IS VERY TIRED TO OPEN IT WHEN THE MAN CAME BACK HE HAD HIS TRUSTY SHORT GUN AT LAST OPENED HE IS RELIEVED.',\n",
       " 'There once was a little girl named Bella who loved chocolate bars.  One day she was going home through the woods after school, eating her candy bar and dropped it.  She got upset but picked the bar up and carried it home.  Her mom asked her how school was and Bella told her about the candy bar, her mom told her it was okay, brushed off the dirt, and Bella was happy to finish eating the candy.',\n",
       " 'As a child I had good times with my dad. When he would take me to the doctor it was great fun. He hit my knees with a mallet and then he would look around for a tin that had candy in it. When he was done he gave me a lollipop.',\n",
       " 'Creatures like earth frogs live in waterscapes and dont like summer.  They dont thrive outside of water but do like visitors.',\n",
       " 'My son just started college, he is the last of our 10 children to start college, they all attended.  He had to write an essay about who inspired him and he chose me.  I told him about how my life turned out and the things that were unexpected, 3 of our kids were adopted.  I was an only child.',\n",
       " 'On December 2018, a beautiful couples decided to adapt a dog. Both of them had some knowledge about the dogs and they have interest in raise a dog. After the adoption process, they adapt a small bulldog with 50 pounds and they named a elwa.',\n",
       " \"This individual's daughter is turning 6.  It's a big day.  The daughter is only turning 6 once.  The event is a princess theme with the daughter wearing a princess dress.  The party is taking place at her gym studio and all of her friends are coming.  There is also a special shirt with her age and a crown on it.  Her grandfather is also driving up from Tennessee.\",\n",
       " 'A couple were trying to conceive a child for six years. They tried and failed. Finally they decided to go get fertilization considered, but they found out the wife was pregnant. They watched their child grow with immense happiness.',\n",
       " 'the boy asked his dad for 15 after learning that he makes 30/hr.  his dad said no, and that the boy would jusdt end up buying another toy.  the boy went to his room.  the father went back to the room to say he was sorry.  he gave the boy 15.  the boy then asked if he could buy an hour of the fathers time tomorrow since he now had 30 to eat dinnner with him',\n",
       " \"A small rural town fire department employee lived in a close-knit town. One evening, he and his crew were tasked to respond to a north-side fire in his town. Upon arrival, they found the house engulfed in flame. The employee knew the family well and respected them. He fought hard to extinguish the fire and risked he and his crew's lives. They extinguished the fire and returned to their fire station. The following day, he discovered that family had been asking for help in good methods to burn their own house down.\",\n",
       " 'The boy always wanted a pet goldfish.  One day his parents got him one.  He put it in a fish bowl and watched as the fish swam around.  A few days later, the boy woke up to see the goldfish had died.  He has put the bowl too close to the window and made the water too chilly.  The boy was devastated, but leaned a valuable lesson.  He now had 3 full size aquariums.',\n",
       " 'A lonely puppy was walking around town, looking for a family to take him in and love him. He was about to give up hope when he say a cancer-fighting boy walking down the street with him family. The puppy had an instant connection with the boy and he was able to be adopted by the family. Everyone was overjoyed.',\n",
       " 'There was a paladin who was a paladin for all the right reasons. He went and fought in many wars for many years. In the end, he regretted choosing the life he had. There was too much sadness and violence.',\n",
       " 'I needed help with my math homework and I asked my mom.  She seemed distracted and I asked her what was wrong.  She told me my dad lost his job and we would have to move in with my grandma.  I got mad because its 500 miles away and I wont be able to see my friends.  I ran to my room.',\n",
       " 'The author had two guinea pigs named Boomer and Sprinkles. One of them got very sick and the other would stay very close and comfort him as he was sick. Unfortunately he passed and the author is trying, to no avail so far to find him a new partner.',\n",
       " 'They met in High School. He developed serious serious for Elisabeth. She went to the dance with another guy.',\n",
       " 'When I was in college I had a good friend named Mariam.  She was my first close friend and we got very close over time.  We had a fling near the end of the first year, even though we were good friends.  We both agreed to keep it secret but I was so excited I ended up telling some friends.  One of them told her and it made her very angry.  We got into a huge argument and it deeply affected our friendship.  I still regret what I said and did back then to Mariam.',\n",
       " 'I did really bad in high school. But when I got to college, everything changed. And I ended up doing pretty well at college. On graduation day (from college), I was amazed at the transformation I had gone through.',\n",
       " 'Colleen had a real passion for soccer. She played the sport in high school and in college before doing it professionally. She transitioned into coaching and loved coaching young kids. Sadly one day she had a mini heart attack and was rushed to the hospital.She then had another heart attack, this time it was fatal.',\n",
       " 'PAUL WAS SATISFIED WITH HIS WORK HE WORKED ALONE SOMETIMES LIFTED HEAVYLY HE CONSIDERED HIMSELF AS A LONER AT LAST HE COULD FINALLY ENJOYED THAT DOG ENTERED THE LIFE.',\n",
       " 'It was Christmas morning and Timmy was very excited to open his presents.  He ran down to the family room to open presents and expecting his family to be waiting for him, but the room was empty.  He noticed that someone had been in the room as the furniture had been moved and the cookies that had been left out were gone.  He then found a note that said \"Timmy, you\\'ve been a bad boy this year.  You get nothing and your family has gone to Red Lobster.\"',\n",
       " 'I took a walk one day down to the coffee shop to meet my friends. When I got there, my friends were sitting in a booth. I sat with them and w ordered our favorite drinks, cappuccinos, and pastries. We shared different stories with each other. We all laughed and shared our beliefs. It was a very nice time. Then after that we decided to go to a bookstore and look at different books together. We all had a great time and it felt very meaningful.',\n",
       " 'story about one girl She was in a good mood because she had done very well on her test. She was excited to go and tell her mom how well she did on her test. While she was walking home she heard a noise. It was coming from behind the tree. She walked over to the tree to see what it was and she saw a little baby kitten.',\n",
       " 'I went to stay at my parents house on July 4th with my girlfriend. They were away, so it was just us. I was incredibly happy to see my beloved German Shepard. One night he was a bit down, so I fed him some chicken from KFC that somebody had picked up. The next morning he was terribly ill and his condition steadily worsened. He had been ailing for some time. The following day I knew it was time and we wrapped him in a blanket and took him to the vet. It is one of the hardest things I have ever had to do in my life and I always remember him and that moment.',\n",
       " 'A woman named Abigail was feeling down one day so she started thinking about things she enjoys doing.  Specifically baking, playing video games, and being out in nature.  She made a cake and brought her neighbor, Arthur, a slice which he enjoyed.',\n",
       " 'The other day my dog and I went for a very scenic walk through the forest. There were so many beautiful flowers all around us and my dog loved walking around and sniffing everything. It really was a perfect day and we both enjoyed ourselves very much.',\n",
       " 'It was a cold and dark winter morning that was chilling to the bone. The old truck was sitting in the driveway, and despite making it through many winters, it finally broke down. The oil line broke and sprayed oil everywhere which in turn deprived the engine of oil. The engine broke down and the truck would finally become scrap after over 200,000 miles.',\n",
       " 'there was a very successful musician who lived his life having fun and parties because he was very successful. one day, he met a new lady, Taylor, who he really wanted to have a relationship with. so he showered her with gifts and made her his queen. on a fateful day, going to see a movie with Taylor, the musician was hit by a car and he died on the spot.',\n",
       " 'I had a great day with my friends Sally, Mary, and Fran. We went to get lunch at our favorite restaurant to celebrate our birthdays. We arrived early, got a table, and ordered our lunch. One of our friends told us of her adventures to Cape Cod. Our food came out pretty quickly and we ate and continued talking. I told my friends about my renovations on my bathroom and how frustrating it has been and how long it has been taking. Overall the results look good though.',\n",
       " 'It was the morning and I was taking my huskies for a walk on the mountain trail. They were incredibly excited, which made me excited as well. When they saw an elk they went crazy, and I had to use all my strength to hold on to them.',\n",
       " 'A sergeant in Iraq order a soldier to pick up a piece of metal. The soldier refused even though the sergeant said that he would be written up. The sergeant then asked the next soldier to pick it and and when he did it exploded killing the soldier. There are many lessons to be learned from this story.',\n",
       " 'He wanted a strawberry taffy. He went to the gas station, and there was no strawberry taffy. He bought blueberry taffy.',\n",
       " 'Some of my favorite childhood memories were when I went shrimping with my dad. I can remember everything so clearly; the color of his truck, and how the tailgate was different, the rock music he would play on the tape. I loved the smell of the air, the outdoors, the wild. I would eat a snack right before we got ready to go shrimping, and once we did, we were set for the whole day.',\n",
       " 'I lived in Florida until I was 7, then we moved. We still visit yearly but I avoid the packed summer and go in September. I love to hit the beach with my kids, charter boats, and even windsurfing. We get a room for comfort.',\n",
       " 'jessie lived in a store front.  it was hit by ice on the window.  his grandmother was in bad health. he knew that he should be doing osmething but wasnt sure what. he wasnt sure how to hustle a ride somewhere and was very poor.  he might want to go somewhere to get something done like find an new love life',\n",
       " 'Fred went to work and found a client who was in a hurry, Fred asked him what was wrong and the man explained that he needed to hurry to a funeral and fix the broken down car. Fred offered to give a ride, the man was so happy. Fred came into work later on and found a large anonymous check given by a donor.',\n",
       " 'Clary was a princess with a husband whom she really loves. One day she was out in the garden when her husband came and gave her a big kiss. THey really wanted a child so they tried for many months. In the end, Clary was pregnant and they got the child they wanted.',\n",
       " 'I had to go down to the post office and get my new laptop that had come in. I headed straight for Gamestop because I saw that Skyrim had just came out and I wanted to try it on my new computer. I had a feast planned for lunch at taco bell- Baja blast, Mexican pizza, nd steak quesadilla. Then I stopped at Dairy Queen for an orange Julius. Just as I was grabbing it the employee let go and my world crashed as it hit the floor.',\n",
       " \"I woke up in the morning and began to get ready for work.  I went to feed the cat, but it was nowhere to be found.  I was concerned because the cat had only never been outside on it's own.  I felt sadness as i continued to get ready for work.  As i went to leave, i heard a faint meow.  It turns out, i had accidentally shut the cat in the closet the night before.\",\n",
       " 'Lucy and Connor were brother and sister. Now, they were each on an airplane headed in opposite directions. They were each going off to different colleges. Lucy was going to Duke for political science. Connor was going to UCLA for English and theater studies. They had a good relationship and would miss each other while they were apart. Things would be different now for both of them.',\n",
       " 'Johnny was upset all the time sitting in his dull room eating cold porridge. He wanted to be something different than the \"kid that was depressed all the time\" but was unable to find a new identity. After all, \"the kid who is happy all the time\" and \"the kid who is mad all the time\" were titles already taken. It eventually sunk in that he would forever be the \"the kid who is depressed all the time\". Over time, even though he desperately wanted to be something different, he grew to accept it.',\n",
       " 'Tommy and Rob developed a good friendship. They went to school together. They had many adventures together.',\n",
       " \"This person spent the weekend back home.  They went to their Alma Mater's football game on Friday night and that brought back memories from their school days.  They spent a day with their parents playing games.  They also took their dog to the dog park to play and afterward went to get ice cream and the dog got a doggy cone. They finished off the weekend with a bonfire and roasting marshmallows.  They believe that spending time with your loved ones on a fall weekend is a great way to spend time.\",\n",
       " 'Mary was having just a terrible day and no one helped her on a project. The boss to top it off yelled at her. She just wanted the day to end. When Mary got home no one was there to make her feel better!. The husband left her a paper that he was with his friend, Mary finished the day crying because of this!',\n",
       " 'A lonely troll lived alone in a cave with no friends. The humans and dwarves would always attack him. He traded his best club to a goblin for a locket to give to an adventurer to make friends but it turns out the locket belonged to a woman he had cared about. This made the troll sad that he would die alone.']"
      ]
     },
     "execution_count": 341,
     "metadata": {},
     "output_type": "execute_result"
    }
   ],
   "source": [
    "[*df.sort_values(by='Retell_1_adv_ratio', ascending=False).Retell_1]"
   ]
  },
  {
   "cell_type": "code",
   "execution_count": 342,
   "id": "8c85b54f",
   "metadata": {},
   "outputs": [
    {
     "data": {
      "text/plain": [
       "['A boy struggled with math and studied hard for an important exam with help from a tutor, sacrificing his video game time. Despite his efforts, he only got a passing grade of 70 and was disappointed.',\n",
       " 'A job seeker prepared for an interview they were hopeful about by buying new clothes, practicing questions, and being well-prepared, but unfortunately they were not hired.',\n",
       " 'A 43-year-old man took a risk and went skydiving despite his fear. He felt peace as he fell, but after landing he realized he would never be a \"real man\".',\n",
       " 'A little boy named Jacob was born to drug-addicted & alcoholic parents. After 6 months, he was removed from their care & placed in a foster family. He was eventually adopted by a loving family but committed suicide at 16 due to unforgiveness towards his birth parents.',\n",
       " \"A person has a migraine headache and can't visit their sister due to the pain. They contemplate calling their sister but find it too difficult. They're glad it's a Saturday so they don't have to work and they're worried about the news regarding President Donald Trump and his tweets. Just as they're about to go to bed, they receive a call from their sister.\",\n",
       " \"The author had a dog named Sparky, a terrier mix, who was happy but got into trouble stealing neighbor's chickens. He was kept on a dog run but not allowed in the house. Sparky was friendly with the cat but the cat didn't reciprocate. After a bad winter, Sparky was given up to a local animal shelter and the author hopes he went to a good home.\",\n",
       " \"Jerry, a young boy from a poor rural area in the US, lived in a troubled household with his siblings. His parents fought constantly and often didn't have enough money for food. Jerry's dad would leave for work, but never returned with a paycheck. Sometimes he would get drunk and argue with Jerry's mom, causing Jerry to hide and cry. One day, his dad left to buy groceries and cigarettes but never came back.\",\n",
       " 'Dan was excited to have a movie night with friends Jeff and Mitch, but Mitch had to cancel due to work and only Jeff showed up. Despite being disappointed, Dan still had a good time with just Jeff.',\n",
       " 'A teddy bear named Babbo, who watches over a boy named Jimmy, is thrown into the trunk during a neighborhood yard sale setup. Babbo was hurt and dazed after being thrown away by Jimmy, who was getting rid of his old toys.',\n",
       " 'Bob has a rough day at work in a town where he is not liked, with rude customers and coworkers. On top of that, his tires are deflated again and his home is vandalized with religious propaganda. He contemplates leaving for a more welcoming town.',\n",
       " \"I recently bought a new home with a yard full of hosta plants. They're large, green, and love shade. I propagated some new growths on a damp, overcast fall day and today they were looking colorful and lively. Hostas are resilient to weather except dryness and heat. I love the new plants and my new home.\",\n",
       " 'The narrator arrived in Pittsburgh from Florida and saw 3 homeless people on the street corner asking for money or food. They felt sad about the inequality and wished for a better distribution of resources and equal opportunities for all.',\n",
       " \"Family's annual trip to Florida is in jeopardy due to financial difficulties. Wife has been out of work after giving birth, and extra income from Mturk is drying up. The thought of not being able to go on the trip after working all year is hard to accept. Hoping to earn enough money to make the trip happen.\",\n",
       " 'The writer took their kids to the zoo and they visit often because they love watching the animals, especially the giraffes and orangutans. The zoo recently renovated the monkey and otter exhibits, making the animals happier. The writer and their kids have a membership, so they can visit as many times as they want before the season closes.',\n",
       " 'Victoria had a busy day ahead with a work meeting, lunch date and a 2pm dentist appointment. Despite not being excited about the appointment, she arrived on time and received good news of no cavities or dental issues, putting her mind at ease for the rest of the day.',\n",
       " 'Manny Mongoose was swept to an island with friendly vegans after a storm. Although he ate the plants they offered, he became weaker due to the lack of meat. A cobra washed up and started hunting the islanders. Manny, who was a skilled hunter, was unable to defeat the cobra due to his weakened state from the vegan diet and was eventually bitten and eaten. The cobra then went on to eat all the islanders.',\n",
       " \"A friend of the family recently passed away, causing sadness for the narrator and the niece and nephew who are related to the deceased. Both parents of the niece and nephew have already passed away, and they have lost several friends to cancer. The narrator tries to support the kids but feels helpless as they don't know them well. The kids will be coming to see everyone soon and it's heartbreaking to think about the losses they've endured at such a young age.\",\n",
       " 'Yesterday I went to a restaurant and had a pizza that was topped with banana peppers and mushrooms and went for a walk after. The day was sunny with a cool breeze and it made me feel content. I spent the rest of the day relaxing and watching sports games at home.',\n",
       " \"I found a spider in my office and decided to safely move it outside. I put it in a box and took it outside. When I removed the box's cover, the spider had climbed out using a web. I then gently placed the box on the ground and freed the spider into the grass.\",\n",
       " 'A woman fell in love and got married at 18 to a man who seemed perfect, but he ended up being abusive after hitting her for the first time after a night of drinking with his brothers. She spent the next 9 years suffering from the abuse.',\n",
       " \"A person left church on a rainy day and was waiting at the crosswalk for the bus. An old lady offered to share her umbrella, and they crossed the road together. The act of kindness made the person's day and taught them to care for everyone, including strangers.\",\n",
       " 'Person leaves therapy and feels emotional, but tries to compose themselves before driving home. They take deep breaths to calm down and eventually turn on their car to head home.',\n",
       " \"The narrator had many cats in their lifetime but Brittany was the best. She was a purebred brown Burmese cat with gold eyes, silky hair and a muscular body. The narrator adopted her from a breeder in Florida and brought her home when their daughter came home from an Eastern European orphanage. Brittany became fast friends with their daughter and was there for the childhood of their daughter but passed away quietly in the narrator's lap after a pancreatic event.\",\n",
       " \"Jan and Petra, childhood friends, went for a picnic in the park to lift Petra's spirits after her grandmother passed. They spread a blanket and had a picnic, then a butterfly flew by and landed by Petra's plate, making her feel better and brightening her mood.\",\n",
       " 'Linda goes for a walk with her dog Jake to boost her mood on a Monday. The neighborhood is quiet and she enjoys hearing birds and spotting a squirrel. Linda returns home feeling less stressed with a smile on her face.',\n",
       " \"A person was walking on a trail and came across a woman eating lunch. They didn't speak the same language but she offered them food, a spicy and fragrant curry, which was enjoyed with flatbread. After finishing the food, the woman took back the container, offered water and walked away, leaving the person happy.\",\n",
       " \"A man named Christopher is at Starbucks working and a girl named Janet taps him on the shoulder and recognizes him from when her sister went to school with him. They both recently moved to the town and don't know anyone, so they make plans to meet at Starbucks at 6pm. Christopher is excited to reconnect with someone he knew from the past.\",\n",
       " 'Sally was a poor but smart girl who struggled with keeping jobs because she hated being bossed around. She lived on a minimal diet for a year while she focused on creating her own jewelry line and studying entrepreneurship. Now, she sells her jewelry full time and is content with her life.',\n",
       " 'A man named Murphy returns from work to find his beloved dog Willow missing, after searching the house he finds her lifeless on the bed.',\n",
       " 'A boy with a vivid imagination feels lonely as he grows older as no one shares his love for adventure and magic. However, he discovers a forest filled with color where he meets a girl with a paintbrush who brings his imagination to life and they paint the world together, finally finding acceptance and joy.',\n",
       " 'A man who hated the heat of summer moved to a place where autumn came, bringing cool temperatures, pumpkin sightings, coffee drinkers, and the crunch of leaves underfoot. This season brought him inner peace and joy, making it his favorite time of the year.',\n",
       " 'Jeff, an underdog in sports, decided to work hard and become the best in his class after feeling tired of being picked on. After a year of disciplined training, he succeeded and was the happiest he had ever been after beating everyone in the class sports competition.',\n",
       " \"A new math teacher begins his first day at a high school with high hopes but a realistic attitude, looking to make a positive impact on students. He starts the day by introducing himself and setting expectations. Despite being disrupted by a troublesome student, the teacher tries to address the student's behavior and help improve it.\",\n",
       " 'After getting into a fight with her boyfriend, the narrator walks to a convenient store to cool off. She wanders aimlessly around the store before grabbing a bottle of tea and 3 scratch-off tickets, then wins $100 on one of the tickets.',\n",
       " \"A person wakes up feeling anxious about a doctor's appointment they haven't had in years. They feel uneasy around people they don't know and keep their concerns to themselves. They understand that their introverted personality is a part of who they are, inherited from their grandmother who lived a happy life and passed away at 94.\",\n",
       " 'John wakes up with anxiety & a feeling that something bad is going to happen. He has had this feeling before & bad things always happen. Sadly, he finds his favorite fish, Fishy McFish Face, dead in the tank. He hopes this is the end of his bad day.',\n",
       " \"A young girl eagerly awaited her Dad's return but he had to work late on an important project for a client. Despite her disappointment, even her favorite grilled cheese sandwiches couldn't cheer her up and she went to bed early with her teddy bear.\",\n",
       " 'Jane fell in love with her co-worker Derrick, but he had a girlfriend and their relationship remained just as friends. After a year of close friendship, Jane left the job and lost contact with Derrick.',\n",
       " 'A person found a weak and grounded pigeon on the street and brought it to their apartment. They cared for it by offering it water, food, and a comfortable place to rest. To their surprise, the pigeon survived and they continued to care for it by buying appropriate food and bedding.',\n",
       " \"A girl was walking her dog when a squirrel appeared and the dog chased after it. The leash slipped from the girl's hand and the dog disappeared from sight. The girl was upset and went home to look for her dog by contacting animal control and putting up posters. She hoped for a reunion but wasn't confident.\",\n",
       " \"The monster planned to attack the village with his friends but on the day of the attack, due to high winds, the lighthouse signal (orange light) didn't go off, causing the monster and his minions to halt their plan. The village people lived another day.\",\n",
       " \"A young girl in the Netherlands has a loving father who takes care of her every need and makes her feel safe. She dreams about her father's comforting embrace, but wakes up to realize he's gone and she's back at the orphanage.\",\n",
       " 'A person found a note that said \"You Da Best!\" on their car after work, but no one was around to celebrate their birthday. They smiled thinking about the note and had champagne alone in the dark.',\n",
       " 'A high school teacher was browsing Facebook and saw a friend request from two of his former students, Deeps and Sravs. He was surprised to see them after a long time and accepted the request. Later he got a call from them inviting him to their thanksgiving dinner. The teacher was moved and emotional to see his students again and even bought them gifts.',\n",
       " 'Ignorak eagerly awaited his yearly fishing trip to a stream filled with Trout, but upon reaching it after a challenging hike, he realizes it has dried up. He reflects on getting older and the toll the hike took on him.',\n",
       " 'Jennifer missed her chance to buy tickets to her favorite punk rock show but went to hang outside the venue. A stranger offered her an extra ticket and they saw the show together, becoming friends. Jennifer was overjoyed and grateful for the unexpected turn of events.',\n",
       " 'A joyful cow ate a lot of grass in the meadow until the grass ran out. The cow felt sick and asked a farmer what was wrong. The farmer advised the cow to not eat so much grass, but after drinking water, the cow was fine.',\n",
       " 'Two neighboring chicken farmers who were rivals discovered their chickens had cross-bred and laid gold-colored eggs, leading to an increase in sales and bringing an end to their rivalry.',\n",
       " 'A smart man marries a woman and they have a happy life with three children. However, he begins to struggle with speaking and memory loss, and is eventually diagnosed with a progressive illness that will slowly take away his ability to care for himself. Despite the heartbreak, his wife stays by his side and takes care of him, finding comfort in their children.',\n",
       " 'A person was in a relationship that started off great but quickly turned bad. The other person was still in love with their ex and cut off contact, but then reached out again. The person realized they were just a backup plan and ended the relationship, which turned out to be a blessing because something better came along.',\n",
       " \"A boy who loved his dog that was always by his side, especially during their fun beach trips, but now struggles to spend time with his furry friend as he's busy with school. Despite the lack of beach trips, the boy still cherishes the memories and thinks about them during school.\",\n",
       " 'A dad named Jack wanted to help his two kids, Matthew (7) & Jonathan (5), make friends at school, so he enrolled them in various sports and hobby classes. Despite enjoying the classes, they still struggled with shyness. Jack then signed them up for acting & speech classes to help, & they started making new friends & improving their social skills.',\n",
       " \"The speaker's daughter lost her mother to breast cancer when she was 13. Despite this tragedy, the daughter has grown into a responsible, smart and beautiful young lady who wants to pursue a career in the medical field to help people with cancer. The speaker is proud of their daughter for finding a positive in the loss of her mother.\",\n",
       " 'Boe the dog jumps over a fence and crosses a stream, getting lost and wandering aimlessly for hours. People tried to help him, but he was too afraid. As the sun set, he followed the sound of water back to the stream and swam across, finally seeing his home and running towards it.',\n",
       " 'A young girl struggles to fit in until she starts middle school band class. She forms strong bonds with her classmates, and they go on to win a state-wide competition. She finally feels like she belongs.',\n",
       " 'The author and her husband took her 11-year-old niece to a whimsical play for her birthday. She initially worried about her niece not enjoying the gift, but was pleasantly surprised by her laughter and enthusiasm throughout the play. The experience was a special memory for the author.',\n",
       " \"A young boy playing tag with neighborhood kids was accused of being gay after accidentally touching another boy's groin. He cried and asked his parents, who explained to him that being gay means loving other boys instead of girls and that it's okay to be different.\",\n",
       " \"Sam, a 13-yr-old, always wanted a pet but his parents wouldn't allow it. On his birthday, his mom surprised him with a Golden Retriever puppy which he named Scooter & took good care of for few years. As Sam grew older, his responsibilities increased and he had less time for Scooter. Eventually, he had to go to college.\",\n",
       " 'A little boy who loved animals went for a walk with his pet dog named \"Peanut Butter\" by the bay. The dog saw a seagull and jumped into the water, leaving the boy behind and focusing on the bird.',\n",
       " \"A mother was sitting in the parking lot after dropping her daughter off at dance class. She had a busy morning getting her kids to school and hadn't eaten, but was looking forward to a good meal after class. She received a text from the front office of the dance studio inviting her in to watch the students perform their new steps. She was happy to see her daughter enjoying the lessons.\",\n",
       " 'The High School chorus recital is happening today and features talented new and old choir members. The choir is renowned, offering opportunities for a musical career. However, a bus trip to Disney World had a mechanical failure, leading to 4 choir boys being disqualified due to smoke inhalation.',\n",
       " \"An older man is frequently alone because his wife is caring for their grandchild in another town. He has health issues but likes to chat with neighbors about politics. Neighbors listen kindly but politely decline due to work. He's lonely and often watches out the window for the next chance to socialize.\",\n",
       " \"A young woman got married and had a baby, but soon after she fell ill and was taken to the hospital where she spent 2 months receiving treatment, however her illness worsened and she eventually died despite her family's efforts to save her. The cost of treatment used up all their savings and the speaker had to sacrifice their own college funds to help pay for it.\",\n",
       " 'A little girl and her beloved dog would go everywhere together, but one day while playing in the forest, the dog went missing. The girl and her family searched for hours but to no avail. However, after a night of searching, the dog was found with a new friend, and the family decided to adopt the new dog as well, giving the girl two dogs to play with.',\n",
       " 'A young girl who loved animals asked her parents for a pet but they always said no. She started volunteering at a shelter & fell in love with a tiny white poodle. She asked her parents & to her surprise, they agreed she deserved a pet for her hard work. She took her new best friend home.',\n",
       " \"Steph's grandma is running out of time and has been lonely since her husband passed. With help from Steph, she learned to use a computer but gets sad browsing the news online. She enjoys listening to podcasts but speeds them up due to limited time.\",\n",
       " \"Sarah worked hard in high school to fulfill her dream of going to her dream college, but gave it up to be with a guy she was dating. The relationship didn't last and she realized she had made a mistake, feeling disappointed.\",\n",
       " 'The author was preparing for a strong hurricane by filling their cars with gas and getting sandbags, securing their home, and watching the storm closely on TV. However, the storm took a turn and they only got a few breezy days. Despite the relief, there are still more storms in the Atlantic that could pose a threat.',\n",
       " 'A grandparent and grandchild went on a trip to the Monterey Aquarium. They stayed in a nearby hotel and woke up early to get breakfast. The grandchild was excited and loved the special whale and dolphin pancakes. At the aquarium, they joined a kids tour and the grandchild was able to touch sea creatures like anemones.',\n",
       " 'Mark enjoys cloudy days and is content celebrating his birthday alone in his small but cozy apartment, filled with anime posters and decorations, as he happily spends the day in his own space.',\n",
       " \"A hero saves two young prisoners from a witch's grasp by jumping into her lair and defeating her with a sword. He frees them and helps them back to their village.\",\n",
       " \"A man can't find his can opener, uses a screwdriver to open a can of beans but fails. Frustrated, he damages kitchen objects before returning with a shotgun to finally open the can.\",\n",
       " 'Bella, who loves eating chocolate candy bars, dropped one on her way home from school and got sad, but her understanding mother cleaned it off and let her eat it.',\n",
       " 'A child went with their father to the doctor and every time, the doctor would check their knees by tapping them with a wooden hammer. The child always enjoyed it and would look forward to receiving a lollipop as a treat from the doctor after the checkup.',\n",
       " \"The Hanuxi are blue frog-like creatures who live in a shifting seasons water landscape society. They can hop, walk, and fly and are friendly and kind to humans and other Hanuxi. However, they don't do well outside of their water homes.\",\n",
       " \"The author's son is a college freshman studying Religion and Sociology and is the youngest of ten children, all of whom graduated from college. He chose to write about his dad for an assignment and asked him questions about life choices. The dad shared how he married the author's mom, delivered 5 kids at home and adopted 3, and how being part of a big family shapes sibling roles.\",\n",
       " 'A young couple adopt a bulldog after noticing a positive impact on their mood from being around dogs. They name her Zoey and she quickly becomes their source of happiness, making all their worries disappear.',\n",
       " 'A girl is about to turn 6 and is very excited for her birthday. Her family has planned a birthday party with a princess theme, including princess dresses, cupcakes, and a special shirt for her. Her friends are coming, her grandfather is driving from Tennessee, and her mom will bake a cake and surprise her at school.',\n",
       " \"A couple tried to have a baby for many years but couldn't. They were about to consider in-vitro but found out the woman was pregnant. When the baby was born, they felt fulfilled, proud and a strong love for her as she grew up.\",\n",
       " \"Michael asks his dad how much money he earns per hour, and the dad says it's not his business. Eventually, Michael asks to borrow 15 and the dad gets mad but later calms down and gives him the money. Michael then asks to buy an hour of his dad's time for tomorrow.\",\n",
       " 'A fireman in a small town responded to a house fire and found out it belonged to a family he knew well. Despite the danger, he worked hard to put out the fire and it was successfully extinguished. The next day, he was shocked to hear from a close friend that the family had been inquiring about burning their own house down.',\n",
       " 'A boy always wanted a pet goldfish but his parents thought it was too much responsibility. Then one day his uncle gave him a fish bowl and a new pet goldfish. The boy set up the fish bowl with decorations, but three days later found the fish dead because he placed the bowl too close to the window and the water got too cold. This tragedy taught the boy about fish keeping and now he has three aquariums in his home.',\n",
       " 'A stray puppy was wandering the streets in search of a family. No one paid attention to him, until a boy who had recently beat cancer heard him crying and fell in love with the puppy. His parents saw the bond and let the boy take the puppy home, giving the puppy the love and family he always wanted.',\n",
       " 'A paladin once lived in a far-off land and had a dream to be a hero, inspired by stories of bravery and saving others. He went on adventures with a group, but eventually learned that being a hero is not as easy as it seems, as one may lose, fail and be hated for their actions. Dreams may not always be as they seem.',\n",
       " \"A child is asking their mom for help with math but notices their mom is preoccupied. The mom reveals that the child's dad lost his job and they must move in with grandma who lives 500 miles away, causing the child to cry in their room for 30 minutes.\",\n",
       " 'A family had two pet guinea pigs, Boomer and Sprinkles. Sprinkles got sick and despite attempts to nurse him back to health, he passed away. Boomer was by his side the whole time and now that Sprinkles has passed, Boomer is alone in the cage and the family is trying to find him a new companion, but it may be challenging as they are both older males.',\n",
       " 'A person recalls feeling insecure about their appearance as a child but that changed when they met a girl named Elisabeth in school. They fell for her due to her uniqueness and beauty, but she started dating someone else and got married. The person wonders what would have happened if they asked her out first.',\n",
       " 'A college student had a close friendship with a girl named Mariam, which turned into a brief romantic fling. Excited, he told some friends but one of them spilled the secret, causing a fight with Mariam that ruined their friendship for a long time. The narrator still regrets what happened.',\n",
       " 'The protagonist was graduating from college, standing in line to receive their diploma. Despite a difficult high school experience, they managed to achieve the highest GPA in their graduating class and graduated first among their peers, with the title \"summa cum laude.\" They were proud of their accomplishment and felt like they had proven themselves to themselves.',\n",
       " 'Colleen Cadwell was a talented soccer player and dedicated coach, who gave back to the community by coaching youth teams. After a coaching session, she went to the hospital with chest pains and suffered a heart attack, which led to her passing away in the early hours of the next day.',\n",
       " 'Paul built a sustainable log cabin in the wilderness after buying land on a mountain slope. He was content but realized he got most of his joy from the work itself, so he planned to make constant improvements. He was a loner but got a dog for protection, not companionship. It took almost a year to finish the cabin and he finally felt relaxed.',\n",
       " 'Timmy was excited for Christmas morning, but found the living room empty and realized someone had taken his gifts, furniture was moved, and the cookies were gone. He found a note saying he was a bad boy and his family was going to Red Lobster for dinner.',\n",
       " 'A group of friends met up at a coffee shop for a catch-up session over cappuccinos and pastries. They talked about various topics, laughed and shared opinions. Afterwards, they went to a book store for an enjoyable and productive afternoon together.',\n",
       " \"A girl found a kitten while walking home from school and took it home to show her mom. The girl's mom said they would ask her dad about keeping the kitten when he got home from work, and she made the girl a snack to celebrate her good test scores.\",\n",
       " \"A person's beloved dog got sick after eating KFC and had to be put to sleep. It was a difficult decision and the person will always remember the dog.\",\n",
       " 'Abigail, feeling sad, decided to bake a chocolate cake and bring a slice to her neighbor Arthur. The cake turned out delicious and brought happiness to both of them. Arthur was grateful and said the cake was amazing, and they were both grateful for their friendship.',\n",
       " 'A person and their dog went for a walk on a trail in their neighborhood surrounded by nature. The dog was thrilled with all the scents, sounds and weather. They encountered friendly people and dogs on the way who greeted and petted their dog. Both the person and their dog enjoyed the beautiful day.',\n",
       " 'An old pickup truck with over 230,000 miles on it, sat on a driveway on a cold winter morning. Its oil line finally gave out, spraying oil on the driveway. Its owner, unaware, started the engine, causing it to struggle and eventually tear itself apart. The truck ended up in a scrap yard, rusting away and losing its parts.',\n",
       " 'A wealthy and famous music artist lived the American dream but met a girl who changed everything. They started dating and he wanted to pursue a relationship, but he was hit by a car and died suddenly.',\n",
       " 'A group of friends, Sally, Mary, Fran and the narrator, went to lunch at their favorite sandwich shop to celebrate all their birthdays. They shared stories, showed pictures and chatted over their food. The narrator talked about their bathroom renovation that was taking longer than expected but was content with the results.',\n",
       " 'A person went on a hiking trip with their three huskies on a beautiful, cool morning. They were excited and the dogs were also eager to go. On the trip, they saw a group of elk and had to keep the dogs from chasing them. The weather, scenery, and wildlife made for the perfect day.',\n",
       " 'A sergeant in Iraq asked a soldier to pick up metal on the ground, but the soldier declined, knowing it could be dangerous. The sergeant became angry and wrote up the soldier for insubordination. Later, the sergeant asked another soldier to pick up the metal, who blindly followed the order, only to discover they picked up the remains of a dead soldier. The story highlights the importance of using judgement in dangerous situations.',\n",
       " 'A person wanted to buy some strawberry taffy and went to the nearby gas station to buy it. However, the strawberry flavor was sold out, but they found their second favorite flavor, blueberry, and bought it instead. They liked the blueberry taffy.',\n",
       " 'The narrator recounts their childhood memories of going shrimping and fishing with their dad in his old truck. They would listen to classic rock music, eat a snack and finally, after unloading, spend a day having fun and catching food for their family and friends.',\n",
       " 'A person loves visiting Florida for summer vacation, especially in September to avoid the tourist crowds. They like to plan activities ahead of time, from beach trips to deep sea fishing, to make the most out of their trip and not just stay in a hotel room.',\n",
       " 'A young man named Jessie was left alone after Granny took ill and had to leave the childhood home. He stumbled upon a desolate storefront and made it his new home, but was aware he had no one looking for him as he watched people hurry to their destinations.',\n",
       " \"Fred, who was called into work on a weekend, helped a client in need. The client had a broken-down car and was rushing to his mother's funeral. Fred offered the man a ride and later received a large anonymous check in the office.\",\n",
       " 'A happy princess named Clary had a loving family and lived a content life with her husband. He came home one day and showed her affection with a kiss and a dozen red roses, reminding her of how special she was to him. They made plans for another child and after many attempts, she found out she was pregnant and planned to tell her husband. That same day, he came home with more beautiful roses.',\n",
       " 'A person woke up energized and checked their P.O. box, got a new computer case and saw that a new game, Skyrim, was out. They celebrated with a meal from Taco Bell and stopped at Dairy Queen for a drink, but it slipped out of their hands and exploded on the ground, causing devastation.',\n",
       " \"The speaker woke up and realized their cat was missing, searched the neighborhood calling her name and shaking treats but couldn't find her. They went to work but heard a meow and found the cat was in a closet they had shut the night before.\",\n",
       " 'Two twins, Connor & Lucy, have to part ways as they head to different universities. Connor is studying theater & English while Lucy studies political science. They always joke around but are now starting new journeys without each other.',\n",
       " 'Johnny, a depressed man, feels stuck in his identity and struggles to find happiness. Despite wanting to break away from being known as \"the kid that\\'s depressed all the time,\" he eventually accepts it as part of his identity.',\n",
       " 'Tommy and Rob were 4th grade classmates who eagerly awaited the end of their school day to embark on their daily adventures home. They took the forest path and played games like hide-and-seek, and imagined being pioneers searching for treasure. Their friendship and memories from this walk home will always hold a special place in their hearts as they reflect on the innocence of their youth.',\n",
       " 'The author enjoyed a lovely fall weekend with friends and family, including attending a football game, spending time with parents, walking the dog, and roasting marshmallows in a backyard fire pit. A fun and nostalgic time was had.',\n",
       " 'Mary had a rough day at work and was looking forward to going home to her husband, petting her dog, and eating the delicious leftovers of Peking duck. But when she got home, her husband and dog were gone and he had eaten the duck. She was sad and cried a little.',\n",
       " \"A troll living alone in a cave tries to make friends with adventurers but they always attack, thinking he's evil. He realizes a gift might be the key to friendship but his efforts fail and he dies alone.\"]"
      ]
     },
     "execution_count": 342,
     "metadata": {},
     "output_type": "execute_result"
    }
   ],
   "source": [
    "[*df.sort_values(by='Retell_1_adv_ratio', ascending=False).GPT_R1]"
   ]
  },
  {
   "cell_type": "markdown",
   "id": "9cd4e9f0",
   "metadata": {},
   "source": [
    "### Retell 2"
   ]
  },
  {
   "cell_type": "code",
   "execution_count": 343,
   "id": "22f1d2e8",
   "metadata": {},
   "outputs": [
    {
     "data": {
      "text/plain": [
       "\"Jessie was very poor and lived in a store front. He wanted to do something with his life, but wasn't sure what. He had a grandmother who had bad health. He didn't own a car and didn't know how to get a ride anywhere, but was wanting to go somewhere and had interest in pursuing a new love life.\""
      ]
     },
     "execution_count": 343,
     "metadata": {},
     "output_type": "execute_result"
    }
   ],
   "source": [
    "df.sort_values(by='Retell_2_adv_ratio', ascending=False).Retell_2.iloc[3]"
   ]
  },
  {
   "cell_type": "code",
   "execution_count": 344,
   "id": "86098ffc",
   "metadata": {},
   "outputs": [
    {
     "data": {
      "text/plain": [
       "'A young man named Jessie found himself alone when Granny left after taking ill. He discovered an abandoned storefront and decided to make it his new home. Jessie watched as people passed by, realizing he had no one looking for him.'"
      ]
     },
     "execution_count": 344,
     "metadata": {},
     "output_type": "execute_result"
    }
   ],
   "source": [
    "df.sort_values(by='Retell_2_adv_ratio', ascending=False).GPT_R2.iloc[3]"
   ]
  },
  {
   "cell_type": "markdown",
   "id": "8facdcc6",
   "metadata": {},
   "source": [
    "### Retell 3"
   ]
  },
  {
   "cell_type": "code",
   "execution_count": 367,
   "id": "5c5c1fda",
   "metadata": {},
   "outputs": [
    {
     "data": {
      "text/plain": [
       "\"Jennifer wanted to go to a punk rock show but she couldn't because she could not get a ticket. She stood outside the venue and waited to see some of the bands. A stranger offered her a ticket and they became friends because the strangers friend did not show up.\""
      ]
     },
     "execution_count": 367,
     "metadata": {},
     "output_type": "execute_result"
    }
   ],
   "source": [
    "df.sort_values(by='Retell_3_adv_ratio', ascending=False).Retell_3.iloc[1]"
   ]
  },
  {
   "cell_type": "code",
   "execution_count": 368,
   "id": "53eae0d8",
   "metadata": {},
   "outputs": [
    {
     "data": {
      "text/plain": [
       "'Jennifer missed out on seeing her favorite punk rock show, but she went to the venue anyway. A stranger offered her an extra ticket, and they went to the show together. Jennifer was ecstatic and formed a new friendship with the stranger.'"
      ]
     },
     "execution_count": 368,
     "metadata": {},
     "output_type": "execute_result"
    }
   ],
   "source": [
    "df.sort_values(by='Retell_3_adv_ratio', ascending=False).GPT_R3.iloc[1]"
   ]
  }
 ],
 "metadata": {
  "kernelspec": {
   "display_name": "Python 3 (ipykernel)",
   "language": "python",
   "name": "python3"
  },
  "language_info": {
   "codemirror_mode": {
    "name": "ipython",
    "version": 3
   },
   "file_extension": ".py",
   "mimetype": "text/x-python",
   "name": "python",
   "nbconvert_exporter": "python",
   "pygments_lexer": "ipython3",
   "version": "3.10.10"
  }
 },
 "nbformat": 4,
 "nbformat_minor": 5
}
