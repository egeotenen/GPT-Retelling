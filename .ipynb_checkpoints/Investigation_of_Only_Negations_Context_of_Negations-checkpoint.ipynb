{
 "cells": [
  {
   "cell_type": "markdown",
   "id": "edb7c72f",
   "metadata": {},
   "source": [
    "### 0. Initizalize Packages"
   ]
  },
  {
   "cell_type": "code",
   "execution_count": 39,
   "id": "30df98ae",
   "metadata": {},
   "outputs": [],
   "source": [
    "#!pip install scipy,seaborn\n",
    "import seaborn as sns\n",
    "from scipy.stats import kstest\n",
    "\n",
    "import pandas as pd\n",
    "import numpy as np\n",
    "\n",
    "#!pip install -U plotly\n",
    "pd.options.plotting.backend = \"plotly\"\n",
    "\n",
    "#!pip3 install nltk\n",
    "import nltk\n",
    "from nltk import pos_tag\n",
    "from nltk import word_tokenize\n",
    "from nltk.corpus import stopwords\n",
    "from collections import Counter\n",
    "from nltk.tokenize import word_tokenize, sent_tokenize\n",
    "from scipy.stats import chi2_contingency\n",
    "\n",
    "import math\n",
    "from scipy.stats import shapiro \n",
    "from scipy.stats import lognorm\n",
    "from scipy.stats import mannwhitneyu\n",
    "import matplotlib.pyplot as plt\n",
    "import scipy.stats as stats\n",
    "\n",
    "\n",
    "#!pip3 install openpyxl\n",
    "import openpyxl as px\n",
    "from statsmodels.stats.weightstats import ztest"
   ]
  },
  {
   "cell_type": "markdown",
   "id": "5f1bce4f",
   "metadata": {},
   "source": [
    "### 0.1. Read Dataset ( N = 114)"
   ]
  },
  {
   "cell_type": "code",
   "execution_count": 40,
   "id": "8583f668",
   "metadata": {},
   "outputs": [],
   "source": [
    "df = pd.read_excel('all_gpt_human_only_text.xlsx')"
   ]
  },
  {
   "cell_type": "markdown",
   "id": "8fe3fbb9",
   "metadata": {},
   "source": [
    "### 0.1.1 Preprocess"
   ]
  },
  {
   "cell_type": "markdown",
   "id": "200d4329",
   "metadata": {},
   "source": [
    "Get rid of extra white spaces"
   ]
  },
  {
   "cell_type": "code",
   "execution_count": 41,
   "id": "3fff8eb5",
   "metadata": {},
   "outputs": [],
   "source": [
    "def strip(dataframe):\n",
    "    return [s.strip() for s in dataframe]\n",
    "\n",
    "df= df.apply(strip)"
   ]
  },
  {
   "cell_type": "markdown",
   "id": "0d3f9a68",
   "metadata": {},
   "source": [
    "## 1. Pos Tagging with Only Negation Adverbs"
   ]
  },
  {
   "cell_type": "markdown",
   "id": "391d4ba0",
   "metadata": {},
   "source": [
    "Each story's pos taggings completed separately, and counted for the story itself"
   ]
  },
  {
   "cell_type": "code",
   "execution_count": 42,
   "id": "16200dfb",
   "metadata": {},
   "outputs": [],
   "source": [
    "def tokenize_with_negation_only(text):\n",
    "    tokenized_dict = {}\n",
    "    tokenized = word_tokenize(text)\n",
    "    tagged = nltk.pos_tag(tokenized)\n",
    "\n",
    "    to_remove = set()\n",
    "    for i in range(len(tagged)):\n",
    "        if tagged[i][1] in {'RB', 'RBS', 'WRB', 'RBR'} and tagged[i][0].lower() in {'not', \"n't\"}:\n",
    "            pass\n",
    "        elif tagged[i][1] in {'RB', 'RBS', 'WRB','RBR'} and tagged[i][0].lower() not in {'not', \"n't\"}:\n",
    "            to_remove.add(i)\n",
    "\n",
    "        new_tagged = [tagged[i] for i in range(len(tagged)) if i not in to_remove]        \n",
    "\n",
    "    return new_tagged"
   ]
  },
  {
   "cell_type": "code",
   "execution_count": 43,
   "id": "0212587a",
   "metadata": {},
   "outputs": [],
   "source": [
    "## Filter and get words as tokens\n",
    "for column in df.columns:\n",
    "    df[f'tokenized_{column}'] = df[column].apply(lambda x: tokenize_with_negation_only(x))"
   ]
  },
  {
   "cell_type": "markdown",
   "id": "130eba50",
   "metadata": {},
   "source": [
    "### 1.2. Count the pos-tags"
   ]
  },
  {
   "cell_type": "code",
   "execution_count": 44,
   "id": "166c6e4b",
   "metadata": {},
   "outputs": [],
   "source": [
    "#count the tags\n",
    "def count_tags(mydata):\n",
    "    counter_list=[]\n",
    "    for i in mydata:\n",
    "        counter_list.append(i[1])\n",
    "\n",
    "    tag_counts = Counter(counter_list) \n",
    "    return tag_counts"
   ]
  },
  {
   "cell_type": "code",
   "execution_count": 45,
   "id": "e6412d2e",
   "metadata": {},
   "outputs": [],
   "source": [
    "for column in [col for col in df.columns if col.startswith('tokenized_')]:\n",
    "    df[f'{column}_tag_counts'] = df[column].apply(lambda x: count_tags(x))"
   ]
  },
  {
   "cell_type": "code",
   "execution_count": 46,
   "id": "c04bfb52",
   "metadata": {},
   "outputs": [
    {
     "data": {
      "text/plain": [
       "0      {'DT': 16, 'NN': 23, 'WP': 3, 'VBD': 11, 'IN':...\n",
       "1      {'NNP': 4, 'VBD': 14, 'VBG': 7, 'JJ': 9, 'CD':...\n",
       "2      {'DT': 20, 'NNP': 3, 'VBD': 17, 'TO': 7, 'VB':...\n",
       "3      {'DT': 14, 'IN': 14, 'PRP$': 2, 'NN': 22, ',':...\n",
       "4      {'VBP': 7, 'PRP': 26, 'VBD': 18, 'DT': 11, 'NN...\n",
       "                             ...                        \n",
       "111    {'NNP': 6, 'VBZ': 4, 'PRP$': 6, 'NN': 29, '``'...\n",
       "112    {'EX': 1, 'VBD': 19, 'DT': 31, 'NN': 36, 'WP':...\n",
       "113    {'EX': 1, 'VBD': 18, 'DT': 20, 'NN': 32, 'WP':...\n",
       "114    {'CD': 1, 'NN': 30, 'DT': 18, 'VBD': 12, 'VBG'...\n",
       "115    {'DT': 15, 'NN': 24, 'VBD': 12, 'IN': 16, 'JJ'...\n",
       "Name: tokenized_STORY_tag_counts, Length: 116, dtype: object"
      ]
     },
     "execution_count": 46,
     "metadata": {},
     "output_type": "execute_result"
    }
   ],
   "source": [
    "df.tokenized_STORY_tag_counts"
   ]
  },
  {
   "cell_type": "markdown",
   "id": "236b4960",
   "metadata": {},
   "source": [
    "### 1.3. Merge relevant categories together"
   ]
  },
  {
   "cell_type": "markdown",
   "id": "b642c70c",
   "metadata": {},
   "source": [
    "Count tags for all nouns (plural nouns, proper nouns etc.), verbs, adjectives, adverbs, pronouns and prepositions/conjuctions/determiners\n"
   ]
  },
  {
   "cell_type": "code",
   "execution_count": 47,
   "id": "69483d5a",
   "metadata": {},
   "outputs": [],
   "source": [
    "for column in [col for col in df.columns if col.endswith('tag_counts')]:\n",
    "    df[f'{column[:-7]}_noun'] = [*(df[column].apply(lambda x: (x['NN'] + x['NNS'] + x['NNP']+ x['NNPS'])))]\n",
    "    df[f'{column[:-7]}_verb'] = [*(df[column].apply(lambda x: (x['VB'] + x['VBN'] + x['VBG']+ x['VBZ'] + x['VBP']+x['VBD'])))]\n",
    "    df[f'{column[:-7]}_adj'] = [*(df[column].apply(lambda x: (x['JJ'] + x['JJS'] + x['JJR'])))]\n",
    "    df[f'{column[:-7]}_adv'] = [*(df[column].apply(lambda x: (x['RB'] + x['RBR'] + x['WRB'] + + x['RBS'])))]\n",
    "    df[f'{column[:-7]}_pron'] = [*(df[column].apply(lambda x: (x['PRP'] + x['PRP$'] + x['WB']+ x['WB$'])))]\n",
    "    df[f'{column[:-7]}_con_det_prep'] = [*(df[column].apply(lambda x: (x['DT'] + x['IN'] + x['UH']+ x['TO']+ x['WDT']+ x['EX'])))]\n",
    "    df[f'{column[:-7]}_prep'] = [*(df[column].apply(lambda x: (x['IN'])))]\n",
    "\n"
   ]
  },
  {
   "cell_type": "code",
   "execution_count": 48,
   "id": "d0ca89c1",
   "metadata": {},
   "outputs": [
    {
     "data": {
      "text/plain": [
       "201"
      ]
     },
     "execution_count": 48,
     "metadata": {},
     "output_type": "execute_result"
    }
   ],
   "source": [
    "#Double check with other code (Investigate_adverbs) whether the sums are same\n",
    "df['tokenized_Retell_1_tag_adv'].sum() + df['tokenized_Retell_2_tag_adv'].sum()+ df['tokenized_Retell_3_tag_adv'].sum()\n",
    "\n"
   ]
  },
  {
   "cell_type": "markdown",
   "id": "ed5e3b2f",
   "metadata": {},
   "source": [
    "## 1.4. Get Ratio of Grammatical Categories to Word Count"
   ]
  },
  {
   "cell_type": "code",
   "execution_count": 49,
   "id": "c47524a0",
   "metadata": {
    "scrolled": true
   },
   "outputs": [
    {
     "name": "stderr",
     "output_type": "stream",
     "text": [
      "/var/folders/l4/1xnf5c593754ph42_t0k68480000gq/T/ipykernel_5830/4017749826.py:24: PerformanceWarning: DataFrame is highly fragmented.  This is usually the result of calling `frame.insert` many times, which has poor performance.  Consider joining all columns at once using pd.concat(axis=1) instead. To get a de-fragmented frame, use `newframe = frame.copy()`\n",
      "  df[ratio_col] = df[tag_col] / df[col].apply(len)\n",
      "/var/folders/l4/1xnf5c593754ph42_t0k68480000gq/T/ipykernel_5830/4017749826.py:24: PerformanceWarning: DataFrame is highly fragmented.  This is usually the result of calling `frame.insert` many times, which has poor performance.  Consider joining all columns at once using pd.concat(axis=1) instead. To get a de-fragmented frame, use `newframe = frame.copy()`\n",
      "  df[ratio_col] = df[tag_col] / df[col].apply(len)\n",
      "/var/folders/l4/1xnf5c593754ph42_t0k68480000gq/T/ipykernel_5830/4017749826.py:24: PerformanceWarning: DataFrame is highly fragmented.  This is usually the result of calling `frame.insert` many times, which has poor performance.  Consider joining all columns at once using pd.concat(axis=1) instead. To get a de-fragmented frame, use `newframe = frame.copy()`\n",
      "  df[ratio_col] = df[tag_col] / df[col].apply(len)\n",
      "/var/folders/l4/1xnf5c593754ph42_t0k68480000gq/T/ipykernel_5830/4017749826.py:24: PerformanceWarning: DataFrame is highly fragmented.  This is usually the result of calling `frame.insert` many times, which has poor performance.  Consider joining all columns at once using pd.concat(axis=1) instead. To get a de-fragmented frame, use `newframe = frame.copy()`\n",
      "  df[ratio_col] = df[tag_col] / df[col].apply(len)\n",
      "/var/folders/l4/1xnf5c593754ph42_t0k68480000gq/T/ipykernel_5830/4017749826.py:24: PerformanceWarning: DataFrame is highly fragmented.  This is usually the result of calling `frame.insert` many times, which has poor performance.  Consider joining all columns at once using pd.concat(axis=1) instead. To get a de-fragmented frame, use `newframe = frame.copy()`\n",
      "  df[ratio_col] = df[tag_col] / df[col].apply(len)\n",
      "/var/folders/l4/1xnf5c593754ph42_t0k68480000gq/T/ipykernel_5830/4017749826.py:24: PerformanceWarning: DataFrame is highly fragmented.  This is usually the result of calling `frame.insert` many times, which has poor performance.  Consider joining all columns at once using pd.concat(axis=1) instead. To get a de-fragmented frame, use `newframe = frame.copy()`\n",
      "  df[ratio_col] = df[tag_col] / df[col].apply(len)\n",
      "/var/folders/l4/1xnf5c593754ph42_t0k68480000gq/T/ipykernel_5830/4017749826.py:24: PerformanceWarning: DataFrame is highly fragmented.  This is usually the result of calling `frame.insert` many times, which has poor performance.  Consider joining all columns at once using pd.concat(axis=1) instead. To get a de-fragmented frame, use `newframe = frame.copy()`\n",
      "  df[ratio_col] = df[tag_col] / df[col].apply(len)\n",
      "/var/folders/l4/1xnf5c593754ph42_t0k68480000gq/T/ipykernel_5830/4017749826.py:24: PerformanceWarning: DataFrame is highly fragmented.  This is usually the result of calling `frame.insert` many times, which has poor performance.  Consider joining all columns at once using pd.concat(axis=1) instead. To get a de-fragmented frame, use `newframe = frame.copy()`\n",
      "  df[ratio_col] = df[tag_col] / df[col].apply(len)\n",
      "/var/folders/l4/1xnf5c593754ph42_t0k68480000gq/T/ipykernel_5830/4017749826.py:24: PerformanceWarning: DataFrame is highly fragmented.  This is usually the result of calling `frame.insert` many times, which has poor performance.  Consider joining all columns at once using pd.concat(axis=1) instead. To get a de-fragmented frame, use `newframe = frame.copy()`\n",
      "  df[ratio_col] = df[tag_col] / df[col].apply(len)\n",
      "/var/folders/l4/1xnf5c593754ph42_t0k68480000gq/T/ipykernel_5830/4017749826.py:24: PerformanceWarning: DataFrame is highly fragmented.  This is usually the result of calling `frame.insert` many times, which has poor performance.  Consider joining all columns at once using pd.concat(axis=1) instead. To get a de-fragmented frame, use `newframe = frame.copy()`\n",
      "  df[ratio_col] = df[tag_col] / df[col].apply(len)\n",
      "/var/folders/l4/1xnf5c593754ph42_t0k68480000gq/T/ipykernel_5830/4017749826.py:24: PerformanceWarning: DataFrame is highly fragmented.  This is usually the result of calling `frame.insert` many times, which has poor performance.  Consider joining all columns at once using pd.concat(axis=1) instead. To get a de-fragmented frame, use `newframe = frame.copy()`\n",
      "  df[ratio_col] = df[tag_col] / df[col].apply(len)\n",
      "/var/folders/l4/1xnf5c593754ph42_t0k68480000gq/T/ipykernel_5830/4017749826.py:24: PerformanceWarning: DataFrame is highly fragmented.  This is usually the result of calling `frame.insert` many times, which has poor performance.  Consider joining all columns at once using pd.concat(axis=1) instead. To get a de-fragmented frame, use `newframe = frame.copy()`\n",
      "  df[ratio_col] = df[tag_col] / df[col].apply(len)\n",
      "/var/folders/l4/1xnf5c593754ph42_t0k68480000gq/T/ipykernel_5830/4017749826.py:24: PerformanceWarning: DataFrame is highly fragmented.  This is usually the result of calling `frame.insert` many times, which has poor performance.  Consider joining all columns at once using pd.concat(axis=1) instead. To get a de-fragmented frame, use `newframe = frame.copy()`\n",
      "  df[ratio_col] = df[tag_col] / df[col].apply(len)\n"
     ]
    }
   ],
   "source": [
    "cols = [('tokenized_GPT_R3', 'GPT_3'), \n",
    "        ('tokenized_GPT_R2', 'GPT_2'), \n",
    "        ('tokenized_GPT_R1', 'GPT_1'), \n",
    "        ('tokenized_Retell_1', 'Retell_1'), \n",
    "        ('tokenized_Retell_2', 'Retell_2'), \n",
    "        ('tokenized_Retell_3', 'Retell_3'), \n",
    "        ('tokenized_STORY', 'story')]\n",
    "\n",
    "# Define a list of tuples with the tag types and their corresponding suffixes\n",
    "tag_types = [('tag_noun', 'noun'), \n",
    "             ('tag_verb', 'verb'), \n",
    "             ('tag_adj', 'adj'), \n",
    "             ('tag_adv', 'adv'), \n",
    "             ('tag_con_det_prep', 'con_det_prep'), \n",
    "             ('tag_pron', 'pron'), \n",
    "             ('tag_prep', 'prep')]\n",
    "\n",
    "# Loop over each tag type\n",
    "for tag_type, suffix in tag_types:\n",
    "    # Loop over each column and calculate the corresponding tag ratio\n",
    "    for col, col_suffix in cols:\n",
    "        tag_col = col + '_' + tag_type\n",
    "        ratio_col = col_suffix + '_' + suffix + '_ratio'\n",
    "        df[ratio_col] = df[tag_col] / df[col].apply(len)"
   ]
  },
  {
   "cell_type": "markdown",
   "id": "0ae6e965",
   "metadata": {},
   "source": [
    "### 1.4.1. Carry counts and ratios into different DataFrame"
   ]
  },
  {
   "cell_type": "code",
   "execution_count": 50,
   "id": "a664eee1",
   "metadata": {},
   "outputs": [],
   "source": [
    "count_ratio = pd.DataFrame\n",
    "\n",
    "count_ratio= df[['GPT_3_noun_ratio',\n",
    " 'GPT_2_noun_ratio',\n",
    " 'GPT_1_noun_ratio',\n",
    " 'Retell_1_noun_ratio',\n",
    " 'Retell_2_noun_ratio',\n",
    " 'Retell_3_noun_ratio',\n",
    " 'story_noun_ratio',\n",
    " 'GPT_3_verb_ratio',\n",
    " 'GPT_2_verb_ratio',\n",
    " 'GPT_1_verb_ratio',\n",
    " 'Retell_1_verb_ratio',\n",
    " 'Retell_2_verb_ratio',\n",
    " 'Retell_3_verb_ratio',\n",
    " 'story_verb_ratio',\n",
    " 'GPT_3_adj_ratio',\n",
    " 'GPT_2_adj_ratio',\n",
    " 'GPT_1_adj_ratio',\n",
    " 'Retell_1_adj_ratio',\n",
    " 'Retell_2_adj_ratio',\n",
    " 'Retell_3_adj_ratio',\n",
    " 'story_adj_ratio',\n",
    " 'GPT_3_adv_ratio',\n",
    " 'GPT_2_adv_ratio',\n",
    " 'GPT_1_adv_ratio',\n",
    " 'Retell_1_adv_ratio',\n",
    " 'Retell_2_adv_ratio',\n",
    " 'Retell_3_adv_ratio',\n",
    " 'story_adv_ratio',\n",
    " 'GPT_3_con_det_prep_ratio',\n",
    " 'GPT_2_con_det_prep_ratio',\n",
    " 'GPT_1_con_det_prep_ratio',\n",
    " 'Retell_1_con_det_prep_ratio',\n",
    " 'Retell_2_con_det_prep_ratio',\n",
    " 'Retell_3_con_det_prep_ratio',\n",
    " 'story_con_det_prep_ratio',\n",
    " 'GPT_3_pron_ratio',\n",
    " 'GPT_2_pron_ratio',\n",
    " 'GPT_1_pron_ratio',\n",
    " 'Retell_1_pron_ratio',\n",
    " 'Retell_2_pron_ratio',\n",
    " 'Retell_3_pron_ratio',\n",
    " 'story_pron_ratio',\n",
    " 'GPT_3_prep_ratio',\n",
    " 'GPT_2_prep_ratio',\n",
    " 'GPT_1_prep_ratio',\n",
    " 'Retell_1_prep_ratio',\n",
    " 'Retell_2_prep_ratio',\n",
    " 'Retell_3_prep_ratio',\n",
    " 'story_prep_ratio']]"
   ]
  },
  {
   "cell_type": "code",
   "execution_count": 51,
   "id": "b271576d",
   "metadata": {},
   "outputs": [],
   "source": [
    "#store counts into a dataframe \n",
    "counts = pd.DataFrame()\n",
    "\n",
    "df_count = df[['tokenized_STORY_tag_noun',\n",
    " 'tokenized_STORY_tag_verb',\n",
    " 'tokenized_STORY_tag_adj',\n",
    " 'tokenized_STORY_tag_adv',\n",
    " 'tokenized_STORY_tag_pron',\n",
    " 'tokenized_STORY_tag_con_det_prep',\n",
    " 'tokenized_STORY_tag_prep',\n",
    " 'tokenized_GPT_R1_tag_noun',\n",
    " 'tokenized_GPT_R1_tag_verb',\n",
    " 'tokenized_GPT_R1_tag_adj',\n",
    " 'tokenized_GPT_R1_tag_adv',\n",
    " 'tokenized_GPT_R1_tag_pron',\n",
    " 'tokenized_GPT_R1_tag_con_det_prep',\n",
    " 'tokenized_GPT_R1_tag_prep',\n",
    " 'tokenized_GPT_R2_tag_noun',\n",
    " 'tokenized_GPT_R2_tag_verb',\n",
    " 'tokenized_GPT_R2_tag_adj',\n",
    " 'tokenized_GPT_R2_tag_adv',\n",
    " 'tokenized_GPT_R2_tag_pron',\n",
    " 'tokenized_GPT_R2_tag_con_det_prep',\n",
    " 'tokenized_GPT_R2_tag_prep',\n",
    " 'tokenized_GPT_R3_tag_noun',\n",
    " 'tokenized_GPT_R3_tag_verb',\n",
    " 'tokenized_GPT_R3_tag_adj',\n",
    " 'tokenized_GPT_R3_tag_adv',\n",
    " 'tokenized_GPT_R3_tag_pron',\n",
    " 'tokenized_GPT_R3_tag_con_det_prep',\n",
    " 'tokenized_GPT_R3_tag_prep',\n",
    " 'tokenized_Retell_1_tag_noun',\n",
    " 'tokenized_Retell_1_tag_verb',\n",
    " 'tokenized_Retell_1_tag_adj',\n",
    " 'tokenized_Retell_1_tag_adv',\n",
    " 'tokenized_Retell_1_tag_pron',\n",
    " 'tokenized_Retell_1_tag_con_det_prep',\n",
    " 'tokenized_Retell_1_tag_prep',\n",
    " 'tokenized_Retell_2_tag_noun',\n",
    " 'tokenized_Retell_2_tag_verb',\n",
    " 'tokenized_Retell_2_tag_adj',\n",
    " 'tokenized_Retell_2_tag_adv',\n",
    " 'tokenized_Retell_2_tag_pron',\n",
    " 'tokenized_Retell_2_tag_con_det_prep',\n",
    " 'tokenized_Retell_2_tag_prep',\n",
    " 'tokenized_Retell_3_tag_noun',\n",
    " 'tokenized_Retell_3_tag_verb',\n",
    " 'tokenized_Retell_3_tag_adj',\n",
    " 'tokenized_Retell_3_tag_adv',\n",
    " 'tokenized_Retell_3_tag_pron',\n",
    " 'tokenized_Retell_3_tag_con_det_prep',\n",
    " 'tokenized_Retell_3_tag_prep']]\n",
    "\n"
   ]
  },
  {
   "cell_type": "markdown",
   "id": "ab9638b1",
   "metadata": {},
   "source": [
    "Our dataframes are:\n",
    "\n",
    "1-count = df_count\n",
    "2- ratio = count_ratio"
   ]
  },
  {
   "cell_type": "markdown",
   "id": "7d113a1e",
   "metadata": {},
   "source": [
    "### 1.5. Significance Test Between Retellings (Counts of Words)"
   ]
  },
  {
   "cell_type": "code",
   "execution_count": 52,
   "id": "7dcb0a72",
   "metadata": {},
   "outputs": [
    {
     "name": "stderr",
     "output_type": "stream",
     "text": [
      "/Users/eotenen/mambaforge/lib/python3.10/site-packages/scipy/stats/_morestats.py:1816: UserWarning: p-value may not be accurate for N > 5000.\n",
      "  warnings.warn(\"p-value may not be accurate for N > 5000.\")\n"
     ]
    },
    {
     "data": {
      "text/plain": [
       "ShapiroResult(statistic=0.83409184217453, pvalue=0.0)"
      ]
     },
     "execution_count": 52,
     "metadata": {},
     "output_type": "execute_result"
    }
   ],
   "source": [
    "shapiro(df_count) #data is not normal, so we will use Mann-u Whitney"
   ]
  },
  {
   "cell_type": "code",
   "execution_count": 53,
   "id": "c66b00b7",
   "metadata": {},
   "outputs": [
    {
     "data": {
      "text/plain": [
       "0      1\n",
       "1      0\n",
       "2      1\n",
       "3      1\n",
       "4      0\n",
       "      ..\n",
       "111    0\n",
       "112    0\n",
       "113    0\n",
       "114    1\n",
       "115    0\n",
       "Name: tokenized_Retell_1_tag_adv, Length: 116, dtype: int64"
      ]
     },
     "execution_count": 53,
     "metadata": {},
     "output_type": "execute_result"
    }
   ],
   "source": [
    "df_count.tokenized_Retell_1_tag_adv"
   ]
  },
  {
   "cell_type": "code",
   "execution_count": 54,
   "id": "fcf6ffbe",
   "metadata": {},
   "outputs": [
    {
     "name": "stdout",
     "output_type": "stream",
     "text": [
      "Mann-Whitney U test for GPT_R1 vs. Retell_1 is significant with p-value 3.295001170365404e-06\n",
      "Mann-Whitney U test for GPT_R2 vs. Retell_2 is significant with p-value 0.000138704754808258\n",
      "Mann-Whitney U test for GPT_R3 vs. Retell_3 is significant with p-value 4.571222675942299e-05\n"
     ]
    }
   ],
   "source": [
    "for i in range(1, 4):\n",
    "    group1 = df_count[f'tokenized_GPT_R{i}_tag_adv']\n",
    "    group2 = df_count[f'tokenized_Retell_{i}_tag_adv']\n",
    "    statistic, pvalue = stats.mannwhitneyu(group1, group2)\n",
    "    if pvalue < 0.05:\n",
    "        print(f\"Mann-Whitney U test for GPT_R{i} vs. Retell_{i} is significant with p-value {pvalue}\")\n",
    "    else:\n",
    "        print(f\"Mann-Whitney U test for GPT_R{i} vs. Retell_{i} is not significant with p-value {pvalue}\")\n"
   ]
  },
  {
   "cell_type": "code",
   "execution_count": 55,
   "id": "613d4c32",
   "metadata": {},
   "outputs": [
    {
     "name": "stdout",
     "output_type": "stream",
     "text": [
      "human: (0.2672413793103448, 1), gpt: (0.7241379310344828, 1)\n",
      "human: (0.20689655172413793, 2), gpt: (0.5603448275862069, 2)\n",
      "human: (0.15517241379310345, 3), gpt: (0.4482758620689655, 3)\n"
     ]
    }
   ],
   "source": [
    "for i in range(1, 4):\n",
    "    human =(df_count[f'tokenized_GPT_R{i}_tag_adv'].mean())\n",
    "    gpt = (df_count[f'tokenized_Retell_{i}_tag_adv'].mean())\n",
    "    print(f'human: {human,i}, gpt: {gpt,i}')"
   ]
  },
  {
   "cell_type": "markdown",
   "id": "b868af85",
   "metadata": {},
   "source": [
    "Still adverb use is higher in human than GPT"
   ]
  },
  {
   "cell_type": "markdown",
   "id": "e36c941f",
   "metadata": {},
   "source": [
    "### 1.6. Visualize Counts"
   ]
  },
  {
   "cell_type": "markdown",
   "id": "43d400aa",
   "metadata": {},
   "source": [
    "Prepare dataset accordingly"
   ]
  },
  {
   "cell_type": "code",
   "execution_count": 56,
   "id": "3f267860",
   "metadata": {},
   "outputs": [],
   "source": [
    "count_means = pd.DataFrame()\n",
    "count_means['mean'] = [*df_count.mean()]\n",
    "count_means['gen']= ['origin','origin','origin','origin','origin','origin','origin','GPT_R1','GPT_R1','GPT_R1','GPT_R1','GPT_R1','GPT_R1','GPT_R1','GPT_R2','GPT_R2','GPT_R2','GPT_R2','GPT_R2','GPT_R2','GPT_R2','GPT_R3','GPT_R3','GPT_R3','GPT_R3','GPT_R3','GPT_R3','GPT_R3','Retell_1','Retell_1','Retell_1','Retell_1','Retell_1','Retell_1','Retell_1','Retell_2','Retell_2','Retell_2','Retell_2','Retell_2','Retell_2','Retell_2','Retell_3','Retell_3','Retell_3','Retell_3','Retell_3','Retell_3','Retell_3']\n",
    "count_means['type']= ['noun','verb','adj','adv','pron','con_det_prep','prep','noun','verb','adj','adv','pron','con_det_prep','prep','noun','verb','adj','adv','pron','con_det_prep','prep','noun','verb','adj','adv','pron','con_det_prep','prep','noun','verb','adj','adv','pron','con_det_prep','prep','noun','verb','adj','adv','pron','con_det_prep','prep','noun','verb','adj','adv','pron','con_det_prep','prep']"
   ]
  },
  {
   "cell_type": "markdown",
   "id": "e4eccf54",
   "metadata": {},
   "source": [
    "#### 1.6.1. All Generations"
   ]
  },
  {
   "cell_type": "code",
   "execution_count": 57,
   "id": "d21d9a05",
   "metadata": {},
   "outputs": [],
   "source": [
    "adv = count_means[count_means.type == 'adv']\n",
    "\n",
    "adv = adv.set_index(['gen']).reindex(['GPT_R1', 'Retell_1','GPT_R2', 'Retell_2','GPT_R3', 'Retell_3']).reset_index()\n",
    "\n",
    "adv['group'] = ['chatGPT','Human','chatGPT','Human','chatGPT','Human']"
   ]
  },
  {
   "cell_type": "code",
   "execution_count": 58,
   "id": "b26e3f62",
   "metadata": {},
   "outputs": [
    {
     "data": {
      "text/html": [
       "<div>\n",
       "<style scoped>\n",
       "    .dataframe tbody tr th:only-of-type {\n",
       "        vertical-align: middle;\n",
       "    }\n",
       "\n",
       "    .dataframe tbody tr th {\n",
       "        vertical-align: top;\n",
       "    }\n",
       "\n",
       "    .dataframe thead th {\n",
       "        text-align: right;\n",
       "    }\n",
       "</style>\n",
       "<table border=\"1\" class=\"dataframe\">\n",
       "  <thead>\n",
       "    <tr style=\"text-align: right;\">\n",
       "      <th></th>\n",
       "      <th>gen</th>\n",
       "      <th>mean</th>\n",
       "      <th>type</th>\n",
       "      <th>group</th>\n",
       "    </tr>\n",
       "  </thead>\n",
       "  <tbody>\n",
       "    <tr>\n",
       "      <th>0</th>\n",
       "      <td>GPT_R1</td>\n",
       "      <td>0.267241</td>\n",
       "      <td>adv</td>\n",
       "      <td>chatGPT</td>\n",
       "    </tr>\n",
       "    <tr>\n",
       "      <th>1</th>\n",
       "      <td>Retell_1</td>\n",
       "      <td>0.724138</td>\n",
       "      <td>adv</td>\n",
       "      <td>Human</td>\n",
       "    </tr>\n",
       "    <tr>\n",
       "      <th>2</th>\n",
       "      <td>GPT_R2</td>\n",
       "      <td>0.206897</td>\n",
       "      <td>adv</td>\n",
       "      <td>chatGPT</td>\n",
       "    </tr>\n",
       "    <tr>\n",
       "      <th>3</th>\n",
       "      <td>Retell_2</td>\n",
       "      <td>0.560345</td>\n",
       "      <td>adv</td>\n",
       "      <td>Human</td>\n",
       "    </tr>\n",
       "    <tr>\n",
       "      <th>4</th>\n",
       "      <td>GPT_R3</td>\n",
       "      <td>0.155172</td>\n",
       "      <td>adv</td>\n",
       "      <td>chatGPT</td>\n",
       "    </tr>\n",
       "    <tr>\n",
       "      <th>5</th>\n",
       "      <td>Retell_3</td>\n",
       "      <td>0.448276</td>\n",
       "      <td>adv</td>\n",
       "      <td>Human</td>\n",
       "    </tr>\n",
       "  </tbody>\n",
       "</table>\n",
       "</div>"
      ],
      "text/plain": [
       "        gen      mean type    group\n",
       "0    GPT_R1  0.267241  adv  chatGPT\n",
       "1  Retell_1  0.724138  adv    Human\n",
       "2    GPT_R2  0.206897  adv  chatGPT\n",
       "3  Retell_2  0.560345  adv    Human\n",
       "4    GPT_R3  0.155172  adv  chatGPT\n",
       "5  Retell_3  0.448276  adv    Human"
      ]
     },
     "execution_count": 58,
     "metadata": {},
     "output_type": "execute_result"
    }
   ],
   "source": [
    "adv"
   ]
  },
  {
   "cell_type": "code",
   "execution_count": 59,
   "id": "fb9d985b",
   "metadata": {},
   "outputs": [
    {
     "data": {
      "text/plain": [
       "Text(0, 0.5, 'Count')"
      ]
     },
     "execution_count": 59,
     "metadata": {},
     "output_type": "execute_result"
    },
    {
     "data": {
      "image/png": "[encoded data removed]",
      "text/plain": [
       "<Figure size 640x480 with 1 Axes>"
      ]
     },
     "metadata": {},
     "output_type": "display_data"
    }
   ],
   "source": [
    "plt.bar(adv['gen'],adv['mean'], color=['steelblue','orange'])\n",
    "plt.title('The Mean Number of Negations')\n",
    "plt.xlabel('Generation')\n",
    "plt.ylabel('Count')"
   ]
  },
  {
   "cell_type": "markdown",
   "id": "b5a90ba5",
   "metadata": {},
   "source": [
    "### 1.7. Statistical Test for Ratios"
   ]
  },
  {
   "cell_type": "code",
   "execution_count": 60,
   "id": "378fbd04",
   "metadata": {},
   "outputs": [
    {
     "name": "stdout",
     "output_type": "stream",
     "text": [
      "Z test for GPT_R1 ratio vs. Retell_1 ratio is significant with p-value 0.0020834907450830754\n",
      "Z test for GPT_R2 ratio vs. Retell_2 ratio is significant with p-value 0.0006181933490244548\n",
      "Z test for GPT_R3 ratio vs. Retell_3 ratio is significant with p-value 0.0013395350587059724\n"
     ]
    }
   ],
   "source": [
    "#!pip3 install statsmodels\n",
    "#Because the values are proportions, I conducted a z-test analysis \n",
    "#Because the values are proportions, I conducted a z-test analysis \n",
    "for i in range(1, 4):\n",
    "    group1 = count_ratio[f'Retell_{i}_adv_ratio']\n",
    "    group2 = count_ratio[f'GPT_{i}_adv_ratio']\n",
    "    statistic, pvalue = ztest(x1=group1, x2=group2, value=0)\n",
    "    if pvalue < 0.05:\n",
    "        print(f\"Z test for GPT_R{i} ratio vs. Retell_{i} ratio is significant with p-value {pvalue}\")\n",
    "    else:\n",
    "        print(f\"Z test for GPT_R{i} ratio vs. Retell_{i} ratio is not significant with p-value {pvalue}\")\n",
    "        "
   ]
  },
  {
   "cell_type": "code",
   "execution_count": 61,
   "id": "5005a34d",
   "metadata": {},
   "outputs": [
    {
     "name": "stdout",
     "output_type": "stream",
     "text": [
      "Z test for Retell_1 ratio vs. Retell_2 ratio is not significant with p-value 0.6114841683472254\n",
      "Z test for Retell_2 ratio vs. Retell_3 ratio is not significant with p-value 0.7531194162727526\n"
     ]
    },
    {
     "data": {
      "text/plain": [
       "(-0.1459568815885566, 0.8839554273235474)"
      ]
     },
     "execution_count": 61,
     "metadata": {},
     "output_type": "execute_result"
    }
   ],
   "source": [
    "# Only human\n",
    "\n",
    "for i in range(1, 3):\n",
    "    group1 = count_ratio[f'Retell_{i}_adv_ratio']\n",
    "    group2 = count_ratio[f'Retell_{i+1}_adv_ratio']\n",
    "    statistic, pvalue = ztest(x1=group1, x2=group2, value=0)\n",
    "    if pvalue < 0.05:\n",
    "        print(f\"Z test for Retell_{i} ratio vs. Retell_{i+1} ratio is significant with p-value {pvalue}\")\n",
    "    else:\n",
    "        print(f\"Z test for Retell_{i} ratio vs. Retell_{i+1} ratio is not significant with p-value {pvalue}\")\n",
    "\n",
    "        \n",
    "ztest(count_ratio.Retell_1_adv_ratio, count_ratio.Retell_3_adv_ratio, value=0)"
   ]
  },
  {
   "cell_type": "code",
   "execution_count": 62,
   "id": "37d84985",
   "metadata": {},
   "outputs": [
    {
     "name": "stdout",
     "output_type": "stream",
     "text": [
      "Z test for GPT_1 ratio vs. GPT_2 ratio is not significant with p-value 0.6468943808774712\n",
      "Z test for GPT_2 ratio vs. GPT_3 ratio is not significant with p-value 0.6732808157525589\n"
     ]
    },
    {
     "data": {
      "text/plain": [
       "(0.8630642885929638, 0.38810212118200726)"
      ]
     },
     "execution_count": 62,
     "metadata": {},
     "output_type": "execute_result"
    }
   ],
   "source": [
    "# Only GPT\n",
    "\n",
    "for i in range(1, 3):\n",
    "    group1 = count_ratio[f'GPT_{i}_adv_ratio']\n",
    "    group2 = count_ratio[f'GPT_{i+1}_adv_ratio']\n",
    "    statistic, pvalue = ztest(x1=group1, x2=group2, value=0)\n",
    "    if pvalue < 0.05:\n",
    "        print(f\"Z test for GPT_{i} ratio vs. GPT_{i+1} ratio is significant with p-value {pvalue}\")\n",
    "    else:\n",
    "        print(f\"Z test for GPT_{i} ratio vs. GPT_{i+1} ratio is not significant with p-value {pvalue}\")\n",
    "\n",
    "        \n",
    "ztest(count_ratio.GPT_1_adv_ratio, count_ratio.GPT_3_adv_ratio, value=0)"
   ]
  },
  {
   "cell_type": "markdown",
   "id": "84a6a85a",
   "metadata": {},
   "source": [
    "### 1.7.1. Visualize Ratios"
   ]
  },
  {
   "cell_type": "code",
   "execution_count": 63,
   "id": "b11b5405",
   "metadata": {},
   "outputs": [
    {
     "name": "stdout",
     "output_type": "stream",
     "text": [
      "Z test for GPT_R1 ratio vs. Retell_1 ratio is significant with z = 3.078065557893003, p-value 0.0020834907450830754\n",
      "Z test for GPT_R2 ratio vs. Retell_2 ratio is significant with z = 3.42350403111364, p-value 0.0006181933490244548\n",
      "Z test for GPT_R3 ratio vs. Retell_3 ratio is significant with z = 3.207372323255804, p-value 0.0013395350587059724\n"
     ]
    }
   ],
   "source": [
    "#Because the values are proportions, I conducted a z-test analysis \n",
    "\n",
    "for i in range(1, 4):\n",
    "    group1 = count_ratio[f'Retell_{i}_adv_ratio']\n",
    "    group2 = count_ratio[f'GPT_{i}_adv_ratio']\n",
    "    statistic, pvalue = ztest(x1=group1, x2=group2, value=0)\n",
    "    if pvalue < 0.05:\n",
    "        print(f\"Z test for GPT_R{i} ratio vs. Retell_{i} ratio is significant with z = {statistic}, p-value {pvalue}\")\n",
    "    else:\n",
    "        print(f\"Z test for GPT_R{i} ratio vs. Retell_{i} ratio is not significant with z = {statistic}, p-value {pvalue}\")\n",
    "        \n",
    "ratio_means = pd.DataFrame()\n",
    "ratio_means['mean'] = [*count_ratio.mean()]\n",
    "ratio_means['gen']= ['GPT_3', 'GPT_2','GPT_1', 'Retell_1','Retell_2','Retell_3','origin','GPT_3', 'GPT_2','GPT_1', 'Retell_1','Retell_2','Retell_3','origin','GPT_3', 'GPT_2','GPT_1', 'Retell_1','Retell_2','Retell_3','origin','GPT_3', 'GPT_2','GPT_1', 'Retell_1','Retell_2','Retell_3','origin','GPT_3', 'GPT_2','GPT_1', 'Retell_1','Retell_2','Retell_3','origin','GPT_3', 'GPT_2','GPT_1', 'Retell_1','Retell_2','Retell_3','origin','GPT_3', 'GPT_2','GPT_1', 'Retell_1','Retell_2','Retell_3','origin']\n",
    "ratio_means['type']= ['noun','noun','noun','noun','noun','noun','noun','verb','verb','verb','verb','verb','verb','verb','adj','adj','adj','adj','adj','adj','adj','adv','adv','adv','adv','adv','adv','adv','con_det_prep','con_det_prep','con_det_prep','con_det_prep','con_det_prep','con_det_prep','con_det_prep','pron','pron','pron','pron','pron','pron','pron','prep','prep','prep','prep','prep','prep','prep']\n",
    "adv_ratio = ratio_means[ratio_means.type == 'adv']\n",
    "adv_ratio = adv_ratio.set_index(['gen']).reindex(['GPT_1', 'Retell_1','GPT_2', 'Retell_2','GPT_3', 'Retell_3']).reset_index()\n"
   ]
  },
  {
   "cell_type": "code",
   "execution_count": 64,
   "id": "fb82e827",
   "metadata": {},
   "outputs": [
    {
     "data": {
      "text/plain": [
       "Text(0, 0.5, 'Ratio')"
      ]
     },
     "execution_count": 64,
     "metadata": {},
     "output_type": "execute_result"
    },
    {
     "data": {
      "image/png": "[encoded data removed]",
      "text/plain": [
       "<Figure size 640x480 with 1 Axes>"
      ]
     },
     "metadata": {},
     "output_type": "display_data"
    }
   ],
   "source": [
    "adv_ratio\n",
    "plt.bar(adv_ratio['gen'],adv_ratio['mean'], color=['steelblue','orange'])\n",
    "plt.title('The Mean Ratio of Negations to Total Words')\n",
    "plt.xlabel('Generation')\n",
    "plt.ylabel('Ratio')"
   ]
  },
  {
   "cell_type": "markdown",
   "id": "7147d1ed",
   "metadata": {},
   "source": [
    "### 1.8. Calculate Verb-Negation Ratio"
   ]
  },
  {
   "cell_type": "code",
   "execution_count": 65,
   "id": "c45890b6",
   "metadata": {},
   "outputs": [],
   "source": [
    "#Adverb-verb ratio\n",
    "\n",
    "#For human\n",
    "for i in range(1,4):\n",
    "    df[f'Retell_{i}_adv_to_verb_ratio'] = df[f'tokenized_Retell_{i}_tag_adv'] / df[f'tokenized_Retell_{i}_tag_verb']\n",
    "\n",
    "#For GPT\n",
    "for i in range(1,4):\n",
    "    df[f'GPT_{i}_adv_to_verb_ratio'] = df[f'tokenized_GPT_R{i}_tag_adv'] / df[f'tokenized_GPT_R{i}_tag_verb']\n",
    "\n",
    "# For original story\n",
    "df['story_adv_to_verb_ratio'] = df['tokenized_STORY_tag_adv'] / df['tokenized_STORY_tag_verb']"
   ]
  },
  {
   "cell_type": "code",
   "execution_count": 66,
   "id": "677ee7c4",
   "metadata": {},
   "outputs": [],
   "source": [
    "# Adverb - Total word count ratio\n",
    "\n",
    "retell_cols = ['Retell_1', 'Retell_2', 'Retell_3']\n",
    "gpt_cols = ['GPT_R1', 'GPT_R2', 'GPT_R3']\n",
    "\n",
    "# For human\n",
    "for col in retell_cols:\n",
    "    df[f'{col}_adv_to_all_words'] = df[f'tokenized_{col}_tag_adv'] / (df[f'tokenized_{col}'].apply(lambda x: len(x)))\n",
    "\n",
    "# For GPT\n",
    "for col in gpt_cols:\n",
    "    df[f'{col}_adv_to_all_words'] = df[f'tokenized_{col}_tag_adv'] / (df[f'tokenized_{col}'].apply(lambda x: len(x)))"
   ]
  },
  {
   "cell_type": "markdown",
   "id": "870e019c",
   "metadata": {},
   "source": [
    "### 1.8.2. Visualize Negation/Verb"
   ]
  },
  {
   "cell_type": "markdown",
   "id": "d32ffccb",
   "metadata": {},
   "source": [
    "#### 1.8.2.1. Prepare dataset to visualize"
   ]
  },
  {
   "cell_type": "code",
   "execution_count": 67,
   "id": "48f415cb",
   "metadata": {},
   "outputs": [],
   "source": [
    "verbnoun_ratio = df[['story_adv_to_verb_ratio',\n",
    " 'Retell_1_adv_to_verb_ratio',\n",
    " 'Retell_2_adv_to_verb_ratio',\n",
    " 'Retell_3_adv_to_verb_ratio',\n",
    " 'GPT_1_adv_to_verb_ratio',\n",
    " 'GPT_2_adv_to_verb_ratio',\n",
    " 'GPT_3_adv_to_verb_ratio']]\n",
    "\n",
    "verbnoun_means = pd.DataFrame()\n",
    "verbnoun_means['mean'] = [*verbnoun_ratio.mean()]\n",
    "\n",
    "verbnoun_means['gen'] = ['story','Retell_1','Retell_2','Retell_3','GPT_1','GPT_2','GPT_3']\n",
    "verbnoun_means['type'] = ['origin','human','human','human','gpt','gpt','gpt']\n",
    "\n",
    "\n",
    "verbnoun_means = verbnoun_means.set_index(['gen']).reindex(['GPT_1', 'Retell_1','GPT_2', 'Retell_2','GPT_3', 'Retell_3']).reset_index()\n"
   ]
  },
  {
   "cell_type": "code",
   "execution_count": 68,
   "id": "d194880d",
   "metadata": {},
   "outputs": [
    {
     "data": {
      "text/plain": [
       "Text(0, 0.5, 'Ratio')"
      ]
     },
     "execution_count": 68,
     "metadata": {},
     "output_type": "execute_result"
    },
    {
     "data": {
      "image/png": "[encoded data removed]",
      "text/plain": [
       "<Figure size 640x480 with 1 Axes>"
      ]
     },
     "metadata": {},
     "output_type": "display_data"
    }
   ],
   "source": [
    "adv_ratio\n",
    "plt.bar(verbnoun_means['gen'],verbnoun_means['mean'], color=['steelblue','orange'])\n",
    "plt.title('The Mean Ratio of Negations to Verbs')\n",
    "plt.xlabel('Generation')\n",
    "plt.ylabel('Ratio')"
   ]
  },
  {
   "cell_type": "markdown",
   "id": "2e1fbd72",
   "metadata": {},
   "source": [
    "## 1.8.1. Statistical Test for Adv/verb  ratios"
   ]
  },
  {
   "cell_type": "code",
   "execution_count": 69,
   "id": "6751cbb0",
   "metadata": {},
   "outputs": [
    {
     "name": "stdout",
     "output_type": "stream",
     "text": [
      " Z test for differences in adverb/verb in GPT_R1  vs. Retell_1  is significant with p-value 0.012301729886706478\n",
      " Z test for differences in adverb/verb in GPT_R2  vs. Retell_2  is significant with p-value 0.0008071153738456968\n",
      " Z test for differences in adverb/verb in GPT_R3  vs. Retell_3  is significant with p-value 0.004666850011276303\n"
     ]
    }
   ],
   "source": [
    "#Adverb to verb\n",
    "\n",
    "for i in range(1,4):\n",
    "    zscore,pvalue = ztest(x1=df[f'Retell_{i}_adv_to_verb_ratio'], x2=df[f'GPT_{i}_adv_to_verb_ratio'], value=0)\n",
    "    if pvalue < 0.05:\n",
    "        print(f\" Z test for differences in adverb/verb in GPT_R{i}  vs. Retell_{i}  is significant with p-value {pvalue}\")\n",
    "    else:\n",
    "        print(f\" Z test for differences in adverb/verb in GPT_R{i}  vs. Retell_{i}  is not significant with p-value {pvalue}\")\n"
   ]
  },
  {
   "cell_type": "code",
   "execution_count": 70,
   "id": "072f087d",
   "metadata": {},
   "outputs": [
    {
     "name": "stdout",
     "output_type": "stream",
     "text": [
      " Z test for differences in adverb/all in GPT_R1  vs. Retell_1  is significant with p-value 0.0020834907450830754\n",
      " Z test for differences in adverb/all in GPT_R2  vs. Retell_2  is significant with p-value 0.0006181933490244548\n",
      " Z test for differences in adverb/all in GPT_R3  vs. Retell_3  is significant with p-value 0.0013395350587059724\n"
     ]
    }
   ],
   "source": [
    "# Adverb to total word count\n",
    "for i in range(1,4):\n",
    "    zscore,pvalue = ztest(x1=df[f'Retell_{i}_adv_to_all_words'], x2=df[f'GPT_R{i}_adv_to_all_words'], value=0)\n",
    "    if pvalue < 0.05:\n",
    "        print(f\" Z test for differences in adverb/all in GPT_R{i}  vs. Retell_{i}  is significant with p-value {pvalue}\")\n",
    "    else:\n",
    "        print(f\" Z test for differences in adverb/all in GPT_R{i}  vs. Retell_{i}  is not significant with p-value {pvalue}\")"
   ]
  },
  {
   "cell_type": "markdown",
   "id": "97a8261f",
   "metadata": {},
   "source": [
    "### 2. Change in Human Adverb/Verb Ratio ( Negation)"
   ]
  },
  {
   "cell_type": "code",
   "execution_count": 71,
   "id": "71457531",
   "metadata": {},
   "outputs": [
    {
     "name": "stdout",
     "output_type": "stream",
     "text": [
      " Z test for differences in adverb/all in Retell_1  vs. Retell_2  is not significant with p-value 0.6114841683472254\n",
      " Z test for differences in adverb/all in Retell_2  vs. Retell_3  is not significant with p-value 0.7531194162727526\n"
     ]
    }
   ],
   "source": [
    "for i in range(1,3):\n",
    "    zscore,pvalue = ztest(x1=df[f'Retell_{i}_adv_to_all_words'], x2=df[f'Retell_{i+1}_adv_to_all_words'], value=0)\n",
    "    if pvalue < 0.05:\n",
    "        print(f\" Z test for differences in adverb/all in Retell_{i}  vs. Retell_{i+1}  is significant with p-value {pvalue}\")\n",
    "    else:\n",
    "        print(f\" Z test for differences in adverb/all in Retell_{i}  vs. Retell_{i+1}  is not significant with p-value {pvalue}\")"
   ]
  },
  {
   "cell_type": "markdown",
   "id": "ebba5013",
   "metadata": {},
   "source": [
    "### 2.1. Change in chatGPT Adverb/Verb Ratio ( Negation)"
   ]
  },
  {
   "cell_type": "code",
   "execution_count": 72,
   "id": "a9ea4a5b",
   "metadata": {},
   "outputs": [
    {
     "name": "stdout",
     "output_type": "stream",
     "text": [
      " Z test for differences in adverb/all in GPT_R1  vs. GPT_R2  is not significant with p-value 0.6468943808774712\n",
      " Z test for differences in adverb/all in GPT_R2  vs. GPT_R3  is not significant with p-value 0.6732808157525589\n"
     ]
    }
   ],
   "source": [
    "for i in range(1,3):\n",
    "    zscore,pvalue = ztest(x1=df[f'GPT_R{i}_adv_to_all_words'], x2=df[f'GPT_R{i+1}_adv_to_all_words'], value=0)\n",
    "    \n",
    "    if pvalue < 0.05:\n",
    "        print(f\" Z test for differences in adverb/all in GPT_R{i}  vs. GPT_R{i+1}  is significant with p-value {pvalue}\")\n",
    "    else:\n",
    "        print(f\" Z test for differences in adverb/all in GPT_R{i}  vs. GPT_R{i+1}  is not significant with p-value {pvalue}\")"
   ]
  },
  {
   "cell_type": "markdown",
   "id": "b532703d",
   "metadata": {},
   "source": [
    "# 3. Examine Context of Negations"
   ]
  },
  {
   "cell_type": "markdown",
   "id": "7b96fff6",
   "metadata": {},
   "source": [
    "### 3.1. Example from Highly Negated Sentences "
   ]
  },
  {
   "cell_type": "markdown",
   "id": "d0bf6309",
   "metadata": {},
   "source": [
    "### Retell 1 "
   ]
  },
  {
   "cell_type": "code",
   "execution_count": 96,
   "id": "be1c47ab",
   "metadata": {},
   "outputs": [
    {
     "data": {
      "text/plain": [
       "\"This poor kid didn't know math well, and his teachers and tutors weren't good at teaching.  The kid is trying but he needs more effective educational tools.\""
      ]
     },
     "execution_count": 96,
     "metadata": {},
     "output_type": "execute_result"
    }
   ],
   "source": [
    "df.sort_values(by='Retell_1_adv_ratio', ascending=False).Retell_1.iloc[0]"
   ]
  },
  {
   "cell_type": "code",
   "execution_count": 97,
   "id": "8c85b54f",
   "metadata": {},
   "outputs": [
    {
     "data": {
      "text/plain": [
       "'A boy struggled with math and studied hard for an important exam with help from a tutor, sacrificing his video game time. Despite his efforts, he only got a passing grade of 70 and was disappointed.'"
      ]
     },
     "execution_count": 97,
     "metadata": {},
     "output_type": "execute_result"
    }
   ],
   "source": [
    "df.sort_values(by='Retell_1_adv_ratio', ascending=False).GPT_R1.iloc[0]"
   ]
  },
  {
   "cell_type": "markdown",
   "id": "9cd4e9f0",
   "metadata": {},
   "source": [
    "### Retell 2"
   ]
  },
  {
   "cell_type": "code",
   "execution_count": 91,
   "id": "22f1d2e8",
   "metadata": {},
   "outputs": [
    {
     "data": {
      "text/plain": [
       "\"Jessie was very poor and lived in a store front. He wanted to do something with his life, but wasn't sure what. He had a grandmother who had bad health. He didn't own a car and didn't know how to get a ride anywhere, but was wanting to go somewhere and had interest in pursuing a new love life.\""
      ]
     },
     "execution_count": 91,
     "metadata": {},
     "output_type": "execute_result"
    }
   ],
   "source": [
    "df.sort_values(by='Retell_2_adv_ratio', ascending=False).Retell_2.iloc[3]"
   ]
  },
  {
   "cell_type": "code",
   "execution_count": 90,
   "id": "86098ffc",
   "metadata": {},
   "outputs": [
    {
     "data": {
      "text/plain": [
       "'A young man named Jessie found himself alone when Granny left after taking ill. He discovered an abandoned storefront and decided to make it his new home. Jessie watched as people passed by, realizing he had no one looking for him.'"
      ]
     },
     "execution_count": 90,
     "metadata": {},
     "output_type": "execute_result"
    }
   ],
   "source": [
    "df.sort_values(by='Retell_2_adv_ratio', ascending=False).GPT_R2.iloc[3]"
   ]
  },
  {
   "cell_type": "markdown",
   "id": "8facdcc6",
   "metadata": {},
   "source": [
    "### Retell 3"
   ]
  },
  {
   "cell_type": "code",
   "execution_count": 92,
   "id": "5c5c1fda",
   "metadata": {},
   "outputs": [
    {
     "data": {
      "text/plain": [
       "\"Frogs like company but don't like summer. They cannot survive outside of water.\""
      ]
     },
     "execution_count": 92,
     "metadata": {},
     "output_type": "execute_result"
    }
   ],
   "source": [
    "df.sort_values(by='Retell_3_adv_ratio', ascending=False).Retell_3.iloc[0]"
   ]
  },
  {
   "cell_type": "code",
   "execution_count": 93,
   "id": "53eae0d8",
   "metadata": {},
   "outputs": [
    {
     "data": {
      "text/plain": [
       "'The story is about Hanuxi creatures that are blue, frog-like, and friendly to humans and their kind. They can walk, hop and fly, and live in a water landscape, but do not thrive outside their homes.'"
      ]
     },
     "execution_count": 93,
     "metadata": {},
     "output_type": "execute_result"
    }
   ],
   "source": [
    "df.sort_values(by='Retell_3_adv_ratio', ascending=False).GPT_R3.iloc[0]"
   ]
  }
 ],
 "metadata": {
  "kernelspec": {
   "display_name": "Python 3 (ipykernel)",
   "language": "python",
   "name": "python3"
  },
  "language_info": {
   "codemirror_mode": {
    "name": "ipython",
    "version": 3
   },
   "file_extension": ".py",
   "mimetype": "text/x-python",
   "name": "python",
   "nbconvert_exporter": "python",
   "pygments_lexer": "ipython3",
   "version": "3.10.10"
  }
 },
 "nbformat": 4,
 "nbformat_minor": 5
}
