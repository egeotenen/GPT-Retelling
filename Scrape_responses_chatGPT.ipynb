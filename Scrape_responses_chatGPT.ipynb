{
 "cells": [
  {
   "cell_type": "code",
   "execution_count": 171,
   "metadata": {},
   "outputs": [
    {
     "name": "stdout",
     "output_type": "stream",
     "text": [
      "Defaulting to user installation because normal site-packages is not writeable\n",
      "Collecting openpyxl\n",
      "  Using cached openpyxl-3.1.2-py2.py3-none-any.whl (249 kB)\n",
      "Collecting et-xmlfile\n",
      "  Using cached et_xmlfile-1.1.0-py3-none-any.whl (4.7 kB)\n",
      "Installing collected packages: et-xmlfile, openpyxl\n",
      "Successfully installed et-xmlfile-1.1.0 openpyxl-3.1.2\n",
      "\n",
      "\u001b[1m[\u001b[0m\u001b[34;49mnotice\u001b[0m\u001b[1;39;49m]\u001b[0m\u001b[39;49m A new release of pip available: \u001b[0m\u001b[31;49m22.3.1\u001b[0m\u001b[39;49m -> \u001b[0m\u001b[32;49m23.1\u001b[0m\n",
      "\u001b[1m[\u001b[0m\u001b[34;49mnotice\u001b[0m\u001b[1;39;49m]\u001b[0m\u001b[39;49m To update, run: \u001b[0m\u001b[32;49mpython3.11 -m pip install --upgrade pip\u001b[0m\n"
     ]
    }
   ],
   "source": [
    "import pandas as pd\n",
    "import numpy as np\n",
    "#!pip3 install jsonlines\n",
    "import jsonlines\n",
    "#!pip3 install openpyxl\n",
    "import openpyxl"
   ]
  },
  {
   "attachments": {},
   "cell_type": "markdown",
   "metadata": {},
   "source": [
    "## 0. Define Credentials"
   ]
  },
  {
   "cell_type": "code",
   "execution_count": 313,
   "metadata": {},
   "outputs": [],
   "source": [
    "import openai\n",
    "# Get the key from the OpenAI web site\n",
    "openai.api_key ='eyJhbGciOiJSUzI1NiIsInR5cCI6IkpXVCIsImtpZCI6Ik1UaEVOVUpHTkVNMVFURTRNMEZCTWpkQ05UZzVNRFUxUlRVd1FVSkRNRU13UmtGRVFrRXpSZyJ9.eyJodHRwczovL2FwaS5vcGVuYWkuY29tL3Byb2ZpbGUiOnsiZW1haWwiOiJmaHVhbmcxODFAZ21haWwuY29tIiwiZW1haWxfdmVyaWZpZWQiOnRydWV9LCJodHRwczovL2FwaS5vcGVuYWkuY29tL2F1dGgiOnsidXNlcl9pZCI6InVzZXItSEZpQTkxWUs3Sjkxck1IZUtMU3B3enlLIn0sImlzcyI6Imh0dHBzOi8vYXV0aDAub3BlbmFpLmNvbS8iLCJzdWIiOiJnb29nbGUtb2F1dGgyfDEwMDIwNTgwODI2NzI0ODQ1OTk2NSIsImF1ZCI6WyJodHRwczovL2FwaS5vcGVuYWkuY29tL3YxIiwiaHR0cHM6Ly9vcGVuYWkub3BlbmFpLmF1dGgwYXBwLmNvbS91c2VyaW5mbyJdLCJpYXQiOjE2ODA4MDQyMzMsImV4cCI6MTY4MjAxMzgzMywiYXpwIjoiVGRKSWNiZTE2V29USHROOTVueXl3aDVFNHlPbzZJdEciLCJzY29wZSI6Im9wZW5pZCBwcm9maWxlIGVtYWlsIG1vZGVsLnJlYWQgbW9kZWwucmVxdWVzdCBvcmdhbml6YXRpb24ucmVhZCBvZmZsaW5lX2FjY2VzcyJ9.CnW0TOnuudo9pfGQgQG3nn5GeFbDmcfwuorGxjw6T-Ip9dGNeQOnKQZWC2HwS-qdiFBgU0njGxx51c5S-eJ6rfIkUpNyzQxm7hp2jJ-kDrmAvm__ra4pn47YVABtUrFU52ctB0eMQIbDTJcaSIk-vCrkqcX4au7s1PoMOrmpLwDArf20Qbsk-uCF6lPCr7AHsTtH8l8bElQDh3GBSLhfVyRiUD-a5A_3qwBXJWCNkKXHl11kf7U2G-Y5FaD5CvM22bWWCCZNT7QSdQeoZSbJVybbd34k3lZZbVb0-ZYLZDjSqdohm29CBkLm5eYsTs3lgL4gzuSnz3wD83um21EQuw'\n",
    "\n",
    "model_id = \"gpt-3.5-turbo\"\n"
   ]
  },
  {
   "attachments": {},
   "cell_type": "markdown",
   "metadata": {},
   "source": [
    "## 1. Get CommonSense Dataset"
   ]
  },
  {
   "cell_type": "code",
   "execution_count": 208,
   "metadata": {},
   "outputs": [],
   "source": [
    "with open('/Users/eotenen/Downloads/train_rand_split.jsonl') as f:\n",
    "        data = list(jsonlines.Reader(f))\n",
    "\n",
    "# Convert the list of JSON objects to a Pandas DataFrame\n",
    "import pandas as pd\n",
    "df = pd.DataFrame(data)"
   ]
  },
  {
   "attachments": {},
   "cell_type": "markdown",
   "metadata": {},
   "source": [
    "### 2. Sample From Dataset"
   ]
  },
  {
   "cell_type": "code",
   "execution_count": 210,
   "metadata": {},
   "outputs": [
    {
     "name": "stdout",
     "output_type": "stream",
     "text": [
      "<class 'pandas.core.frame.DataFrame'>\n"
     ]
    }
   ],
   "source": [
    "# Randomly select 5 rows using the sample() method\n",
    "selected_rows = df.sample(n=100, random_state=42)\n",
    "\n",
    "# Print the selected rows\n",
    "print(type(selected_rows))\n",
    "\n",
    "df = pd.DataFrame(selected_rows, columns=['answerKey', 'id','question'])\n"
   ]
  },
  {
   "attachments": {},
   "cell_type": "markdown",
   "metadata": {},
   "source": [
    "#### 2.1. Extract Dictionaries into Columns"
   ]
  },
  {
   "cell_type": "code",
   "execution_count": 211,
   "metadata": {},
   "outputs": [
    {
     "name": "stdout",
     "output_type": "stream",
     "text": [
      "Index(['answerKey', 'id', 'question', 'question_concept', 'choices', 'stem'], dtype='object')\n"
     ]
    }
   ],
   "source": [
    "# Use apply() with a lambda function to extract the keys and values of the dictionary in df.question.iloc[0]\n",
    "df[['question_concept', 'choices', 'stem']] = df['question'].apply(lambda x: pd.Series([x['question_concept'], x['choices'], x['stem']]))\n",
    "\n",
    "# Drop the original 'question' column\n",
    "\n",
    "# Print the resulting DataFrame\n",
    "print(df.columns)"
   ]
  },
  {
   "attachments": {},
   "cell_type": "markdown",
   "metadata": {},
   "source": [
    "#### 2.2. Save to Edit in Excel"
   ]
  },
  {
   "cell_type": "code",
   "execution_count": 214,
   "metadata": {},
   "outputs": [],
   "source": [
    "df.to_excel(\"/Users/eotenen/Downloads/chatGPT.xlsx\", index=False)"
   ]
  },
  {
   "attachments": {},
   "cell_type": "markdown",
   "metadata": {},
   "source": [
    "#### 2.3\n",
    ". Read from Excel"
   ]
  },
  {
   "cell_type": "code",
   "execution_count": 358,
   "metadata": {},
   "outputs": [],
   "source": [
    "df = pd.read_excel(\"/Users/eotenen/Downloads/chatGPT.xlsx\")\n",
    "\n",
    "#df.to_csv(\"/Users/eotenen/Downloads/chatGPT.csv\", index=False)"
   ]
  },
  {
   "cell_type": "code",
   "execution_count": 359,
   "metadata": {},
   "outputs": [
    {
     "data": {
      "text/html": [
       "<div>\n",
       "<style scoped>\n",
       "    .dataframe tbody tr th:only-of-type {\n",
       "        vertical-align: middle;\n",
       "    }\n",
       "\n",
       "    .dataframe tbody tr th {\n",
       "        vertical-align: top;\n",
       "    }\n",
       "\n",
       "    .dataframe thead th {\n",
       "        text-align: right;\n",
       "    }\n",
       "</style>\n",
       "<table border=\"1\" class=\"dataframe\">\n",
       "  <thead>\n",
       "    <tr style=\"text-align: right;\">\n",
       "      <th></th>\n",
       "      <th>answerKey</th>\n",
       "      <th>id</th>\n",
       "      <th>question</th>\n",
       "      <th>question_concept</th>\n",
       "      <th>A</th>\n",
       "      <th>B</th>\n",
       "      <th>C</th>\n",
       "      <th>D</th>\n",
       "      <th>E</th>\n",
       "      <th>all_choices</th>\n",
       "      <th>stem</th>\n",
       "    </tr>\n",
       "  </thead>\n",
       "  <tbody>\n",
       "    <tr>\n",
       "      <th>0</th>\n",
       "      <td>B</td>\n",
       "      <td>8d0b2621524162b7c900ebba92bf7019</td>\n",
       "      <td>{'question_concept': 'sitting down', 'choices'...</td>\n",
       "      <td>sitting down</td>\n",
       "      <td>'fall asleep'</td>\n",
       "      <td>'flatulence'</td>\n",
       "      <td>'sigh of relief'</td>\n",
       "      <td>'medium'</td>\n",
       "      <td>'comfort'</td>\n",
       "      <td>'fall asleep', 'flatulence', 'sigh of relief'...</td>\n",
       "      <td>Bill sits down on a whoopee cushion, what soun...</td>\n",
       "    </tr>\n",
       "    <tr>\n",
       "      <th>1</th>\n",
       "      <td>C</td>\n",
       "      <td>136c08fe01cb3e029b18b62997267810</td>\n",
       "      <td>{'question_concept': 'going to party', 'choice...</td>\n",
       "      <td>going to party</td>\n",
       "      <td>'smoking pot'</td>\n",
       "      <td>'happiness'</td>\n",
       "      <td>'laughter'</td>\n",
       "      <td>'babies'</td>\n",
       "      <td>'meet new people'</td>\n",
       "      <td>'smoking pot', 'happiness', 'laughter', 'babi...</td>\n",
       "      <td>What is likely heard by those going to a party?</td>\n",
       "    </tr>\n",
       "    <tr>\n",
       "      <th>2</th>\n",
       "      <td>B</td>\n",
       "      <td>819890987657d108834837af52d7b42b</td>\n",
       "      <td>{'question_concept': 'prince', 'choices': [{'l...</td>\n",
       "      <td>prince</td>\n",
       "      <td>'england'</td>\n",
       "      <td>'fairy tale'</td>\n",
       "      <td>'castle'</td>\n",
       "      <td>'palace'</td>\n",
       "      <td>'court'</td>\n",
       "      <td>'england', 'fairy tale', 'castle', 'palace', ...</td>\n",
       "      <td>A handsome prince is a stock character common ...</td>\n",
       "    </tr>\n",
       "    <tr>\n",
       "      <th>3</th>\n",
       "      <td>B</td>\n",
       "      <td>033908492f55b9092e0fbdbcf49bab94</td>\n",
       "      <td>{'question_concept': 'pacific northwest', 'cho...</td>\n",
       "      <td>pacific northwest</td>\n",
       "      <td>'united states'</td>\n",
       "      <td>'united states'</td>\n",
       "      <td>'washington'</td>\n",
       "      <td>'oregon'</td>\n",
       "      <td>'british columbia'</td>\n",
       "      <td>'united states', 'united states', 'washington...</td>\n",
       "      <td>What covers the largest percentage of the paci...</td>\n",
       "    </tr>\n",
       "    <tr>\n",
       "      <th>4</th>\n",
       "      <td>E</td>\n",
       "      <td>b67f97a3fd9f4025d34f927a7a616512</td>\n",
       "      <td>{'question_concept': 'balls', 'choices': [{'la...</td>\n",
       "      <td>balls</td>\n",
       "      <td>'sporting event'</td>\n",
       "      <td>'gym'</td>\n",
       "      <td>'toy store'</td>\n",
       "      <td>'baseball'</td>\n",
       "      <td>'soccer game'</td>\n",
       "      <td>'sporting event', 'gym', 'toy store', 'baseba...</td>\n",
       "      <td>When black and white balls are kicked with fee...</td>\n",
       "    </tr>\n",
       "    <tr>\n",
       "      <th>...</th>\n",
       "      <td>...</td>\n",
       "      <td>...</td>\n",
       "      <td>...</td>\n",
       "      <td>...</td>\n",
       "      <td>...</td>\n",
       "      <td>...</td>\n",
       "      <td>...</td>\n",
       "      <td>...</td>\n",
       "      <td>...</td>\n",
       "      <td>...</td>\n",
       "      <td>...</td>\n",
       "    </tr>\n",
       "    <tr>\n",
       "      <th>95</th>\n",
       "      <td>A</td>\n",
       "      <td>f54d8beb81900b84e256f5d2e19591e4</td>\n",
       "      <td>{'question_concept': 'rosebush', 'choices': [{...</td>\n",
       "      <td>rosebush</td>\n",
       "      <td>'courtyard'</td>\n",
       "      <td>'landscaping'</td>\n",
       "      <td>'mailbox'</td>\n",
       "      <td>'california'</td>\n",
       "      <td>'botanic garden'</td>\n",
       "      <td>'courtyard', 'landscaping', 'mailbox', 'calif...</td>\n",
       "      <td>Where are rosebushes typically found outside o...</td>\n",
       "    </tr>\n",
       "    <tr>\n",
       "      <th>96</th>\n",
       "      <td>E</td>\n",
       "      <td>1be61eeaa1b2267594abdf8244ff6b08</td>\n",
       "      <td>{'question_concept': 'duffel bag', 'choices': ...</td>\n",
       "      <td>duffel bag</td>\n",
       "      <td>'store'</td>\n",
       "      <td>'transit'</td>\n",
       "      <td>'sporting goods store'</td>\n",
       "      <td>'locker room'</td>\n",
       "      <td>'bus station'</td>\n",
       "      <td>'store', 'transit', 'sporting goods store', '...</td>\n",
       "      <td>James took his duffle bag with him when he wal...</td>\n",
       "    </tr>\n",
       "    <tr>\n",
       "      <th>97</th>\n",
       "      <td>D</td>\n",
       "      <td>31fef658ebb0cbadf3a4d93271169fab</td>\n",
       "      <td>{'question_concept': 'dentist', 'choices': [{'...</td>\n",
       "      <td>dentist</td>\n",
       "      <td>'fair'</td>\n",
       "      <td>'phone book'</td>\n",
       "      <td>'city'</td>\n",
       "      <td>'dental office'</td>\n",
       "      <td>'las vegas'</td>\n",
       "      <td>'fair', 'phone book', 'city', 'dental office'...</td>\n",
       "      <td>Where do you visit a dentist?</td>\n",
       "    </tr>\n",
       "    <tr>\n",
       "      <th>98</th>\n",
       "      <td>D</td>\n",
       "      <td>c9b7535d638a13785b931b8f983bd7ba</td>\n",
       "      <td>{'question_concept': 'servant', 'choices': [{'...</td>\n",
       "      <td>servant</td>\n",
       "      <td>'free person'</td>\n",
       "      <td>'celebrity'</td>\n",
       "      <td>'boss'</td>\n",
       "      <td>'in charge'</td>\n",
       "      <td>'rich person'</td>\n",
       "      <td>'free person', 'celebrity', 'boss', 'in charg...</td>\n",
       "      <td>The servant was asked where to put the flowers...</td>\n",
       "    </tr>\n",
       "    <tr>\n",
       "      <th>99</th>\n",
       "      <td>D</td>\n",
       "      <td>45b4d654cece2af1723a150d5a1c0669</td>\n",
       "      <td>{'question_concept': 'laundry room', 'choices'...</td>\n",
       "      <td>laundry room</td>\n",
       "      <td>'hospital'</td>\n",
       "      <td>'basement of apartment building'</td>\n",
       "      <td>'college'</td>\n",
       "      <td>'house'</td>\n",
       "      <td>'hotel'</td>\n",
       "      <td>'hospital', 'basement of apartment building',...</td>\n",
       "      <td>Where could you find a laundry room that is on...</td>\n",
       "    </tr>\n",
       "  </tbody>\n",
       "</table>\n",
       "<p>100 rows × 11 columns</p>\n",
       "</div>"
      ],
      "text/plain": [
       "   answerKey                                id  \\\n",
       "0          B  8d0b2621524162b7c900ebba92bf7019   \n",
       "1          C  136c08fe01cb3e029b18b62997267810   \n",
       "2          B  819890987657d108834837af52d7b42b   \n",
       "3          B  033908492f55b9092e0fbdbcf49bab94   \n",
       "4          E  b67f97a3fd9f4025d34f927a7a616512   \n",
       "..       ...                               ...   \n",
       "95         A  f54d8beb81900b84e256f5d2e19591e4   \n",
       "96         E  1be61eeaa1b2267594abdf8244ff6b08   \n",
       "97         D  31fef658ebb0cbadf3a4d93271169fab   \n",
       "98         D  c9b7535d638a13785b931b8f983bd7ba   \n",
       "99         D  45b4d654cece2af1723a150d5a1c0669   \n",
       "\n",
       "                                             question   question_concept  \\\n",
       "0   {'question_concept': 'sitting down', 'choices'...       sitting down   \n",
       "1   {'question_concept': 'going to party', 'choice...     going to party   \n",
       "2   {'question_concept': 'prince', 'choices': [{'l...             prince   \n",
       "3   {'question_concept': 'pacific northwest', 'cho...  pacific northwest   \n",
       "4   {'question_concept': 'balls', 'choices': [{'la...              balls   \n",
       "..                                                ...                ...   \n",
       "95  {'question_concept': 'rosebush', 'choices': [{...           rosebush   \n",
       "96  {'question_concept': 'duffel bag', 'choices': ...         duffel bag   \n",
       "97  {'question_concept': 'dentist', 'choices': [{'...            dentist   \n",
       "98  {'question_concept': 'servant', 'choices': [{'...            servant   \n",
       "99  {'question_concept': 'laundry room', 'choices'...       laundry room   \n",
       "\n",
       "                    A                                  B  \\\n",
       "0       'fall asleep'                       'flatulence'   \n",
       "1       'smoking pot'                        'happiness'   \n",
       "2           'england'                       'fairy tale'   \n",
       "3     'united states'                    'united states'   \n",
       "4    'sporting event'                              'gym'   \n",
       "..                ...                                ...   \n",
       "95        'courtyard'                      'landscaping'   \n",
       "96            'store'                          'transit'   \n",
       "97             'fair'                       'phone book'   \n",
       "98      'free person'                        'celebrity'   \n",
       "99         'hospital'   'basement of apartment building'   \n",
       "\n",
       "                          C                 D                    E  \\\n",
       "0          'sigh of relief'          'medium'            'comfort'   \n",
       "1                'laughter'          'babies'    'meet new people'   \n",
       "2                  'castle'          'palace'              'court'   \n",
       "3              'washington'          'oregon'   'british columbia'   \n",
       "4               'toy store'        'baseball'        'soccer game'   \n",
       "..                      ...               ...                  ...   \n",
       "95                'mailbox'      'california'     'botanic garden'   \n",
       "96   'sporting goods store'     'locker room'        'bus station'   \n",
       "97                   'city'   'dental office'          'las vegas'   \n",
       "98                   'boss'       'in charge'        'rich person'   \n",
       "99                'college'           'house'              'hotel'   \n",
       "\n",
       "                                          all_choices  \\\n",
       "0    'fall asleep', 'flatulence', 'sigh of relief'...   \n",
       "1    'smoking pot', 'happiness', 'laughter', 'babi...   \n",
       "2    'england', 'fairy tale', 'castle', 'palace', ...   \n",
       "3    'united states', 'united states', 'washington...   \n",
       "4    'sporting event', 'gym', 'toy store', 'baseba...   \n",
       "..                                                ...   \n",
       "95   'courtyard', 'landscaping', 'mailbox', 'calif...   \n",
       "96   'store', 'transit', 'sporting goods store', '...   \n",
       "97   'fair', 'phone book', 'city', 'dental office'...   \n",
       "98   'free person', 'celebrity', 'boss', 'in charg...   \n",
       "99   'hospital', 'basement of apartment building',...   \n",
       "\n",
       "                                                 stem  \n",
       "0   Bill sits down on a whoopee cushion, what soun...  \n",
       "1     What is likely heard by those going to a party?  \n",
       "2   A handsome prince is a stock character common ...  \n",
       "3   What covers the largest percentage of the paci...  \n",
       "4   When black and white balls are kicked with fee...  \n",
       "..                                                ...  \n",
       "95  Where are rosebushes typically found outside o...  \n",
       "96  James took his duffle bag with him when he wal...  \n",
       "97                      Where do you visit a dentist?  \n",
       "98  The servant was asked where to put the flowers...  \n",
       "99  Where could you find a laundry room that is on...  \n",
       "\n",
       "[100 rows x 11 columns]"
      ]
     },
     "execution_count": 359,
     "metadata": {},
     "output_type": "execute_result"
    }
   ],
   "source": [
    "df"
   ]
  },
  {
   "attachments": {},
   "cell_type": "markdown",
   "metadata": {},
   "source": [
    "### 3. Write For Loop for Instructions"
   ]
  },
  {
   "attachments": {},
   "cell_type": "markdown",
   "metadata": {},
   "source": [
    "#### 3.1. Get Instructions As a List"
   ]
  },
  {
   "cell_type": "code",
   "execution_count": 302,
   "metadata": {},
   "outputs": [],
   "source": [
    "def question_template(df):\n",
    "    question_list= []\n",
    "    for index in range(len(df)):\n",
    "         text = (f\"Given the question and auxiliary information of: {df.stem[index]}  Please answer based on the options below first: {df.all_choices[index]}  And then explain why precisely in one or two sentences.\")\n",
    "         question_list.append(text)\n",
    "    return question_list\n"
   ]
  },
  {
   "attachments": {},
   "cell_type": "markdown",
   "metadata": {},
   "source": [
    "#### 3.2. Save Questions"
   ]
  },
  {
   "cell_type": "code",
   "execution_count": 360,
   "metadata": {},
   "outputs": [],
   "source": [
    "questions = question_template(df)\n",
    "questions = pd.DataFrame (questions, columns = ['text'])\n",
    "\n",
    "\n",
    "questions.to_csv(\"/Users/eotenen/Downloads/questions.csv\", index=False)"
   ]
  },
  {
   "attachments": {},
   "cell_type": "markdown",
   "metadata": {},
   "source": [
    "#### 3.3. Zip the User and Content Info into Dict"
   ]
  },
  {
   "cell_type": "code",
   "execution_count": 316,
   "metadata": {},
   "outputs": [],
   "source": [
    "roles = ['user'] * 100\n",
    "questions = question_template(df)"
   ]
  },
  {
   "cell_type": "code",
   "execution_count": 318,
   "metadata": {},
   "outputs": [],
   "source": [
    "contents = [\"You are cricket expert.\", \"Who won the world cup in 2019?\", \"England cricket team won the world cup in 2019.\", \"Who was the opponent?\"]\n",
    "\n",
    "messages = []\n",
    "for role, content in zip(roles, questions):\n",
    "    message = {\"role\": role, \"content\": content}\n",
    "    messages.append(message)"
   ]
  },
  {
   "attachments": {},
   "cell_type": "markdown",
   "metadata": {},
   "source": [
    "## 4. Get Response from chatGPT"
   ]
  },
  {
   "cell_type": "code",
   "execution_count": 344,
   "metadata": {},
   "outputs": [],
   "source": [
    "responses =[]\n",
    "for index in range(len(messages)):\n",
    "  response = openai.ChatCompletion.create(\n",
    "    model=\"gpt-3.5-turbo\",  \n",
    "    messages=[messages[index]]\n",
    "  )\n",
    "  responses.append(response)"
   ]
  },
  {
   "attachments": {},
   "cell_type": "markdown",
   "metadata": {},
   "source": [
    "#### 4.1. Save Responses"
   ]
  },
  {
   "cell_type": "code",
   "execution_count": 351,
   "metadata": {},
   "outputs": [],
   "source": [
    "import json\n",
    "with open('/Users/eotenen/Downloads/responses.txt', 'w') as f:\n",
    "  json.dump(responses, f, ensure_ascii=False)"
   ]
  },
  {
   "attachments": {},
   "cell_type": "markdown",
   "metadata": {},
   "source": [
    "#### The Other GPT Codes that I did not use:"
   ]
  },
  {
   "cell_type": "code",
   "execution_count": 314,
   "metadata": {},
   "outputs": [],
   "source": [
    "def GetMessageMemory(NewQuestion,lastmessage):\n",
    "  # Append the new question to the last message\n",
    "    lastmessage.append({\"role\": \"user\", \"content\": NewQuestion})\n",
    "    # Make a call to ChatGPT API\n",
    "    msgcompletion = openai.ChatCompletion.create(\n",
    "    model=model_id,\n",
    "    messages=lastmessage\n",
    "    )\n",
    "    # Get the response from ChatGPT API\n",
    "    msgresponse = msgcompletion.choices[0].message.content\n",
    "    # You can print it if you like.\n",
    "    #print(msgresponse)\n",
    "\n",
    "    # Print the question\n",
    "    print(\"Question : \" + NewQuestion)\n",
    "    # We return the new answer back to the calling function\n",
    "    return msgresponse"
   ]
  },
  {
   "cell_type": "code",
   "execution_count": 323,
   "metadata": {},
   "outputs": [],
   "source": [
    "def response_GPT(messages):\n",
    "    response_list = []\n",
    "    for index in range(len(messages)):\n",
    "        response = openai.ChatCompletion.create(\n",
    "          model=\"gpt-3.5-turbo\",  \n",
    "          messages=messages[index]\n",
    "        )\n",
    "        response_list.append(response)\n",
    "    return response_list\n"
   ]
  },
  {
   "cell_type": "code",
   "execution_count": null,
   "metadata": {},
   "outputs": [],
   "source": [
    "chatbot = Chatbot(config={\n",
    "  \"access_token\": session_token_plus\n",
    "})\n",
    "\n",
    "response = []\n",
    "for m in messages:\n",
    "    response.append(chatbot.ask(m))\n",
    "for data in chatbot.ask(\n",
    "  prompt\n",
    "):\n",
    "    response = data[\"message\"]\n",
    "\n",
    "print(response)"
   ]
  },
  {
   "cell_type": "code",
   "execution_count": null,
   "metadata": {},
   "outputs": [],
   "source": [
    "# execute commands in terminal\n",
    "# python ~/Workspace/ChatGPT/Collection/1.\\ ChatGPT\\ \\(acheong08\\).py \n",
    "\n",
    "## session token id of <fhuang181@gmail.com> email\n",
    "session_token_plus = 'eyJhbGciOiJSUzI1NiIsInR5cCI6IkpXVCIsImtpZCI6Ik1UaEVOVUpHTkVNMVFURTRNMEZCTWpkQ05UZzVNRFUxUlRVd1FVSkRNRU13UmtGRVFrRXpSZyJ9.eyJodHRwczovL2FwaS5vcGVuYWkuY29tL3Byb2ZpbGUiOnsiZW1haWwiOiJmaHVhbmcxODFAZ21haWwuY29tIiwiZW1haWxfdmVyaWZpZWQiOnRydWV9LCJodHRwczovL2FwaS5vcGVuYWkuY29tL2F1dGgiOnsidXNlcl9pZCI6InVzZXItSEZpQTkxWUs3Sjkxck1IZUtMU3B3enlLIn0sImlzcyI6Imh0dHBzOi8vYXV0aDAub3BlbmFpLmNvbS8iLCJzdWIiOiJnb29nbGUtb2F1dGgyfDEwMDIwNTgwODI2NzI0ODQ1OTk2NSIsImF1ZCI6WyJodHRwczovL2FwaS5vcGVuYWkuY29tL3YxIiwiaHR0cHM6Ly9vcGVuYWkub3BlbmFpLmF1dGgwYXBwLmNvbS91c2VyaW5mbyJdLCJpYXQiOjE2ODA4MDQyMzMsImV4cCI6MTY4MjAxMzgzMywiYXpwIjoiVGRKSWNiZTE2V29USHROOTVueXl3aDVFNHlPbzZJdEciLCJzY29wZSI6Im9wZW5pZCBwcm9maWxlIGVtYWlsIG1vZGVsLnJlYWQgbW9kZWwucmVxdWVzdCBvcmdhbml6YXRpb24ucmVhZCBvZmZsaW5lX2FjY2VzcyJ9.CnW0TOnuudo9pfGQgQG3nn5GeFbDmcfwuorGxjw6T-Ip9dGNeQOnKQZWC2HwS-qdiFBgU0njGxx51c5S-eJ6rfIkUpNyzQxm7hp2jJ-kDrmAvm__ra4pn47YVABtUrFU52ctB0eMQIbDTJcaSIk-vCrkqcX4au7s1PoMOrmpLwDArf20Qbsk-uCF6lPCr7AHsTtH8l8bElQDh3GBSLhfVyRiUD-a5A_3qwBXJWCNkKXHl11kf7U2G-Y5FaD5CvM22bWWCCZNT7QSdQeoZSbJVybbd34k3lZZbVb0-ZYLZDjSqdohm29CBkLm5eYsTs3lgL4gzuSnz3wD83um21EQuw'\n",
    "\n",
    "\n",
    "from revChatGPT.V1 import Chatbot\n",
    "\n",
    "chatbot = Chatbot(config={\n",
    "  \"access_token\": session_token_plus\n",
    "})\n",
    "\n",
    "prompt = \"how many beaches does portugal have?\"\n",
    "response = \"\"\n",
    "\n",
    "for data in chatbot.ask(\n",
    "  prompt\n",
    "):\n",
    "    response = data[\"message\"]\n",
    "\n",
    "print(response)"
   ]
  }
 ],
 "metadata": {
  "kernelspec": {
   "display_name": "Python 3",
   "language": "python",
   "name": "python3"
  },
  "language_info": {
   "codemirror_mode": {
    "name": "ipython",
    "version": 3
   },
   "file_extension": ".py",
   "mimetype": "text/x-python",
   "name": "python",
   "nbconvert_exporter": "python",
   "pygments_lexer": "ipython3",
   "version": "3.11.2"
  },
  "orig_nbformat": 4
 },
 "nbformat": 4,
 "nbformat_minor": 2
}
